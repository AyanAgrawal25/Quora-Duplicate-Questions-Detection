{
 "cells": [
  {
   "cell_type": "code",
   "execution_count": null,
   "metadata": {
    "cell_id": "00000-f1abb8e9-b7f9-49ae-aa1a-cb2c89f11daa",
    "deepnote_cell_type": "code",
    "deepnote_to_be_reexecuted": false,
    "execution_millis": 812,
    "execution_start": 1638735649266,
    "source_hash": "caddf1dd",
    "tags": []
   },
   "outputs": [],
   "source": [
    "import pandas as pd\n",
    "import numpy as numpy\n",
    "from sklearn.feature_extraction.text import CountVectorizer\n",
    "from sklearn.model_selection import train_test_split\n",
    "from sklearn.linear_model import SGDClassifier\n",
    "from sklearn.metrics import f1_score\n",
    "from sklearn.metrics import accuracy_score"
   ]
  },
  {
   "cell_type": "code",
   "execution_count": null,
   "metadata": {
    "cell_id": "00001-634d9d41-30a3-4325-aa1e-d510e231c46f",
    "deepnote_cell_type": "code",
    "deepnote_to_be_reexecuted": false,
    "execution_millis": 1439,
    "execution_start": 1638735650085,
    "source_hash": "bb05fc76",
    "tags": []
   },
   "outputs": [],
   "source": [
    "data = pd.read_csv(\"./train.csv\")\n",
    "data = data.dropna(how=\"any\").reset_index(drop=True)"
   ]
  },
  {
   "cell_type": "code",
   "execution_count": null,
   "metadata": {
    "cell_id": "00002-0fc751dd-21f2-4693-a129-c02d10f0dbea",
    "deepnote_cell_type": "code",
    "deepnote_to_be_reexecuted": false,
    "execution_millis": 6,
    "execution_start": 1638735651535,
    "source_hash": "60df220d",
    "tags": []
   },
   "outputs": [],
   "source": [
    "import re\n",
    "def punc(text):\n",
    "  clean = re.sub(r'[^\\w\\s]', '', text)\n",
    "  return clean"
   ]
  },
  {
   "cell_type": "code",
   "execution_count": null,
   "metadata": {
    "cell_id": "00003-6a3c1c0b-181f-4fbb-88ac-e304c7fb3ae2",
    "deepnote_cell_type": "code",
    "deepnote_to_be_reexecuted": false,
    "execution_millis": 2,
    "execution_start": 1638735651548,
    "source_hash": "db2646b6",
    "tags": []
   },
   "outputs": [],
   "source": [
    "import pandas as pd\n",
    "import numpy as np\n",
    "def clean_dataset(df):\n",
    "    assert isinstance(df, pd.DataFrame), \"df needs to be a pd.DataFrame\"\n",
    "    df.dropna(inplace=True)\n",
    "    indices_to_keep = ~df.isin([np.nan, np.inf, -np.inf]).any(1)\n",
    "    return df[indices_to_keep].astype(np.float64)"
   ]
  },
  {
   "cell_type": "code",
   "execution_count": null,
   "metadata": {
    "cell_id": "00003-8fab942d-fe12-4a72-8e98-f57a3bbd0048",
    "deepnote_cell_type": "code",
    "deepnote_to_be_reexecuted": false,
    "execution_millis": 3773,
    "execution_start": 1638735651558,
    "source_hash": "ead6aece",
    "tags": []
   },
   "outputs": [
    {
     "data": {
      "application/vnd.deepnote.dataframe.v2+json": {
       "column_count": 6,
       "columns": [
        {
         "dtype": "int64",
         "name": "id",
         "stats": {
          "histogram": [
           {
            "bin_end": 0.4,
            "bin_start": 0,
            "count": 1
           },
           {
            "bin_end": 0.8,
            "bin_start": 0.4,
            "count": 0
           },
           {
            "bin_end": 1.2000000000000002,
            "bin_start": 0.8,
            "count": 1
           },
           {
            "bin_end": 1.6,
            "bin_start": 1.2000000000000002,
            "count": 0
           },
           {
            "bin_end": 2,
            "bin_start": 1.6,
            "count": 0
           },
           {
            "bin_end": 2.4000000000000004,
            "bin_start": 2,
            "count": 1
           },
           {
            "bin_end": 2.8000000000000003,
            "bin_start": 2.4000000000000004,
            "count": 0
           },
           {
            "bin_end": 3.2,
            "bin_start": 2.8000000000000003,
            "count": 1
           },
           {
            "bin_end": 3.6,
            "bin_start": 3.2,
            "count": 0
           },
           {
            "bin_end": 4,
            "bin_start": 3.6,
            "count": 1
           }
          ],
          "max": "4",
          "min": "0",
          "nan_count": 0,
          "unique_count": 5
         }
        },
        {
         "dtype": "int64",
         "name": "qid1",
         "stats": {
          "histogram": [
           {
            "bin_end": 1.8,
            "bin_start": 1,
            "count": 1
           },
           {
            "bin_end": 2.6,
            "bin_start": 1.8,
            "count": 0
           },
           {
            "bin_end": 3.4000000000000004,
            "bin_start": 2.6,
            "count": 1
           },
           {
            "bin_end": 4.2,
            "bin_start": 3.4000000000000004,
            "count": 0
           },
           {
            "bin_end": 5,
            "bin_start": 4.2,
            "count": 0
           },
           {
            "bin_end": 5.800000000000001,
            "bin_start": 5,
            "count": 1
           },
           {
            "bin_end": 6.6000000000000005,
            "bin_start": 5.800000000000001,
            "count": 0
           },
           {
            "bin_end": 7.4,
            "bin_start": 6.6000000000000005,
            "count": 1
           },
           {
            "bin_end": 8.2,
            "bin_start": 7.4,
            "count": 0
           },
           {
            "bin_end": 9,
            "bin_start": 8.2,
            "count": 1
           }
          ],
          "max": "9",
          "min": "1",
          "nan_count": 0,
          "unique_count": 5
         }
        },
        {
         "dtype": "int64",
         "name": "qid2",
         "stats": {
          "histogram": [
           {
            "bin_end": 2.8,
            "bin_start": 2,
            "count": 1
           },
           {
            "bin_end": 3.6,
            "bin_start": 2.8,
            "count": 0
           },
           {
            "bin_end": 4.4,
            "bin_start": 3.6,
            "count": 1
           },
           {
            "bin_end": 5.2,
            "bin_start": 4.4,
            "count": 0
           },
           {
            "bin_end": 6,
            "bin_start": 5.2,
            "count": 0
           },
           {
            "bin_end": 6.800000000000001,
            "bin_start": 6,
            "count": 1
           },
           {
            "bin_end": 7.6000000000000005,
            "bin_start": 6.800000000000001,
            "count": 0
           },
           {
            "bin_end": 8.4,
            "bin_start": 7.6000000000000005,
            "count": 1
           },
           {
            "bin_end": 9.2,
            "bin_start": 8.4,
            "count": 0
           },
           {
            "bin_end": 10,
            "bin_start": 9.2,
            "count": 1
           }
          ],
          "max": "10",
          "min": "2",
          "nan_count": 0,
          "unique_count": 5
         }
        },
        {
         "dtype": "object",
         "name": "question1",
         "stats": {
          "categories": [
           {
            "count": 1,
            "name": "What is the step by step guide to invest in share market in india"
           },
           {
            "count": 1,
            "name": "What is the story of Kohinoor KohiNoor Diamond"
           },
           {
            "count": 3,
            "name": "3 others"
           }
          ],
          "nan_count": 0,
          "unique_count": 5
         }
        },
        {
         "dtype": "object",
         "name": "question2",
         "stats": {
          "categories": [
           {
            "count": 1,
            "name": "What is the step by step guide to invest in share market"
           },
           {
            "count": 1,
            "name": "What would happen if the Indian government stole the Kohinoor KohiNoor diamond back"
           },
           {
            "count": 3,
            "name": "3 others"
           }
          ],
          "nan_count": 0,
          "unique_count": 5
         }
        },
        {
         "dtype": "int64",
         "name": "is_duplicate",
         "stats": {
          "histogram": [
           {
            "bin_end": -0.4,
            "bin_start": -0.5,
            "count": 0
           },
           {
            "bin_end": -0.3,
            "bin_start": -0.4,
            "count": 0
           },
           {
            "bin_end": -0.19999999999999996,
            "bin_start": -0.3,
            "count": 0
           },
           {
            "bin_end": -0.09999999999999998,
            "bin_start": -0.19999999999999996,
            "count": 0
           },
           {
            "bin_end": 0,
            "bin_start": -0.09999999999999998,
            "count": 0
           },
           {
            "bin_end": 0.10000000000000009,
            "bin_start": 0,
            "count": 5
           },
           {
            "bin_end": 0.20000000000000007,
            "bin_start": 0.10000000000000009,
            "count": 0
           },
           {
            "bin_end": 0.30000000000000004,
            "bin_start": 0.20000000000000007,
            "count": 0
           },
           {
            "bin_end": 0.4,
            "bin_start": 0.30000000000000004,
            "count": 0
           },
           {
            "bin_end": 0.5,
            "bin_start": 0.4,
            "count": 0
           }
          ],
          "max": "0",
          "min": "0",
          "nan_count": 0,
          "unique_count": 1
         }
        },
        {
         "dtype": "int64",
         "name": "_deepnote_index_column"
        }
       ],
       "row_count": 5,
       "rows_bottom": null,
       "rows_top": [
        {
         "_deepnote_index_column": 0,
         "id": 0,
         "is_duplicate": 0,
         "qid1": 1,
         "qid2": 2,
         "question1": "What is the step by step guide to invest in share market in india",
         "question2": "What is the step by step guide to invest in share market"
        },
        {
         "_deepnote_index_column": 1,
         "id": 1,
         "is_duplicate": 0,
         "qid1": 3,
         "qid2": 4,
         "question1": "What is the story of Kohinoor KohiNoor Diamond",
         "question2": "What would happen if the Indian government stole the Kohinoor KohiNoor diamond back"
        },
        {
         "_deepnote_index_column": 2,
         "id": 2,
         "is_duplicate": 0,
         "qid1": 5,
         "qid2": 6,
         "question1": "How can I increase the speed of my internet connection while using a VPN",
         "question2": "How can Internet speed be increased by hacking through DNS"
        },
        {
         "_deepnote_index_column": 3,
         "id": 3,
         "is_duplicate": 0,
         "qid1": 7,
         "qid2": 8,
         "question1": "Why am I mentally very lonely How can I solve it",
         "question2": "Find the remainder when math2324math is divided by 2423"
        },
        {
         "_deepnote_index_column": 4,
         "id": 4,
         "is_duplicate": 0,
         "qid1": 9,
         "qid2": 10,
         "question1": "Which one dissolve in water quikly sugar salt methane and carbon di oxide",
         "question2": "Which fish would survive in salt water"
        }
       ]
      },
      "text/html": [
       "<div>\n",
       "<style scoped>\n",
       "    .dataframe tbody tr th:only-of-type {\n",
       "        vertical-align: middle;\n",
       "    }\n",
       "\n",
       "    .dataframe tbody tr th {\n",
       "        vertical-align: top;\n",
       "    }\n",
       "\n",
       "    .dataframe thead th {\n",
       "        text-align: right;\n",
       "    }\n",
       "</style>\n",
       "<table border=\"1\" class=\"dataframe\">\n",
       "  <thead>\n",
       "    <tr style=\"text-align: right;\">\n",
       "      <th></th>\n",
       "      <th>id</th>\n",
       "      <th>qid1</th>\n",
       "      <th>qid2</th>\n",
       "      <th>question1</th>\n",
       "      <th>question2</th>\n",
       "      <th>is_duplicate</th>\n",
       "    </tr>\n",
       "  </thead>\n",
       "  <tbody>\n",
       "    <tr>\n",
       "      <th>0</th>\n",
       "      <td>0</td>\n",
       "      <td>1</td>\n",
       "      <td>2</td>\n",
       "      <td>What is the step by step guide to invest in sh...</td>\n",
       "      <td>What is the step by step guide to invest in sh...</td>\n",
       "      <td>0</td>\n",
       "    </tr>\n",
       "    <tr>\n",
       "      <th>1</th>\n",
       "      <td>1</td>\n",
       "      <td>3</td>\n",
       "      <td>4</td>\n",
       "      <td>What is the story of Kohinoor KohiNoor Diamond</td>\n",
       "      <td>What would happen if the Indian government sto...</td>\n",
       "      <td>0</td>\n",
       "    </tr>\n",
       "    <tr>\n",
       "      <th>2</th>\n",
       "      <td>2</td>\n",
       "      <td>5</td>\n",
       "      <td>6</td>\n",
       "      <td>How can I increase the speed of my internet co...</td>\n",
       "      <td>How can Internet speed be increased by hacking...</td>\n",
       "      <td>0</td>\n",
       "    </tr>\n",
       "    <tr>\n",
       "      <th>3</th>\n",
       "      <td>3</td>\n",
       "      <td>7</td>\n",
       "      <td>8</td>\n",
       "      <td>Why am I mentally very lonely How can I solve it</td>\n",
       "      <td>Find the remainder when math2324math is divide...</td>\n",
       "      <td>0</td>\n",
       "    </tr>\n",
       "    <tr>\n",
       "      <th>4</th>\n",
       "      <td>4</td>\n",
       "      <td>9</td>\n",
       "      <td>10</td>\n",
       "      <td>Which one dissolve in water quikly sugar salt ...</td>\n",
       "      <td>Which fish would survive in salt water</td>\n",
       "      <td>0</td>\n",
       "    </tr>\n",
       "  </tbody>\n",
       "</table>\n",
       "</div>"
      ],
      "text/plain": [
       "   id  qid1  qid2                                          question1  \\\n",
       "0   0     1     2  What is the step by step guide to invest in sh...   \n",
       "1   1     3     4     What is the story of Kohinoor KohiNoor Diamond   \n",
       "2   2     5     6  How can I increase the speed of my internet co...   \n",
       "3   3     7     8   Why am I mentally very lonely How can I solve it   \n",
       "4   4     9    10  Which one dissolve in water quikly sugar salt ...   \n",
       "\n",
       "                                           question2  is_duplicate  \n",
       "0  What is the step by step guide to invest in sh...             0  \n",
       "1  What would happen if the Indian government sto...             0  \n",
       "2  How can Internet speed be increased by hacking...             0  \n",
       "3  Find the remainder when math2324math is divide...             0  \n",
       "4             Which fish would survive in salt water             0  "
      ]
     },
     "execution_count": 5,
     "metadata": {},
     "output_type": "execute_result"
    }
   ],
   "source": [
    "data['question1'] = data['question1'].apply(punc)\n",
    "data['question2'] = data['question2'].apply(punc)\n",
    "data.head()"
   ]
  },
  {
   "cell_type": "code",
   "execution_count": null,
   "metadata": {
    "cell_id": "00004-49a5e42f-a5ac-443d-a39f-175cb91eed97",
    "deepnote_cell_type": "code",
    "deepnote_to_be_reexecuted": false,
    "execution_millis": 1,
    "execution_start": 1638735655338,
    "source_hash": "b4e48dc7",
    "tags": []
   },
   "outputs": [],
   "source": [
    "def le(text):\n",
    "  return len(text)\n",
    "def len_diff(text1, text2):\n",
    "  text1 = str(text1)\n",
    "  text2 = str(text2)\n",
    "  return(abs(len(text1)-len(text2)))\n",
    "def len_ratio(text1, text2):\n",
    "  text1 = str(text1)\n",
    "  text2 = str(text2)\n",
    "  return(float(len(text1)/len(text2)))"
   ]
  },
  {
   "cell_type": "code",
   "execution_count": null,
   "metadata": {
    "cell_id": "00005-3a5a5f6e-4521-4ec8-a0f2-8b53bc809488",
    "deepnote_cell_type": "code",
    "deepnote_to_be_reexecuted": false,
    "execution_millis": 1,
    "execution_start": 1638735655400,
    "source_hash": "8d9047df",
    "tags": []
   },
   "outputs": [],
   "source": [
    "def com_low(text):\n",
    "  text1 = text[0]\n",
    "  text2 = text[1]\n",
    "  text1 = text1.split(\" \")\n",
    "  text2 = text2.split(\" \")\n",
    "  text1_low = set()\n",
    "  text2_low = set()\n",
    "  for word in text1:\n",
    "    if word == word.lower():\n",
    "      text1_low.add(word)\n",
    "  for word in text2:\n",
    "    if word == word.lower():\n",
    "      text2_low.add(word)\n",
    "  common = text1_low.intersection(text2_low)\n",
    "  common = list(common)\n",
    "  return len(common)"
   ]
  },
  {
   "cell_type": "code",
   "execution_count": null,
   "metadata": {
    "cell_id": "00006-92801d20-278c-4f84-a6d9-44a11ca5f1d7",
    "deepnote_cell_type": "code",
    "deepnote_to_be_reexecuted": false,
    "execution_millis": 476,
    "execution_start": 1638735655401,
    "source_hash": "bd7c0b5a",
    "tags": []
   },
   "outputs": [
    {
     "name": "stderr",
     "output_type": "stream",
     "text": [
      "[nltk_data] Downloading package stopwords to /root/nltk_data...\n",
      "[nltk_data]   Package stopwords is already up-to-date!\n"
     ]
    }
   ],
   "source": [
    "import nltk\n",
    "nltk.download('stopwords')\n",
    "from nltk import corpus\n",
    "from nltk.corpus import stopwords\n",
    "\n",
    "def stop(text):\n",
    "  text1 = text[0]\n",
    "  text2 = text[0]\n",
    "  stop_words = set(stopwords.words('english'))\n",
    "  text1 = text1.split(\" \")\n",
    "  text1 = set(text1)\n",
    "  text1_low = set()\n",
    "  for word in text1:\n",
    "    if word == word.lower():\n",
    "        text1_low.add(word)\n",
    "  text1 = list(text1_low)\n",
    "  text2 = text2.split(\" \")\n",
    "  text2 = set(text2)\n",
    "  text2_low = set()\n",
    "  for word in text2:\n",
    "      if word == word.lower():\n",
    "        text2_low.add(word)\n",
    "  text2 = list(text2_low)\n",
    "  text1 = [w for w in text1 if not w.lower() in stop_words]\n",
    "  text2 = [w for w in text2 if not w.lower() in stop_words]\n",
    "  text1 = set(text1)\n",
    "  text2 = set(text2)\n",
    "  common = text1.intersection(text2)\n",
    "  common = list(common)\n",
    "  return len(common)\n",
    "\n"
   ]
  },
  {
   "cell_type": "code",
   "execution_count": null,
   "metadata": {
    "cell_id": "00007-ccf46cf5-7653-45bc-b34b-3ba9e6319044",
    "deepnote_cell_type": "code",
    "deepnote_to_be_reexecuted": false,
    "execution_millis": 6,
    "execution_start": 1638735655880,
    "source_hash": "87886fb0",
    "tags": []
   },
   "outputs": [],
   "source": [
    "def last(text):\n",
    "  text1 = text[0]\n",
    "  text2 = text[1]\n",
    "  t1 = list(text1.split(\" \"))\n",
    "  t2 = list(text2.split(\" \"))\n",
    "  l1 = len(t1)\n",
    "  l2 = len(t2)\n",
    "  k = 0\n",
    "  if(t1[l1-1]==t2[l2-1]):\n",
    "    k = 1\n",
    "  return k\n"
   ]
  },
  {
   "cell_type": "code",
   "execution_count": null,
   "metadata": {
    "cell_id": "00008-ed4f360e-8667-4fc9-8d7b-81e2ae7f0853",
    "deepnote_cell_type": "code",
    "deepnote_to_be_reexecuted": false,
    "execution_millis": 0,
    "execution_start": 1638735655942,
    "source_hash": "1d065c9b",
    "tags": []
   },
   "outputs": [],
   "source": [
    "def com_cap(text):\n",
    "  text1 = text[0]\n",
    "  text2 = text[1]\n",
    "  text1 = text1.split(\" \")\n",
    "  text2 = text2.split(\" \")\n",
    "  text1_up = set()\n",
    "  text2_up = set()\n",
    "  for word in text1:\n",
    "    if word == word.upper():\n",
    "      text1_up.add(word)\n",
    "  for word in text2:\n",
    "    if word == word.upper():\n",
    "      text2_up.add(word)\n",
    "  common = text1_up.intersection(text2_up)\n",
    "  common = list(common)\n",
    "  return len(common)"
   ]
  },
  {
   "cell_type": "code",
   "execution_count": null,
   "metadata": {
    "cell_id": "00009-9024765a-edd7-4f45-9ce2-6626c51f1af2",
    "deepnote_cell_type": "code",
    "deepnote_to_be_reexecuted": false,
    "execution_millis": 0,
    "execution_start": 1638735655943,
    "source_hash": "a35ff8f",
    "tags": []
   },
   "outputs": [],
   "source": [
    "def pre(text, n):\n",
    "    str1 = text[0]\n",
    "    str2 = text[1]\n",
    "    str1 = str1.split(\" \")\n",
    "    str2 = str2.split(\" \")\n",
    "    str1.sort()\n",
    "    str2.sort()\n",
    "    i = 0\n",
    "    j = 0\n",
    "    ans = 0\n",
    "    while True:\n",
    "        if i >= len(str1) or j >= len(str2):\n",
    "            break\n",
    "        if len(str1[i]) < n:\n",
    "            i += 1\n",
    "            continue\n",
    "        if len(str2[j]) < n:\n",
    "            j += 1\n",
    "            continue\n",
    "        s1 = str1[i][0:n]\n",
    "        s2 = str2[j][0:n]\n",
    "        if s1 == s2:\n",
    "            ans += 1\n",
    "            i += 1 \n",
    "            j += 1 \n",
    "        else:\n",
    "            if str1[i]>str2[j]:\n",
    "                j += 1\n",
    "            else:\n",
    "                i += 1\n",
    "    return ans"
   ]
  },
  {
   "cell_type": "code",
   "execution_count": null,
   "metadata": {
    "cell_id": "00010-56a95082-9e6e-4621-89dd-771653b6f788",
    "deepnote_cell_type": "code",
    "deepnote_to_be_reexecuted": false,
    "execution_millis": 43,
    "execution_start": 1638735655943,
    "source_hash": "c56a7337",
    "tags": []
   },
   "outputs": [
    {
     "name": "stderr",
     "output_type": "stream",
     "text": [
      "[nltk_data] Downloading package punkt to /root/nltk_data...\n",
      "[nltk_data]   Package punkt is already up-to-date!\n"
     ]
    }
   ],
   "source": [
    "from string import digits\n",
    "import nltk\n",
    "from nltk.stem import PorterStemmer\n",
    "from nltk.tokenize import word_tokenize\n",
    "nltk.download('punkt')\n",
    "def misc1(text):\n",
    "    text = text.split(\" \")\n",
    "    flag = 0\n",
    "    for word in text:\n",
    "        if (word =='not'):\n",
    "            flag = 1\n",
    "    return flag\n",
    "def misc2(text):\n",
    "    text1 = text[0]\n",
    "    text2 = text[1]\n",
    "    # text = text1 + text2\n",
    "    text1 = text1.split(\" \")\n",
    "    text2 = text2.split(\" \")\n",
    "    flag1 = 0\n",
    "    flag2 = 0\n",
    "    for word in text1:\n",
    "        if (word =='not'):\n",
    "            flag = 1\n",
    "    for word in text2:\n",
    "        if (word =='not'):\n",
    "            flag2 = 1\n",
    "    flag = flag1&flag2\n",
    "    return flag\n",
    "def misc3(text):\n",
    "    text1 = text[0]\n",
    "    text2 = text[1]\n",
    "    text1 = str(text1)\n",
    "    text2 = str(text2)\n",
    "    cnt = 0\n",
    "    k = 0\n",
    "    for x in text1:\n",
    "        if x in digits and x in text2:\n",
    "            cnt = cnt = 1\n",
    "    if(cnt>0):\n",
    "        k = 1\n",
    "    return k\n",
    "def misc4(text):\n",
    "    text1 = text[0]\n",
    "    text2 = text[1]\n",
    "    ps = PorterStemmer()\n",
    "    text1 = word_tokenize(text1)\n",
    "    text2 = word_tokenize(text2)\n",
    "    text_s1 = []\n",
    "    text_s2 = []\n",
    "    for word in text1:\n",
    "        text_s1.append(ps.stem(word))\n",
    "    for word in text2:\n",
    "        text_s2.append(ps.stem(word))\n",
    "    text1_low = set()\n",
    "    text2_low = set()\n",
    "    for word in text_s1:\n",
    "        if word == word.lower():\n",
    "            text1_low.add(word)\n",
    "    for word in text_s2:\n",
    "        if word == word.lower():\n",
    "            text2_low.add(word)\n",
    "    common = text1_low.intersection(text2_low)\n",
    "    common = list(common)\n",
    "    return len(common)"
   ]
  },
  {
   "cell_type": "code",
   "execution_count": null,
   "metadata": {
    "cell_id": "00011-309fde13-33e2-4909-b893-0e298c90d2f0",
    "deepnote_cell_type": "code",
    "deepnote_to_be_reexecuted": false,
    "execution_millis": 9,
    "execution_start": 1638735656000,
    "source_hash": "41313cfa",
    "tags": []
   },
   "outputs": [
    {
     "data": {
      "application/vnd.deepnote.dataframe.v2+json": {
       "column_count": 6,
       "columns": [
        {
         "dtype": "int64",
         "name": "id",
         "stats": {
          "histogram": [
           {
            "bin_end": 0.4,
            "bin_start": 0,
            "count": 1
           },
           {
            "bin_end": 0.8,
            "bin_start": 0.4,
            "count": 0
           },
           {
            "bin_end": 1.2000000000000002,
            "bin_start": 0.8,
            "count": 1
           },
           {
            "bin_end": 1.6,
            "bin_start": 1.2000000000000002,
            "count": 0
           },
           {
            "bin_end": 2,
            "bin_start": 1.6,
            "count": 0
           },
           {
            "bin_end": 2.4000000000000004,
            "bin_start": 2,
            "count": 1
           },
           {
            "bin_end": 2.8000000000000003,
            "bin_start": 2.4000000000000004,
            "count": 0
           },
           {
            "bin_end": 3.2,
            "bin_start": 2.8000000000000003,
            "count": 1
           },
           {
            "bin_end": 3.6,
            "bin_start": 3.2,
            "count": 0
           },
           {
            "bin_end": 4,
            "bin_start": 3.6,
            "count": 1
           }
          ],
          "max": "4",
          "min": "0",
          "nan_count": 0,
          "unique_count": 5
         }
        },
        {
         "dtype": "int64",
         "name": "qid1",
         "stats": {
          "histogram": [
           {
            "bin_end": 1.8,
            "bin_start": 1,
            "count": 1
           },
           {
            "bin_end": 2.6,
            "bin_start": 1.8,
            "count": 0
           },
           {
            "bin_end": 3.4000000000000004,
            "bin_start": 2.6,
            "count": 1
           },
           {
            "bin_end": 4.2,
            "bin_start": 3.4000000000000004,
            "count": 0
           },
           {
            "bin_end": 5,
            "bin_start": 4.2,
            "count": 0
           },
           {
            "bin_end": 5.800000000000001,
            "bin_start": 5,
            "count": 1
           },
           {
            "bin_end": 6.6000000000000005,
            "bin_start": 5.800000000000001,
            "count": 0
           },
           {
            "bin_end": 7.4,
            "bin_start": 6.6000000000000005,
            "count": 1
           },
           {
            "bin_end": 8.2,
            "bin_start": 7.4,
            "count": 0
           },
           {
            "bin_end": 9,
            "bin_start": 8.2,
            "count": 1
           }
          ],
          "max": "9",
          "min": "1",
          "nan_count": 0,
          "unique_count": 5
         }
        },
        {
         "dtype": "int64",
         "name": "qid2",
         "stats": {
          "histogram": [
           {
            "bin_end": 2.8,
            "bin_start": 2,
            "count": 1
           },
           {
            "bin_end": 3.6,
            "bin_start": 2.8,
            "count": 0
           },
           {
            "bin_end": 4.4,
            "bin_start": 3.6,
            "count": 1
           },
           {
            "bin_end": 5.2,
            "bin_start": 4.4,
            "count": 0
           },
           {
            "bin_end": 6,
            "bin_start": 5.2,
            "count": 0
           },
           {
            "bin_end": 6.800000000000001,
            "bin_start": 6,
            "count": 1
           },
           {
            "bin_end": 7.6000000000000005,
            "bin_start": 6.800000000000001,
            "count": 0
           },
           {
            "bin_end": 8.4,
            "bin_start": 7.6000000000000005,
            "count": 1
           },
           {
            "bin_end": 9.2,
            "bin_start": 8.4,
            "count": 0
           },
           {
            "bin_end": 10,
            "bin_start": 9.2,
            "count": 1
           }
          ],
          "max": "10",
          "min": "2",
          "nan_count": 0,
          "unique_count": 5
         }
        },
        {
         "dtype": "object",
         "name": "question1",
         "stats": {
          "categories": [
           {
            "count": 1,
            "name": "What is the step by step guide to invest in share market in india"
           },
           {
            "count": 1,
            "name": "What is the story of Kohinoor KohiNoor Diamond"
           },
           {
            "count": 3,
            "name": "3 others"
           }
          ],
          "nan_count": 0,
          "unique_count": 5
         }
        },
        {
         "dtype": "object",
         "name": "question2",
         "stats": {
          "categories": [
           {
            "count": 1,
            "name": "What is the step by step guide to invest in share market"
           },
           {
            "count": 1,
            "name": "What would happen if the Indian government stole the Kohinoor KohiNoor diamond back"
           },
           {
            "count": 3,
            "name": "3 others"
           }
          ],
          "nan_count": 0,
          "unique_count": 5
         }
        },
        {
         "dtype": "int64",
         "name": "is_duplicate",
         "stats": {
          "histogram": [
           {
            "bin_end": -0.4,
            "bin_start": -0.5,
            "count": 0
           },
           {
            "bin_end": -0.3,
            "bin_start": -0.4,
            "count": 0
           },
           {
            "bin_end": -0.19999999999999996,
            "bin_start": -0.3,
            "count": 0
           },
           {
            "bin_end": -0.09999999999999998,
            "bin_start": -0.19999999999999996,
            "count": 0
           },
           {
            "bin_end": 0,
            "bin_start": -0.09999999999999998,
            "count": 0
           },
           {
            "bin_end": 0.10000000000000009,
            "bin_start": 0,
            "count": 5
           },
           {
            "bin_end": 0.20000000000000007,
            "bin_start": 0.10000000000000009,
            "count": 0
           },
           {
            "bin_end": 0.30000000000000004,
            "bin_start": 0.20000000000000007,
            "count": 0
           },
           {
            "bin_end": 0.4,
            "bin_start": 0.30000000000000004,
            "count": 0
           },
           {
            "bin_end": 0.5,
            "bin_start": 0.4,
            "count": 0
           }
          ],
          "max": "0",
          "min": "0",
          "nan_count": 0,
          "unique_count": 1
         }
        },
        {
         "dtype": "int64",
         "name": "_deepnote_index_column"
        }
       ],
       "row_count": 5,
       "rows_bottom": null,
       "rows_top": [
        {
         "_deepnote_index_column": 0,
         "id": 0,
         "is_duplicate": 0,
         "qid1": 1,
         "qid2": 2,
         "question1": "What is the step by step guide to invest in share market in india",
         "question2": "What is the step by step guide to invest in share market"
        },
        {
         "_deepnote_index_column": 1,
         "id": 1,
         "is_duplicate": 0,
         "qid1": 3,
         "qid2": 4,
         "question1": "What is the story of Kohinoor KohiNoor Diamond",
         "question2": "What would happen if the Indian government stole the Kohinoor KohiNoor diamond back"
        },
        {
         "_deepnote_index_column": 2,
         "id": 2,
         "is_duplicate": 0,
         "qid1": 5,
         "qid2": 6,
         "question1": "How can I increase the speed of my internet connection while using a VPN",
         "question2": "How can Internet speed be increased by hacking through DNS"
        },
        {
         "_deepnote_index_column": 3,
         "id": 3,
         "is_duplicate": 0,
         "qid1": 7,
         "qid2": 8,
         "question1": "Why am I mentally very lonely How can I solve it",
         "question2": "Find the remainder when math2324math is divided by 2423"
        },
        {
         "_deepnote_index_column": 4,
         "id": 4,
         "is_duplicate": 0,
         "qid1": 9,
         "qid2": 10,
         "question1": "Which one dissolve in water quikly sugar salt methane and carbon di oxide",
         "question2": "Which fish would survive in salt water"
        }
       ]
      },
      "text/html": [
       "<div>\n",
       "<style scoped>\n",
       "    .dataframe tbody tr th:only-of-type {\n",
       "        vertical-align: middle;\n",
       "    }\n",
       "\n",
       "    .dataframe tbody tr th {\n",
       "        vertical-align: top;\n",
       "    }\n",
       "\n",
       "    .dataframe thead th {\n",
       "        text-align: right;\n",
       "    }\n",
       "</style>\n",
       "<table border=\"1\" class=\"dataframe\">\n",
       "  <thead>\n",
       "    <tr style=\"text-align: right;\">\n",
       "      <th></th>\n",
       "      <th>id</th>\n",
       "      <th>qid1</th>\n",
       "      <th>qid2</th>\n",
       "      <th>question1</th>\n",
       "      <th>question2</th>\n",
       "      <th>is_duplicate</th>\n",
       "    </tr>\n",
       "  </thead>\n",
       "  <tbody>\n",
       "    <tr>\n",
       "      <th>0</th>\n",
       "      <td>0</td>\n",
       "      <td>1</td>\n",
       "      <td>2</td>\n",
       "      <td>What is the step by step guide to invest in sh...</td>\n",
       "      <td>What is the step by step guide to invest in sh...</td>\n",
       "      <td>0</td>\n",
       "    </tr>\n",
       "    <tr>\n",
       "      <th>1</th>\n",
       "      <td>1</td>\n",
       "      <td>3</td>\n",
       "      <td>4</td>\n",
       "      <td>What is the story of Kohinoor KohiNoor Diamond</td>\n",
       "      <td>What would happen if the Indian government sto...</td>\n",
       "      <td>0</td>\n",
       "    </tr>\n",
       "    <tr>\n",
       "      <th>2</th>\n",
       "      <td>2</td>\n",
       "      <td>5</td>\n",
       "      <td>6</td>\n",
       "      <td>How can I increase the speed of my internet co...</td>\n",
       "      <td>How can Internet speed be increased by hacking...</td>\n",
       "      <td>0</td>\n",
       "    </tr>\n",
       "    <tr>\n",
       "      <th>3</th>\n",
       "      <td>3</td>\n",
       "      <td>7</td>\n",
       "      <td>8</td>\n",
       "      <td>Why am I mentally very lonely How can I solve it</td>\n",
       "      <td>Find the remainder when math2324math is divide...</td>\n",
       "      <td>0</td>\n",
       "    </tr>\n",
       "    <tr>\n",
       "      <th>4</th>\n",
       "      <td>4</td>\n",
       "      <td>9</td>\n",
       "      <td>10</td>\n",
       "      <td>Which one dissolve in water quikly sugar salt ...</td>\n",
       "      <td>Which fish would survive in salt water</td>\n",
       "      <td>0</td>\n",
       "    </tr>\n",
       "  </tbody>\n",
       "</table>\n",
       "</div>"
      ],
      "text/plain": [
       "   id  qid1  qid2                                          question1  \\\n",
       "0   0     1     2  What is the step by step guide to invest in sh...   \n",
       "1   1     3     4     What is the story of Kohinoor KohiNoor Diamond   \n",
       "2   2     5     6  How can I increase the speed of my internet co...   \n",
       "3   3     7     8   Why am I mentally very lonely How can I solve it   \n",
       "4   4     9    10  Which one dissolve in water quikly sugar salt ...   \n",
       "\n",
       "                                           question2  is_duplicate  \n",
       "0  What is the step by step guide to invest in sh...             0  \n",
       "1  What would happen if the Indian government sto...             0  \n",
       "2  How can Internet speed be increased by hacking...             0  \n",
       "3  Find the remainder when math2324math is divide...             0  \n",
       "4             Which fish would survive in salt water             0  "
      ]
     },
     "execution_count": 13,
     "metadata": {},
     "output_type": "execute_result"
    }
   ],
   "source": [
    "data.head()"
   ]
  },
  {
   "cell_type": "code",
   "execution_count": null,
   "metadata": {
    "cell_id": "00012-55506e48-6cb8-4368-a124-ae12f9588dda",
    "deepnote_cell_type": "code",
    "deepnote_to_be_reexecuted": false,
    "execution_millis": 492,
    "execution_start": 1638735656014,
    "source_hash": "73ca9eb3",
    "tags": []
   },
   "outputs": [
    {
     "data": {
      "application/vnd.deepnote.dataframe.v2+json": {
       "column_count": 10,
       "columns": [
        {
         "dtype": "int64",
         "name": "id",
         "stats": {
          "histogram": [
           {
            "bin_end": 0.4,
            "bin_start": 0,
            "count": 1
           },
           {
            "bin_end": 0.8,
            "bin_start": 0.4,
            "count": 0
           },
           {
            "bin_end": 1.2000000000000002,
            "bin_start": 0.8,
            "count": 1
           },
           {
            "bin_end": 1.6,
            "bin_start": 1.2000000000000002,
            "count": 0
           },
           {
            "bin_end": 2,
            "bin_start": 1.6,
            "count": 0
           },
           {
            "bin_end": 2.4000000000000004,
            "bin_start": 2,
            "count": 1
           },
           {
            "bin_end": 2.8000000000000003,
            "bin_start": 2.4000000000000004,
            "count": 0
           },
           {
            "bin_end": 3.2,
            "bin_start": 2.8000000000000003,
            "count": 1
           },
           {
            "bin_end": 3.6,
            "bin_start": 3.2,
            "count": 0
           },
           {
            "bin_end": 4,
            "bin_start": 3.6,
            "count": 1
           }
          ],
          "max": "4",
          "min": "0",
          "nan_count": 0,
          "unique_count": 5
         }
        },
        {
         "dtype": "int64",
         "name": "qid1",
         "stats": {
          "histogram": [
           {
            "bin_end": 1.8,
            "bin_start": 1,
            "count": 1
           },
           {
            "bin_end": 2.6,
            "bin_start": 1.8,
            "count": 0
           },
           {
            "bin_end": 3.4000000000000004,
            "bin_start": 2.6,
            "count": 1
           },
           {
            "bin_end": 4.2,
            "bin_start": 3.4000000000000004,
            "count": 0
           },
           {
            "bin_end": 5,
            "bin_start": 4.2,
            "count": 0
           },
           {
            "bin_end": 5.800000000000001,
            "bin_start": 5,
            "count": 1
           },
           {
            "bin_end": 6.6000000000000005,
            "bin_start": 5.800000000000001,
            "count": 0
           },
           {
            "bin_end": 7.4,
            "bin_start": 6.6000000000000005,
            "count": 1
           },
           {
            "bin_end": 8.2,
            "bin_start": 7.4,
            "count": 0
           },
           {
            "bin_end": 9,
            "bin_start": 8.2,
            "count": 1
           }
          ],
          "max": "9",
          "min": "1",
          "nan_count": 0,
          "unique_count": 5
         }
        },
        {
         "dtype": "int64",
         "name": "qid2",
         "stats": {
          "histogram": [
           {
            "bin_end": 2.8,
            "bin_start": 2,
            "count": 1
           },
           {
            "bin_end": 3.6,
            "bin_start": 2.8,
            "count": 0
           },
           {
            "bin_end": 4.4,
            "bin_start": 3.6,
            "count": 1
           },
           {
            "bin_end": 5.2,
            "bin_start": 4.4,
            "count": 0
           },
           {
            "bin_end": 6,
            "bin_start": 5.2,
            "count": 0
           },
           {
            "bin_end": 6.800000000000001,
            "bin_start": 6,
            "count": 1
           },
           {
            "bin_end": 7.6000000000000005,
            "bin_start": 6.800000000000001,
            "count": 0
           },
           {
            "bin_end": 8.4,
            "bin_start": 7.6000000000000005,
            "count": 1
           },
           {
            "bin_end": 9.2,
            "bin_start": 8.4,
            "count": 0
           },
           {
            "bin_end": 10,
            "bin_start": 9.2,
            "count": 1
           }
          ],
          "max": "10",
          "min": "2",
          "nan_count": 0,
          "unique_count": 5
         }
        },
        {
         "dtype": "object",
         "name": "question1",
         "stats": {
          "categories": [
           {
            "count": 1,
            "name": "What is the step by step guide to invest in share market in india"
           },
           {
            "count": 1,
            "name": "What is the story of Kohinoor KohiNoor Diamond"
           },
           {
            "count": 3,
            "name": "3 others"
           }
          ],
          "nan_count": 0,
          "unique_count": 5
         }
        },
        {
         "dtype": "object",
         "name": "question2",
         "stats": {
          "categories": [
           {
            "count": 1,
            "name": "What is the step by step guide to invest in share market"
           },
           {
            "count": 1,
            "name": "What would happen if the Indian government stole the Kohinoor KohiNoor diamond back"
           },
           {
            "count": 3,
            "name": "3 others"
           }
          ],
          "nan_count": 0,
          "unique_count": 5
         }
        },
        {
         "dtype": "int64",
         "name": "is_duplicate",
         "stats": {
          "histogram": [
           {
            "bin_end": -0.4,
            "bin_start": -0.5,
            "count": 0
           },
           {
            "bin_end": -0.3,
            "bin_start": -0.4,
            "count": 0
           },
           {
            "bin_end": -0.19999999999999996,
            "bin_start": -0.3,
            "count": 0
           },
           {
            "bin_end": -0.09999999999999998,
            "bin_start": -0.19999999999999996,
            "count": 0
           },
           {
            "bin_end": 0,
            "bin_start": -0.09999999999999998,
            "count": 0
           },
           {
            "bin_end": 0.10000000000000009,
            "bin_start": 0,
            "count": 5
           },
           {
            "bin_end": 0.20000000000000007,
            "bin_start": 0.10000000000000009,
            "count": 0
           },
           {
            "bin_end": 0.30000000000000004,
            "bin_start": 0.20000000000000007,
            "count": 0
           },
           {
            "bin_end": 0.4,
            "bin_start": 0.30000000000000004,
            "count": 0
           },
           {
            "bin_end": 0.5,
            "bin_start": 0.4,
            "count": 0
           }
          ],
          "max": "0",
          "min": "0",
          "nan_count": 0,
          "unique_count": 1
         }
        },
        {
         "dtype": "int64",
         "name": "l1",
         "stats": {
          "histogram": [
           {
            "bin_end": 48.7,
            "bin_start": 46,
            "count": 2
           },
           {
            "bin_end": 51.4,
            "bin_start": 48.7,
            "count": 0
           },
           {
            "bin_end": 54.1,
            "bin_start": 51.4,
            "count": 0
           },
           {
            "bin_end": 56.8,
            "bin_start": 54.1,
            "count": 0
           },
           {
            "bin_end": 59.5,
            "bin_start": 56.8,
            "count": 0
           },
           {
            "bin_end": 62.2,
            "bin_start": 59.5,
            "count": 0
           },
           {
            "bin_end": 64.9,
            "bin_start": 62.2,
            "count": 0
           },
           {
            "bin_end": 67.6,
            "bin_start": 64.9,
            "count": 1
           },
           {
            "bin_end": 70.3,
            "bin_start": 67.6,
            "count": 0
           },
           {
            "bin_end": 73,
            "bin_start": 70.3,
            "count": 2
           }
          ],
          "max": "73",
          "min": "46",
          "nan_count": 0,
          "unique_count": 5
         }
        },
        {
         "dtype": "int64",
         "name": "l2",
         "stats": {
          "histogram": [
           {
            "bin_end": 42.5,
            "bin_start": 38,
            "count": 1
           },
           {
            "bin_end": 47,
            "bin_start": 42.5,
            "count": 0
           },
           {
            "bin_end": 51.5,
            "bin_start": 47,
            "count": 0
           },
           {
            "bin_end": 56,
            "bin_start": 51.5,
            "count": 1
           },
           {
            "bin_end": 60.5,
            "bin_start": 56,
            "count": 2
           },
           {
            "bin_end": 65,
            "bin_start": 60.5,
            "count": 0
           },
           {
            "bin_end": 69.5,
            "bin_start": 65,
            "count": 0
           },
           {
            "bin_end": 74,
            "bin_start": 69.5,
            "count": 0
           },
           {
            "bin_end": 78.5,
            "bin_start": 74,
            "count": 0
           },
           {
            "bin_end": 83,
            "bin_start": 78.5,
            "count": 1
           }
          ],
          "max": "83",
          "min": "38",
          "nan_count": 0,
          "unique_count": 5
         }
        },
        {
         "dtype": "int64",
         "name": "l3",
         "stats": {
          "histogram": [
           {
            "bin_end": 10,
            "bin_start": 7,
            "count": 2
           },
           {
            "bin_end": 13,
            "bin_start": 10,
            "count": 0
           },
           {
            "bin_end": 16,
            "bin_start": 13,
            "count": 1
           },
           {
            "bin_end": 19,
            "bin_start": 16,
            "count": 0
           },
           {
            "bin_end": 22,
            "bin_start": 19,
            "count": 0
           },
           {
            "bin_end": 25,
            "bin_start": 22,
            "count": 0
           },
           {
            "bin_end": 28,
            "bin_start": 25,
            "count": 0
           },
           {
            "bin_end": 31,
            "bin_start": 28,
            "count": 0
           },
           {
            "bin_end": 34,
            "bin_start": 31,
            "count": 0
           },
           {
            "bin_end": 37,
            "bin_start": 34,
            "count": 2
           }
          ],
          "max": "37",
          "min": "7",
          "nan_count": 0,
          "unique_count": 5
         }
        },
        {
         "dtype": "float64",
         "name": "l4",
         "stats": {
          "histogram": [
           {
            "bin_end": 0.6909004438807863,
            "bin_start": 0.5542168674698795,
            "count": 1
           },
           {
            "bin_end": 0.8275840202916931,
            "bin_start": 0.6909004438807863,
            "count": 0
           },
           {
            "bin_end": 0.9642675967025999,
            "bin_start": 0.8275840202916931,
            "count": 1
           },
           {
            "bin_end": 1.1009511731135067,
            "bin_start": 0.9642675967025999,
            "count": 0
           },
           {
            "bin_end": 1.2376347495244135,
            "bin_start": 1.1009511731135067,
            "count": 1
           },
           {
            "bin_end": 1.3743183259353202,
            "bin_start": 1.2376347495244135,
            "count": 1
           },
           {
            "bin_end": 1.5110019023462269,
            "bin_start": 1.3743183259353202,
            "count": 0
           },
           {
            "bin_end": 1.6476854787571338,
            "bin_start": 1.5110019023462269,
            "count": 0
           },
           {
            "bin_end": 1.7843690551680405,
            "bin_start": 1.6476854787571338,
            "count": 0
           },
           {
            "bin_end": 1.9210526315789473,
            "bin_start": 1.7843690551680405,
            "count": 1
           }
          ],
          "max": "1.9210526315789473",
          "min": "0.5542168674698795",
          "nan_count": 0,
          "unique_count": 5
         }
        },
        {
         "dtype": "int64",
         "name": "_deepnote_index_column"
        }
       ],
       "row_count": 5,
       "rows_bottom": null,
       "rows_top": [
        {
         "_deepnote_index_column": 0,
         "id": 0,
         "is_duplicate": 0,
         "l1": 65,
         "l2": 56,
         "l3": 9,
         "l4": 1.1607142857142858,
         "qid1": 1,
         "qid2": 2,
         "question1": "What is the step by step guide to invest in share market in india",
         "question2": "What is the step by step guide to invest in share market"
        },
        {
         "_deepnote_index_column": 1,
         "id": 1,
         "is_duplicate": 0,
         "l1": 46,
         "l2": 83,
         "l3": 37,
         "l4": 0.5542168674698795,
         "qid1": 3,
         "qid2": 4,
         "question1": "What is the story of Kohinoor KohiNoor Diamond",
         "question2": "What would happen if the Indian government stole the Kohinoor KohiNoor diamond back"
        },
        {
         "_deepnote_index_column": 2,
         "id": 2,
         "is_duplicate": 0,
         "l1": 72,
         "l2": 58,
         "l3": 14,
         "l4": 1.2413793103448276,
         "qid1": 5,
         "qid2": 6,
         "question1": "How can I increase the speed of my internet connection while using a VPN",
         "question2": "How can Internet speed be increased by hacking through DNS"
        },
        {
         "_deepnote_index_column": 3,
         "id": 3,
         "is_duplicate": 0,
         "l1": 48,
         "l2": 55,
         "l3": 7,
         "l4": 0.8727272727272727,
         "qid1": 7,
         "qid2": 8,
         "question1": "Why am I mentally very lonely How can I solve it",
         "question2": "Find the remainder when math2324math is divided by 2423"
        },
        {
         "_deepnote_index_column": 4,
         "id": 4,
         "is_duplicate": 0,
         "l1": 73,
         "l2": 38,
         "l3": 35,
         "l4": 1.9210526315789473,
         "qid1": 9,
         "qid2": 10,
         "question1": "Which one dissolve in water quikly sugar salt methane and carbon di oxide",
         "question2": "Which fish would survive in salt water"
        }
       ]
      },
      "text/html": [
       "<div>\n",
       "<style scoped>\n",
       "    .dataframe tbody tr th:only-of-type {\n",
       "        vertical-align: middle;\n",
       "    }\n",
       "\n",
       "    .dataframe tbody tr th {\n",
       "        vertical-align: top;\n",
       "    }\n",
       "\n",
       "    .dataframe thead th {\n",
       "        text-align: right;\n",
       "    }\n",
       "</style>\n",
       "<table border=\"1\" class=\"dataframe\">\n",
       "  <thead>\n",
       "    <tr style=\"text-align: right;\">\n",
       "      <th></th>\n",
       "      <th>id</th>\n",
       "      <th>qid1</th>\n",
       "      <th>qid2</th>\n",
       "      <th>question1</th>\n",
       "      <th>question2</th>\n",
       "      <th>is_duplicate</th>\n",
       "      <th>l1</th>\n",
       "      <th>l2</th>\n",
       "      <th>l3</th>\n",
       "      <th>l4</th>\n",
       "    </tr>\n",
       "  </thead>\n",
       "  <tbody>\n",
       "    <tr>\n",
       "      <th>0</th>\n",
       "      <td>0</td>\n",
       "      <td>1</td>\n",
       "      <td>2</td>\n",
       "      <td>What is the step by step guide to invest in sh...</td>\n",
       "      <td>What is the step by step guide to invest in sh...</td>\n",
       "      <td>0</td>\n",
       "      <td>65</td>\n",
       "      <td>56</td>\n",
       "      <td>9</td>\n",
       "      <td>1.160714</td>\n",
       "    </tr>\n",
       "    <tr>\n",
       "      <th>1</th>\n",
       "      <td>1</td>\n",
       "      <td>3</td>\n",
       "      <td>4</td>\n",
       "      <td>What is the story of Kohinoor KohiNoor Diamond</td>\n",
       "      <td>What would happen if the Indian government sto...</td>\n",
       "      <td>0</td>\n",
       "      <td>46</td>\n",
       "      <td>83</td>\n",
       "      <td>37</td>\n",
       "      <td>0.554217</td>\n",
       "    </tr>\n",
       "    <tr>\n",
       "      <th>2</th>\n",
       "      <td>2</td>\n",
       "      <td>5</td>\n",
       "      <td>6</td>\n",
       "      <td>How can I increase the speed of my internet co...</td>\n",
       "      <td>How can Internet speed be increased by hacking...</td>\n",
       "      <td>0</td>\n",
       "      <td>72</td>\n",
       "      <td>58</td>\n",
       "      <td>14</td>\n",
       "      <td>1.241379</td>\n",
       "    </tr>\n",
       "    <tr>\n",
       "      <th>3</th>\n",
       "      <td>3</td>\n",
       "      <td>7</td>\n",
       "      <td>8</td>\n",
       "      <td>Why am I mentally very lonely How can I solve it</td>\n",
       "      <td>Find the remainder when math2324math is divide...</td>\n",
       "      <td>0</td>\n",
       "      <td>48</td>\n",
       "      <td>55</td>\n",
       "      <td>7</td>\n",
       "      <td>0.872727</td>\n",
       "    </tr>\n",
       "    <tr>\n",
       "      <th>4</th>\n",
       "      <td>4</td>\n",
       "      <td>9</td>\n",
       "      <td>10</td>\n",
       "      <td>Which one dissolve in water quikly sugar salt ...</td>\n",
       "      <td>Which fish would survive in salt water</td>\n",
       "      <td>0</td>\n",
       "      <td>73</td>\n",
       "      <td>38</td>\n",
       "      <td>35</td>\n",
       "      <td>1.921053</td>\n",
       "    </tr>\n",
       "  </tbody>\n",
       "</table>\n",
       "</div>"
      ],
      "text/plain": [
       "   id  qid1  qid2                                          question1  \\\n",
       "0   0     1     2  What is the step by step guide to invest in sh...   \n",
       "1   1     3     4     What is the story of Kohinoor KohiNoor Diamond   \n",
       "2   2     5     6  How can I increase the speed of my internet co...   \n",
       "3   3     7     8   Why am I mentally very lonely How can I solve it   \n",
       "4   4     9    10  Which one dissolve in water quikly sugar salt ...   \n",
       "\n",
       "                                           question2  is_duplicate  l1  l2  \\\n",
       "0  What is the step by step guide to invest in sh...             0  65  56   \n",
       "1  What would happen if the Indian government sto...             0  46  83   \n",
       "2  How can Internet speed be increased by hacking...             0  72  58   \n",
       "3  Find the remainder when math2324math is divide...             0  48  55   \n",
       "4             Which fish would survive in salt water             0  73  38   \n",
       "\n",
       "   l3        l4  \n",
       "0   9  1.160714  \n",
       "1  37  0.554217  \n",
       "2  14  1.241379  \n",
       "3   7  0.872727  \n",
       "4  35  1.921053  "
      ]
     },
     "execution_count": 14,
     "metadata": {},
     "output_type": "execute_result"
    }
   ],
   "source": [
    "data['l1'] = data['question1'].apply(le)\n",
    "data['l2'] = data['question2'].apply(le)\n",
    "data['l3'] = abs(data['l1'] - data['l2'])\n",
    "data['l4'] = (data['l1']/data['l2'])\n",
    "data.head()"
   ]
  },
  {
   "cell_type": "code",
   "execution_count": null,
   "metadata": {
    "cell_id": "00013-bf3b5eef-dcbb-4a57-a743-4b7c4af35c2d",
    "deepnote_cell_type": "code",
    "deepnote_to_be_reexecuted": false,
    "execution_millis": 53,
    "execution_start": 1638735656508,
    "source_hash": "2a5da93d",
    "tags": []
   },
   "outputs": [
    {
     "data": {
      "application/vnd.deepnote.dataframe.v2+json": {
       "column_count": 10,
       "columns": [
        {
         "dtype": "int64",
         "name": "id",
         "stats": {
          "histogram": [
           {
            "bin_end": 0.4,
            "bin_start": 0,
            "count": 1
           },
           {
            "bin_end": 0.8,
            "bin_start": 0.4,
            "count": 0
           },
           {
            "bin_end": 1.2000000000000002,
            "bin_start": 0.8,
            "count": 1
           },
           {
            "bin_end": 1.6,
            "bin_start": 1.2000000000000002,
            "count": 0
           },
           {
            "bin_end": 2,
            "bin_start": 1.6,
            "count": 0
           },
           {
            "bin_end": 2.4000000000000004,
            "bin_start": 2,
            "count": 1
           },
           {
            "bin_end": 2.8000000000000003,
            "bin_start": 2.4000000000000004,
            "count": 0
           },
           {
            "bin_end": 3.2,
            "bin_start": 2.8000000000000003,
            "count": 1
           },
           {
            "bin_end": 3.6,
            "bin_start": 3.2,
            "count": 0
           },
           {
            "bin_end": 4,
            "bin_start": 3.6,
            "count": 1
           }
          ],
          "max": "4",
          "min": "0",
          "nan_count": 0,
          "unique_count": 5
         }
        },
        {
         "dtype": "int64",
         "name": "qid1",
         "stats": {
          "histogram": [
           {
            "bin_end": 1.8,
            "bin_start": 1,
            "count": 1
           },
           {
            "bin_end": 2.6,
            "bin_start": 1.8,
            "count": 0
           },
           {
            "bin_end": 3.4000000000000004,
            "bin_start": 2.6,
            "count": 1
           },
           {
            "bin_end": 4.2,
            "bin_start": 3.4000000000000004,
            "count": 0
           },
           {
            "bin_end": 5,
            "bin_start": 4.2,
            "count": 0
           },
           {
            "bin_end": 5.800000000000001,
            "bin_start": 5,
            "count": 1
           },
           {
            "bin_end": 6.6000000000000005,
            "bin_start": 5.800000000000001,
            "count": 0
           },
           {
            "bin_end": 7.4,
            "bin_start": 6.6000000000000005,
            "count": 1
           },
           {
            "bin_end": 8.2,
            "bin_start": 7.4,
            "count": 0
           },
           {
            "bin_end": 9,
            "bin_start": 8.2,
            "count": 1
           }
          ],
          "max": "9",
          "min": "1",
          "nan_count": 0,
          "unique_count": 5
         }
        },
        {
         "dtype": "int64",
         "name": "qid2",
         "stats": {
          "histogram": [
           {
            "bin_end": 2.8,
            "bin_start": 2,
            "count": 1
           },
           {
            "bin_end": 3.6,
            "bin_start": 2.8,
            "count": 0
           },
           {
            "bin_end": 4.4,
            "bin_start": 3.6,
            "count": 1
           },
           {
            "bin_end": 5.2,
            "bin_start": 4.4,
            "count": 0
           },
           {
            "bin_end": 6,
            "bin_start": 5.2,
            "count": 0
           },
           {
            "bin_end": 6.800000000000001,
            "bin_start": 6,
            "count": 1
           },
           {
            "bin_end": 7.6000000000000005,
            "bin_start": 6.800000000000001,
            "count": 0
           },
           {
            "bin_end": 8.4,
            "bin_start": 7.6000000000000005,
            "count": 1
           },
           {
            "bin_end": 9.2,
            "bin_start": 8.4,
            "count": 0
           },
           {
            "bin_end": 10,
            "bin_start": 9.2,
            "count": 1
           }
          ],
          "max": "10",
          "min": "2",
          "nan_count": 0,
          "unique_count": 5
         }
        },
        {
         "dtype": "object",
         "name": "question1",
         "stats": {
          "categories": [
           {
            "count": 1,
            "name": "What is the step by step guide to invest in share market in india"
           },
           {
            "count": 1,
            "name": "What is the story of Kohinoor KohiNoor Diamond"
           },
           {
            "count": 3,
            "name": "3 others"
           }
          ],
          "nan_count": 0,
          "unique_count": 5
         }
        },
        {
         "dtype": "object",
         "name": "question2",
         "stats": {
          "categories": [
           {
            "count": 1,
            "name": "What is the step by step guide to invest in share market"
           },
           {
            "count": 1,
            "name": "What would happen if the Indian government stole the Kohinoor KohiNoor diamond back"
           },
           {
            "count": 3,
            "name": "3 others"
           }
          ],
          "nan_count": 0,
          "unique_count": 5
         }
        },
        {
         "dtype": "int64",
         "name": "is_duplicate",
         "stats": {
          "histogram": [
           {
            "bin_end": -0.4,
            "bin_start": -0.5,
            "count": 0
           },
           {
            "bin_end": -0.3,
            "bin_start": -0.4,
            "count": 0
           },
           {
            "bin_end": -0.19999999999999996,
            "bin_start": -0.3,
            "count": 0
           },
           {
            "bin_end": -0.09999999999999998,
            "bin_start": -0.19999999999999996,
            "count": 0
           },
           {
            "bin_end": 0,
            "bin_start": -0.09999999999999998,
            "count": 0
           },
           {
            "bin_end": 0.10000000000000009,
            "bin_start": 0,
            "count": 5
           },
           {
            "bin_end": 0.20000000000000007,
            "bin_start": 0.10000000000000009,
            "count": 0
           },
           {
            "bin_end": 0.30000000000000004,
            "bin_start": 0.20000000000000007,
            "count": 0
           },
           {
            "bin_end": 0.4,
            "bin_start": 0.30000000000000004,
            "count": 0
           },
           {
            "bin_end": 0.5,
            "bin_start": 0.4,
            "count": 0
           }
          ],
          "max": "0",
          "min": "0",
          "nan_count": 0,
          "unique_count": 1
         }
        },
        {
         "dtype": "int64",
         "name": "l1",
         "stats": {
          "histogram": [
           {
            "bin_end": 48.7,
            "bin_start": 46,
            "count": 2
           },
           {
            "bin_end": 51.4,
            "bin_start": 48.7,
            "count": 0
           },
           {
            "bin_end": 54.1,
            "bin_start": 51.4,
            "count": 0
           },
           {
            "bin_end": 56.8,
            "bin_start": 54.1,
            "count": 0
           },
           {
            "bin_end": 59.5,
            "bin_start": 56.8,
            "count": 0
           },
           {
            "bin_end": 62.2,
            "bin_start": 59.5,
            "count": 0
           },
           {
            "bin_end": 64.9,
            "bin_start": 62.2,
            "count": 0
           },
           {
            "bin_end": 67.6,
            "bin_start": 64.9,
            "count": 1
           },
           {
            "bin_end": 70.3,
            "bin_start": 67.6,
            "count": 0
           },
           {
            "bin_end": 73,
            "bin_start": 70.3,
            "count": 2
           }
          ],
          "max": "73",
          "min": "46",
          "nan_count": 0,
          "unique_count": 5
         }
        },
        {
         "dtype": "int64",
         "name": "l2",
         "stats": {
          "histogram": [
           {
            "bin_end": 42.5,
            "bin_start": 38,
            "count": 1
           },
           {
            "bin_end": 47,
            "bin_start": 42.5,
            "count": 0
           },
           {
            "bin_end": 51.5,
            "bin_start": 47,
            "count": 0
           },
           {
            "bin_end": 56,
            "bin_start": 51.5,
            "count": 1
           },
           {
            "bin_end": 60.5,
            "bin_start": 56,
            "count": 2
           },
           {
            "bin_end": 65,
            "bin_start": 60.5,
            "count": 0
           },
           {
            "bin_end": 69.5,
            "bin_start": 65,
            "count": 0
           },
           {
            "bin_end": 74,
            "bin_start": 69.5,
            "count": 0
           },
           {
            "bin_end": 78.5,
            "bin_start": 74,
            "count": 0
           },
           {
            "bin_end": 83,
            "bin_start": 78.5,
            "count": 1
           }
          ],
          "max": "83",
          "min": "38",
          "nan_count": 0,
          "unique_count": 5
         }
        },
        {
         "dtype": "int64",
         "name": "l3",
         "stats": {
          "histogram": [
           {
            "bin_end": 10,
            "bin_start": 7,
            "count": 2
           },
           {
            "bin_end": 13,
            "bin_start": 10,
            "count": 0
           },
           {
            "bin_end": 16,
            "bin_start": 13,
            "count": 1
           },
           {
            "bin_end": 19,
            "bin_start": 16,
            "count": 0
           },
           {
            "bin_end": 22,
            "bin_start": 19,
            "count": 0
           },
           {
            "bin_end": 25,
            "bin_start": 22,
            "count": 0
           },
           {
            "bin_end": 28,
            "bin_start": 25,
            "count": 0
           },
           {
            "bin_end": 31,
            "bin_start": 28,
            "count": 0
           },
           {
            "bin_end": 34,
            "bin_start": 31,
            "count": 0
           },
           {
            "bin_end": 37,
            "bin_start": 34,
            "count": 2
           }
          ],
          "max": "37",
          "min": "7",
          "nan_count": 0,
          "unique_count": 5
         }
        },
        {
         "dtype": "float64",
         "name": "l4",
         "stats": {
          "histogram": [
           {
            "bin_end": 0.6909004438807863,
            "bin_start": 0.5542168674698795,
            "count": 1
           },
           {
            "bin_end": 0.8275840202916931,
            "bin_start": 0.6909004438807863,
            "count": 0
           },
           {
            "bin_end": 0.9642675967025999,
            "bin_start": 0.8275840202916931,
            "count": 1
           },
           {
            "bin_end": 1.1009511731135067,
            "bin_start": 0.9642675967025999,
            "count": 0
           },
           {
            "bin_end": 1.2376347495244135,
            "bin_start": 1.1009511731135067,
            "count": 1
           },
           {
            "bin_end": 1.3743183259353202,
            "bin_start": 1.2376347495244135,
            "count": 1
           },
           {
            "bin_end": 1.5110019023462269,
            "bin_start": 1.3743183259353202,
            "count": 0
           },
           {
            "bin_end": 1.6476854787571338,
            "bin_start": 1.5110019023462269,
            "count": 0
           },
           {
            "bin_end": 1.7843690551680405,
            "bin_start": 1.6476854787571338,
            "count": 0
           },
           {
            "bin_end": 1.9210526315789473,
            "bin_start": 1.7843690551680405,
            "count": 1
           }
          ],
          "max": "1.9210526315789473",
          "min": "0.5542168674698795",
          "nan_count": 0,
          "unique_count": 5
         }
        },
        {
         "dtype": "int64",
         "name": "_deepnote_index_column"
        }
       ],
       "row_count": 5,
       "rows_bottom": null,
       "rows_top": [
        {
         "_deepnote_index_column": 0,
         "id": 0,
         "is_duplicate": 0,
         "l1": 65,
         "l2": 56,
         "l3": 9,
         "l4": 1.1607142857142858,
         "qid1": 1,
         "qid2": 2,
         "question1": "What is the step by step guide to invest in share market in india",
         "question2": "What is the step by step guide to invest in share market"
        },
        {
         "_deepnote_index_column": 1,
         "id": 1,
         "is_duplicate": 0,
         "l1": 46,
         "l2": 83,
         "l3": 37,
         "l4": 0.5542168674698795,
         "qid1": 3,
         "qid2": 4,
         "question1": "What is the story of Kohinoor KohiNoor Diamond",
         "question2": "What would happen if the Indian government stole the Kohinoor KohiNoor diamond back"
        },
        {
         "_deepnote_index_column": 2,
         "id": 2,
         "is_duplicate": 0,
         "l1": 72,
         "l2": 58,
         "l3": 14,
         "l4": 1.2413793103448276,
         "qid1": 5,
         "qid2": 6,
         "question1": "How can I increase the speed of my internet connection while using a VPN",
         "question2": "How can Internet speed be increased by hacking through DNS"
        },
        {
         "_deepnote_index_column": 3,
         "id": 3,
         "is_duplicate": 0,
         "l1": 48,
         "l2": 55,
         "l3": 7,
         "l4": 0.8727272727272727,
         "qid1": 7,
         "qid2": 8,
         "question1": "Why am I mentally very lonely How can I solve it",
         "question2": "Find the remainder when math2324math is divided by 2423"
        },
        {
         "_deepnote_index_column": 4,
         "id": 4,
         "is_duplicate": 0,
         "l1": 73,
         "l2": 38,
         "l3": 35,
         "l4": 1.9210526315789473,
         "qid1": 9,
         "qid2": 10,
         "question1": "Which one dissolve in water quikly sugar salt methane and carbon di oxide",
         "question2": "Which fish would survive in salt water"
        }
       ]
      },
      "text/html": [
       "<div>\n",
       "<style scoped>\n",
       "    .dataframe tbody tr th:only-of-type {\n",
       "        vertical-align: middle;\n",
       "    }\n",
       "\n",
       "    .dataframe tbody tr th {\n",
       "        vertical-align: top;\n",
       "    }\n",
       "\n",
       "    .dataframe thead th {\n",
       "        text-align: right;\n",
       "    }\n",
       "</style>\n",
       "<table border=\"1\" class=\"dataframe\">\n",
       "  <thead>\n",
       "    <tr style=\"text-align: right;\">\n",
       "      <th></th>\n",
       "      <th>id</th>\n",
       "      <th>qid1</th>\n",
       "      <th>qid2</th>\n",
       "      <th>question1</th>\n",
       "      <th>question2</th>\n",
       "      <th>is_duplicate</th>\n",
       "      <th>l1</th>\n",
       "      <th>l2</th>\n",
       "      <th>l3</th>\n",
       "      <th>l4</th>\n",
       "    </tr>\n",
       "  </thead>\n",
       "  <tbody>\n",
       "    <tr>\n",
       "      <th>0</th>\n",
       "      <td>0</td>\n",
       "      <td>1</td>\n",
       "      <td>2</td>\n",
       "      <td>What is the step by step guide to invest in sh...</td>\n",
       "      <td>What is the step by step guide to invest in sh...</td>\n",
       "      <td>0</td>\n",
       "      <td>65</td>\n",
       "      <td>56</td>\n",
       "      <td>9</td>\n",
       "      <td>1.160714</td>\n",
       "    </tr>\n",
       "    <tr>\n",
       "      <th>1</th>\n",
       "      <td>1</td>\n",
       "      <td>3</td>\n",
       "      <td>4</td>\n",
       "      <td>What is the story of Kohinoor KohiNoor Diamond</td>\n",
       "      <td>What would happen if the Indian government sto...</td>\n",
       "      <td>0</td>\n",
       "      <td>46</td>\n",
       "      <td>83</td>\n",
       "      <td>37</td>\n",
       "      <td>0.554217</td>\n",
       "    </tr>\n",
       "    <tr>\n",
       "      <th>2</th>\n",
       "      <td>2</td>\n",
       "      <td>5</td>\n",
       "      <td>6</td>\n",
       "      <td>How can I increase the speed of my internet co...</td>\n",
       "      <td>How can Internet speed be increased by hacking...</td>\n",
       "      <td>0</td>\n",
       "      <td>72</td>\n",
       "      <td>58</td>\n",
       "      <td>14</td>\n",
       "      <td>1.241379</td>\n",
       "    </tr>\n",
       "    <tr>\n",
       "      <th>3</th>\n",
       "      <td>3</td>\n",
       "      <td>7</td>\n",
       "      <td>8</td>\n",
       "      <td>Why am I mentally very lonely How can I solve it</td>\n",
       "      <td>Find the remainder when math2324math is divide...</td>\n",
       "      <td>0</td>\n",
       "      <td>48</td>\n",
       "      <td>55</td>\n",
       "      <td>7</td>\n",
       "      <td>0.872727</td>\n",
       "    </tr>\n",
       "    <tr>\n",
       "      <th>4</th>\n",
       "      <td>4</td>\n",
       "      <td>9</td>\n",
       "      <td>10</td>\n",
       "      <td>Which one dissolve in water quikly sugar salt ...</td>\n",
       "      <td>Which fish would survive in salt water</td>\n",
       "      <td>0</td>\n",
       "      <td>73</td>\n",
       "      <td>38</td>\n",
       "      <td>35</td>\n",
       "      <td>1.921053</td>\n",
       "    </tr>\n",
       "  </tbody>\n",
       "</table>\n",
       "</div>"
      ],
      "text/plain": [
       "   id  qid1  qid2                                          question1  \\\n",
       "0   0     1     2  What is the step by step guide to invest in sh...   \n",
       "1   1     3     4     What is the story of Kohinoor KohiNoor Diamond   \n",
       "2   2     5     6  How can I increase the speed of my internet co...   \n",
       "3   3     7     8   Why am I mentally very lonely How can I solve it   \n",
       "4   4     9    10  Which one dissolve in water quikly sugar salt ...   \n",
       "\n",
       "                                           question2  is_duplicate  l1  l2  \\\n",
       "0  What is the step by step guide to invest in sh...             0  65  56   \n",
       "1  What would happen if the Indian government sto...             0  46  83   \n",
       "2  How can Internet speed be increased by hacking...             0  72  58   \n",
       "3  Find the remainder when math2324math is divide...             0  48  55   \n",
       "4             Which fish would survive in salt water             0  73  38   \n",
       "\n",
       "   l3        l4  \n",
       "0   9  1.160714  \n",
       "1  37  0.554217  \n",
       "2  14  1.241379  \n",
       "3   7  0.872727  \n",
       "4  35  1.921053  "
      ]
     },
     "execution_count": 15,
     "metadata": {},
     "output_type": "execute_result"
    }
   ],
   "source": [
    "data_l = data.copy()\n",
    "data_l.head()"
   ]
  },
  {
   "cell_type": "code",
   "execution_count": null,
   "metadata": {
    "cell_id": "00013-a9f206ea-2864-4ffa-b7b0-d2b70c2d5a8d",
    "deepnote_cell_type": "code",
    "deepnote_to_be_reexecuted": false,
    "execution_millis": 11516,
    "execution_start": 1638735656568,
    "source_hash": "c1770912",
    "tags": []
   },
   "outputs": [
    {
     "data": {
      "application/vnd.deepnote.dataframe.v2+json": {
       "column_count": 11,
       "columns": [
        {
         "dtype": "int64",
         "name": "id",
         "stats": {
          "histogram": [
           {
            "bin_end": 0.4,
            "bin_start": 0,
            "count": 1
           },
           {
            "bin_end": 0.8,
            "bin_start": 0.4,
            "count": 0
           },
           {
            "bin_end": 1.2000000000000002,
            "bin_start": 0.8,
            "count": 1
           },
           {
            "bin_end": 1.6,
            "bin_start": 1.2000000000000002,
            "count": 0
           },
           {
            "bin_end": 2,
            "bin_start": 1.6,
            "count": 0
           },
           {
            "bin_end": 2.4000000000000004,
            "bin_start": 2,
            "count": 1
           },
           {
            "bin_end": 2.8000000000000003,
            "bin_start": 2.4000000000000004,
            "count": 0
           },
           {
            "bin_end": 3.2,
            "bin_start": 2.8000000000000003,
            "count": 1
           },
           {
            "bin_end": 3.6,
            "bin_start": 3.2,
            "count": 0
           },
           {
            "bin_end": 4,
            "bin_start": 3.6,
            "count": 1
           }
          ],
          "max": "4",
          "min": "0",
          "nan_count": 0,
          "unique_count": 5
         }
        },
        {
         "dtype": "int64",
         "name": "qid1",
         "stats": {
          "histogram": [
           {
            "bin_end": 1.8,
            "bin_start": 1,
            "count": 1
           },
           {
            "bin_end": 2.6,
            "bin_start": 1.8,
            "count": 0
           },
           {
            "bin_end": 3.4000000000000004,
            "bin_start": 2.6,
            "count": 1
           },
           {
            "bin_end": 4.2,
            "bin_start": 3.4000000000000004,
            "count": 0
           },
           {
            "bin_end": 5,
            "bin_start": 4.2,
            "count": 0
           },
           {
            "bin_end": 5.800000000000001,
            "bin_start": 5,
            "count": 1
           },
           {
            "bin_end": 6.6000000000000005,
            "bin_start": 5.800000000000001,
            "count": 0
           },
           {
            "bin_end": 7.4,
            "bin_start": 6.6000000000000005,
            "count": 1
           },
           {
            "bin_end": 8.2,
            "bin_start": 7.4,
            "count": 0
           },
           {
            "bin_end": 9,
            "bin_start": 8.2,
            "count": 1
           }
          ],
          "max": "9",
          "min": "1",
          "nan_count": 0,
          "unique_count": 5
         }
        },
        {
         "dtype": "int64",
         "name": "qid2",
         "stats": {
          "histogram": [
           {
            "bin_end": 2.8,
            "bin_start": 2,
            "count": 1
           },
           {
            "bin_end": 3.6,
            "bin_start": 2.8,
            "count": 0
           },
           {
            "bin_end": 4.4,
            "bin_start": 3.6,
            "count": 1
           },
           {
            "bin_end": 5.2,
            "bin_start": 4.4,
            "count": 0
           },
           {
            "bin_end": 6,
            "bin_start": 5.2,
            "count": 0
           },
           {
            "bin_end": 6.800000000000001,
            "bin_start": 6,
            "count": 1
           },
           {
            "bin_end": 7.6000000000000005,
            "bin_start": 6.800000000000001,
            "count": 0
           },
           {
            "bin_end": 8.4,
            "bin_start": 7.6000000000000005,
            "count": 1
           },
           {
            "bin_end": 9.2,
            "bin_start": 8.4,
            "count": 0
           },
           {
            "bin_end": 10,
            "bin_start": 9.2,
            "count": 1
           }
          ],
          "max": "10",
          "min": "2",
          "nan_count": 0,
          "unique_count": 5
         }
        },
        {
         "dtype": "object",
         "name": "question1",
         "stats": {
          "categories": [
           {
            "count": 1,
            "name": "What is the step by step guide to invest in share market in india"
           },
           {
            "count": 1,
            "name": "What is the story of Kohinoor KohiNoor Diamond"
           },
           {
            "count": 3,
            "name": "3 others"
           }
          ],
          "nan_count": 0,
          "unique_count": 5
         }
        },
        {
         "dtype": "object",
         "name": "question2",
         "stats": {
          "categories": [
           {
            "count": 1,
            "name": "What is the step by step guide to invest in share market"
           },
           {
            "count": 1,
            "name": "What would happen if the Indian government stole the Kohinoor KohiNoor diamond back"
           },
           {
            "count": 3,
            "name": "3 others"
           }
          ],
          "nan_count": 0,
          "unique_count": 5
         }
        },
        {
         "dtype": "int64",
         "name": "is_duplicate",
         "stats": {
          "histogram": [
           {
            "bin_end": -0.4,
            "bin_start": -0.5,
            "count": 0
           },
           {
            "bin_end": -0.3,
            "bin_start": -0.4,
            "count": 0
           },
           {
            "bin_end": -0.19999999999999996,
            "bin_start": -0.3,
            "count": 0
           },
           {
            "bin_end": -0.09999999999999998,
            "bin_start": -0.19999999999999996,
            "count": 0
           },
           {
            "bin_end": 0,
            "bin_start": -0.09999999999999998,
            "count": 0
           },
           {
            "bin_end": 0.10000000000000009,
            "bin_start": 0,
            "count": 5
           },
           {
            "bin_end": 0.20000000000000007,
            "bin_start": 0.10000000000000009,
            "count": 0
           },
           {
            "bin_end": 0.30000000000000004,
            "bin_start": 0.20000000000000007,
            "count": 0
           },
           {
            "bin_end": 0.4,
            "bin_start": 0.30000000000000004,
            "count": 0
           },
           {
            "bin_end": 0.5,
            "bin_start": 0.4,
            "count": 0
           }
          ],
          "max": "0",
          "min": "0",
          "nan_count": 0,
          "unique_count": 1
         }
        },
        {
         "dtype": "int64",
         "name": "l1",
         "stats": {
          "histogram": [
           {
            "bin_end": 48.7,
            "bin_start": 46,
            "count": 2
           },
           {
            "bin_end": 51.4,
            "bin_start": 48.7,
            "count": 0
           },
           {
            "bin_end": 54.1,
            "bin_start": 51.4,
            "count": 0
           },
           {
            "bin_end": 56.8,
            "bin_start": 54.1,
            "count": 0
           },
           {
            "bin_end": 59.5,
            "bin_start": 56.8,
            "count": 0
           },
           {
            "bin_end": 62.2,
            "bin_start": 59.5,
            "count": 0
           },
           {
            "bin_end": 64.9,
            "bin_start": 62.2,
            "count": 0
           },
           {
            "bin_end": 67.6,
            "bin_start": 64.9,
            "count": 1
           },
           {
            "bin_end": 70.3,
            "bin_start": 67.6,
            "count": 0
           },
           {
            "bin_end": 73,
            "bin_start": 70.3,
            "count": 2
           }
          ],
          "max": "73",
          "min": "46",
          "nan_count": 0,
          "unique_count": 5
         }
        },
        {
         "dtype": "int64",
         "name": "l2",
         "stats": {
          "histogram": [
           {
            "bin_end": 42.5,
            "bin_start": 38,
            "count": 1
           },
           {
            "bin_end": 47,
            "bin_start": 42.5,
            "count": 0
           },
           {
            "bin_end": 51.5,
            "bin_start": 47,
            "count": 0
           },
           {
            "bin_end": 56,
            "bin_start": 51.5,
            "count": 1
           },
           {
            "bin_end": 60.5,
            "bin_start": 56,
            "count": 2
           },
           {
            "bin_end": 65,
            "bin_start": 60.5,
            "count": 0
           },
           {
            "bin_end": 69.5,
            "bin_start": 65,
            "count": 0
           },
           {
            "bin_end": 74,
            "bin_start": 69.5,
            "count": 0
           },
           {
            "bin_end": 78.5,
            "bin_start": 74,
            "count": 0
           },
           {
            "bin_end": 83,
            "bin_start": 78.5,
            "count": 1
           }
          ],
          "max": "83",
          "min": "38",
          "nan_count": 0,
          "unique_count": 5
         }
        },
        {
         "dtype": "int64",
         "name": "l3",
         "stats": {
          "histogram": [
           {
            "bin_end": 10,
            "bin_start": 7,
            "count": 2
           },
           {
            "bin_end": 13,
            "bin_start": 10,
            "count": 0
           },
           {
            "bin_end": 16,
            "bin_start": 13,
            "count": 1
           },
           {
            "bin_end": 19,
            "bin_start": 16,
            "count": 0
           },
           {
            "bin_end": 22,
            "bin_start": 19,
            "count": 0
           },
           {
            "bin_end": 25,
            "bin_start": 22,
            "count": 0
           },
           {
            "bin_end": 28,
            "bin_start": 25,
            "count": 0
           },
           {
            "bin_end": 31,
            "bin_start": 28,
            "count": 0
           },
           {
            "bin_end": 34,
            "bin_start": 31,
            "count": 0
           },
           {
            "bin_end": 37,
            "bin_start": 34,
            "count": 2
           }
          ],
          "max": "37",
          "min": "7",
          "nan_count": 0,
          "unique_count": 5
         }
        },
        {
         "dtype": "float64",
         "name": "l4",
         "stats": {
          "histogram": [
           {
            "bin_end": 0.6909004438807863,
            "bin_start": 0.5542168674698795,
            "count": 1
           },
           {
            "bin_end": 0.8275840202916931,
            "bin_start": 0.6909004438807863,
            "count": 0
           },
           {
            "bin_end": 0.9642675967025999,
            "bin_start": 0.8275840202916931,
            "count": 1
           },
           {
            "bin_end": 1.1009511731135067,
            "bin_start": 0.9642675967025999,
            "count": 0
           },
           {
            "bin_end": 1.2376347495244135,
            "bin_start": 1.1009511731135067,
            "count": 1
           },
           {
            "bin_end": 1.3743183259353202,
            "bin_start": 1.2376347495244135,
            "count": 1
           },
           {
            "bin_end": 1.5110019023462269,
            "bin_start": 1.3743183259353202,
            "count": 0
           },
           {
            "bin_end": 1.6476854787571338,
            "bin_start": 1.5110019023462269,
            "count": 0
           },
           {
            "bin_end": 1.7843690551680405,
            "bin_start": 1.6476854787571338,
            "count": 0
           },
           {
            "bin_end": 1.9210526315789473,
            "bin_start": 1.7843690551680405,
            "count": 1
           }
          ],
          "max": "1.9210526315789473",
          "min": "0.5542168674698795",
          "nan_count": 0,
          "unique_count": 5
         }
        },
        {
         "dtype": "int64",
         "name": "lc1",
         "stats": {
          "histogram": [
           {
            "bin_end": 1,
            "bin_start": 0,
            "count": 1
           },
           {
            "bin_end": 2,
            "bin_start": 1,
            "count": 1
           },
           {
            "bin_end": 3,
            "bin_start": 2,
            "count": 1
           },
           {
            "bin_end": 4,
            "bin_start": 3,
            "count": 1
           },
           {
            "bin_end": 5,
            "bin_start": 4,
            "count": 0
           },
           {
            "bin_end": 6,
            "bin_start": 5,
            "count": 0
           },
           {
            "bin_end": 7,
            "bin_start": 6,
            "count": 0
           },
           {
            "bin_end": 8,
            "bin_start": 7,
            "count": 0
           },
           {
            "bin_end": 9,
            "bin_start": 8,
            "count": 0
           },
           {
            "bin_end": 10,
            "bin_start": 9,
            "count": 1
           }
          ],
          "max": "10",
          "min": "0",
          "nan_count": 0,
          "unique_count": 5
         }
        },
        {
         "dtype": "int64",
         "name": "_deepnote_index_column"
        }
       ],
       "row_count": 5,
       "rows_bottom": null,
       "rows_top": [
        {
         "_deepnote_index_column": 0,
         "id": 0,
         "is_duplicate": 0,
         "l1": 65,
         "l2": 56,
         "l3": 9,
         "l4": 1.1607142857142858,
         "lc1": 10,
         "qid1": 1,
         "qid2": 2,
         "question1": "What is the step by step guide to invest in share market in india",
         "question2": "What is the step by step guide to invest in share market"
        },
        {
         "_deepnote_index_column": 1,
         "id": 1,
         "is_duplicate": 0,
         "l1": 46,
         "l2": 83,
         "l3": 37,
         "l4": 0.5542168674698795,
         "lc1": 1,
         "qid1": 3,
         "qid2": 4,
         "question1": "What is the story of Kohinoor KohiNoor Diamond",
         "question2": "What would happen if the Indian government stole the Kohinoor KohiNoor diamond back"
        },
        {
         "_deepnote_index_column": 2,
         "id": 2,
         "is_duplicate": 0,
         "l1": 72,
         "l2": 58,
         "l3": 14,
         "l4": 1.2413793103448276,
         "lc1": 2,
         "qid1": 5,
         "qid2": 6,
         "question1": "How can I increase the speed of my internet connection while using a VPN",
         "question2": "How can Internet speed be increased by hacking through DNS"
        },
        {
         "_deepnote_index_column": 3,
         "id": 3,
         "is_duplicate": 0,
         "l1": 48,
         "l2": 55,
         "l3": 7,
         "l4": 0.8727272727272727,
         "lc1": 0,
         "qid1": 7,
         "qid2": 8,
         "question1": "Why am I mentally very lonely How can I solve it",
         "question2": "Find the remainder when math2324math is divided by 2423"
        },
        {
         "_deepnote_index_column": 4,
         "id": 4,
         "is_duplicate": 0,
         "l1": 73,
         "l2": 38,
         "l3": 35,
         "l4": 1.9210526315789473,
         "lc1": 3,
         "qid1": 9,
         "qid2": 10,
         "question1": "Which one dissolve in water quikly sugar salt methane and carbon di oxide",
         "question2": "Which fish would survive in salt water"
        }
       ]
      },
      "text/html": [
       "<div>\n",
       "<style scoped>\n",
       "    .dataframe tbody tr th:only-of-type {\n",
       "        vertical-align: middle;\n",
       "    }\n",
       "\n",
       "    .dataframe tbody tr th {\n",
       "        vertical-align: top;\n",
       "    }\n",
       "\n",
       "    .dataframe thead th {\n",
       "        text-align: right;\n",
       "    }\n",
       "</style>\n",
       "<table border=\"1\" class=\"dataframe\">\n",
       "  <thead>\n",
       "    <tr style=\"text-align: right;\">\n",
       "      <th></th>\n",
       "      <th>id</th>\n",
       "      <th>qid1</th>\n",
       "      <th>qid2</th>\n",
       "      <th>question1</th>\n",
       "      <th>question2</th>\n",
       "      <th>is_duplicate</th>\n",
       "      <th>l1</th>\n",
       "      <th>l2</th>\n",
       "      <th>l3</th>\n",
       "      <th>l4</th>\n",
       "      <th>lc1</th>\n",
       "    </tr>\n",
       "  </thead>\n",
       "  <tbody>\n",
       "    <tr>\n",
       "      <th>0</th>\n",
       "      <td>0</td>\n",
       "      <td>1</td>\n",
       "      <td>2</td>\n",
       "      <td>What is the step by step guide to invest in sh...</td>\n",
       "      <td>What is the step by step guide to invest in sh...</td>\n",
       "      <td>0</td>\n",
       "      <td>65</td>\n",
       "      <td>56</td>\n",
       "      <td>9</td>\n",
       "      <td>1.160714</td>\n",
       "      <td>10</td>\n",
       "    </tr>\n",
       "    <tr>\n",
       "      <th>1</th>\n",
       "      <td>1</td>\n",
       "      <td>3</td>\n",
       "      <td>4</td>\n",
       "      <td>What is the story of Kohinoor KohiNoor Diamond</td>\n",
       "      <td>What would happen if the Indian government sto...</td>\n",
       "      <td>0</td>\n",
       "      <td>46</td>\n",
       "      <td>83</td>\n",
       "      <td>37</td>\n",
       "      <td>0.554217</td>\n",
       "      <td>1</td>\n",
       "    </tr>\n",
       "    <tr>\n",
       "      <th>2</th>\n",
       "      <td>2</td>\n",
       "      <td>5</td>\n",
       "      <td>6</td>\n",
       "      <td>How can I increase the speed of my internet co...</td>\n",
       "      <td>How can Internet speed be increased by hacking...</td>\n",
       "      <td>0</td>\n",
       "      <td>72</td>\n",
       "      <td>58</td>\n",
       "      <td>14</td>\n",
       "      <td>1.241379</td>\n",
       "      <td>2</td>\n",
       "    </tr>\n",
       "    <tr>\n",
       "      <th>3</th>\n",
       "      <td>3</td>\n",
       "      <td>7</td>\n",
       "      <td>8</td>\n",
       "      <td>Why am I mentally very lonely How can I solve it</td>\n",
       "      <td>Find the remainder when math2324math is divide...</td>\n",
       "      <td>0</td>\n",
       "      <td>48</td>\n",
       "      <td>55</td>\n",
       "      <td>7</td>\n",
       "      <td>0.872727</td>\n",
       "      <td>0</td>\n",
       "    </tr>\n",
       "    <tr>\n",
       "      <th>4</th>\n",
       "      <td>4</td>\n",
       "      <td>9</td>\n",
       "      <td>10</td>\n",
       "      <td>Which one dissolve in water quikly sugar salt ...</td>\n",
       "      <td>Which fish would survive in salt water</td>\n",
       "      <td>0</td>\n",
       "      <td>73</td>\n",
       "      <td>38</td>\n",
       "      <td>35</td>\n",
       "      <td>1.921053</td>\n",
       "      <td>3</td>\n",
       "    </tr>\n",
       "  </tbody>\n",
       "</table>\n",
       "</div>"
      ],
      "text/plain": [
       "   id  qid1  qid2                                          question1  \\\n",
       "0   0     1     2  What is the step by step guide to invest in sh...   \n",
       "1   1     3     4     What is the story of Kohinoor KohiNoor Diamond   \n",
       "2   2     5     6  How can I increase the speed of my internet co...   \n",
       "3   3     7     8   Why am I mentally very lonely How can I solve it   \n",
       "4   4     9    10  Which one dissolve in water quikly sugar salt ...   \n",
       "\n",
       "                                           question2  is_duplicate  l1  l2  \\\n",
       "0  What is the step by step guide to invest in sh...             0  65  56   \n",
       "1  What would happen if the Indian government sto...             0  46  83   \n",
       "2  How can Internet speed be increased by hacking...             0  72  58   \n",
       "3  Find the remainder when math2324math is divide...             0  48  55   \n",
       "4             Which fish would survive in salt water             0  73  38   \n",
       "\n",
       "   l3        l4  lc1  \n",
       "0   9  1.160714   10  \n",
       "1  37  0.554217    1  \n",
       "2  14  1.241379    2  \n",
       "3   7  0.872727    0  \n",
       "4  35  1.921053    3  "
      ]
     },
     "execution_count": 16,
     "metadata": {},
     "output_type": "execute_result"
    }
   ],
   "source": [
    "data['lc1'] = data[['question1', 'question2']].apply(lambda x: com_low(x), axis=1)\n",
    "data.head()"
   ]
  },
  {
   "cell_type": "code",
   "execution_count": null,
   "metadata": {
    "cell_id": "00014-629eeab8-9eae-43ff-8bcb-6febc79bb081",
    "deepnote_cell_type": "code",
    "deepnote_to_be_reexecuted": false,
    "execution_millis": 12093,
    "execution_start": 1638735668152,
    "source_hash": "79d32c9c",
    "tags": []
   },
   "outputs": [],
   "source": [
    "longest = 0\n",
    "sen1 = data['question1'].str.len().idxmax()\n",
    "l1 = len(data['question1'][sen1])\n",
    "sen2 = data['question2'].str.len().idxmax()\n",
    "l2 = len(data['question2'][sen2])\n",
    "if(l1>l2):\n",
    "    k = l1\n",
    "else:\n",
    "    k = l2\n",
    "data['lc2'] = data[['question1', 'question2']].apply(lambda x: com_low(x), axis=1)\n",
    "data['lc2'] = (data['lc2'])/k\n",
    "\n"
   ]
  },
  {
   "cell_type": "code",
   "execution_count": null,
   "metadata": {
    "cell_id": "00016-4e203a6c-40df-4edb-8f9d-bb27537f8fcd",
    "deepnote_cell_type": "code",
    "deepnote_to_be_reexecuted": false,
    "execution_millis": 284,
    "execution_start": 1638735680257,
    "source_hash": "cd6ee5b2",
    "tags": []
   },
   "outputs": [
    {
     "data": {
      "application/vnd.deepnote.dataframe.v2+json": {
       "column_count": 12,
       "columns": [
        {
         "dtype": "int64",
         "name": "id",
         "stats": {
          "histogram": [
           {
            "bin_end": 0.4,
            "bin_start": 0,
            "count": 1
           },
           {
            "bin_end": 0.8,
            "bin_start": 0.4,
            "count": 0
           },
           {
            "bin_end": 1.2000000000000002,
            "bin_start": 0.8,
            "count": 1
           },
           {
            "bin_end": 1.6,
            "bin_start": 1.2000000000000002,
            "count": 0
           },
           {
            "bin_end": 2,
            "bin_start": 1.6,
            "count": 0
           },
           {
            "bin_end": 2.4000000000000004,
            "bin_start": 2,
            "count": 1
           },
           {
            "bin_end": 2.8000000000000003,
            "bin_start": 2.4000000000000004,
            "count": 0
           },
           {
            "bin_end": 3.2,
            "bin_start": 2.8000000000000003,
            "count": 1
           },
           {
            "bin_end": 3.6,
            "bin_start": 3.2,
            "count": 0
           },
           {
            "bin_end": 4,
            "bin_start": 3.6,
            "count": 1
           }
          ],
          "max": "4",
          "min": "0",
          "nan_count": 0,
          "unique_count": 5
         }
        },
        {
         "dtype": "int64",
         "name": "qid1",
         "stats": {
          "histogram": [
           {
            "bin_end": 1.8,
            "bin_start": 1,
            "count": 1
           },
           {
            "bin_end": 2.6,
            "bin_start": 1.8,
            "count": 0
           },
           {
            "bin_end": 3.4000000000000004,
            "bin_start": 2.6,
            "count": 1
           },
           {
            "bin_end": 4.2,
            "bin_start": 3.4000000000000004,
            "count": 0
           },
           {
            "bin_end": 5,
            "bin_start": 4.2,
            "count": 0
           },
           {
            "bin_end": 5.800000000000001,
            "bin_start": 5,
            "count": 1
           },
           {
            "bin_end": 6.6000000000000005,
            "bin_start": 5.800000000000001,
            "count": 0
           },
           {
            "bin_end": 7.4,
            "bin_start": 6.6000000000000005,
            "count": 1
           },
           {
            "bin_end": 8.2,
            "bin_start": 7.4,
            "count": 0
           },
           {
            "bin_end": 9,
            "bin_start": 8.2,
            "count": 1
           }
          ],
          "max": "9",
          "min": "1",
          "nan_count": 0,
          "unique_count": 5
         }
        },
        {
         "dtype": "int64",
         "name": "qid2",
         "stats": {
          "histogram": [
           {
            "bin_end": 2.8,
            "bin_start": 2,
            "count": 1
           },
           {
            "bin_end": 3.6,
            "bin_start": 2.8,
            "count": 0
           },
           {
            "bin_end": 4.4,
            "bin_start": 3.6,
            "count": 1
           },
           {
            "bin_end": 5.2,
            "bin_start": 4.4,
            "count": 0
           },
           {
            "bin_end": 6,
            "bin_start": 5.2,
            "count": 0
           },
           {
            "bin_end": 6.800000000000001,
            "bin_start": 6,
            "count": 1
           },
           {
            "bin_end": 7.6000000000000005,
            "bin_start": 6.800000000000001,
            "count": 0
           },
           {
            "bin_end": 8.4,
            "bin_start": 7.6000000000000005,
            "count": 1
           },
           {
            "bin_end": 9.2,
            "bin_start": 8.4,
            "count": 0
           },
           {
            "bin_end": 10,
            "bin_start": 9.2,
            "count": 1
           }
          ],
          "max": "10",
          "min": "2",
          "nan_count": 0,
          "unique_count": 5
         }
        },
        {
         "dtype": "object",
         "name": "question1",
         "stats": {
          "categories": [
           {
            "count": 1,
            "name": "What is the step by step guide to invest in share market in india"
           },
           {
            "count": 1,
            "name": "What is the story of Kohinoor KohiNoor Diamond"
           },
           {
            "count": 3,
            "name": "3 others"
           }
          ],
          "nan_count": 0,
          "unique_count": 5
         }
        },
        {
         "dtype": "object",
         "name": "question2",
         "stats": {
          "categories": [
           {
            "count": 1,
            "name": "What is the step by step guide to invest in share market"
           },
           {
            "count": 1,
            "name": "What would happen if the Indian government stole the Kohinoor KohiNoor diamond back"
           },
           {
            "count": 3,
            "name": "3 others"
           }
          ],
          "nan_count": 0,
          "unique_count": 5
         }
        },
        {
         "dtype": "int64",
         "name": "is_duplicate",
         "stats": {
          "histogram": [
           {
            "bin_end": -0.4,
            "bin_start": -0.5,
            "count": 0
           },
           {
            "bin_end": -0.3,
            "bin_start": -0.4,
            "count": 0
           },
           {
            "bin_end": -0.19999999999999996,
            "bin_start": -0.3,
            "count": 0
           },
           {
            "bin_end": -0.09999999999999998,
            "bin_start": -0.19999999999999996,
            "count": 0
           },
           {
            "bin_end": 0,
            "bin_start": -0.09999999999999998,
            "count": 0
           },
           {
            "bin_end": 0.10000000000000009,
            "bin_start": 0,
            "count": 5
           },
           {
            "bin_end": 0.20000000000000007,
            "bin_start": 0.10000000000000009,
            "count": 0
           },
           {
            "bin_end": 0.30000000000000004,
            "bin_start": 0.20000000000000007,
            "count": 0
           },
           {
            "bin_end": 0.4,
            "bin_start": 0.30000000000000004,
            "count": 0
           },
           {
            "bin_end": 0.5,
            "bin_start": 0.4,
            "count": 0
           }
          ],
          "max": "0",
          "min": "0",
          "nan_count": 0,
          "unique_count": 1
         }
        },
        {
         "dtype": "int64",
         "name": "l1",
         "stats": {
          "histogram": [
           {
            "bin_end": 48.7,
            "bin_start": 46,
            "count": 2
           },
           {
            "bin_end": 51.4,
            "bin_start": 48.7,
            "count": 0
           },
           {
            "bin_end": 54.1,
            "bin_start": 51.4,
            "count": 0
           },
           {
            "bin_end": 56.8,
            "bin_start": 54.1,
            "count": 0
           },
           {
            "bin_end": 59.5,
            "bin_start": 56.8,
            "count": 0
           },
           {
            "bin_end": 62.2,
            "bin_start": 59.5,
            "count": 0
           },
           {
            "bin_end": 64.9,
            "bin_start": 62.2,
            "count": 0
           },
           {
            "bin_end": 67.6,
            "bin_start": 64.9,
            "count": 1
           },
           {
            "bin_end": 70.3,
            "bin_start": 67.6,
            "count": 0
           },
           {
            "bin_end": 73,
            "bin_start": 70.3,
            "count": 2
           }
          ],
          "max": "73",
          "min": "46",
          "nan_count": 0,
          "unique_count": 5
         }
        },
        {
         "dtype": "int64",
         "name": "l2",
         "stats": {
          "histogram": [
           {
            "bin_end": 42.5,
            "bin_start": 38,
            "count": 1
           },
           {
            "bin_end": 47,
            "bin_start": 42.5,
            "count": 0
           },
           {
            "bin_end": 51.5,
            "bin_start": 47,
            "count": 0
           },
           {
            "bin_end": 56,
            "bin_start": 51.5,
            "count": 1
           },
           {
            "bin_end": 60.5,
            "bin_start": 56,
            "count": 2
           },
           {
            "bin_end": 65,
            "bin_start": 60.5,
            "count": 0
           },
           {
            "bin_end": 69.5,
            "bin_start": 65,
            "count": 0
           },
           {
            "bin_end": 74,
            "bin_start": 69.5,
            "count": 0
           },
           {
            "bin_end": 78.5,
            "bin_start": 74,
            "count": 0
           },
           {
            "bin_end": 83,
            "bin_start": 78.5,
            "count": 1
           }
          ],
          "max": "83",
          "min": "38",
          "nan_count": 0,
          "unique_count": 5
         }
        },
        {
         "dtype": "int64",
         "name": "l3",
         "stats": {
          "histogram": [
           {
            "bin_end": 10,
            "bin_start": 7,
            "count": 2
           },
           {
            "bin_end": 13,
            "bin_start": 10,
            "count": 0
           },
           {
            "bin_end": 16,
            "bin_start": 13,
            "count": 1
           },
           {
            "bin_end": 19,
            "bin_start": 16,
            "count": 0
           },
           {
            "bin_end": 22,
            "bin_start": 19,
            "count": 0
           },
           {
            "bin_end": 25,
            "bin_start": 22,
            "count": 0
           },
           {
            "bin_end": 28,
            "bin_start": 25,
            "count": 0
           },
           {
            "bin_end": 31,
            "bin_start": 28,
            "count": 0
           },
           {
            "bin_end": 34,
            "bin_start": 31,
            "count": 0
           },
           {
            "bin_end": 37,
            "bin_start": 34,
            "count": 2
           }
          ],
          "max": "37",
          "min": "7",
          "nan_count": 0,
          "unique_count": 5
         }
        },
        {
         "dtype": "float64",
         "name": "l4",
         "stats": {
          "histogram": [
           {
            "bin_end": 0.6909004438807863,
            "bin_start": 0.5542168674698795,
            "count": 1
           },
           {
            "bin_end": 0.8275840202916931,
            "bin_start": 0.6909004438807863,
            "count": 0
           },
           {
            "bin_end": 0.9642675967025999,
            "bin_start": 0.8275840202916931,
            "count": 1
           },
           {
            "bin_end": 1.1009511731135067,
            "bin_start": 0.9642675967025999,
            "count": 0
           },
           {
            "bin_end": 1.2376347495244135,
            "bin_start": 1.1009511731135067,
            "count": 1
           },
           {
            "bin_end": 1.3743183259353202,
            "bin_start": 1.2376347495244135,
            "count": 1
           },
           {
            "bin_end": 1.5110019023462269,
            "bin_start": 1.3743183259353202,
            "count": 0
           },
           {
            "bin_end": 1.6476854787571338,
            "bin_start": 1.5110019023462269,
            "count": 0
           },
           {
            "bin_end": 1.7843690551680405,
            "bin_start": 1.6476854787571338,
            "count": 0
           },
           {
            "bin_end": 1.9210526315789473,
            "bin_start": 1.7843690551680405,
            "count": 1
           }
          ],
          "max": "1.9210526315789473",
          "min": "0.5542168674698795",
          "nan_count": 0,
          "unique_count": 5
         }
        },
        {
         "dtype": "int64",
         "name": "lc1",
         "stats": {
          "histogram": [
           {
            "bin_end": 1,
            "bin_start": 0,
            "count": 1
           },
           {
            "bin_end": 2,
            "bin_start": 1,
            "count": 1
           },
           {
            "bin_end": 3,
            "bin_start": 2,
            "count": 1
           },
           {
            "bin_end": 4,
            "bin_start": 3,
            "count": 1
           },
           {
            "bin_end": 5,
            "bin_start": 4,
            "count": 0
           },
           {
            "bin_end": 6,
            "bin_start": 5,
            "count": 0
           },
           {
            "bin_end": 7,
            "bin_start": 6,
            "count": 0
           },
           {
            "bin_end": 8,
            "bin_start": 7,
            "count": 0
           },
           {
            "bin_end": 9,
            "bin_start": 8,
            "count": 0
           },
           {
            "bin_end": 10,
            "bin_start": 9,
            "count": 1
           }
          ],
          "max": "10",
          "min": "0",
          "nan_count": 0,
          "unique_count": 5
         }
        },
        {
         "dtype": "float64",
         "name": "lc2",
         "stats": {
          "histogram": [
           {
            "bin_end": 0.0008849557522123894,
            "bin_start": 0,
            "count": 1
           },
           {
            "bin_end": 0.0017699115044247787,
            "bin_start": 0.0008849557522123894,
            "count": 1
           },
           {
            "bin_end": 0.002654867256637168,
            "bin_start": 0.0017699115044247787,
            "count": 1
           },
           {
            "bin_end": 0.0035398230088495575,
            "bin_start": 0.002654867256637168,
            "count": 1
           },
           {
            "bin_end": 0.004424778761061947,
            "bin_start": 0.0035398230088495575,
            "count": 0
           },
           {
            "bin_end": 0.005309734513274336,
            "bin_start": 0.004424778761061947,
            "count": 0
           },
           {
            "bin_end": 0.006194690265486726,
            "bin_start": 0.005309734513274336,
            "count": 0
           },
           {
            "bin_end": 0.007079646017699115,
            "bin_start": 0.006194690265486726,
            "count": 0
           },
           {
            "bin_end": 0.007964601769911504,
            "bin_start": 0.007079646017699115,
            "count": 0
           },
           {
            "bin_end": 0.008849557522123894,
            "bin_start": 0.007964601769911504,
            "count": 1
           }
          ],
          "max": "0.008849557522123894",
          "min": "0.0",
          "nan_count": 0,
          "unique_count": 5
         }
        },
        {
         "dtype": "int64",
         "name": "_deepnote_index_column"
        }
       ],
       "row_count": 5,
       "rows_bottom": null,
       "rows_top": [
        {
         "_deepnote_index_column": 0,
         "id": 0,
         "is_duplicate": 0,
         "l1": 65,
         "l2": 56,
         "l3": 9,
         "l4": 1.1607142857142858,
         "lc1": 10,
         "lc2": 0.008849557522123894,
         "qid1": 1,
         "qid2": 2,
         "question1": "What is the step by step guide to invest in share market in india",
         "question2": "What is the step by step guide to invest in share market"
        },
        {
         "_deepnote_index_column": 1,
         "id": 1,
         "is_duplicate": 0,
         "l1": 46,
         "l2": 83,
         "l3": 37,
         "l4": 0.5542168674698795,
         "lc1": 1,
         "lc2": 0.0008849557522123894,
         "qid1": 3,
         "qid2": 4,
         "question1": "What is the story of Kohinoor KohiNoor Diamond",
         "question2": "What would happen if the Indian government stole the Kohinoor KohiNoor diamond back"
        },
        {
         "_deepnote_index_column": 2,
         "id": 2,
         "is_duplicate": 0,
         "l1": 72,
         "l2": 58,
         "l3": 14,
         "l4": 1.2413793103448276,
         "lc1": 2,
         "lc2": 0.0017699115044247787,
         "qid1": 5,
         "qid2": 6,
         "question1": "How can I increase the speed of my internet connection while using a VPN",
         "question2": "How can Internet speed be increased by hacking through DNS"
        },
        {
         "_deepnote_index_column": 3,
         "id": 3,
         "is_duplicate": 0,
         "l1": 48,
         "l2": 55,
         "l3": 7,
         "l4": 0.8727272727272727,
         "lc1": 0,
         "lc2": 0,
         "qid1": 7,
         "qid2": 8,
         "question1": "Why am I mentally very lonely How can I solve it",
         "question2": "Find the remainder when math2324math is divided by 2423"
        },
        {
         "_deepnote_index_column": 4,
         "id": 4,
         "is_duplicate": 0,
         "l1": 73,
         "l2": 38,
         "l3": 35,
         "l4": 1.9210526315789473,
         "lc1": 3,
         "lc2": 0.002654867256637168,
         "qid1": 9,
         "qid2": 10,
         "question1": "Which one dissolve in water quikly sugar salt methane and carbon di oxide",
         "question2": "Which fish would survive in salt water"
        }
       ]
      },
      "text/html": [
       "<div>\n",
       "<style scoped>\n",
       "    .dataframe tbody tr th:only-of-type {\n",
       "        vertical-align: middle;\n",
       "    }\n",
       "\n",
       "    .dataframe tbody tr th {\n",
       "        vertical-align: top;\n",
       "    }\n",
       "\n",
       "    .dataframe thead th {\n",
       "        text-align: right;\n",
       "    }\n",
       "</style>\n",
       "<table border=\"1\" class=\"dataframe\">\n",
       "  <thead>\n",
       "    <tr style=\"text-align: right;\">\n",
       "      <th></th>\n",
       "      <th>id</th>\n",
       "      <th>qid1</th>\n",
       "      <th>qid2</th>\n",
       "      <th>question1</th>\n",
       "      <th>question2</th>\n",
       "      <th>is_duplicate</th>\n",
       "      <th>l1</th>\n",
       "      <th>l2</th>\n",
       "      <th>l3</th>\n",
       "      <th>l4</th>\n",
       "      <th>lc1</th>\n",
       "      <th>lc2</th>\n",
       "    </tr>\n",
       "  </thead>\n",
       "  <tbody>\n",
       "    <tr>\n",
       "      <th>0</th>\n",
       "      <td>0</td>\n",
       "      <td>1</td>\n",
       "      <td>2</td>\n",
       "      <td>What is the step by step guide to invest in sh...</td>\n",
       "      <td>What is the step by step guide to invest in sh...</td>\n",
       "      <td>0</td>\n",
       "      <td>65</td>\n",
       "      <td>56</td>\n",
       "      <td>9</td>\n",
       "      <td>1.160714</td>\n",
       "      <td>10</td>\n",
       "      <td>0.008850</td>\n",
       "    </tr>\n",
       "    <tr>\n",
       "      <th>1</th>\n",
       "      <td>1</td>\n",
       "      <td>3</td>\n",
       "      <td>4</td>\n",
       "      <td>What is the story of Kohinoor KohiNoor Diamond</td>\n",
       "      <td>What would happen if the Indian government sto...</td>\n",
       "      <td>0</td>\n",
       "      <td>46</td>\n",
       "      <td>83</td>\n",
       "      <td>37</td>\n",
       "      <td>0.554217</td>\n",
       "      <td>1</td>\n",
       "      <td>0.000885</td>\n",
       "    </tr>\n",
       "    <tr>\n",
       "      <th>2</th>\n",
       "      <td>2</td>\n",
       "      <td>5</td>\n",
       "      <td>6</td>\n",
       "      <td>How can I increase the speed of my internet co...</td>\n",
       "      <td>How can Internet speed be increased by hacking...</td>\n",
       "      <td>0</td>\n",
       "      <td>72</td>\n",
       "      <td>58</td>\n",
       "      <td>14</td>\n",
       "      <td>1.241379</td>\n",
       "      <td>2</td>\n",
       "      <td>0.001770</td>\n",
       "    </tr>\n",
       "    <tr>\n",
       "      <th>3</th>\n",
       "      <td>3</td>\n",
       "      <td>7</td>\n",
       "      <td>8</td>\n",
       "      <td>Why am I mentally very lonely How can I solve it</td>\n",
       "      <td>Find the remainder when math2324math is divide...</td>\n",
       "      <td>0</td>\n",
       "      <td>48</td>\n",
       "      <td>55</td>\n",
       "      <td>7</td>\n",
       "      <td>0.872727</td>\n",
       "      <td>0</td>\n",
       "      <td>0.000000</td>\n",
       "    </tr>\n",
       "    <tr>\n",
       "      <th>4</th>\n",
       "      <td>4</td>\n",
       "      <td>9</td>\n",
       "      <td>10</td>\n",
       "      <td>Which one dissolve in water quikly sugar salt ...</td>\n",
       "      <td>Which fish would survive in salt water</td>\n",
       "      <td>0</td>\n",
       "      <td>73</td>\n",
       "      <td>38</td>\n",
       "      <td>35</td>\n",
       "      <td>1.921053</td>\n",
       "      <td>3</td>\n",
       "      <td>0.002655</td>\n",
       "    </tr>\n",
       "  </tbody>\n",
       "</table>\n",
       "</div>"
      ],
      "text/plain": [
       "   id  qid1  qid2                                          question1  \\\n",
       "0   0     1     2  What is the step by step guide to invest in sh...   \n",
       "1   1     3     4     What is the story of Kohinoor KohiNoor Diamond   \n",
       "2   2     5     6  How can I increase the speed of my internet co...   \n",
       "3   3     7     8   Why am I mentally very lonely How can I solve it   \n",
       "4   4     9    10  Which one dissolve in water quikly sugar salt ...   \n",
       "\n",
       "                                           question2  is_duplicate  l1  l2  \\\n",
       "0  What is the step by step guide to invest in sh...             0  65  56   \n",
       "1  What would happen if the Indian government sto...             0  46  83   \n",
       "2  How can Internet speed be increased by hacking...             0  72  58   \n",
       "3  Find the remainder when math2324math is divide...             0  48  55   \n",
       "4             Which fish would survive in salt water             0  73  38   \n",
       "\n",
       "   l3        l4  lc1       lc2  \n",
       "0   9  1.160714   10  0.008850  \n",
       "1  37  0.554217    1  0.000885  \n",
       "2  14  1.241379    2  0.001770  \n",
       "3   7  0.872727    0  0.000000  \n",
       "4  35  1.921053    3  0.002655  "
      ]
     },
     "execution_count": 18,
     "metadata": {},
     "output_type": "execute_result"
    }
   ],
   "source": [
    "data_2 = data.copy()\n",
    "data_2.head()"
   ]
  },
  {
   "cell_type": "code",
   "execution_count": null,
   "metadata": {
    "cell_id": "00017-26f2aafc-e973-45cd-9104-2b592ae491e4",
    "deepnote_cell_type": "code",
    "deepnote_to_be_reexecuted": false,
    "execution_millis": 89526,
    "execution_start": 1638735680333,
    "source_hash": "784a1efa",
    "tags": []
   },
   "outputs": [
    {
     "data": {
      "application/vnd.deepnote.dataframe.v2+json": {
       "column_count": 14,
       "columns": [
        {
         "dtype": "int64",
         "name": "id",
         "stats": {
          "histogram": [
           {
            "bin_end": 0.4,
            "bin_start": 0,
            "count": 1
           },
           {
            "bin_end": 0.8,
            "bin_start": 0.4,
            "count": 0
           },
           {
            "bin_end": 1.2000000000000002,
            "bin_start": 0.8,
            "count": 1
           },
           {
            "bin_end": 1.6,
            "bin_start": 1.2000000000000002,
            "count": 0
           },
           {
            "bin_end": 2,
            "bin_start": 1.6,
            "count": 0
           },
           {
            "bin_end": 2.4000000000000004,
            "bin_start": 2,
            "count": 1
           },
           {
            "bin_end": 2.8000000000000003,
            "bin_start": 2.4000000000000004,
            "count": 0
           },
           {
            "bin_end": 3.2,
            "bin_start": 2.8000000000000003,
            "count": 1
           },
           {
            "bin_end": 3.6,
            "bin_start": 3.2,
            "count": 0
           },
           {
            "bin_end": 4,
            "bin_start": 3.6,
            "count": 1
           }
          ],
          "max": "4",
          "min": "0",
          "nan_count": 0,
          "unique_count": 5
         }
        },
        {
         "dtype": "int64",
         "name": "qid1",
         "stats": {
          "histogram": [
           {
            "bin_end": 1.8,
            "bin_start": 1,
            "count": 1
           },
           {
            "bin_end": 2.6,
            "bin_start": 1.8,
            "count": 0
           },
           {
            "bin_end": 3.4000000000000004,
            "bin_start": 2.6,
            "count": 1
           },
           {
            "bin_end": 4.2,
            "bin_start": 3.4000000000000004,
            "count": 0
           },
           {
            "bin_end": 5,
            "bin_start": 4.2,
            "count": 0
           },
           {
            "bin_end": 5.800000000000001,
            "bin_start": 5,
            "count": 1
           },
           {
            "bin_end": 6.6000000000000005,
            "bin_start": 5.800000000000001,
            "count": 0
           },
           {
            "bin_end": 7.4,
            "bin_start": 6.6000000000000005,
            "count": 1
           },
           {
            "bin_end": 8.2,
            "bin_start": 7.4,
            "count": 0
           },
           {
            "bin_end": 9,
            "bin_start": 8.2,
            "count": 1
           }
          ],
          "max": "9",
          "min": "1",
          "nan_count": 0,
          "unique_count": 5
         }
        },
        {
         "dtype": "int64",
         "name": "qid2",
         "stats": {
          "histogram": [
           {
            "bin_end": 2.8,
            "bin_start": 2,
            "count": 1
           },
           {
            "bin_end": 3.6,
            "bin_start": 2.8,
            "count": 0
           },
           {
            "bin_end": 4.4,
            "bin_start": 3.6,
            "count": 1
           },
           {
            "bin_end": 5.2,
            "bin_start": 4.4,
            "count": 0
           },
           {
            "bin_end": 6,
            "bin_start": 5.2,
            "count": 0
           },
           {
            "bin_end": 6.800000000000001,
            "bin_start": 6,
            "count": 1
           },
           {
            "bin_end": 7.6000000000000005,
            "bin_start": 6.800000000000001,
            "count": 0
           },
           {
            "bin_end": 8.4,
            "bin_start": 7.6000000000000005,
            "count": 1
           },
           {
            "bin_end": 9.2,
            "bin_start": 8.4,
            "count": 0
           },
           {
            "bin_end": 10,
            "bin_start": 9.2,
            "count": 1
           }
          ],
          "max": "10",
          "min": "2",
          "nan_count": 0,
          "unique_count": 5
         }
        },
        {
         "dtype": "object",
         "name": "question1",
         "stats": {
          "categories": [
           {
            "count": 1,
            "name": "What is the step by step guide to invest in share market in india"
           },
           {
            "count": 1,
            "name": "What is the story of Kohinoor KohiNoor Diamond"
           },
           {
            "count": 3,
            "name": "3 others"
           }
          ],
          "nan_count": 0,
          "unique_count": 5
         }
        },
        {
         "dtype": "object",
         "name": "question2",
         "stats": {
          "categories": [
           {
            "count": 1,
            "name": "What is the step by step guide to invest in share market"
           },
           {
            "count": 1,
            "name": "What would happen if the Indian government stole the Kohinoor KohiNoor diamond back"
           },
           {
            "count": 3,
            "name": "3 others"
           }
          ],
          "nan_count": 0,
          "unique_count": 5
         }
        },
        {
         "dtype": "int64",
         "name": "is_duplicate",
         "stats": {
          "histogram": [
           {
            "bin_end": -0.4,
            "bin_start": -0.5,
            "count": 0
           },
           {
            "bin_end": -0.3,
            "bin_start": -0.4,
            "count": 0
           },
           {
            "bin_end": -0.19999999999999996,
            "bin_start": -0.3,
            "count": 0
           },
           {
            "bin_end": -0.09999999999999998,
            "bin_start": -0.19999999999999996,
            "count": 0
           },
           {
            "bin_end": 0,
            "bin_start": -0.09999999999999998,
            "count": 0
           },
           {
            "bin_end": 0.10000000000000009,
            "bin_start": 0,
            "count": 5
           },
           {
            "bin_end": 0.20000000000000007,
            "bin_start": 0.10000000000000009,
            "count": 0
           },
           {
            "bin_end": 0.30000000000000004,
            "bin_start": 0.20000000000000007,
            "count": 0
           },
           {
            "bin_end": 0.4,
            "bin_start": 0.30000000000000004,
            "count": 0
           },
           {
            "bin_end": 0.5,
            "bin_start": 0.4,
            "count": 0
           }
          ],
          "max": "0",
          "min": "0",
          "nan_count": 0,
          "unique_count": 1
         }
        },
        {
         "dtype": "int64",
         "name": "l1",
         "stats": {
          "histogram": [
           {
            "bin_end": 48.7,
            "bin_start": 46,
            "count": 2
           },
           {
            "bin_end": 51.4,
            "bin_start": 48.7,
            "count": 0
           },
           {
            "bin_end": 54.1,
            "bin_start": 51.4,
            "count": 0
           },
           {
            "bin_end": 56.8,
            "bin_start": 54.1,
            "count": 0
           },
           {
            "bin_end": 59.5,
            "bin_start": 56.8,
            "count": 0
           },
           {
            "bin_end": 62.2,
            "bin_start": 59.5,
            "count": 0
           },
           {
            "bin_end": 64.9,
            "bin_start": 62.2,
            "count": 0
           },
           {
            "bin_end": 67.6,
            "bin_start": 64.9,
            "count": 1
           },
           {
            "bin_end": 70.3,
            "bin_start": 67.6,
            "count": 0
           },
           {
            "bin_end": 73,
            "bin_start": 70.3,
            "count": 2
           }
          ],
          "max": "73",
          "min": "46",
          "nan_count": 0,
          "unique_count": 5
         }
        },
        {
         "dtype": "int64",
         "name": "l2",
         "stats": {
          "histogram": [
           {
            "bin_end": 42.5,
            "bin_start": 38,
            "count": 1
           },
           {
            "bin_end": 47,
            "bin_start": 42.5,
            "count": 0
           },
           {
            "bin_end": 51.5,
            "bin_start": 47,
            "count": 0
           },
           {
            "bin_end": 56,
            "bin_start": 51.5,
            "count": 1
           },
           {
            "bin_end": 60.5,
            "bin_start": 56,
            "count": 2
           },
           {
            "bin_end": 65,
            "bin_start": 60.5,
            "count": 0
           },
           {
            "bin_end": 69.5,
            "bin_start": 65,
            "count": 0
           },
           {
            "bin_end": 74,
            "bin_start": 69.5,
            "count": 0
           },
           {
            "bin_end": 78.5,
            "bin_start": 74,
            "count": 0
           },
           {
            "bin_end": 83,
            "bin_start": 78.5,
            "count": 1
           }
          ],
          "max": "83",
          "min": "38",
          "nan_count": 0,
          "unique_count": 5
         }
        },
        {
         "dtype": "int64",
         "name": "l3",
         "stats": {
          "histogram": [
           {
            "bin_end": 10,
            "bin_start": 7,
            "count": 2
           },
           {
            "bin_end": 13,
            "bin_start": 10,
            "count": 0
           },
           {
            "bin_end": 16,
            "bin_start": 13,
            "count": 1
           },
           {
            "bin_end": 19,
            "bin_start": 16,
            "count": 0
           },
           {
            "bin_end": 22,
            "bin_start": 19,
            "count": 0
           },
           {
            "bin_end": 25,
            "bin_start": 22,
            "count": 0
           },
           {
            "bin_end": 28,
            "bin_start": 25,
            "count": 0
           },
           {
            "bin_end": 31,
            "bin_start": 28,
            "count": 0
           },
           {
            "bin_end": 34,
            "bin_start": 31,
            "count": 0
           },
           {
            "bin_end": 37,
            "bin_start": 34,
            "count": 2
           }
          ],
          "max": "37",
          "min": "7",
          "nan_count": 0,
          "unique_count": 5
         }
        },
        {
         "dtype": "float64",
         "name": "l4",
         "stats": {
          "histogram": [
           {
            "bin_end": 0.6909004438807863,
            "bin_start": 0.5542168674698795,
            "count": 1
           },
           {
            "bin_end": 0.8275840202916931,
            "bin_start": 0.6909004438807863,
            "count": 0
           },
           {
            "bin_end": 0.9642675967025999,
            "bin_start": 0.8275840202916931,
            "count": 1
           },
           {
            "bin_end": 1.1009511731135067,
            "bin_start": 0.9642675967025999,
            "count": 0
           },
           {
            "bin_end": 1.2376347495244135,
            "bin_start": 1.1009511731135067,
            "count": 1
           },
           {
            "bin_end": 1.3743183259353202,
            "bin_start": 1.2376347495244135,
            "count": 1
           },
           {
            "bin_end": 1.5110019023462269,
            "bin_start": 1.3743183259353202,
            "count": 0
           },
           {
            "bin_end": 1.6476854787571338,
            "bin_start": 1.5110019023462269,
            "count": 0
           },
           {
            "bin_end": 1.7843690551680405,
            "bin_start": 1.6476854787571338,
            "count": 0
           },
           {
            "bin_end": 1.9210526315789473,
            "bin_start": 1.7843690551680405,
            "count": 1
           }
          ],
          "max": "1.9210526315789473",
          "min": "0.5542168674698795",
          "nan_count": 0,
          "unique_count": 5
         }
        },
        {
         "dtype": "int64",
         "name": "lc1",
         "stats": {
          "histogram": [
           {
            "bin_end": 1,
            "bin_start": 0,
            "count": 1
           },
           {
            "bin_end": 2,
            "bin_start": 1,
            "count": 1
           },
           {
            "bin_end": 3,
            "bin_start": 2,
            "count": 1
           },
           {
            "bin_end": 4,
            "bin_start": 3,
            "count": 1
           },
           {
            "bin_end": 5,
            "bin_start": 4,
            "count": 0
           },
           {
            "bin_end": 6,
            "bin_start": 5,
            "count": 0
           },
           {
            "bin_end": 7,
            "bin_start": 6,
            "count": 0
           },
           {
            "bin_end": 8,
            "bin_start": 7,
            "count": 0
           },
           {
            "bin_end": 9,
            "bin_start": 8,
            "count": 0
           },
           {
            "bin_end": 10,
            "bin_start": 9,
            "count": 1
           }
          ],
          "max": "10",
          "min": "0",
          "nan_count": 0,
          "unique_count": 5
         }
        },
        {
         "dtype": "float64",
         "name": "lc2",
         "stats": {
          "histogram": [
           {
            "bin_end": 0.0008849557522123894,
            "bin_start": 0,
            "count": 1
           },
           {
            "bin_end": 0.0017699115044247787,
            "bin_start": 0.0008849557522123894,
            "count": 1
           },
           {
            "bin_end": 0.002654867256637168,
            "bin_start": 0.0017699115044247787,
            "count": 1
           },
           {
            "bin_end": 0.0035398230088495575,
            "bin_start": 0.002654867256637168,
            "count": 1
           },
           {
            "bin_end": 0.004424778761061947,
            "bin_start": 0.0035398230088495575,
            "count": 0
           },
           {
            "bin_end": 0.005309734513274336,
            "bin_start": 0.004424778761061947,
            "count": 0
           },
           {
            "bin_end": 0.006194690265486726,
            "bin_start": 0.005309734513274336,
            "count": 0
           },
           {
            "bin_end": 0.007079646017699115,
            "bin_start": 0.006194690265486726,
            "count": 0
           },
           {
            "bin_end": 0.007964601769911504,
            "bin_start": 0.007079646017699115,
            "count": 0
           },
           {
            "bin_end": 0.008849557522123894,
            "bin_start": 0.007964601769911504,
            "count": 1
           }
          ],
          "max": "0.008849557522123894",
          "min": "0.0",
          "nan_count": 0,
          "unique_count": 5
         }
        },
        {
         "dtype": "int64",
         "name": "lcxs_1",
         "stats": {
          "histogram": [
           {
            "bin_end": 1.9,
            "bin_start": 1,
            "count": 1
           },
           {
            "bin_end": 2.8,
            "bin_start": 1.9,
            "count": 0
           },
           {
            "bin_end": 3.7,
            "bin_start": 2.8,
            "count": 1
           },
           {
            "bin_end": 4.6,
            "bin_start": 3.7,
            "count": 0
           },
           {
            "bin_end": 5.5,
            "bin_start": 4.6,
            "count": 1
           },
           {
            "bin_end": 6.4,
            "bin_start": 5.5,
            "count": 1
           },
           {
            "bin_end": 7.3,
            "bin_start": 6.4,
            "count": 0
           },
           {
            "bin_end": 8.2,
            "bin_start": 7.3,
            "count": 0
           },
           {
            "bin_end": 9.1,
            "bin_start": 8.2,
            "count": 0
           },
           {
            "bin_end": 10,
            "bin_start": 9.1,
            "count": 1
           }
          ],
          "max": "10",
          "min": "1",
          "nan_count": 0,
          "unique_count": 5
         }
        },
        {
         "dtype": "float64",
         "name": "lcxs_2",
         "stats": {
          "histogram": [
           {
            "bin_end": 0.0016814159292035398,
            "bin_start": 0.0008849557522123894,
            "count": 1
           },
           {
            "bin_end": 0.00247787610619469,
            "bin_start": 0.0016814159292035398,
            "count": 0
           },
           {
            "bin_end": 0.0032743362831858403,
            "bin_start": 0.00247787610619469,
            "count": 1
           },
           {
            "bin_end": 0.004070796460176991,
            "bin_start": 0.0032743362831858403,
            "count": 0
           },
           {
            "bin_end": 0.0048672566371681415,
            "bin_start": 0.004070796460176991,
            "count": 1
           },
           {
            "bin_end": 0.005663716814159291,
            "bin_start": 0.0048672566371681415,
            "count": 1
           },
           {
            "bin_end": 0.006460176991150442,
            "bin_start": 0.005663716814159291,
            "count": 0
           },
           {
            "bin_end": 0.0072566371681415925,
            "bin_start": 0.006460176991150442,
            "count": 0
           },
           {
            "bin_end": 0.008053097345132744,
            "bin_start": 0.0072566371681415925,
            "count": 0
           },
           {
            "bin_end": 0.008849557522123894,
            "bin_start": 0.008053097345132744,
            "count": 1
           }
          ],
          "max": "0.008849557522123894",
          "min": "0.0008849557522123894",
          "nan_count": 0,
          "unique_count": 5
         }
        },
        {
         "dtype": "int64",
         "name": "_deepnote_index_column"
        }
       ],
       "row_count": 5,
       "rows_bottom": null,
       "rows_top": [
        {
         "_deepnote_index_column": 0,
         "id": 0,
         "is_duplicate": 0,
         "l1": 65,
         "l2": 56,
         "l3": 9,
         "l4": 1.1607142857142858,
         "lc1": 10,
         "lc2": 0.008849557522123894,
         "lcxs_1": 6,
         "lcxs_2": 0.005309734513274336,
         "qid1": 1,
         "qid2": 2,
         "question1": "What is the step by step guide to invest in share market in india",
         "question2": "What is the step by step guide to invest in share market"
        },
        {
         "_deepnote_index_column": 1,
         "id": 1,
         "is_duplicate": 0,
         "l1": 46,
         "l2": 83,
         "l3": 37,
         "l4": 0.5542168674698795,
         "lc1": 1,
         "lc2": 0.0008849557522123894,
         "lcxs_1": 1,
         "lcxs_2": 0.0008849557522123894,
         "qid1": 3,
         "qid2": 4,
         "question1": "What is the story of Kohinoor KohiNoor Diamond",
         "question2": "What would happen if the Indian government stole the Kohinoor KohiNoor diamond back"
        },
        {
         "_deepnote_index_column": 2,
         "id": 2,
         "is_duplicate": 0,
         "l1": 72,
         "l2": 58,
         "l3": 14,
         "l4": 1.2413793103448276,
         "lc1": 2,
         "lc2": 0.0017699115044247787,
         "lcxs_1": 5,
         "lcxs_2": 0.004424778761061947,
         "qid1": 5,
         "qid2": 6,
         "question1": "How can I increase the speed of my internet connection while using a VPN",
         "question2": "How can Internet speed be increased by hacking through DNS"
        },
        {
         "_deepnote_index_column": 3,
         "id": 3,
         "is_duplicate": 0,
         "l1": 48,
         "l2": 55,
         "l3": 7,
         "l4": 0.8727272727272727,
         "lc1": 0,
         "lc2": 0,
         "lcxs_1": 3,
         "lcxs_2": 0.002654867256637168,
         "qid1": 7,
         "qid2": 8,
         "question1": "Why am I mentally very lonely How can I solve it",
         "question2": "Find the remainder when math2324math is divided by 2423"
        },
        {
         "_deepnote_index_column": 4,
         "id": 4,
         "is_duplicate": 0,
         "l1": 73,
         "l2": 38,
         "l3": 35,
         "l4": 1.9210526315789473,
         "lc1": 3,
         "lc2": 0.002654867256637168,
         "lcxs_1": 10,
         "lcxs_2": 0.008849557522123894,
         "qid1": 9,
         "qid2": 10,
         "question1": "Which one dissolve in water quikly sugar salt methane and carbon di oxide",
         "question2": "Which fish would survive in salt water"
        }
       ]
      },
      "text/html": [
       "<div>\n",
       "<style scoped>\n",
       "    .dataframe tbody tr th:only-of-type {\n",
       "        vertical-align: middle;\n",
       "    }\n",
       "\n",
       "    .dataframe tbody tr th {\n",
       "        vertical-align: top;\n",
       "    }\n",
       "\n",
       "    .dataframe thead th {\n",
       "        text-align: right;\n",
       "    }\n",
       "</style>\n",
       "<table border=\"1\" class=\"dataframe\">\n",
       "  <thead>\n",
       "    <tr style=\"text-align: right;\">\n",
       "      <th></th>\n",
       "      <th>id</th>\n",
       "      <th>qid1</th>\n",
       "      <th>qid2</th>\n",
       "      <th>question1</th>\n",
       "      <th>question2</th>\n",
       "      <th>is_duplicate</th>\n",
       "      <th>l1</th>\n",
       "      <th>l2</th>\n",
       "      <th>l3</th>\n",
       "      <th>l4</th>\n",
       "      <th>lc1</th>\n",
       "      <th>lc2</th>\n",
       "      <th>lcxs_1</th>\n",
       "      <th>lcxs_2</th>\n",
       "    </tr>\n",
       "  </thead>\n",
       "  <tbody>\n",
       "    <tr>\n",
       "      <th>0</th>\n",
       "      <td>0</td>\n",
       "      <td>1</td>\n",
       "      <td>2</td>\n",
       "      <td>What is the step by step guide to invest in sh...</td>\n",
       "      <td>What is the step by step guide to invest in sh...</td>\n",
       "      <td>0</td>\n",
       "      <td>65</td>\n",
       "      <td>56</td>\n",
       "      <td>9</td>\n",
       "      <td>1.160714</td>\n",
       "      <td>10</td>\n",
       "      <td>0.008850</td>\n",
       "      <td>6</td>\n",
       "      <td>0.005310</td>\n",
       "    </tr>\n",
       "    <tr>\n",
       "      <th>1</th>\n",
       "      <td>1</td>\n",
       "      <td>3</td>\n",
       "      <td>4</td>\n",
       "      <td>What is the story of Kohinoor KohiNoor Diamond</td>\n",
       "      <td>What would happen if the Indian government sto...</td>\n",
       "      <td>0</td>\n",
       "      <td>46</td>\n",
       "      <td>83</td>\n",
       "      <td>37</td>\n",
       "      <td>0.554217</td>\n",
       "      <td>1</td>\n",
       "      <td>0.000885</td>\n",
       "      <td>1</td>\n",
       "      <td>0.000885</td>\n",
       "    </tr>\n",
       "    <tr>\n",
       "      <th>2</th>\n",
       "      <td>2</td>\n",
       "      <td>5</td>\n",
       "      <td>6</td>\n",
       "      <td>How can I increase the speed of my internet co...</td>\n",
       "      <td>How can Internet speed be increased by hacking...</td>\n",
       "      <td>0</td>\n",
       "      <td>72</td>\n",
       "      <td>58</td>\n",
       "      <td>14</td>\n",
       "      <td>1.241379</td>\n",
       "      <td>2</td>\n",
       "      <td>0.001770</td>\n",
       "      <td>5</td>\n",
       "      <td>0.004425</td>\n",
       "    </tr>\n",
       "    <tr>\n",
       "      <th>3</th>\n",
       "      <td>3</td>\n",
       "      <td>7</td>\n",
       "      <td>8</td>\n",
       "      <td>Why am I mentally very lonely How can I solve it</td>\n",
       "      <td>Find the remainder when math2324math is divide...</td>\n",
       "      <td>0</td>\n",
       "      <td>48</td>\n",
       "      <td>55</td>\n",
       "      <td>7</td>\n",
       "      <td>0.872727</td>\n",
       "      <td>0</td>\n",
       "      <td>0.000000</td>\n",
       "      <td>3</td>\n",
       "      <td>0.002655</td>\n",
       "    </tr>\n",
       "    <tr>\n",
       "      <th>4</th>\n",
       "      <td>4</td>\n",
       "      <td>9</td>\n",
       "      <td>10</td>\n",
       "      <td>Which one dissolve in water quikly sugar salt ...</td>\n",
       "      <td>Which fish would survive in salt water</td>\n",
       "      <td>0</td>\n",
       "      <td>73</td>\n",
       "      <td>38</td>\n",
       "      <td>35</td>\n",
       "      <td>1.921053</td>\n",
       "      <td>3</td>\n",
       "      <td>0.002655</td>\n",
       "      <td>10</td>\n",
       "      <td>0.008850</td>\n",
       "    </tr>\n",
       "  </tbody>\n",
       "</table>\n",
       "</div>"
      ],
      "text/plain": [
       "   id  qid1  qid2                                          question1  \\\n",
       "0   0     1     2  What is the step by step guide to invest in sh...   \n",
       "1   1     3     4     What is the story of Kohinoor KohiNoor Diamond   \n",
       "2   2     5     6  How can I increase the speed of my internet co...   \n",
       "3   3     7     8   Why am I mentally very lonely How can I solve it   \n",
       "4   4     9    10  Which one dissolve in water quikly sugar salt ...   \n",
       "\n",
       "                                           question2  is_duplicate  l1  l2  \\\n",
       "0  What is the step by step guide to invest in sh...             0  65  56   \n",
       "1  What would happen if the Indian government sto...             0  46  83   \n",
       "2  How can Internet speed be increased by hacking...             0  72  58   \n",
       "3  Find the remainder when math2324math is divide...             0  48  55   \n",
       "4             Which fish would survive in salt water             0  73  38   \n",
       "\n",
       "   l3        l4  lc1       lc2  lcxs_1    lcxs_2  \n",
       "0   9  1.160714   10  0.008850       6  0.005310  \n",
       "1  37  0.554217    1  0.000885       1  0.000885  \n",
       "2  14  1.241379    2  0.001770       5  0.004425  \n",
       "3   7  0.872727    0  0.000000       3  0.002655  \n",
       "4  35  1.921053    3  0.002655      10  0.008850  "
      ]
     },
     "execution_count": 19,
     "metadata": {},
     "output_type": "execute_result"
    }
   ],
   "source": [
    "data['lcxs_1'] = data[['question1', 'question2']].apply(lambda x: stop(x), axis=1)\n",
    "data['lcxs_2'] = (data['lcxs_1'])/k\n",
    "data3 = data.copy()\n",
    "data3.head()"
   ]
  },
  {
   "cell_type": "code",
   "execution_count": null,
   "metadata": {
    "cell_id": "00018-b45c9d57-c9d3-43fa-93ff-b6d9b90a82e7",
    "deepnote_cell_type": "code",
    "deepnote_to_be_reexecuted": false,
    "execution_millis": 7539,
    "execution_start": 1638735769857,
    "source_hash": "86203654",
    "tags": []
   },
   "outputs": [],
   "source": [
    "data['lw_1'] = data[['question1', 'question2']].apply(lambda x: last(x), axis=1)\n",
    "data4 = data.copy()"
   ]
  },
  {
   "cell_type": "code",
   "execution_count": null,
   "metadata": {
    "cell_id": "00019-f9373af5-2c53-455d-9966-33a18cf21772",
    "deepnote_cell_type": "code",
    "deepnote_to_be_reexecuted": false,
    "execution_millis": 10448,
    "execution_start": 1638735777411,
    "source_hash": "15ce670a",
    "tags": []
   },
   "outputs": [],
   "source": [
    "data['cap_1'] = data[['question1', 'question2']].apply(lambda x: com_cap(x), axis=1)\n",
    "data['cap_2'] = (data['cap_1'])/k\n",
    "data5 = data.copy()"
   ]
  },
  {
   "cell_type": "code",
   "execution_count": null,
   "metadata": {
    "cell_id": "00020-23b3e696-5095-40e0-baa6-59aec8148791",
    "deepnote_cell_type": "code",
    "deepnote_to_be_reexecuted": false,
    "execution_millis": 55476,
    "execution_start": 1638735787873,
    "source_hash": "1bad57e",
    "tags": []
   },
   "outputs": [],
   "source": [
    "data['pre_1'] = data[['question1', 'question2']].apply(lambda x: pre(x,3), axis=1)\n",
    "data['pre_2'] = (data['pre_1'])/k\n",
    "data['pre_3'] = data[['question1', 'question2']].apply(lambda x: pre(x,4), axis=1)\n",
    "data['pre_4'] = (data['pre_3'])/k\n",
    "data['pre_5'] = data[['question1', 'question2']].apply(lambda x: pre(x,5), axis=1)\n",
    "data['pre_6'] = (data['pre_5'])/k\n",
    "data['pre_7'] = data[['question1', 'question2']].apply(lambda x: pre(x,6), axis=1)\n",
    "data['pre_8'] = (data['pre_7'])/k\n",
    "data6 = data.copy()"
   ]
  },
  {
   "cell_type": "code",
   "execution_count": null,
   "metadata": {
    "cell_id": "00021-146cf53f-1bc1-4b13-bb47-984a6f0657cc",
    "deepnote_cell_type": "code",
    "deepnote_to_be_reexecuted": false,
    "execution_millis": 423980,
    "execution_start": 1638735843380,
    "source_hash": "c82fac77",
    "tags": []
   },
   "outputs": [],
   "source": [
    "data['misc1'] = data['question1'].apply(misc1)\n",
    "data['misc2'] = data['question2'].apply(misc1)\n",
    "data['misc3'] = data[['question1', 'question2']].apply(lambda x: misc2(x), axis=1)\n",
    "data['misc4'] = data[['question1', 'question2']].apply(lambda x: misc3(x), axis=1)\n",
    "data['misc5'] = data[['question1', 'question2']].apply(lambda x: misc4(x), axis=1)\n",
    "data7 = data.copy()"
   ]
  },
  {
   "cell_type": "markdown",
   "metadata": {
    "cell_id": "00022-a375e20a-776c-462f-851a-8b3afc4fa3e2",
    "deepnote_cell_type": "text-cell-h3",
    "is_collapsed": false,
    "tags": []
   },
   "source": [
    "### Data splitting and training"
   ]
  },
  {
   "cell_type": "code",
   "execution_count": null,
   "metadata": {
    "cell_id": "00022-b0b8c579-fb39-43be-a4f2-fd681e35b140",
    "deepnote_cell_type": "code",
    "deepnote_to_be_reexecuted": false,
    "execution_millis": 51,
    "execution_start": 1638736267361,
    "source_hash": "8ba58b3d",
    "tags": []
   },
   "outputs": [],
   "source": [
    "from sklearn.tree import DecisionTreeClassifier\n",
    "from sklearn.ensemble import RandomForestClassifier\n",
    "from sklearn.ensemble import GradientBoostingClassifier\n",
    "from sklearn.model_selection import train_test_split\n",
    "from sklearn.metrics import f1_score\n",
    "from sklearn.metrics import accuracy_score\n",
    "from sklearn.metrics import classification_report"
   ]
  },
  {
   "cell_type": "code",
   "execution_count": null,
   "metadata": {
    "cell_id": "00024-7e67b9d3-13e8-4001-bc47-44a0523ad372",
    "deepnote_cell_type": "code",
    "deepnote_to_be_reexecuted": false,
    "execution_millis": 93,
    "execution_start": 1638736267468,
    "source_hash": "46dfa4b1",
    "tags": []
   },
   "outputs": [
    {
     "data": {
      "application/vnd.deepnote.dataframe.v2+json": {
       "column_count": 10,
       "columns": [
        {
         "dtype": "int64",
         "name": "id",
         "stats": {
          "histogram": [
           {
            "bin_end": 0.4,
            "bin_start": 0,
            "count": 1
           },
           {
            "bin_end": 0.8,
            "bin_start": 0.4,
            "count": 0
           },
           {
            "bin_end": 1.2000000000000002,
            "bin_start": 0.8,
            "count": 1
           },
           {
            "bin_end": 1.6,
            "bin_start": 1.2000000000000002,
            "count": 0
           },
           {
            "bin_end": 2,
            "bin_start": 1.6,
            "count": 0
           },
           {
            "bin_end": 2.4000000000000004,
            "bin_start": 2,
            "count": 1
           },
           {
            "bin_end": 2.8000000000000003,
            "bin_start": 2.4000000000000004,
            "count": 0
           },
           {
            "bin_end": 3.2,
            "bin_start": 2.8000000000000003,
            "count": 1
           },
           {
            "bin_end": 3.6,
            "bin_start": 3.2,
            "count": 0
           },
           {
            "bin_end": 4,
            "bin_start": 3.6,
            "count": 1
           }
          ],
          "max": "4",
          "min": "0",
          "nan_count": 0,
          "unique_count": 5
         }
        },
        {
         "dtype": "int64",
         "name": "qid1",
         "stats": {
          "histogram": [
           {
            "bin_end": 1.8,
            "bin_start": 1,
            "count": 1
           },
           {
            "bin_end": 2.6,
            "bin_start": 1.8,
            "count": 0
           },
           {
            "bin_end": 3.4000000000000004,
            "bin_start": 2.6,
            "count": 1
           },
           {
            "bin_end": 4.2,
            "bin_start": 3.4000000000000004,
            "count": 0
           },
           {
            "bin_end": 5,
            "bin_start": 4.2,
            "count": 0
           },
           {
            "bin_end": 5.800000000000001,
            "bin_start": 5,
            "count": 1
           },
           {
            "bin_end": 6.6000000000000005,
            "bin_start": 5.800000000000001,
            "count": 0
           },
           {
            "bin_end": 7.4,
            "bin_start": 6.6000000000000005,
            "count": 1
           },
           {
            "bin_end": 8.2,
            "bin_start": 7.4,
            "count": 0
           },
           {
            "bin_end": 9,
            "bin_start": 8.2,
            "count": 1
           }
          ],
          "max": "9",
          "min": "1",
          "nan_count": 0,
          "unique_count": 5
         }
        },
        {
         "dtype": "int64",
         "name": "qid2",
         "stats": {
          "histogram": [
           {
            "bin_end": 2.8,
            "bin_start": 2,
            "count": 1
           },
           {
            "bin_end": 3.6,
            "bin_start": 2.8,
            "count": 0
           },
           {
            "bin_end": 4.4,
            "bin_start": 3.6,
            "count": 1
           },
           {
            "bin_end": 5.2,
            "bin_start": 4.4,
            "count": 0
           },
           {
            "bin_end": 6,
            "bin_start": 5.2,
            "count": 0
           },
           {
            "bin_end": 6.800000000000001,
            "bin_start": 6,
            "count": 1
           },
           {
            "bin_end": 7.6000000000000005,
            "bin_start": 6.800000000000001,
            "count": 0
           },
           {
            "bin_end": 8.4,
            "bin_start": 7.6000000000000005,
            "count": 1
           },
           {
            "bin_end": 9.2,
            "bin_start": 8.4,
            "count": 0
           },
           {
            "bin_end": 10,
            "bin_start": 9.2,
            "count": 1
           }
          ],
          "max": "10",
          "min": "2",
          "nan_count": 0,
          "unique_count": 5
         }
        },
        {
         "dtype": "object",
         "name": "question1",
         "stats": {
          "categories": [
           {
            "count": 1,
            "name": "What is the step by step guide to invest in share market in india"
           },
           {
            "count": 1,
            "name": "What is the story of Kohinoor KohiNoor Diamond"
           },
           {
            "count": 3,
            "name": "3 others"
           }
          ],
          "nan_count": 0,
          "unique_count": 5
         }
        },
        {
         "dtype": "object",
         "name": "question2",
         "stats": {
          "categories": [
           {
            "count": 1,
            "name": "What is the step by step guide to invest in share market"
           },
           {
            "count": 1,
            "name": "What would happen if the Indian government stole the Kohinoor KohiNoor diamond back"
           },
           {
            "count": 3,
            "name": "3 others"
           }
          ],
          "nan_count": 0,
          "unique_count": 5
         }
        },
        {
         "dtype": "int64",
         "name": "is_duplicate",
         "stats": {
          "histogram": [
           {
            "bin_end": -0.4,
            "bin_start": -0.5,
            "count": 0
           },
           {
            "bin_end": -0.3,
            "bin_start": -0.4,
            "count": 0
           },
           {
            "bin_end": -0.19999999999999996,
            "bin_start": -0.3,
            "count": 0
           },
           {
            "bin_end": -0.09999999999999998,
            "bin_start": -0.19999999999999996,
            "count": 0
           },
           {
            "bin_end": 0,
            "bin_start": -0.09999999999999998,
            "count": 0
           },
           {
            "bin_end": 0.10000000000000009,
            "bin_start": 0,
            "count": 5
           },
           {
            "bin_end": 0.20000000000000007,
            "bin_start": 0.10000000000000009,
            "count": 0
           },
           {
            "bin_end": 0.30000000000000004,
            "bin_start": 0.20000000000000007,
            "count": 0
           },
           {
            "bin_end": 0.4,
            "bin_start": 0.30000000000000004,
            "count": 0
           },
           {
            "bin_end": 0.5,
            "bin_start": 0.4,
            "count": 0
           }
          ],
          "max": "0",
          "min": "0",
          "nan_count": 0,
          "unique_count": 1
         }
        },
        {
         "dtype": "int64",
         "name": "l1",
         "stats": {
          "histogram": [
           {
            "bin_end": 48.7,
            "bin_start": 46,
            "count": 2
           },
           {
            "bin_end": 51.4,
            "bin_start": 48.7,
            "count": 0
           },
           {
            "bin_end": 54.1,
            "bin_start": 51.4,
            "count": 0
           },
           {
            "bin_end": 56.8,
            "bin_start": 54.1,
            "count": 0
           },
           {
            "bin_end": 59.5,
            "bin_start": 56.8,
            "count": 0
           },
           {
            "bin_end": 62.2,
            "bin_start": 59.5,
            "count": 0
           },
           {
            "bin_end": 64.9,
            "bin_start": 62.2,
            "count": 0
           },
           {
            "bin_end": 67.6,
            "bin_start": 64.9,
            "count": 1
           },
           {
            "bin_end": 70.3,
            "bin_start": 67.6,
            "count": 0
           },
           {
            "bin_end": 73,
            "bin_start": 70.3,
            "count": 2
           }
          ],
          "max": "73",
          "min": "46",
          "nan_count": 0,
          "unique_count": 5
         }
        },
        {
         "dtype": "int64",
         "name": "l2",
         "stats": {
          "histogram": [
           {
            "bin_end": 42.5,
            "bin_start": 38,
            "count": 1
           },
           {
            "bin_end": 47,
            "bin_start": 42.5,
            "count": 0
           },
           {
            "bin_end": 51.5,
            "bin_start": 47,
            "count": 0
           },
           {
            "bin_end": 56,
            "bin_start": 51.5,
            "count": 1
           },
           {
            "bin_end": 60.5,
            "bin_start": 56,
            "count": 2
           },
           {
            "bin_end": 65,
            "bin_start": 60.5,
            "count": 0
           },
           {
            "bin_end": 69.5,
            "bin_start": 65,
            "count": 0
           },
           {
            "bin_end": 74,
            "bin_start": 69.5,
            "count": 0
           },
           {
            "bin_end": 78.5,
            "bin_start": 74,
            "count": 0
           },
           {
            "bin_end": 83,
            "bin_start": 78.5,
            "count": 1
           }
          ],
          "max": "83",
          "min": "38",
          "nan_count": 0,
          "unique_count": 5
         }
        },
        {
         "dtype": "int64",
         "name": "l3",
         "stats": {
          "histogram": [
           {
            "bin_end": 10,
            "bin_start": 7,
            "count": 2
           },
           {
            "bin_end": 13,
            "bin_start": 10,
            "count": 0
           },
           {
            "bin_end": 16,
            "bin_start": 13,
            "count": 1
           },
           {
            "bin_end": 19,
            "bin_start": 16,
            "count": 0
           },
           {
            "bin_end": 22,
            "bin_start": 19,
            "count": 0
           },
           {
            "bin_end": 25,
            "bin_start": 22,
            "count": 0
           },
           {
            "bin_end": 28,
            "bin_start": 25,
            "count": 0
           },
           {
            "bin_end": 31,
            "bin_start": 28,
            "count": 0
           },
           {
            "bin_end": 34,
            "bin_start": 31,
            "count": 0
           },
           {
            "bin_end": 37,
            "bin_start": 34,
            "count": 2
           }
          ],
          "max": "37",
          "min": "7",
          "nan_count": 0,
          "unique_count": 5
         }
        },
        {
         "dtype": "float64",
         "name": "l4",
         "stats": {
          "histogram": [
           {
            "bin_end": 0.6909004438807863,
            "bin_start": 0.5542168674698795,
            "count": 1
           },
           {
            "bin_end": 0.8275840202916931,
            "bin_start": 0.6909004438807863,
            "count": 0
           },
           {
            "bin_end": 0.9642675967025999,
            "bin_start": 0.8275840202916931,
            "count": 1
           },
           {
            "bin_end": 1.1009511731135067,
            "bin_start": 0.9642675967025999,
            "count": 0
           },
           {
            "bin_end": 1.2376347495244135,
            "bin_start": 1.1009511731135067,
            "count": 1
           },
           {
            "bin_end": 1.3743183259353202,
            "bin_start": 1.2376347495244135,
            "count": 1
           },
           {
            "bin_end": 1.5110019023462269,
            "bin_start": 1.3743183259353202,
            "count": 0
           },
           {
            "bin_end": 1.6476854787571338,
            "bin_start": 1.5110019023462269,
            "count": 0
           },
           {
            "bin_end": 1.7843690551680405,
            "bin_start": 1.6476854787571338,
            "count": 0
           },
           {
            "bin_end": 1.9210526315789473,
            "bin_start": 1.7843690551680405,
            "count": 1
           }
          ],
          "max": "1.9210526315789473",
          "min": "0.5542168674698795",
          "nan_count": 0,
          "unique_count": 5
         }
        },
        {
         "dtype": "int64",
         "name": "_deepnote_index_column"
        }
       ],
       "row_count": 5,
       "rows_bottom": null,
       "rows_top": [
        {
         "_deepnote_index_column": 0,
         "id": 0,
         "is_duplicate": 0,
         "l1": 65,
         "l2": 56,
         "l3": 9,
         "l4": 1.1607142857142858,
         "qid1": 1,
         "qid2": 2,
         "question1": "What is the step by step guide to invest in share market in india",
         "question2": "What is the step by step guide to invest in share market"
        },
        {
         "_deepnote_index_column": 1,
         "id": 1,
         "is_duplicate": 0,
         "l1": 46,
         "l2": 83,
         "l3": 37,
         "l4": 0.5542168674698795,
         "qid1": 3,
         "qid2": 4,
         "question1": "What is the story of Kohinoor KohiNoor Diamond",
         "question2": "What would happen if the Indian government stole the Kohinoor KohiNoor diamond back"
        },
        {
         "_deepnote_index_column": 2,
         "id": 2,
         "is_duplicate": 0,
         "l1": 72,
         "l2": 58,
         "l3": 14,
         "l4": 1.2413793103448276,
         "qid1": 5,
         "qid2": 6,
         "question1": "How can I increase the speed of my internet connection while using a VPN",
         "question2": "How can Internet speed be increased by hacking through DNS"
        },
        {
         "_deepnote_index_column": 3,
         "id": 3,
         "is_duplicate": 0,
         "l1": 48,
         "l2": 55,
         "l3": 7,
         "l4": 0.8727272727272727,
         "qid1": 7,
         "qid2": 8,
         "question1": "Why am I mentally very lonely How can I solve it",
         "question2": "Find the remainder when math2324math is divided by 2423"
        },
        {
         "_deepnote_index_column": 4,
         "id": 4,
         "is_duplicate": 0,
         "l1": 73,
         "l2": 38,
         "l3": 35,
         "l4": 1.9210526315789473,
         "qid1": 9,
         "qid2": 10,
         "question1": "Which one dissolve in water quikly sugar salt methane and carbon di oxide",
         "question2": "Which fish would survive in salt water"
        }
       ]
      },
      "text/html": [
       "<div>\n",
       "<style scoped>\n",
       "    .dataframe tbody tr th:only-of-type {\n",
       "        vertical-align: middle;\n",
       "    }\n",
       "\n",
       "    .dataframe tbody tr th {\n",
       "        vertical-align: top;\n",
       "    }\n",
       "\n",
       "    .dataframe thead th {\n",
       "        text-align: right;\n",
       "    }\n",
       "</style>\n",
       "<table border=\"1\" class=\"dataframe\">\n",
       "  <thead>\n",
       "    <tr style=\"text-align: right;\">\n",
       "      <th></th>\n",
       "      <th>id</th>\n",
       "      <th>qid1</th>\n",
       "      <th>qid2</th>\n",
       "      <th>question1</th>\n",
       "      <th>question2</th>\n",
       "      <th>is_duplicate</th>\n",
       "      <th>l1</th>\n",
       "      <th>l2</th>\n",
       "      <th>l3</th>\n",
       "      <th>l4</th>\n",
       "    </tr>\n",
       "  </thead>\n",
       "  <tbody>\n",
       "    <tr>\n",
       "      <th>0</th>\n",
       "      <td>0</td>\n",
       "      <td>1</td>\n",
       "      <td>2</td>\n",
       "      <td>What is the step by step guide to invest in sh...</td>\n",
       "      <td>What is the step by step guide to invest in sh...</td>\n",
       "      <td>0</td>\n",
       "      <td>65</td>\n",
       "      <td>56</td>\n",
       "      <td>9</td>\n",
       "      <td>1.160714</td>\n",
       "    </tr>\n",
       "    <tr>\n",
       "      <th>1</th>\n",
       "      <td>1</td>\n",
       "      <td>3</td>\n",
       "      <td>4</td>\n",
       "      <td>What is the story of Kohinoor KohiNoor Diamond</td>\n",
       "      <td>What would happen if the Indian government sto...</td>\n",
       "      <td>0</td>\n",
       "      <td>46</td>\n",
       "      <td>83</td>\n",
       "      <td>37</td>\n",
       "      <td>0.554217</td>\n",
       "    </tr>\n",
       "    <tr>\n",
       "      <th>2</th>\n",
       "      <td>2</td>\n",
       "      <td>5</td>\n",
       "      <td>6</td>\n",
       "      <td>How can I increase the speed of my internet co...</td>\n",
       "      <td>How can Internet speed be increased by hacking...</td>\n",
       "      <td>0</td>\n",
       "      <td>72</td>\n",
       "      <td>58</td>\n",
       "      <td>14</td>\n",
       "      <td>1.241379</td>\n",
       "    </tr>\n",
       "    <tr>\n",
       "      <th>3</th>\n",
       "      <td>3</td>\n",
       "      <td>7</td>\n",
       "      <td>8</td>\n",
       "      <td>Why am I mentally very lonely How can I solve it</td>\n",
       "      <td>Find the remainder when math2324math is divide...</td>\n",
       "      <td>0</td>\n",
       "      <td>48</td>\n",
       "      <td>55</td>\n",
       "      <td>7</td>\n",
       "      <td>0.872727</td>\n",
       "    </tr>\n",
       "    <tr>\n",
       "      <th>4</th>\n",
       "      <td>4</td>\n",
       "      <td>9</td>\n",
       "      <td>10</td>\n",
       "      <td>Which one dissolve in water quikly sugar salt ...</td>\n",
       "      <td>Which fish would survive in salt water</td>\n",
       "      <td>0</td>\n",
       "      <td>73</td>\n",
       "      <td>38</td>\n",
       "      <td>35</td>\n",
       "      <td>1.921053</td>\n",
       "    </tr>\n",
       "  </tbody>\n",
       "</table>\n",
       "</div>"
      ],
      "text/plain": [
       "   id  qid1  qid2                                          question1  \\\n",
       "0   0     1     2  What is the step by step guide to invest in sh...   \n",
       "1   1     3     4     What is the story of Kohinoor KohiNoor Diamond   \n",
       "2   2     5     6  How can I increase the speed of my internet co...   \n",
       "3   3     7     8   Why am I mentally very lonely How can I solve it   \n",
       "4   4     9    10  Which one dissolve in water quikly sugar salt ...   \n",
       "\n",
       "                                           question2  is_duplicate  l1  l2  \\\n",
       "0  What is the step by step guide to invest in sh...             0  65  56   \n",
       "1  What would happen if the Indian government sto...             0  46  83   \n",
       "2  How can Internet speed be increased by hacking...             0  72  58   \n",
       "3  Find the remainder when math2324math is divide...             0  48  55   \n",
       "4             Which fish would survive in salt water             0  73  38   \n",
       "\n",
       "   l3        l4  \n",
       "0   9  1.160714  \n",
       "1  37  0.554217  \n",
       "2  14  1.241379  \n",
       "3   7  0.872727  \n",
       "4  35  1.921053  "
      ]
     },
     "execution_count": 25,
     "metadata": {},
     "output_type": "execute_result"
    }
   ],
   "source": [
    "data_l = data_l.dropna(axis=0, how='any', thresh=None, subset=None, inplace=False)\n",
    "data_l.head()\n"
   ]
  },
  {
   "cell_type": "markdown",
   "metadata": {
    "cell_id": "00025-be6a39db-d219-46e5-9966-1d5a655188da",
    "deepnote_cell_type": "text-cell-h2",
    "is_collapsed": false,
    "tags": []
   },
   "source": [
    "## L"
   ]
  },
  {
   "cell_type": "code",
   "execution_count": null,
   "metadata": {
    "cell_id": "00025-b7a3b150-d8be-4651-88d0-39b98c05669d",
    "deepnote_cell_type": "code",
    "deepnote_to_be_reexecuted": false,
    "execution_millis": 105,
    "execution_start": 1638736267575,
    "source_hash": "8af4b7b",
    "tags": []
   },
   "outputs": [
    {
     "data": {
      "application/vnd.deepnote.dataframe.v2+json": {
       "column_count": 5,
       "columns": [
        {
         "dtype": "float64",
         "name": "is_duplicate"
        },
        {
         "dtype": "float64",
         "name": "l1"
        },
        {
         "dtype": "float64",
         "name": "l2"
        },
        {
         "dtype": "float64",
         "name": "l3"
        },
        {
         "dtype": "float64",
         "name": "l4"
        },
        {
         "dtype": "int64",
         "name": "_deepnote_index_column"
        }
       ],
       "row_count": 404283,
       "rows_bottom": [
        {
         "_deepnote_index_column": 404187,
         "is_duplicate": 0,
         "l1": 41,
         "l2": 84,
         "l3": 43,
         "l4": 0.4880952380952381
        },
        {
         "_deepnote_index_column": 404188,
         "is_duplicate": 1,
         "l1": 50,
         "l2": 33,
         "l3": 17,
         "l4": 1.5151515151515151
        },
        {
         "_deepnote_index_column": 404189,
         "is_duplicate": 0,
         "l1": 92,
         "l2": 48,
         "l3": 44,
         "l4": 1.9166666666666667
        },
        {
         "_deepnote_index_column": 404190,
         "is_duplicate": 0,
         "l1": 56,
         "l2": 130,
         "l3": 74,
         "l4": 0.4307692307692308
        },
        {
         "_deepnote_index_column": 404191,
         "is_duplicate": 0,
         "l1": 98,
         "l2": 94,
         "l3": 4,
         "l4": 1.0425531914893618
        },
        {
         "_deepnote_index_column": 404192,
         "is_duplicate": 0,
         "l1": 51,
         "l2": 38,
         "l3": 13,
         "l4": 1.3421052631578947
        },
        {
         "_deepnote_index_column": 404193,
         "is_duplicate": 0,
         "l1": 108,
         "l2": 117,
         "l3": 9,
         "l4": 0.9230769230769231
        },
        {
         "_deepnote_index_column": 404194,
         "is_duplicate": 1,
         "l1": 21,
         "l2": 37,
         "l3": 16,
         "l4": 0.5675675675675675
        },
        {
         "_deepnote_index_column": 404195,
         "is_duplicate": 0,
         "l1": 37,
         "l2": 49,
         "l3": 12,
         "l4": 0.7551020408163265
        },
        {
         "_deepnote_index_column": 404196,
         "is_duplicate": 0,
         "l1": 139,
         "l2": 113,
         "l3": 26,
         "l4": 1.2300884955752212
        },
        {
         "_deepnote_index_column": 404197,
         "is_duplicate": 1,
         "l1": 56,
         "l2": 35,
         "l3": 21,
         "l4": 1.6
        },
        {
         "_deepnote_index_column": 404198,
         "is_duplicate": 0,
         "l1": 87,
         "l2": 76,
         "l3": 11,
         "l4": 1.144736842105263
        },
        {
         "_deepnote_index_column": 404199,
         "is_duplicate": 0,
         "l1": 47,
         "l2": 54,
         "l3": 7,
         "l4": 0.8703703703703703
        },
        {
         "_deepnote_index_column": 404200,
         "is_duplicate": 0,
         "l1": 65,
         "l2": 62,
         "l3": 3,
         "l4": 1.0483870967741935
        },
        {
         "_deepnote_index_column": 404201,
         "is_duplicate": 0,
         "l1": 29,
         "l2": 46,
         "l3": 17,
         "l4": 0.6304347826086957
        },
        {
         "_deepnote_index_column": 404202,
         "is_duplicate": 0,
         "l1": 69,
         "l2": 43,
         "l3": 26,
         "l4": 1.6046511627906976
        },
        {
         "_deepnote_index_column": 404203,
         "is_duplicate": 1,
         "l1": 55,
         "l2": 54,
         "l3": 1,
         "l4": 1.0185185185185186
        },
        {
         "_deepnote_index_column": 404204,
         "is_duplicate": 0,
         "l1": 39,
         "l2": 37,
         "l3": 2,
         "l4": 1.054054054054054
        },
        {
         "_deepnote_index_column": 404205,
         "is_duplicate": 1,
         "l1": 40,
         "l2": 41,
         "l3": 1,
         "l4": 0.975609756097561
        },
        {
         "_deepnote_index_column": 404206,
         "is_duplicate": 0,
         "l1": 47,
         "l2": 55,
         "l3": 8,
         "l4": 0.8545454545454545
        },
        {
         "_deepnote_index_column": 404207,
         "is_duplicate": 0,
         "l1": 54,
         "l2": 43,
         "l3": 11,
         "l4": 1.255813953488372
        },
        {
         "_deepnote_index_column": 404208,
         "is_duplicate": 0,
         "l1": 34,
         "l2": 22,
         "l3": 12,
         "l4": 1.5454545454545454
        },
        {
         "_deepnote_index_column": 404209,
         "is_duplicate": 0,
         "l1": 49,
         "l2": 30,
         "l3": 19,
         "l4": 1.6333333333333333
        },
        {
         "_deepnote_index_column": 404210,
         "is_duplicate": 0,
         "l1": 39,
         "l2": 31,
         "l3": 8,
         "l4": 1.2580645161290323
        },
        {
         "_deepnote_index_column": 404211,
         "is_duplicate": 0,
         "l1": 16,
         "l2": 25,
         "l3": 9,
         "l4": 0.64
        },
        {
         "_deepnote_index_column": 404212,
         "is_duplicate": 1,
         "l1": 41,
         "l2": 39,
         "l3": 2,
         "l4": 1.0512820512820513
        },
        {
         "_deepnote_index_column": 404213,
         "is_duplicate": 1,
         "l1": 43,
         "l2": 73,
         "l3": 30,
         "l4": 0.589041095890411
        },
        {
         "_deepnote_index_column": 404214,
         "is_duplicate": 0,
         "l1": 67,
         "l2": 127,
         "l3": 60,
         "l4": 0.5275590551181102
        },
        {
         "_deepnote_index_column": 404215,
         "is_duplicate": 1,
         "l1": 48,
         "l2": 32,
         "l3": 16,
         "l4": 1.5
        },
        {
         "_deepnote_index_column": 404216,
         "is_duplicate": 0,
         "l1": 68,
         "l2": 42,
         "l3": 26,
         "l4": 1.619047619047619
        },
        {
         "_deepnote_index_column": 404217,
         "is_duplicate": 1,
         "l1": 40,
         "l2": 52,
         "l3": 12,
         "l4": 0.7692307692307693
        },
        {
         "_deepnote_index_column": 404218,
         "is_duplicate": 1,
         "l1": 85,
         "l2": 79,
         "l3": 6,
         "l4": 1.0759493670886076
        },
        {
         "_deepnote_index_column": 404219,
         "is_duplicate": 0,
         "l1": 34,
         "l2": 51,
         "l3": 17,
         "l4": 0.6666666666666666
        },
        {
         "_deepnote_index_column": 404220,
         "is_duplicate": 0,
         "l1": 102,
         "l2": 66,
         "l3": 36,
         "l4": 1.5454545454545454
        },
        {
         "_deepnote_index_column": 404221,
         "is_duplicate": 1,
         "l1": 36,
         "l2": 37,
         "l3": 1,
         "l4": 0.972972972972973
        },
        {
         "_deepnote_index_column": 404222,
         "is_duplicate": 0,
         "l1": 44,
         "l2": 36,
         "l3": 8,
         "l4": 1.2222222222222223
        },
        {
         "_deepnote_index_column": 404223,
         "is_duplicate": 0,
         "l1": 140,
         "l2": 41,
         "l3": 99,
         "l4": 3.4146341463414633
        },
        {
         "_deepnote_index_column": 404224,
         "is_duplicate": 1,
         "l1": 58,
         "l2": 72,
         "l3": 14,
         "l4": 0.8055555555555556
        },
        {
         "_deepnote_index_column": 404225,
         "is_duplicate": 0,
         "l1": 56,
         "l2": 48,
         "l3": 8,
         "l4": 1.1666666666666667
        },
        {
         "_deepnote_index_column": 404226,
         "is_duplicate": 0,
         "l1": 42,
         "l2": 50,
         "l3": 8,
         "l4": 0.84
        },
        {
         "_deepnote_index_column": 404227,
         "is_duplicate": 0,
         "l1": 33,
         "l2": 85,
         "l3": 52,
         "l4": 0.38823529411764707
        },
        {
         "_deepnote_index_column": 404228,
         "is_duplicate": 1,
         "l1": 18,
         "l2": 36,
         "l3": 18,
         "l4": 0.5
        },
        {
         "_deepnote_index_column": 404229,
         "is_duplicate": 0,
         "l1": 68,
         "l2": 70,
         "l3": 2,
         "l4": 0.9714285714285714
        },
        {
         "_deepnote_index_column": 404230,
         "is_duplicate": 0,
         "l1": 73,
         "l2": 57,
         "l3": 16,
         "l4": 1.280701754385965
        },
        {
         "_deepnote_index_column": 404231,
         "is_duplicate": 0,
         "l1": 105,
         "l2": 93,
         "l3": 12,
         "l4": 1.1290322580645162
        },
        {
         "_deepnote_index_column": 404232,
         "is_duplicate": 0,
         "l1": 45,
         "l2": 35,
         "l3": 10,
         "l4": 1.2857142857142858
        },
        {
         "_deepnote_index_column": 404233,
         "is_duplicate": 0,
         "l1": 57,
         "l2": 70,
         "l3": 13,
         "l4": 0.8142857142857143
        },
        {
         "_deepnote_index_column": 404234,
         "is_duplicate": 0,
         "l1": 42,
         "l2": 47,
         "l3": 5,
         "l4": 0.8936170212765957
        },
        {
         "_deepnote_index_column": 404235,
         "is_duplicate": 0,
         "l1": 64,
         "l2": 49,
         "l3": 15,
         "l4": 1.3061224489795917
        },
        {
         "_deepnote_index_column": 404236,
         "is_duplicate": 0,
         "l1": 34,
         "l2": 35,
         "l3": 1,
         "l4": 0.9714285714285714
        },
        {
         "_deepnote_index_column": 404237,
         "is_duplicate": 1,
         "l1": 34,
         "l2": 34,
         "l3": 0,
         "l4": 1
        },
        {
         "_deepnote_index_column": 404238,
         "is_duplicate": 1,
         "l1": 33,
         "l2": 39,
         "l3": 6,
         "l4": 0.8461538461538461
        },
        {
         "_deepnote_index_column": 404239,
         "is_duplicate": 1,
         "l1": 42,
         "l2": 35,
         "l3": 7,
         "l4": 1.2
        },
        {
         "_deepnote_index_column": 404240,
         "is_duplicate": 1,
         "l1": 54,
         "l2": 44,
         "l3": 10,
         "l4": 1.2272727272727273
        },
        {
         "_deepnote_index_column": 404241,
         "is_duplicate": 1,
         "l1": 48,
         "l2": 45,
         "l3": 3,
         "l4": 1.0666666666666667
        },
        {
         "_deepnote_index_column": 404242,
         "is_duplicate": 0,
         "l1": 64,
         "l2": 87,
         "l3": 23,
         "l4": 0.735632183908046
        },
        {
         "_deepnote_index_column": 404243,
         "is_duplicate": 0,
         "l1": 54,
         "l2": 95,
         "l3": 41,
         "l4": 0.5684210526315789
        },
        {
         "_deepnote_index_column": 404244,
         "is_duplicate": 1,
         "l1": 70,
         "l2": 73,
         "l3": 3,
         "l4": 0.958904109589041
        },
        {
         "_deepnote_index_column": 404245,
         "is_duplicate": 0,
         "l1": 52,
         "l2": 29,
         "l3": 23,
         "l4": 1.793103448275862
        },
        {
         "_deepnote_index_column": 404246,
         "is_duplicate": 1,
         "l1": 53,
         "l2": 108,
         "l3": 55,
         "l4": 0.49074074074074076
        },
        {
         "_deepnote_index_column": 404247,
         "is_duplicate": 0,
         "l1": 74,
         "l2": 38,
         "l3": 36,
         "l4": 1.9473684210526316
        },
        {
         "_deepnote_index_column": 404248,
         "is_duplicate": 0,
         "l1": 107,
         "l2": 69,
         "l3": 38,
         "l4": 1.5507246376811594
        },
        {
         "_deepnote_index_column": 404249,
         "is_duplicate": 0,
         "l1": 41,
         "l2": 43,
         "l3": 2,
         "l4": 0.9534883720930233
        },
        {
         "_deepnote_index_column": 404250,
         "is_duplicate": 0,
         "l1": 36,
         "l2": 40,
         "l3": 4,
         "l4": 0.9
        },
        {
         "_deepnote_index_column": 404251,
         "is_duplicate": 0,
         "l1": 138,
         "l2": 169,
         "l3": 31,
         "l4": 0.8165680473372781
        },
        {
         "_deepnote_index_column": 404252,
         "is_duplicate": 0,
         "l1": 33,
         "l2": 29,
         "l3": 4,
         "l4": 1.1379310344827587
        },
        {
         "_deepnote_index_column": 404253,
         "is_duplicate": 0,
         "l1": 62,
         "l2": 100,
         "l3": 38,
         "l4": 0.62
        },
        {
         "_deepnote_index_column": 404254,
         "is_duplicate": 1,
         "l1": 36,
         "l2": 25,
         "l3": 11,
         "l4": 1.44
        },
        {
         "_deepnote_index_column": 404255,
         "is_duplicate": 1,
         "l1": 64,
         "l2": 58,
         "l3": 6,
         "l4": 1.103448275862069
        },
        {
         "_deepnote_index_column": 404256,
         "is_duplicate": 1,
         "l1": 60,
         "l2": 47,
         "l3": 13,
         "l4": 1.2765957446808511
        },
        {
         "_deepnote_index_column": 404257,
         "is_duplicate": 0,
         "l1": 31,
         "l2": 39,
         "l3": 8,
         "l4": 0.7948717948717948
        },
        {
         "_deepnote_index_column": 404258,
         "is_duplicate": 1,
         "l1": 57,
         "l2": 63,
         "l3": 6,
         "l4": 0.9047619047619048
        },
        {
         "_deepnote_index_column": 404259,
         "is_duplicate": 0,
         "l1": 40,
         "l2": 31,
         "l3": 9,
         "l4": 1.2903225806451613
        },
        {
         "_deepnote_index_column": 404260,
         "is_duplicate": 0,
         "l1": 65,
         "l2": 64,
         "l3": 1,
         "l4": 1.015625
        },
        {
         "_deepnote_index_column": 404261,
         "is_duplicate": 0,
         "l1": 75,
         "l2": 41,
         "l3": 34,
         "l4": 1.829268292682927
        },
        {
         "_deepnote_index_column": 404262,
         "is_duplicate": 1,
         "l1": 32,
         "l2": 32,
         "l3": 0,
         "l4": 1
        },
        {
         "_deepnote_index_column": 404263,
         "is_duplicate": 0,
         "l1": 57,
         "l2": 175,
         "l3": 118,
         "l4": 0.32571428571428573
        },
        {
         "_deepnote_index_column": 404264,
         "is_duplicate": 1,
         "l1": 51,
         "l2": 79,
         "l3": 28,
         "l4": 0.6455696202531646
        },
        {
         "_deepnote_index_column": 404265,
         "is_duplicate": 0,
         "l1": 56,
         "l2": 42,
         "l3": 14,
         "l4": 1.3333333333333333
        },
        {
         "_deepnote_index_column": 404266,
         "is_duplicate": 0,
         "l1": 51,
         "l2": 62,
         "l3": 11,
         "l4": 0.8225806451612904
        },
        {
         "_deepnote_index_column": 404267,
         "is_duplicate": 0,
         "l1": 42,
         "l2": 39,
         "l3": 3,
         "l4": 1.0769230769230769
        },
        {
         "_deepnote_index_column": 404268,
         "is_duplicate": 0,
         "l1": 78,
         "l2": 62,
         "l3": 16,
         "l4": 1.2580645161290323
        },
        {
         "_deepnote_index_column": 404269,
         "is_duplicate": 1,
         "l1": 81,
         "l2": 84,
         "l3": 3,
         "l4": 0.9642857142857143
        },
        {
         "_deepnote_index_column": 404270,
         "is_duplicate": 1,
         "l1": 46,
         "l2": 82,
         "l3": 36,
         "l4": 0.5609756097560976
        },
        {
         "_deepnote_index_column": 404271,
         "is_duplicate": 1,
         "l1": 61,
         "l2": 50,
         "l3": 11,
         "l4": 1.22
        },
        {
         "_deepnote_index_column": 404272,
         "is_duplicate": 0,
         "l1": 58,
         "l2": 77,
         "l3": 19,
         "l4": 0.7532467532467533
        },
        {
         "_deepnote_index_column": 404273,
         "is_duplicate": 0,
         "l1": 24,
         "l2": 22,
         "l3": 2,
         "l4": 1.0909090909090908
        },
        {
         "_deepnote_index_column": 404274,
         "is_duplicate": 0,
         "l1": 22,
         "l2": 31,
         "l3": 9,
         "l4": 0.7096774193548387
        },
        {
         "_deepnote_index_column": 404275,
         "is_duplicate": 0,
         "l1": 38,
         "l2": 51,
         "l3": 13,
         "l4": 0.7450980392156863
        },
        {
         "_deepnote_index_column": 404276,
         "is_duplicate": 0,
         "l1": 65,
         "l2": 76,
         "l3": 11,
         "l4": 0.8552631578947368
        },
        {
         "_deepnote_index_column": 404277,
         "is_duplicate": 1,
         "l1": 50,
         "l2": 54,
         "l3": 4,
         "l4": 0.9259259259259259
        },
        {
         "_deepnote_index_column": 404278,
         "is_duplicate": 1,
         "l1": 67,
         "l2": 67,
         "l3": 0,
         "l4": 1
        },
        {
         "_deepnote_index_column": 404279,
         "is_duplicate": 1,
         "l1": 42,
         "l2": 46,
         "l3": 4,
         "l4": 0.9130434782608695
        },
        {
         "_deepnote_index_column": 404280,
         "is_duplicate": 0,
         "l1": 86,
         "l2": 60,
         "l3": 26,
         "l4": 1.4333333333333333
        },
        {
         "_deepnote_index_column": 404281,
         "is_duplicate": 1,
         "l1": 41,
         "l2": 50,
         "l3": 9,
         "l4": 0.82
        },
        {
         "_deepnote_index_column": 404282,
         "is_duplicate": 0,
         "l1": 84,
         "l2": 78,
         "l3": 6,
         "l4": 1.0769230769230769
        },
        {
         "_deepnote_index_column": 404283,
         "is_duplicate": 1,
         "l1": 40,
         "l2": 41,
         "l3": 1,
         "l4": 0.975609756097561
        },
        {
         "_deepnote_index_column": 404284,
         "is_duplicate": 0,
         "l1": 16,
         "l2": 15,
         "l3": 1,
         "l4": 1.0666666666666667
        },
        {
         "_deepnote_index_column": 404285,
         "is_duplicate": 0,
         "l1": 92,
         "l2": 124,
         "l3": 32,
         "l4": 0.7419354838709677
        },
        {
         "_deepnote_index_column": 404286,
         "is_duplicate": 0,
         "l1": 36,
         "l2": 44,
         "l3": 8,
         "l4": 0.8181818181818182
        }
       ],
       "rows_top": [
        {
         "_deepnote_index_column": 0,
         "is_duplicate": 0,
         "l1": 65,
         "l2": 56,
         "l3": 9,
         "l4": 1.1607142857142858
        },
        {
         "_deepnote_index_column": 1,
         "is_duplicate": 0,
         "l1": 46,
         "l2": 83,
         "l3": 37,
         "l4": 0.5542168674698795
        },
        {
         "_deepnote_index_column": 2,
         "is_duplicate": 0,
         "l1": 72,
         "l2": 58,
         "l3": 14,
         "l4": 1.2413793103448276
        },
        {
         "_deepnote_index_column": 3,
         "is_duplicate": 0,
         "l1": 48,
         "l2": 55,
         "l3": 7,
         "l4": 0.8727272727272727
        },
        {
         "_deepnote_index_column": 4,
         "is_duplicate": 0,
         "l1": 73,
         "l2": 38,
         "l3": 35,
         "l4": 1.9210526315789473
        },
        {
         "_deepnote_index_column": 5,
         "is_duplicate": 1,
         "l1": 81,
         "l2": 85,
         "l3": 4,
         "l4": 0.9529411764705882
        },
        {
         "_deepnote_index_column": 6,
         "is_duplicate": 0,
         "l1": 18,
         "l2": 61,
         "l3": 43,
         "l4": 0.29508196721311475
        },
        {
         "_deepnote_index_column": 7,
         "is_duplicate": 1,
         "l1": 29,
         "l2": 40,
         "l3": 11,
         "l4": 0.725
        },
        {
         "_deepnote_index_column": 8,
         "is_duplicate": 0,
         "l1": 30,
         "l2": 31,
         "l3": 1,
         "l4": 0.967741935483871
        },
        {
         "_deepnote_index_column": 9,
         "is_duplicate": 0,
         "l1": 56,
         "l2": 48,
         "l3": 8,
         "l4": 1.1666666666666667
        },
        {
         "_deepnote_index_column": 10,
         "is_duplicate": 0,
         "l1": 56,
         "l2": 115,
         "l3": 59,
         "l4": 0.48695652173913045
        },
        {
         "_deepnote_index_column": 11,
         "is_duplicate": 1,
         "l1": 42,
         "l2": 37,
         "l3": 5,
         "l4": 1.135135135135135
        },
        {
         "_deepnote_index_column": 12,
         "is_duplicate": 1,
         "l1": 35,
         "l2": 38,
         "l3": 3,
         "l4": 0.9210526315789473
        },
        {
         "_deepnote_index_column": 13,
         "is_duplicate": 1,
         "l1": 42,
         "l2": 37,
         "l3": 5,
         "l4": 1.135135135135135
        },
        {
         "_deepnote_index_column": 14,
         "is_duplicate": 0,
         "l1": 139,
         "l2": 138,
         "l3": 1,
         "l4": 1.0072463768115942
        },
        {
         "_deepnote_index_column": 15,
         "is_duplicate": 1,
         "l1": 91,
         "l2": 90,
         "l3": 1,
         "l4": 1.011111111111111
        },
        {
         "_deepnote_index_column": 16,
         "is_duplicate": 1,
         "l1": 27,
         "l2": 28,
         "l3": 1,
         "l4": 0.9642857142857143
        },
        {
         "_deepnote_index_column": 17,
         "is_duplicate": 0,
         "l1": 56,
         "l2": 39,
         "l3": 17,
         "l4": 1.435897435897436
        },
        {
         "_deepnote_index_column": 18,
         "is_duplicate": 1,
         "l1": 81,
         "l2": 72,
         "l3": 9,
         "l4": 1.125
        },
        {
         "_deepnote_index_column": 19,
         "is_duplicate": 0,
         "l1": 59,
         "l2": 53,
         "l3": 6,
         "l4": 1.1132075471698113
        },
        {
         "_deepnote_index_column": 20,
         "is_duplicate": 1,
         "l1": 25,
         "l2": 42,
         "l3": 17,
         "l4": 0.5952380952380952
        },
        {
         "_deepnote_index_column": 21,
         "is_duplicate": 0,
         "l1": 35,
         "l2": 47,
         "l3": 12,
         "l4": 0.7446808510638298
        },
        {
         "_deepnote_index_column": 22,
         "is_duplicate": 0,
         "l1": 46,
         "l2": 36,
         "l3": 10,
         "l4": 1.2777777777777777
        },
        {
         "_deepnote_index_column": 23,
         "is_duplicate": 0,
         "l1": 23,
         "l2": 56,
         "l3": 33,
         "l4": 0.4107142857142857
        },
        {
         "_deepnote_index_column": 24,
         "is_duplicate": 0,
         "l1": 78,
         "l2": 46,
         "l3": 32,
         "l4": 1.6956521739130435
        },
        {
         "_deepnote_index_column": 25,
         "is_duplicate": 0,
         "l1": 78,
         "l2": 88,
         "l3": 10,
         "l4": 0.8863636363636364
        },
        {
         "_deepnote_index_column": 26,
         "is_duplicate": 0,
         "l1": 23,
         "l2": 37,
         "l3": 14,
         "l4": 0.6216216216216216
        },
        {
         "_deepnote_index_column": 27,
         "is_duplicate": 0,
         "l1": 48,
         "l2": 39,
         "l3": 9,
         "l4": 1.2307692307692308
        },
        {
         "_deepnote_index_column": 28,
         "is_duplicate": 0,
         "l1": 37,
         "l2": 40,
         "l3": 3,
         "l4": 0.925
        },
        {
         "_deepnote_index_column": 29,
         "is_duplicate": 1,
         "l1": 37,
         "l2": 67,
         "l3": 30,
         "l4": 0.5522388059701493
        },
        {
         "_deepnote_index_column": 30,
         "is_duplicate": 0,
         "l1": 43,
         "l2": 45,
         "l3": 2,
         "l4": 0.9555555555555556
        },
        {
         "_deepnote_index_column": 31,
         "is_duplicate": 1,
         "l1": 85,
         "l2": 51,
         "l3": 34,
         "l4": 1.6666666666666667
        },
        {
         "_deepnote_index_column": 32,
         "is_duplicate": 1,
         "l1": 71,
         "l2": 70,
         "l3": 1,
         "l4": 1.0142857142857142
        },
        {
         "_deepnote_index_column": 33,
         "is_duplicate": 0,
         "l1": 122,
         "l2": 52,
         "l3": 70,
         "l4": 2.3461538461538463
        },
        {
         "_deepnote_index_column": 34,
         "is_duplicate": 0,
         "l1": 40,
         "l2": 31,
         "l3": 9,
         "l4": 1.2903225806451613
        },
        {
         "_deepnote_index_column": 35,
         "is_duplicate": 0,
         "l1": 63,
         "l2": 76,
         "l3": 13,
         "l4": 0.8289473684210527
        },
        {
         "_deepnote_index_column": 36,
         "is_duplicate": 0,
         "l1": 110,
         "l2": 74,
         "l3": 36,
         "l4": 1.4864864864864864
        },
        {
         "_deepnote_index_column": 37,
         "is_duplicate": 0,
         "l1": 121,
         "l2": 191,
         "l3": 70,
         "l4": 0.6335078534031413
        },
        {
         "_deepnote_index_column": 38,
         "is_duplicate": 1,
         "l1": 26,
         "l2": 34,
         "l3": 8,
         "l4": 0.7647058823529411
        },
        {
         "_deepnote_index_column": 39,
         "is_duplicate": 0,
         "l1": 69,
         "l2": 68,
         "l3": 1,
         "l4": 1.0147058823529411
        },
        {
         "_deepnote_index_column": 40,
         "is_duplicate": 0,
         "l1": 18,
         "l2": 32,
         "l3": 14,
         "l4": 0.5625
        },
        {
         "_deepnote_index_column": 41,
         "is_duplicate": 0,
         "l1": 48,
         "l2": 45,
         "l3": 3,
         "l4": 1.0666666666666667
        },
        {
         "_deepnote_index_column": 42,
         "is_duplicate": 0,
         "l1": 39,
         "l2": 39,
         "l3": 0,
         "l4": 1
        },
        {
         "_deepnote_index_column": 43,
         "is_duplicate": 0,
         "l1": 66,
         "l2": 29,
         "l3": 37,
         "l4": 2.2758620689655173
        },
        {
         "_deepnote_index_column": 44,
         "is_duplicate": 0,
         "l1": 86,
         "l2": 87,
         "l3": 1,
         "l4": 0.9885057471264368
        },
        {
         "_deepnote_index_column": 45,
         "is_duplicate": 0,
         "l1": 56,
         "l2": 53,
         "l3": 3,
         "l4": 1.0566037735849056
        },
        {
         "_deepnote_index_column": 46,
         "is_duplicate": 0,
         "l1": 58,
         "l2": 58,
         "l3": 0,
         "l4": 1
        },
        {
         "_deepnote_index_column": 47,
         "is_duplicate": 0,
         "l1": 132,
         "l2": 53,
         "l3": 79,
         "l4": 2.490566037735849
        },
        {
         "_deepnote_index_column": 48,
         "is_duplicate": 1,
         "l1": 66,
         "l2": 49,
         "l3": 17,
         "l4": 1.346938775510204
        },
        {
         "_deepnote_index_column": 49,
         "is_duplicate": 1,
         "l1": 21,
         "l2": 20,
         "l3": 1,
         "l4": 1.05
        },
        {
         "_deepnote_index_column": 50,
         "is_duplicate": 1,
         "l1": 51,
         "l2": 53,
         "l3": 2,
         "l4": 0.9622641509433962
        },
        {
         "_deepnote_index_column": 51,
         "is_duplicate": 1,
         "l1": 53,
         "l2": 54,
         "l3": 1,
         "l4": 0.9814814814814815
        },
        {
         "_deepnote_index_column": 52,
         "is_duplicate": 0,
         "l1": 20,
         "l2": 51,
         "l3": 31,
         "l4": 0.39215686274509803
        },
        {
         "_deepnote_index_column": 53,
         "is_duplicate": 1,
         "l1": 61,
         "l2": 56,
         "l3": 5,
         "l4": 1.0892857142857142
        },
        {
         "_deepnote_index_column": 54,
         "is_duplicate": 0,
         "l1": 40,
         "l2": 25,
         "l3": 15,
         "l4": 1.6
        },
        {
         "_deepnote_index_column": 55,
         "is_duplicate": 0,
         "l1": 32,
         "l2": 61,
         "l3": 29,
         "l4": 0.5245901639344263
        },
        {
         "_deepnote_index_column": 56,
         "is_duplicate": 0,
         "l1": 20,
         "l2": 96,
         "l3": 76,
         "l4": 0.20833333333333334
        },
        {
         "_deepnote_index_column": 57,
         "is_duplicate": 0,
         "l1": 40,
         "l2": 35,
         "l3": 5,
         "l4": 1.1428571428571428
        },
        {
         "_deepnote_index_column": 58,
         "is_duplicate": 1,
         "l1": 135,
         "l2": 81,
         "l3": 54,
         "l4": 1.6666666666666667
        },
        {
         "_deepnote_index_column": 59,
         "is_duplicate": 0,
         "l1": 38,
         "l2": 29,
         "l3": 9,
         "l4": 1.3103448275862069
        },
        {
         "_deepnote_index_column": 60,
         "is_duplicate": 0,
         "l1": 69,
         "l2": 31,
         "l3": 38,
         "l4": 2.225806451612903
        },
        {
         "_deepnote_index_column": 61,
         "is_duplicate": 0,
         "l1": 58,
         "l2": 64,
         "l3": 6,
         "l4": 0.90625
        },
        {
         "_deepnote_index_column": 62,
         "is_duplicate": 1,
         "l1": 66,
         "l2": 37,
         "l3": 29,
         "l4": 1.7837837837837838
        },
        {
         "_deepnote_index_column": 63,
         "is_duplicate": 0,
         "l1": 29,
         "l2": 44,
         "l3": 15,
         "l4": 0.6590909090909091
        },
        {
         "_deepnote_index_column": 64,
         "is_duplicate": 0,
         "l1": 50,
         "l2": 43,
         "l3": 7,
         "l4": 1.1627906976744187
        },
        {
         "_deepnote_index_column": 65,
         "is_duplicate": 1,
         "l1": 64,
         "l2": 44,
         "l3": 20,
         "l4": 1.4545454545454546
        },
        {
         "_deepnote_index_column": 66,
         "is_duplicate": 1,
         "l1": 31,
         "l2": 50,
         "l3": 19,
         "l4": 0.62
        },
        {
         "_deepnote_index_column": 67,
         "is_duplicate": 1,
         "l1": 46,
         "l2": 47,
         "l3": 1,
         "l4": 0.9787234042553191
        },
        {
         "_deepnote_index_column": 68,
         "is_duplicate": 0,
         "l1": 42,
         "l2": 27,
         "l3": 15,
         "l4": 1.5555555555555556
        },
        {
         "_deepnote_index_column": 69,
         "is_duplicate": 0,
         "l1": 94,
         "l2": 63,
         "l3": 31,
         "l4": 1.492063492063492
        },
        {
         "_deepnote_index_column": 70,
         "is_duplicate": 0,
         "l1": 30,
         "l2": 52,
         "l3": 22,
         "l4": 0.5769230769230769
        },
        {
         "_deepnote_index_column": 71,
         "is_duplicate": 1,
         "l1": 43,
         "l2": 41,
         "l3": 2,
         "l4": 1.048780487804878
        },
        {
         "_deepnote_index_column": 72,
         "is_duplicate": 1,
         "l1": 32,
         "l2": 41,
         "l3": 9,
         "l4": 0.7804878048780488
        },
        {
         "_deepnote_index_column": 73,
         "is_duplicate": 1,
         "l1": 102,
         "l2": 56,
         "l3": 46,
         "l4": 1.8214285714285714
        },
        {
         "_deepnote_index_column": 74,
         "is_duplicate": 1,
         "l1": 68,
         "l2": 81,
         "l3": 13,
         "l4": 0.8395061728395061
        },
        {
         "_deepnote_index_column": 75,
         "is_duplicate": 0,
         "l1": 108,
         "l2": 143,
         "l3": 35,
         "l4": 0.7552447552447552
        },
        {
         "_deepnote_index_column": 76,
         "is_duplicate": 0,
         "l1": 30,
         "l2": 28,
         "l3": 2,
         "l4": 1.0714285714285714
        },
        {
         "_deepnote_index_column": 77,
         "is_duplicate": 0,
         "l1": 56,
         "l2": 89,
         "l3": 33,
         "l4": 0.6292134831460674
        },
        {
         "_deepnote_index_column": 78,
         "is_duplicate": 0,
         "l1": 41,
         "l2": 74,
         "l3": 33,
         "l4": 0.5540540540540541
        },
        {
         "_deepnote_index_column": 79,
         "is_duplicate": 1,
         "l1": 23,
         "l2": 53,
         "l3": 30,
         "l4": 0.4339622641509434
        },
        {
         "_deepnote_index_column": 80,
         "is_duplicate": 0,
         "l1": 145,
         "l2": 79,
         "l3": 66,
         "l4": 1.8354430379746836
        },
        {
         "_deepnote_index_column": 81,
         "is_duplicate": 0,
         "l1": 72,
         "l2": 75,
         "l3": 3,
         "l4": 0.96
        },
        {
         "_deepnote_index_column": 82,
         "is_duplicate": 0,
         "l1": 123,
         "l2": 96,
         "l3": 27,
         "l4": 1.28125
        },
        {
         "_deepnote_index_column": 83,
         "is_duplicate": 0,
         "l1": 27,
         "l2": 55,
         "l3": 28,
         "l4": 0.4909090909090909
        },
        {
         "_deepnote_index_column": 84,
         "is_duplicate": 1,
         "l1": 74,
         "l2": 75,
         "l3": 1,
         "l4": 0.9866666666666667
        },
        {
         "_deepnote_index_column": 85,
         "is_duplicate": 1,
         "l1": 42,
         "l2": 28,
         "l3": 14,
         "l4": 1.5
        },
        {
         "_deepnote_index_column": 86,
         "is_duplicate": 1,
         "l1": 124,
         "l2": 124,
         "l3": 0,
         "l4": 1
        },
        {
         "_deepnote_index_column": 87,
         "is_duplicate": 0,
         "l1": 53,
         "l2": 47,
         "l3": 6,
         "l4": 1.127659574468085
        },
        {
         "_deepnote_index_column": 88,
         "is_duplicate": 1,
         "l1": 45,
         "l2": 46,
         "l3": 1,
         "l4": 0.9782608695652174
        },
        {
         "_deepnote_index_column": 89,
         "is_duplicate": 0,
         "l1": 63,
         "l2": 63,
         "l3": 0,
         "l4": 1
        },
        {
         "_deepnote_index_column": 90,
         "is_duplicate": 0,
         "l1": 54,
         "l2": 86,
         "l3": 32,
         "l4": 0.627906976744186
        },
        {
         "_deepnote_index_column": 91,
         "is_duplicate": 0,
         "l1": 85,
         "l2": 151,
         "l3": 66,
         "l4": 0.5629139072847682
        },
        {
         "_deepnote_index_column": 92,
         "is_duplicate": 1,
         "l1": 52,
         "l2": 50,
         "l3": 2,
         "l4": 1.04
        },
        {
         "_deepnote_index_column": 93,
         "is_duplicate": 1,
         "l1": 23,
         "l2": 37,
         "l3": 14,
         "l4": 0.6216216216216216
        },
        {
         "_deepnote_index_column": 94,
         "is_duplicate": 0,
         "l1": 42,
         "l2": 63,
         "l3": 21,
         "l4": 0.6666666666666666
        },
        {
         "_deepnote_index_column": 95,
         "is_duplicate": 1,
         "l1": 25,
         "l2": 23,
         "l3": 2,
         "l4": 1.0869565217391304
        },
        {
         "_deepnote_index_column": 96,
         "is_duplicate": 0,
         "l1": 55,
         "l2": 47,
         "l3": 8,
         "l4": 1.1702127659574468
        },
        {
         "_deepnote_index_column": 97,
         "is_duplicate": 0,
         "l1": 30,
         "l2": 17,
         "l3": 13,
         "l4": 1.7647058823529411
        },
        {
         "_deepnote_index_column": 98,
         "is_duplicate": 0,
         "l1": 168,
         "l2": 117,
         "l3": 51,
         "l4": 1.435897435897436
        },
        {
         "_deepnote_index_column": 99,
         "is_duplicate": 0,
         "l1": 54,
         "l2": 53,
         "l3": 1,
         "l4": 1.0188679245283019
        }
       ]
      },
      "text/html": [
       "<div>\n",
       "<style scoped>\n",
       "    .dataframe tbody tr th:only-of-type {\n",
       "        vertical-align: middle;\n",
       "    }\n",
       "\n",
       "    .dataframe tbody tr th {\n",
       "        vertical-align: top;\n",
       "    }\n",
       "\n",
       "    .dataframe thead th {\n",
       "        text-align: right;\n",
       "    }\n",
       "</style>\n",
       "<table border=\"1\" class=\"dataframe\">\n",
       "  <thead>\n",
       "    <tr style=\"text-align: right;\">\n",
       "      <th></th>\n",
       "      <th>is_duplicate</th>\n",
       "      <th>l1</th>\n",
       "      <th>l2</th>\n",
       "      <th>l3</th>\n",
       "      <th>l4</th>\n",
       "    </tr>\n",
       "  </thead>\n",
       "  <tbody>\n",
       "    <tr>\n",
       "      <th>0</th>\n",
       "      <td>0.0</td>\n",
       "      <td>65.0</td>\n",
       "      <td>56.0</td>\n",
       "      <td>9.0</td>\n",
       "      <td>1.160714</td>\n",
       "    </tr>\n",
       "    <tr>\n",
       "      <th>1</th>\n",
       "      <td>0.0</td>\n",
       "      <td>46.0</td>\n",
       "      <td>83.0</td>\n",
       "      <td>37.0</td>\n",
       "      <td>0.554217</td>\n",
       "    </tr>\n",
       "    <tr>\n",
       "      <th>2</th>\n",
       "      <td>0.0</td>\n",
       "      <td>72.0</td>\n",
       "      <td>58.0</td>\n",
       "      <td>14.0</td>\n",
       "      <td>1.241379</td>\n",
       "    </tr>\n",
       "    <tr>\n",
       "      <th>3</th>\n",
       "      <td>0.0</td>\n",
       "      <td>48.0</td>\n",
       "      <td>55.0</td>\n",
       "      <td>7.0</td>\n",
       "      <td>0.872727</td>\n",
       "    </tr>\n",
       "    <tr>\n",
       "      <th>4</th>\n",
       "      <td>0.0</td>\n",
       "      <td>73.0</td>\n",
       "      <td>38.0</td>\n",
       "      <td>35.0</td>\n",
       "      <td>1.921053</td>\n",
       "    </tr>\n",
       "    <tr>\n",
       "      <th>...</th>\n",
       "      <td>...</td>\n",
       "      <td>...</td>\n",
       "      <td>...</td>\n",
       "      <td>...</td>\n",
       "      <td>...</td>\n",
       "    </tr>\n",
       "    <tr>\n",
       "      <th>404282</th>\n",
       "      <td>0.0</td>\n",
       "      <td>84.0</td>\n",
       "      <td>78.0</td>\n",
       "      <td>6.0</td>\n",
       "      <td>1.076923</td>\n",
       "    </tr>\n",
       "    <tr>\n",
       "      <th>404283</th>\n",
       "      <td>1.0</td>\n",
       "      <td>40.0</td>\n",
       "      <td>41.0</td>\n",
       "      <td>1.0</td>\n",
       "      <td>0.975610</td>\n",
       "    </tr>\n",
       "    <tr>\n",
       "      <th>404284</th>\n",
       "      <td>0.0</td>\n",
       "      <td>16.0</td>\n",
       "      <td>15.0</td>\n",
       "      <td>1.0</td>\n",
       "      <td>1.066667</td>\n",
       "    </tr>\n",
       "    <tr>\n",
       "      <th>404285</th>\n",
       "      <td>0.0</td>\n",
       "      <td>92.0</td>\n",
       "      <td>124.0</td>\n",
       "      <td>32.0</td>\n",
       "      <td>0.741935</td>\n",
       "    </tr>\n",
       "    <tr>\n",
       "      <th>404286</th>\n",
       "      <td>0.0</td>\n",
       "      <td>36.0</td>\n",
       "      <td>44.0</td>\n",
       "      <td>8.0</td>\n",
       "      <td>0.818182</td>\n",
       "    </tr>\n",
       "  </tbody>\n",
       "</table>\n",
       "<p>404283 rows × 5 columns</p>\n",
       "</div>"
      ],
      "text/plain": [
       "        is_duplicate    l1     l2    l3        l4\n",
       "0                0.0  65.0   56.0   9.0  1.160714\n",
       "1                0.0  46.0   83.0  37.0  0.554217\n",
       "2                0.0  72.0   58.0  14.0  1.241379\n",
       "3                0.0  48.0   55.0   7.0  0.872727\n",
       "4                0.0  73.0   38.0  35.0  1.921053\n",
       "...              ...   ...    ...   ...       ...\n",
       "404282           0.0  84.0   78.0   6.0  1.076923\n",
       "404283           1.0  40.0   41.0   1.0  0.975610\n",
       "404284           0.0  16.0   15.0   1.0  1.066667\n",
       "404285           0.0  92.0  124.0  32.0  0.741935\n",
       "404286           0.0  36.0   44.0   8.0  0.818182\n",
       "\n",
       "[404283 rows x 5 columns]"
      ]
     },
     "execution_count": 26,
     "metadata": {},
     "output_type": "execute_result"
    }
   ],
   "source": [
    "data_l.drop(['id', 'qid1', 'qid2', 'question1', 'question2'], inplace=True,axis=1)\n",
    "data_l.head()\n",
    "clean_dataset(data_l)"
   ]
  },
  {
   "cell_type": "code",
   "execution_count": null,
   "metadata": {
    "cell_id": "00026-3d120507-571b-477f-a2da-33cfd442d8be",
    "deepnote_cell_type": "code",
    "deepnote_to_be_reexecuted": false,
    "execution_millis": 77,
    "execution_start": 1638736267685,
    "source_hash": "ca4f3d7f",
    "tags": []
   },
   "outputs": [],
   "source": [
    "\n",
    "y_l = data_l['is_duplicate']\n",
    "data_l.drop('is_duplicate', inplace=True,axis=1)\n",
    "x_train_l, x_test_l, y_train_l, y_test_l = train_test_split(data_l, y_l,  test_size=0.30, random_state=25)\n",
    "x_val_l, x_test_l, y_val_l, y_test_l = train_test_split(x_test_l, y_test_l ,test_size=float(1/3), random_state=25)"
   ]
  },
  {
   "cell_type": "markdown",
   "metadata": {
    "cell_id": "00028-3ddb4216-efcf-4e31-b1a3-28ec37f55a08",
    "deepnote_cell_type": "text-cell-h3",
    "is_collapsed": false,
    "tags": []
   },
   "source": [
    "### Decision Tree"
   ]
  },
  {
   "cell_type": "code",
   "execution_count": null,
   "metadata": {
    "cell_id": "00028-86c15a7a-5ed2-4c74-80a8-32feb7710f5c",
    "deepnote_cell_type": "code",
    "deepnote_to_be_reexecuted": false,
    "execution_millis": 659,
    "execution_start": 1638736267812,
    "source_hash": "9850094d",
    "tags": []
   },
   "outputs": [
    {
     "name": "stdout",
     "output_type": "stream",
     "text": [
      "accuracy 0.638514432709194\n",
      "F score 0.28971349420427206\n",
      "/shared-libs/python3.7/py/lib/python3.7/site-packages/sklearn/base.py:446: UserWarning: X does not have valid feature names, but DecisionTreeClassifier was fitted with feature names\n",
      "  \"X does not have valid feature names, but\"\n"
     ]
    }
   ],
   "source": [
    "dt = DecisionTreeClassifier(max_depth=8,min_samples_leaf=5)\n",
    "x_train_l = x_train_l.replace((np.inf, -np.inf, np.nan), 0).reset_index(drop=True)\n",
    "y_train_l = y_train_l.replace((np.inf, -np.inf, np.nan), 0).reset_index(drop=True)\n",
    "x_val_l = x_val_l.replace((np.inf, -np.inf, np.nan), 0).reset_index(drop=True)\n",
    "\n",
    "x_val_l = np.nan_to_num(x_val_l)\n",
    "dt.fit(x_train_l,y_train_l)\n",
    "y_pred = dt.predict(x_val_l)\n",
    "acc = accuracy_score(y_val_l, y_pred)\n",
    "print('accuracy',acc)\n",
    "f1 = f1_score(y_val_l,y_pred)\n",
    "print('F score',f1)"
   ]
  },
  {
   "cell_type": "code",
   "execution_count": null,
   "metadata": {
    "cell_id": "00032-82155b4c-cc0f-4bc0-b964-a3e9973cd04b",
    "deepnote_cell_type": "code",
    "deepnote_to_be_reexecuted": false,
    "execution_millis": 649,
    "execution_start": 1638736268475,
    "source_hash": "5732daa4",
    "tags": []
   },
   "outputs": [
    {
     "name": "stdout",
     "output_type": "stream",
     "text": [
      "accuracy 0.636436716218556\n",
      "F score 0.3863992151787764\n",
      "/shared-libs/python3.7/py/lib/python3.7/site-packages/sklearn/base.py:446: UserWarning: X does not have valid feature names, but DecisionTreeClassifier was fitted with feature names\n",
      "  \"X does not have valid feature names, but\"\n"
     ]
    }
   ],
   "source": [
    "dt2 = DecisionTreeClassifier(max_depth=5,min_samples_leaf=5)\n",
    "dt2.fit(x_train_l,y_train_l)\n",
    "y_pred = dt2.predict(x_val_l)\n",
    "acc = accuracy_score(y_val_l, y_pred)\n",
    "print('accuracy',acc)\n",
    "f1 = f1_score(y_val_l,y_pred)\n",
    "print('F score',f1)"
   ]
  },
  {
   "cell_type": "code",
   "execution_count": null,
   "metadata": {
    "cell_id": "00031-c19ef3e6-64e2-43e7-bf6c-853fcce06e6d",
    "deepnote_cell_type": "code",
    "deepnote_to_be_reexecuted": false,
    "execution_millis": 761,
    "execution_start": 1638736269047,
    "source_hash": "bfd3d34",
    "tags": []
   },
   "outputs": [
    {
     "name": "stdout",
     "output_type": "stream",
     "text": [
      "accuracy 0.6379455341462812\n",
      "F score 0.31723301536954546\n",
      "/shared-libs/python3.7/py/lib/python3.7/site-packages/sklearn/base.py:446: UserWarning: X does not have valid feature names, but DecisionTreeClassifier was fitted with feature names\n",
      "  \"X does not have valid feature names, but\"\n"
     ]
    }
   ],
   "source": [
    "dt1 = DecisionTreeClassifier(max_depth=10,min_samples_leaf=5)\n",
    "dt1.fit(x_train_l,y_train_l)\n",
    "y_pred = dt1.predict(x_val_l)\n",
    "acc = accuracy_score(y_val_l, y_pred)\n",
    "print('accuracy',acc)\n",
    "f1 = f1_score(y_val_l,y_pred)\n",
    "print('F score',f1)"
   ]
  },
  {
   "cell_type": "markdown",
   "metadata": {
    "cell_id": "00033-7a1af049-36f9-49ad-bf3f-daa8f568445b",
    "deepnote_cell_type": "markdown",
    "tags": []
   },
   "source": [
    "Best accuracy is 0.6385020653491306, corresponding F score is 0.2897064541213064, for max_depth=8, min_samples_leaf=5"
   ]
  },
  {
   "cell_type": "markdown",
   "metadata": {
    "cell_id": "00033-f1358e6b-261e-48e6-9ee0-366e001988a0",
    "deepnote_cell_type": "text-cell-h3",
    "is_collapsed": false,
    "tags": []
   },
   "source": [
    "### Random Forest"
   ]
  },
  {
   "cell_type": "code",
   "execution_count": null,
   "metadata": {
    "cell_id": "00033-1788d9fa-86b6-4c5d-8e41-cc39d9350772",
    "deepnote_cell_type": "code",
    "deepnote_to_be_reexecuted": false,
    "execution_millis": 21436,
    "execution_start": 1638736269815,
    "source_hash": "6a85c41b",
    "tags": []
   },
   "outputs": [
    {
     "name": "stderr",
     "output_type": "stream",
     "text": [
      "/shared-libs/python3.7/py/lib/python3.7/site-packages/sklearn/base.py:446: UserWarning: X does not have valid feature names, but RandomForestClassifier was fitted with feature names\n",
      "  \"X does not have valid feature names, but\"\n",
      "accuracy 0.6293873209824631\n",
      "F score 0.3482175870543968\n"
     ]
    }
   ],
   "source": [
    "rf = RandomForestClassifier(max_depth=None,min_samples_leaf=5,n_estimators=50)\n",
    "rf.fit(x_train_l,y_train_l)\n",
    "y_pred = rf.predict(x_val_l)\n",
    "acc = accuracy_score(y_val_l, y_pred)\n",
    "print('accuracy',acc)\n",
    "f1 = f1_score(y_val_l,y_pred)\n",
    "print('F score',f1)"
   ]
  },
  {
   "cell_type": "code",
   "execution_count": null,
   "metadata": {
    "cell_id": "00036-14ab47d7-2a10-4fb0-b697-641bc82df711",
    "deepnote_cell_type": "code",
    "deepnote_to_be_reexecuted": false,
    "execution_millis": 22417,
    "execution_start": 1638736291251,
    "source_hash": "a8dabacc",
    "tags": []
   },
   "outputs": [
    {
     "name": "stderr",
     "output_type": "stream",
     "text": [
      "/shared-libs/python3.7/py/lib/python3.7/site-packages/sklearn/base.py:446: UserWarning: X does not have valid feature names, but RandomForestClassifier was fitted with feature names\n",
      "  \"X does not have valid feature names, but\"\n",
      "accuracy 0.6315268742734176\n",
      "F score 0.35140195053988155\n"
     ]
    }
   ],
   "source": [
    "rf = RandomForestClassifier(max_depth=None,min_samples_leaf=8,n_estimators=50)\n",
    "rf.fit(x_train_l,y_train_l)\n",
    "y_pred = rf.predict(x_val_l)\n",
    "acc = accuracy_score(y_val_l, y_pred)\n",
    "print('accuracy',acc)\n",
    "f1 = f1_score(y_val_l,y_pred)\n",
    "print('F score',f1)"
   ]
  },
  {
   "cell_type": "code",
   "execution_count": null,
   "metadata": {
    "cell_id": "00037-35f807e6-b5d5-4093-9c14-d264300db891",
    "deepnote_cell_type": "code",
    "deepnote_to_be_reexecuted": false,
    "execution_millis": 19012,
    "execution_start": 1638736313677,
    "source_hash": "cefe6fea",
    "tags": []
   },
   "outputs": [
    {
     "name": "stderr",
     "output_type": "stream",
     "text": [
      "/shared-libs/python3.7/py/lib/python3.7/site-packages/sklearn/base.py:446: UserWarning: X does not have valid feature names, but RandomForestClassifier was fitted with feature names\n",
      "  \"X does not have valid feature names, but\"\n",
      "accuracy 0.6385268000692572\n",
      "F score 0.3121204989409273\n"
     ]
    }
   ],
   "source": [
    "rf = RandomForestClassifier(max_depth=None,min_samples_leaf=100,n_estimators=50)\n",
    "rf.fit(x_train_l,y_train_l)\n",
    "y_pred = rf.predict(x_val_l)\n",
    "acc = accuracy_score(y_val_l, y_pred)\n",
    "print('accuracy',acc)\n",
    "f1 = f1_score(y_val_l,y_pred)\n",
    "print('F score',f1)"
   ]
  },
  {
   "cell_type": "markdown",
   "metadata": {
    "cell_id": "00038-7cab5d49-9788-4c17-b674-185bab8e6d06",
    "deepnote_cell_type": "markdown",
    "tags": []
   },
   "source": [
    "Best accuracy 0.6390462291919167, corresponding F score is  0.3149469533377148 for max_depth = None, min_samples_leaf = 100, n_estimators = 50"
   ]
  },
  {
   "cell_type": "markdown",
   "metadata": {
    "cell_id": "00039-d5757c7a-f6ed-45d7-a849-b7845632294c",
    "deepnote_cell_type": "text-cell-h3",
    "is_collapsed": false,
    "tags": []
   },
   "source": [
    "### Gradient Boosted Tree "
   ]
  },
  {
   "cell_type": "code",
   "execution_count": null,
   "metadata": {
    "cell_id": "00040-fa8de071-523f-423f-b1d8-75852e08002f",
    "deepnote_cell_type": "code",
    "deepnote_to_be_reexecuted": false,
    "execution_millis": 157241,
    "execution_start": 1638736332700,
    "source_hash": "81d318f6",
    "tags": []
   },
   "outputs": [
    {
     "name": "stderr",
     "output_type": "stream",
     "text": [
      "/shared-libs/python3.7/py/lib/python3.7/site-packages/sklearn/base.py:446: UserWarning: X does not have valid feature names, but GradientBoostingClassifier was fitted with feature names\n",
      "  \"X does not have valid feature names, but\"\n",
      "accuracy 0.6392317395928665\n",
      "F score 0.3083015199298129\n"
     ]
    }
   ],
   "source": [
    "gb = GradientBoostingClassifier(max_depth=3,n_estimators=500)\n",
    "gb.fit(x_train_l,y_train_l)\n",
    "y_pred = gb.predict(x_val_l)\n",
    "acc = accuracy_score(y_val_l, y_pred)\n",
    "print('accuracy',acc)\n",
    "f1 = f1_score(y_val_l,y_pred)\n",
    "print('F score',f1)"
   ]
  },
  {
   "cell_type": "code",
   "execution_count": null,
   "metadata": {
    "cell_id": "00041-b970f676-7cfc-4106-bc3f-f330a33fee0c",
    "deepnote_cell_type": "code",
    "deepnote_to_be_reexecuted": false,
    "execution_millis": 226976,
    "execution_start": 1638736489945,
    "source_hash": "2d983d92",
    "tags": []
   },
   "outputs": [
    {
     "name": "stderr",
     "output_type": "stream",
     "text": [
      "/shared-libs/python3.7/py/lib/python3.7/site-packages/sklearn/base.py:446: UserWarning: X does not have valid feature names, but GradientBoostingClassifier was fitted with feature names\n",
      "  \"X does not have valid feature names, but\"\n",
      "accuracy 0.6385762695095105\n",
      "F score 0.3103969040539903\n"
     ]
    }
   ],
   "source": [
    "gb = GradientBoostingClassifier(max_depth=5,n_estimators=500)\n",
    "gb.fit(x_train_l,y_train_l)\n",
    "y_pred = gb.predict(x_val_l)\n",
    "acc = accuracy_score(y_val_l, y_pred)\n",
    "print('accuracy',acc)\n",
    "f1 = f1_score(y_val_l,y_pred)\n",
    "print('F score',f1)"
   ]
  },
  {
   "cell_type": "markdown",
   "metadata": {
    "cell_id": "00042-fd7fce89-8148-4f1c-9a8f-b7921e2d21f2",
    "deepnote_cell_type": "text-cell-h2",
    "is_collapsed": false,
    "tags": []
   },
   "source": [
    "## LC"
   ]
  },
  {
   "cell_type": "code",
   "execution_count": null,
   "metadata": {
    "cell_id": "00042-08c2dcc3-379e-4106-b9b3-06e172a0a2db",
    "deepnote_cell_type": "code",
    "deepnote_to_be_reexecuted": false,
    "execution_millis": 218,
    "execution_start": 1638736716926,
    "source_hash": "18e86cda",
    "tags": []
   },
   "outputs": [
    {
     "data": {
      "application/vnd.deepnote.dataframe.v2+json": {
       "column_count": 7,
       "columns": [
        {
         "dtype": "float64",
         "name": "is_duplicate"
        },
        {
         "dtype": "float64",
         "name": "l1"
        },
        {
         "dtype": "float64",
         "name": "l2"
        },
        {
         "dtype": "float64",
         "name": "l3"
        },
        {
         "dtype": "float64",
         "name": "l4"
        },
        {
         "dtype": "float64",
         "name": "lc1"
        },
        {
         "dtype": "float64",
         "name": "lc2"
        },
        {
         "dtype": "int64",
         "name": "_deepnote_index_column"
        }
       ],
       "row_count": 404283,
       "rows_bottom": [
        {
         "_deepnote_index_column": 404216,
         "is_duplicate": 0,
         "l1": 68,
         "l2": 42,
         "l3": 26,
         "l4": 1.619047619047619,
         "lc1": 2,
         "lc2": 0.0017699115044247787
        },
        {
         "_deepnote_index_column": 404217,
         "is_duplicate": 1,
         "l1": 40,
         "l2": 52,
         "l3": 12,
         "l4": 0.7692307692307693,
         "lc1": 4,
         "lc2": 0.0035398230088495575
        },
        {
         "_deepnote_index_column": 404218,
         "is_duplicate": 1,
         "l1": 85,
         "l2": 79,
         "l3": 6,
         "l4": 1.0759493670886076,
         "lc1": 2,
         "lc2": 0.0017699115044247787
        },
        {
         "_deepnote_index_column": 404219,
         "is_duplicate": 0,
         "l1": 34,
         "l2": 51,
         "l3": 17,
         "l4": 0.6666666666666666,
         "lc1": 4,
         "lc2": 0.0035398230088495575
        },
        {
         "_deepnote_index_column": 404220,
         "is_duplicate": 0,
         "l1": 102,
         "l2": 66,
         "l3": 36,
         "l4": 1.5454545454545454,
         "lc1": 2,
         "lc2": 0.0017699115044247787
        },
        {
         "_deepnote_index_column": 404221,
         "is_duplicate": 1,
         "l1": 36,
         "l2": 37,
         "l3": 1,
         "l4": 0.972972972972973,
         "lc1": 1,
         "lc2": 0.0008849557522123894
        },
        {
         "_deepnote_index_column": 404222,
         "is_duplicate": 0,
         "l1": 44,
         "l2": 36,
         "l3": 8,
         "l4": 1.2222222222222223,
         "lc1": 3,
         "lc2": 0.002654867256637168
        },
        {
         "_deepnote_index_column": 404223,
         "is_duplicate": 0,
         "l1": 140,
         "l2": 41,
         "l3": 99,
         "l4": 3.4146341463414633,
         "lc1": 1,
         "lc2": 0.0008849557522123894
        },
        {
         "_deepnote_index_column": 404224,
         "is_duplicate": 1,
         "l1": 58,
         "l2": 72,
         "l3": 14,
         "l4": 0.8055555555555556,
         "lc1": 3,
         "lc2": 0.002654867256637168
        },
        {
         "_deepnote_index_column": 404225,
         "is_duplicate": 0,
         "l1": 56,
         "l2": 48,
         "l3": 8,
         "l4": 1.1666666666666667,
         "lc1": 2,
         "lc2": 0.0017699115044247787
        },
        {
         "_deepnote_index_column": 404226,
         "is_duplicate": 0,
         "l1": 42,
         "l2": 50,
         "l3": 8,
         "l4": 0.84,
         "lc1": 4,
         "lc2": 0.0035398230088495575
        },
        {
         "_deepnote_index_column": 404227,
         "is_duplicate": 0,
         "l1": 33,
         "l2": 85,
         "l3": 52,
         "l4": 0.38823529411764707,
         "lc1": 4,
         "lc2": 0.0035398230088495575
        },
        {
         "_deepnote_index_column": 404228,
         "is_duplicate": 1,
         "l1": 18,
         "l2": 36,
         "l3": 18,
         "l4": 0.5,
         "lc1": 1,
         "lc2": 0.0008849557522123894
        },
        {
         "_deepnote_index_column": 404229,
         "is_duplicate": 0,
         "l1": 68,
         "l2": 70,
         "l3": 2,
         "l4": 0.9714285714285714,
         "lc1": 7,
         "lc2": 0.006194690265486726
        },
        {
         "_deepnote_index_column": 404230,
         "is_duplicate": 0,
         "l1": 73,
         "l2": 57,
         "l3": 16,
         "l4": 1.280701754385965,
         "lc1": 0,
         "lc2": 0
        },
        {
         "_deepnote_index_column": 404231,
         "is_duplicate": 0,
         "l1": 105,
         "l2": 93,
         "l3": 12,
         "l4": 1.1290322580645162,
         "lc1": 5,
         "lc2": 0.004424778761061947
        },
        {
         "_deepnote_index_column": 404232,
         "is_duplicate": 0,
         "l1": 45,
         "l2": 35,
         "l3": 10,
         "l4": 1.2857142857142858,
         "lc1": 4,
         "lc2": 0.0035398230088495575
        },
        {
         "_deepnote_index_column": 404233,
         "is_duplicate": 0,
         "l1": 57,
         "l2": 70,
         "l3": 13,
         "l4": 0.8142857142857143,
         "lc1": 5,
         "lc2": 0.004424778761061947
        },
        {
         "_deepnote_index_column": 404234,
         "is_duplicate": 0,
         "l1": 42,
         "l2": 47,
         "l3": 5,
         "l4": 0.8936170212765957,
         "lc1": 0,
         "lc2": 0
        },
        {
         "_deepnote_index_column": 404235,
         "is_duplicate": 0,
         "l1": 64,
         "l2": 49,
         "l3": 15,
         "l4": 1.3061224489795917,
         "lc1": 2,
         "lc2": 0.0017699115044247787
        },
        {
         "_deepnote_index_column": 404236,
         "is_duplicate": 0,
         "l1": 34,
         "l2": 35,
         "l3": 1,
         "l4": 0.9714285714285714,
         "lc1": 3,
         "lc2": 0.002654867256637168
        },
        {
         "_deepnote_index_column": 404237,
         "is_duplicate": 1,
         "l1": 34,
         "l2": 34,
         "l3": 0,
         "l4": 1,
         "lc1": 2,
         "lc2": 0.0017699115044247787
        },
        {
         "_deepnote_index_column": 404238,
         "is_duplicate": 1,
         "l1": 33,
         "l2": 39,
         "l3": 6,
         "l4": 0.8461538461538461,
         "lc1": 5,
         "lc2": 0.004424778761061947
        },
        {
         "_deepnote_index_column": 404239,
         "is_duplicate": 1,
         "l1": 42,
         "l2": 35,
         "l3": 7,
         "l4": 1.2,
         "lc1": 2,
         "lc2": 0.0017699115044247787
        },
        {
         "_deepnote_index_column": 404240,
         "is_duplicate": 1,
         "l1": 54,
         "l2": 44,
         "l3": 10,
         "l4": 1.2272727272727273,
         "lc1": 1,
         "lc2": 0.0008849557522123894
        },
        {
         "_deepnote_index_column": 404241,
         "is_duplicate": 1,
         "l1": 48,
         "l2": 45,
         "l3": 3,
         "l4": 1.0666666666666667,
         "lc1": 6,
         "lc2": 0.005309734513274336
        },
        {
         "_deepnote_index_column": 404242,
         "is_duplicate": 0,
         "l1": 64,
         "l2": 87,
         "l3": 23,
         "l4": 0.735632183908046,
         "lc1": 6,
         "lc2": 0.005309734513274336
        },
        {
         "_deepnote_index_column": 404243,
         "is_duplicate": 0,
         "l1": 54,
         "l2": 95,
         "l3": 41,
         "l4": 0.5684210526315789,
         "lc1": 3,
         "lc2": 0.002654867256637168
        },
        {
         "_deepnote_index_column": 404244,
         "is_duplicate": 1,
         "l1": 70,
         "l2": 73,
         "l3": 3,
         "l4": 0.958904109589041,
         "lc1": 2,
         "lc2": 0.0017699115044247787
        },
        {
         "_deepnote_index_column": 404245,
         "is_duplicate": 0,
         "l1": 52,
         "l2": 29,
         "l3": 23,
         "l4": 1.793103448275862,
         "lc1": 4,
         "lc2": 0.0035398230088495575
        },
        {
         "_deepnote_index_column": 404246,
         "is_duplicate": 1,
         "l1": 53,
         "l2": 108,
         "l3": 55,
         "l4": 0.49074074074074076,
         "lc1": 6,
         "lc2": 0.005309734513274336
        },
        {
         "_deepnote_index_column": 404247,
         "is_duplicate": 0,
         "l1": 74,
         "l2": 38,
         "l3": 36,
         "l4": 1.9473684210526316,
         "lc1": 0,
         "lc2": 0
        },
        {
         "_deepnote_index_column": 404248,
         "is_duplicate": 0,
         "l1": 107,
         "l2": 69,
         "l3": 38,
         "l4": 1.5507246376811594,
         "lc1": 1,
         "lc2": 0.0008849557522123894
        },
        {
         "_deepnote_index_column": 404249,
         "is_duplicate": 0,
         "l1": 41,
         "l2": 43,
         "l3": 2,
         "l4": 0.9534883720930233,
         "lc1": 5,
         "lc2": 0.004424778761061947
        },
        {
         "_deepnote_index_column": 404250,
         "is_duplicate": 0,
         "l1": 36,
         "l2": 40,
         "l3": 4,
         "l4": 0.9,
         "lc1": 2,
         "lc2": 0.0017699115044247787
        },
        {
         "_deepnote_index_column": 404251,
         "is_duplicate": 0,
         "l1": 138,
         "l2": 169,
         "l3": 31,
         "l4": 0.8165680473372781,
         "lc1": 10,
         "lc2": 0.008849557522123894
        },
        {
         "_deepnote_index_column": 404252,
         "is_duplicate": 0,
         "l1": 33,
         "l2": 29,
         "l3": 4,
         "l4": 1.1379310344827587,
         "lc1": 1,
         "lc2": 0.0008849557522123894
        },
        {
         "_deepnote_index_column": 404253,
         "is_duplicate": 0,
         "l1": 62,
         "l2": 100,
         "l3": 38,
         "l4": 0.62,
         "lc1": 8,
         "lc2": 0.007079646017699115
        },
        {
         "_deepnote_index_column": 404254,
         "is_duplicate": 1,
         "l1": 36,
         "l2": 25,
         "l3": 11,
         "l4": 1.44,
         "lc1": 2,
         "lc2": 0.0017699115044247787
        },
        {
         "_deepnote_index_column": 404255,
         "is_duplicate": 1,
         "l1": 64,
         "l2": 58,
         "l3": 6,
         "l4": 1.103448275862069,
         "lc1": 6,
         "lc2": 0.005309734513274336
        },
        {
         "_deepnote_index_column": 404256,
         "is_duplicate": 1,
         "l1": 60,
         "l2": 47,
         "l3": 13,
         "l4": 1.2765957446808511,
         "lc1": 4,
         "lc2": 0.0035398230088495575
        },
        {
         "_deepnote_index_column": 404257,
         "is_duplicate": 0,
         "l1": 31,
         "l2": 39,
         "l3": 8,
         "l4": 0.7948717948717948,
         "lc1": 3,
         "lc2": 0.002654867256637168
        },
        {
         "_deepnote_index_column": 404258,
         "is_duplicate": 1,
         "l1": 57,
         "l2": 63,
         "l3": 6,
         "l4": 0.9047619047619048,
         "lc1": 6,
         "lc2": 0.005309734513274336
        },
        {
         "_deepnote_index_column": 404259,
         "is_duplicate": 0,
         "l1": 40,
         "l2": 31,
         "l3": 9,
         "l4": 1.2903225806451613,
         "lc1": 3,
         "lc2": 0.002654867256637168
        },
        {
         "_deepnote_index_column": 404260,
         "is_duplicate": 0,
         "l1": 65,
         "l2": 64,
         "l3": 1,
         "l4": 1.015625,
         "lc1": 5,
         "lc2": 0.004424778761061947
        },
        {
         "_deepnote_index_column": 404261,
         "is_duplicate": 0,
         "l1": 75,
         "l2": 41,
         "l3": 34,
         "l4": 1.829268292682927,
         "lc1": 4,
         "lc2": 0.0035398230088495575
        },
        {
         "_deepnote_index_column": 404262,
         "is_duplicate": 1,
         "l1": 32,
         "l2": 32,
         "l3": 0,
         "l4": 1,
         "lc1": 2,
         "lc2": 0.0017699115044247787
        },
        {
         "_deepnote_index_column": 404263,
         "is_duplicate": 0,
         "l1": 57,
         "l2": 175,
         "l3": 118,
         "l4": 0.32571428571428573,
         "lc1": 4,
         "lc2": 0.0035398230088495575
        },
        {
         "_deepnote_index_column": 404264,
         "is_duplicate": 1,
         "l1": 51,
         "l2": 79,
         "l3": 28,
         "l4": 0.6455696202531646,
         "lc1": 4,
         "lc2": 0.0035398230088495575
        },
        {
         "_deepnote_index_column": 404265,
         "is_duplicate": 0,
         "l1": 56,
         "l2": 42,
         "l3": 14,
         "l4": 1.3333333333333333,
         "lc1": 2,
         "lc2": 0.0017699115044247787
        },
        {
         "_deepnote_index_column": 404266,
         "is_duplicate": 0,
         "l1": 51,
         "l2": 62,
         "l3": 11,
         "l4": 0.8225806451612904,
         "lc1": 3,
         "lc2": 0.002654867256637168
        },
        {
         "_deepnote_index_column": 404267,
         "is_duplicate": 0,
         "l1": 42,
         "l2": 39,
         "l3": 3,
         "l4": 1.0769230769230769,
         "lc1": 5,
         "lc2": 0.004424778761061947
        },
        {
         "_deepnote_index_column": 404268,
         "is_duplicate": 0,
         "l1": 78,
         "l2": 62,
         "l3": 16,
         "l4": 1.2580645161290323,
         "lc1": 1,
         "lc2": 0.0008849557522123894
        },
        {
         "_deepnote_index_column": 404269,
         "is_duplicate": 1,
         "l1": 81,
         "l2": 84,
         "l3": 3,
         "l4": 0.9642857142857143,
         "lc1": 7,
         "lc2": 0.006194690265486726
        },
        {
         "_deepnote_index_column": 404270,
         "is_duplicate": 1,
         "l1": 46,
         "l2": 82,
         "l3": 36,
         "l4": 0.5609756097560976,
         "lc1": 6,
         "lc2": 0.005309734513274336
        },
        {
         "_deepnote_index_column": 404271,
         "is_duplicate": 1,
         "l1": 61,
         "l2": 50,
         "l3": 11,
         "l4": 1.22,
         "lc1": 4,
         "lc2": 0.0035398230088495575
        },
        {
         "_deepnote_index_column": 404272,
         "is_duplicate": 0,
         "l1": 58,
         "l2": 77,
         "l3": 19,
         "l4": 0.7532467532467533,
         "lc1": 3,
         "lc2": 0.002654867256637168
        },
        {
         "_deepnote_index_column": 404273,
         "is_duplicate": 0,
         "l1": 24,
         "l2": 22,
         "l3": 2,
         "l4": 1.0909090909090908,
         "lc1": 1,
         "lc2": 0.0008849557522123894
        },
        {
         "_deepnote_index_column": 404274,
         "is_duplicate": 0,
         "l1": 22,
         "l2": 31,
         "l3": 9,
         "l4": 0.7096774193548387,
         "lc1": 0,
         "lc2": 0
        },
        {
         "_deepnote_index_column": 404275,
         "is_duplicate": 0,
         "l1": 38,
         "l2": 51,
         "l3": 13,
         "l4": 0.7450980392156863,
         "lc1": 4,
         "lc2": 0.0035398230088495575
        },
        {
         "_deepnote_index_column": 404276,
         "is_duplicate": 0,
         "l1": 65,
         "l2": 76,
         "l3": 11,
         "l4": 0.8552631578947368,
         "lc1": 5,
         "lc2": 0.004424778761061947
        },
        {
         "_deepnote_index_column": 404277,
         "is_duplicate": 1,
         "l1": 50,
         "l2": 54,
         "l3": 4,
         "l4": 0.9259259259259259,
         "lc1": 9,
         "lc2": 0.007964601769911504
        },
        {
         "_deepnote_index_column": 404278,
         "is_duplicate": 1,
         "l1": 67,
         "l2": 67,
         "l3": 0,
         "l4": 1,
         "lc1": 5,
         "lc2": 0.004424778761061947
        },
        {
         "_deepnote_index_column": 404279,
         "is_duplicate": 1,
         "l1": 42,
         "l2": 46,
         "l3": 4,
         "l4": 0.9130434782608695,
         "lc1": 2,
         "lc2": 0.0017699115044247787
        },
        {
         "_deepnote_index_column": 404280,
         "is_duplicate": 0,
         "l1": 86,
         "l2": 60,
         "l3": 26,
         "l4": 1.4333333333333333,
         "lc1": 2,
         "lc2": 0.0017699115044247787
        },
        {
         "_deepnote_index_column": 404281,
         "is_duplicate": 1,
         "l1": 41,
         "l2": 50,
         "l3": 9,
         "l4": 0.82,
         "lc1": 3,
         "lc2": 0.002654867256637168
        },
        {
         "_deepnote_index_column": 404282,
         "is_duplicate": 0,
         "l1": 84,
         "l2": 78,
         "l3": 6,
         "l4": 1.0769230769230769,
         "lc1": 8,
         "lc2": 0.007079646017699115
        },
        {
         "_deepnote_index_column": 404283,
         "is_duplicate": 1,
         "l1": 40,
         "l2": 41,
         "l3": 1,
         "l4": 0.975609756097561,
         "lc1": 5,
         "lc2": 0.004424778761061947
        },
        {
         "_deepnote_index_column": 404284,
         "is_duplicate": 0,
         "l1": 16,
         "l2": 15,
         "l3": 1,
         "l4": 1.0666666666666667,
         "lc1": 1,
         "lc2": 0.0008849557522123894
        },
        {
         "_deepnote_index_column": 404285,
         "is_duplicate": 0,
         "l1": 92,
         "l2": 124,
         "l3": 32,
         "l4": 0.7419354838709677,
         "lc1": 1,
         "lc2": 0.0008849557522123894
        },
        {
         "_deepnote_index_column": 404286,
         "is_duplicate": 0,
         "l1": 36,
         "l2": 44,
         "l3": 8,
         "l4": 0.8181818181818182,
         "lc1": 7,
         "lc2": 0.006194690265486726
        }
       ],
       "rows_top": [
        {
         "_deepnote_index_column": 0,
         "is_duplicate": 0,
         "l1": 65,
         "l2": 56,
         "l3": 9,
         "l4": 1.1607142857142858,
         "lc1": 10,
         "lc2": 0.008849557522123894
        },
        {
         "_deepnote_index_column": 1,
         "is_duplicate": 0,
         "l1": 46,
         "l2": 83,
         "l3": 37,
         "l4": 0.5542168674698795,
         "lc1": 1,
         "lc2": 0.0008849557522123894
        },
        {
         "_deepnote_index_column": 2,
         "is_duplicate": 0,
         "l1": 72,
         "l2": 58,
         "l3": 14,
         "l4": 1.2413793103448276,
         "lc1": 2,
         "lc2": 0.0017699115044247787
        },
        {
         "_deepnote_index_column": 3,
         "is_duplicate": 0,
         "l1": 48,
         "l2": 55,
         "l3": 7,
         "l4": 0.8727272727272727,
         "lc1": 0,
         "lc2": 0
        },
        {
         "_deepnote_index_column": 4,
         "is_duplicate": 0,
         "l1": 73,
         "l2": 38,
         "l3": 35,
         "l4": 1.9210526315789473,
         "lc1": 3,
         "lc2": 0.002654867256637168
        },
        {
         "_deepnote_index_column": 5,
         "is_duplicate": 1,
         "l1": 81,
         "l2": 85,
         "l3": 4,
         "l4": 0.9529411764705882,
         "lc1": 6,
         "lc2": 0.005309734513274336
        },
        {
         "_deepnote_index_column": 6,
         "is_duplicate": 0,
         "l1": 18,
         "l2": 61,
         "l3": 43,
         "l4": 0.29508196721311475,
         "lc1": 0,
         "lc2": 0
        },
        {
         "_deepnote_index_column": 7,
         "is_duplicate": 1,
         "l1": 29,
         "l2": 40,
         "l3": 11,
         "l4": 0.725,
         "lc1": 3,
         "lc2": 0.002654867256637168
        },
        {
         "_deepnote_index_column": 8,
         "is_duplicate": 0,
         "l1": 30,
         "l2": 31,
         "l3": 1,
         "l4": 0.967741935483871,
         "lc1": 5,
         "lc2": 0.004424778761061947
        },
        {
         "_deepnote_index_column": 9,
         "is_duplicate": 0,
         "l1": 56,
         "l2": 48,
         "l3": 8,
         "l4": 1.1666666666666667,
         "lc1": 1,
         "lc2": 0.0008849557522123894
        },
        {
         "_deepnote_index_column": 10,
         "is_duplicate": 0,
         "l1": 56,
         "l2": 115,
         "l3": 59,
         "l4": 0.48695652173913045,
         "lc1": 1,
         "lc2": 0.0008849557522123894
        },
        {
         "_deepnote_index_column": 11,
         "is_duplicate": 1,
         "l1": 42,
         "l2": 37,
         "l3": 5,
         "l4": 1.135135135135135,
         "lc1": 2,
         "lc2": 0.0017699115044247787
        },
        {
         "_deepnote_index_column": 12,
         "is_duplicate": 1,
         "l1": 35,
         "l2": 38,
         "l3": 3,
         "l4": 0.9210526315789473,
         "lc1": 5,
         "lc2": 0.004424778761061947
        },
        {
         "_deepnote_index_column": 13,
         "is_duplicate": 1,
         "l1": 42,
         "l2": 37,
         "l3": 5,
         "l4": 1.135135135135135,
         "lc1": 5,
         "lc2": 0.004424778761061947
        },
        {
         "_deepnote_index_column": 14,
         "is_duplicate": 0,
         "l1": 139,
         "l2": 138,
         "l3": 1,
         "l4": 1.0072463768115942,
         "lc1": 18,
         "lc2": 0.01592920353982301
        },
        {
         "_deepnote_index_column": 15,
         "is_duplicate": 1,
         "l1": 91,
         "l2": 90,
         "l3": 1,
         "l4": 1.011111111111111,
         "lc1": 3,
         "lc2": 0.002654867256637168
        },
        {
         "_deepnote_index_column": 16,
         "is_duplicate": 1,
         "l1": 27,
         "l2": 28,
         "l3": 1,
         "l4": 0.9642857142857143,
         "lc1": 2,
         "lc2": 0.0017699115044247787
        },
        {
         "_deepnote_index_column": 17,
         "is_duplicate": 0,
         "l1": 56,
         "l2": 39,
         "l3": 17,
         "l4": 1.435897435897436,
         "lc1": 1,
         "lc2": 0.0008849557522123894
        },
        {
         "_deepnote_index_column": 18,
         "is_duplicate": 1,
         "l1": 81,
         "l2": 72,
         "l3": 9,
         "l4": 1.125,
         "lc1": 2,
         "lc2": 0.0017699115044247787
        },
        {
         "_deepnote_index_column": 19,
         "is_duplicate": 0,
         "l1": 59,
         "l2": 53,
         "l3": 6,
         "l4": 1.1132075471698113,
         "lc1": 6,
         "lc2": 0.005309734513274336
        },
        {
         "_deepnote_index_column": 20,
         "is_duplicate": 1,
         "l1": 25,
         "l2": 42,
         "l3": 17,
         "l4": 0.5952380952380952,
         "lc1": 2,
         "lc2": 0.0017699115044247787
        },
        {
         "_deepnote_index_column": 21,
         "is_duplicate": 0,
         "l1": 35,
         "l2": 47,
         "l3": 12,
         "l4": 0.7446808510638298,
         "lc1": 3,
         "lc2": 0.002654867256637168
        },
        {
         "_deepnote_index_column": 22,
         "is_duplicate": 0,
         "l1": 46,
         "l2": 36,
         "l3": 10,
         "l4": 1.2777777777777777,
         "lc1": 3,
         "lc2": 0.002654867256637168
        },
        {
         "_deepnote_index_column": 23,
         "is_duplicate": 0,
         "l1": 23,
         "l2": 56,
         "l3": 33,
         "l4": 0.4107142857142857,
         "lc1": 0,
         "lc2": 0
        },
        {
         "_deepnote_index_column": 24,
         "is_duplicate": 0,
         "l1": 78,
         "l2": 46,
         "l3": 32,
         "l4": 1.6956521739130435,
         "lc1": 0,
         "lc2": 0
        },
        {
         "_deepnote_index_column": 25,
         "is_duplicate": 0,
         "l1": 78,
         "l2": 88,
         "l3": 10,
         "l4": 0.8863636363636364,
         "lc1": 12,
         "lc2": 0.010619469026548672
        },
        {
         "_deepnote_index_column": 26,
         "is_duplicate": 0,
         "l1": 23,
         "l2": 37,
         "l3": 14,
         "l4": 0.6216216216216216,
         "lc1": 3,
         "lc2": 0.002654867256637168
        },
        {
         "_deepnote_index_column": 27,
         "is_duplicate": 0,
         "l1": 48,
         "l2": 39,
         "l3": 9,
         "l4": 1.2307692307692308,
         "lc1": 2,
         "lc2": 0.0017699115044247787
        },
        {
         "_deepnote_index_column": 28,
         "is_duplicate": 0,
         "l1": 37,
         "l2": 40,
         "l3": 3,
         "l4": 0.925,
         "lc1": 6,
         "lc2": 0.005309734513274336
        },
        {
         "_deepnote_index_column": 29,
         "is_duplicate": 1,
         "l1": 37,
         "l2": 67,
         "l3": 30,
         "l4": 0.5522388059701493,
         "lc1": 4,
         "lc2": 0.0035398230088495575
        },
        {
         "_deepnote_index_column": 30,
         "is_duplicate": 0,
         "l1": 43,
         "l2": 45,
         "l3": 2,
         "l4": 0.9555555555555556,
         "lc1": 5,
         "lc2": 0.004424778761061947
        },
        {
         "_deepnote_index_column": 31,
         "is_duplicate": 1,
         "l1": 85,
         "l2": 51,
         "l3": 34,
         "l4": 1.6666666666666667,
         "lc1": 3,
         "lc2": 0.002654867256637168
        },
        {
         "_deepnote_index_column": 32,
         "is_duplicate": 1,
         "l1": 71,
         "l2": 70,
         "l3": 1,
         "l4": 1.0142857142857142,
         "lc1": 9,
         "lc2": 0.007964601769911504
        },
        {
         "_deepnote_index_column": 33,
         "is_duplicate": 0,
         "l1": 122,
         "l2": 52,
         "l3": 70,
         "l4": 2.3461538461538463,
         "lc1": 1,
         "lc2": 0.0008849557522123894
        },
        {
         "_deepnote_index_column": 34,
         "is_duplicate": 0,
         "l1": 40,
         "l2": 31,
         "l3": 9,
         "l4": 1.2903225806451613,
         "lc1": 5,
         "lc2": 0.004424778761061947
        },
        {
         "_deepnote_index_column": 35,
         "is_duplicate": 0,
         "l1": 63,
         "l2": 76,
         "l3": 13,
         "l4": 0.8289473684210527,
         "lc1": 5,
         "lc2": 0.004424778761061947
        },
        {
         "_deepnote_index_column": 36,
         "is_duplicate": 0,
         "l1": 110,
         "l2": 74,
         "l3": 36,
         "l4": 1.4864864864864864,
         "lc1": 7,
         "lc2": 0.006194690265486726
        },
        {
         "_deepnote_index_column": 37,
         "is_duplicate": 0,
         "l1": 121,
         "l2": 191,
         "l3": 70,
         "l4": 0.6335078534031413,
         "lc1": 5,
         "lc2": 0.004424778761061947
        },
        {
         "_deepnote_index_column": 38,
         "is_duplicate": 1,
         "l1": 26,
         "l2": 34,
         "l3": 8,
         "l4": 0.7647058823529411,
         "lc1": 3,
         "lc2": 0.002654867256637168
        },
        {
         "_deepnote_index_column": 39,
         "is_duplicate": 0,
         "l1": 69,
         "l2": 68,
         "l3": 1,
         "l4": 1.0147058823529411,
         "lc1": 2,
         "lc2": 0.0017699115044247787
        },
        {
         "_deepnote_index_column": 40,
         "is_duplicate": 0,
         "l1": 18,
         "l2": 32,
         "l3": 14,
         "l4": 0.5625,
         "lc1": 0,
         "lc2": 0
        },
        {
         "_deepnote_index_column": 41,
         "is_duplicate": 0,
         "l1": 48,
         "l2": 45,
         "l3": 3,
         "l4": 1.0666666666666667,
         "lc1": 4,
         "lc2": 0.0035398230088495575
        },
        {
         "_deepnote_index_column": 42,
         "is_duplicate": 0,
         "l1": 39,
         "l2": 39,
         "l3": 0,
         "l4": 1,
         "lc1": 6,
         "lc2": 0.005309734513274336
        },
        {
         "_deepnote_index_column": 43,
         "is_duplicate": 0,
         "l1": 66,
         "l2": 29,
         "l3": 37,
         "l4": 2.2758620689655173,
         "lc1": 4,
         "lc2": 0.0035398230088495575
        },
        {
         "_deepnote_index_column": 44,
         "is_duplicate": 0,
         "l1": 86,
         "l2": 87,
         "l3": 1,
         "l4": 0.9885057471264368,
         "lc1": 11,
         "lc2": 0.009734513274336283
        },
        {
         "_deepnote_index_column": 45,
         "is_duplicate": 0,
         "l1": 56,
         "l2": 53,
         "l3": 3,
         "l4": 1.0566037735849056,
         "lc1": 2,
         "lc2": 0.0017699115044247787
        },
        {
         "_deepnote_index_column": 46,
         "is_duplicate": 0,
         "l1": 58,
         "l2": 58,
         "l3": 0,
         "l4": 1,
         "lc1": 0,
         "lc2": 0
        },
        {
         "_deepnote_index_column": 47,
         "is_duplicate": 0,
         "l1": 132,
         "l2": 53,
         "l3": 79,
         "l4": 2.490566037735849,
         "lc1": 3,
         "lc2": 0.002654867256637168
        },
        {
         "_deepnote_index_column": 48,
         "is_duplicate": 1,
         "l1": 66,
         "l2": 49,
         "l3": 17,
         "l4": 1.346938775510204,
         "lc1": 7,
         "lc2": 0.006194690265486726
        },
        {
         "_deepnote_index_column": 49,
         "is_duplicate": 1,
         "l1": 21,
         "l2": 20,
         "l3": 1,
         "l4": 1.05,
         "lc1": 2,
         "lc2": 0.0017699115044247787
        },
        {
         "_deepnote_index_column": 50,
         "is_duplicate": 1,
         "l1": 51,
         "l2": 53,
         "l3": 2,
         "l4": 0.9622641509433962,
         "lc1": 1,
         "lc2": 0.0008849557522123894
        },
        {
         "_deepnote_index_column": 51,
         "is_duplicate": 1,
         "l1": 53,
         "l2": 54,
         "l3": 1,
         "l4": 0.9814814814814815,
         "lc1": 5,
         "lc2": 0.004424778761061947
        },
        {
         "_deepnote_index_column": 52,
         "is_duplicate": 0,
         "l1": 20,
         "l2": 51,
         "l3": 31,
         "l4": 0.39215686274509803,
         "lc1": 0,
         "lc2": 0
        },
        {
         "_deepnote_index_column": 53,
         "is_duplicate": 1,
         "l1": 61,
         "l2": 56,
         "l3": 5,
         "l4": 1.0892857142857142,
         "lc1": 7,
         "lc2": 0.006194690265486726
        },
        {
         "_deepnote_index_column": 54,
         "is_duplicate": 0,
         "l1": 40,
         "l2": 25,
         "l3": 15,
         "l4": 1.6,
         "lc1": 0,
         "lc2": 0
        },
        {
         "_deepnote_index_column": 55,
         "is_duplicate": 0,
         "l1": 32,
         "l2": 61,
         "l3": 29,
         "l4": 0.5245901639344263,
         "lc1": 0,
         "lc2": 0
        },
        {
         "_deepnote_index_column": 56,
         "is_duplicate": 0,
         "l1": 20,
         "l2": 96,
         "l3": 76,
         "l4": 0.20833333333333334,
         "lc1": 2,
         "lc2": 0.0017699115044247787
        },
        {
         "_deepnote_index_column": 57,
         "is_duplicate": 0,
         "l1": 40,
         "l2": 35,
         "l3": 5,
         "l4": 1.1428571428571428,
         "lc1": 4,
         "lc2": 0.0035398230088495575
        },
        {
         "_deepnote_index_column": 58,
         "is_duplicate": 1,
         "l1": 135,
         "l2": 81,
         "l3": 54,
         "l4": 1.6666666666666667,
         "lc1": 7,
         "lc2": 0.006194690265486726
        },
        {
         "_deepnote_index_column": 59,
         "is_duplicate": 0,
         "l1": 38,
         "l2": 29,
         "l3": 9,
         "l4": 1.3103448275862069,
         "lc1": 1,
         "lc2": 0.0008849557522123894
        },
        {
         "_deepnote_index_column": 60,
         "is_duplicate": 0,
         "l1": 69,
         "l2": 31,
         "l3": 38,
         "l4": 2.225806451612903,
         "lc1": 0,
         "lc2": 0
        },
        {
         "_deepnote_index_column": 61,
         "is_duplicate": 0,
         "l1": 58,
         "l2": 64,
         "l3": 6,
         "l4": 0.90625,
         "lc1": 7,
         "lc2": 0.006194690265486726
        },
        {
         "_deepnote_index_column": 62,
         "is_duplicate": 1,
         "l1": 66,
         "l2": 37,
         "l3": 29,
         "l4": 1.7837837837837838,
         "lc1": 4,
         "lc2": 0.0035398230088495575
        },
        {
         "_deepnote_index_column": 63,
         "is_duplicate": 0,
         "l1": 29,
         "l2": 44,
         "l3": 15,
         "l4": 0.6590909090909091,
         "lc1": 4,
         "lc2": 0.0035398230088495575
        },
        {
         "_deepnote_index_column": 64,
         "is_duplicate": 0,
         "l1": 50,
         "l2": 43,
         "l3": 7,
         "l4": 1.1627906976744187,
         "lc1": 5,
         "lc2": 0.004424778761061947
        },
        {
         "_deepnote_index_column": 65,
         "is_duplicate": 1,
         "l1": 64,
         "l2": 44,
         "l3": 20,
         "l4": 1.4545454545454546,
         "lc1": 0,
         "lc2": 0
        },
        {
         "_deepnote_index_column": 66,
         "is_duplicate": 1,
         "l1": 31,
         "l2": 50,
         "l3": 19,
         "l4": 0.62,
         "lc1": 4,
         "lc2": 0.0035398230088495575
        },
        {
         "_deepnote_index_column": 67,
         "is_duplicate": 1,
         "l1": 46,
         "l2": 47,
         "l3": 1,
         "l4": 0.9787234042553191,
         "lc1": 3,
         "lc2": 0.002654867256637168
        },
        {
         "_deepnote_index_column": 68,
         "is_duplicate": 0,
         "l1": 42,
         "l2": 27,
         "l3": 15,
         "l4": 1.5555555555555556,
         "lc1": 1,
         "lc2": 0.0008849557522123894
        },
        {
         "_deepnote_index_column": 69,
         "is_duplicate": 0,
         "l1": 94,
         "l2": 63,
         "l3": 31,
         "l4": 1.492063492063492,
         "lc1": 0,
         "lc2": 0
        },
        {
         "_deepnote_index_column": 70,
         "is_duplicate": 0,
         "l1": 30,
         "l2": 52,
         "l3": 22,
         "l4": 0.5769230769230769,
         "lc1": 5,
         "lc2": 0.004424778761061947
        }
       ]
      },
      "text/html": [
       "<div>\n",
       "<style scoped>\n",
       "    .dataframe tbody tr th:only-of-type {\n",
       "        vertical-align: middle;\n",
       "    }\n",
       "\n",
       "    .dataframe tbody tr th {\n",
       "        vertical-align: top;\n",
       "    }\n",
       "\n",
       "    .dataframe thead th {\n",
       "        text-align: right;\n",
       "    }\n",
       "</style>\n",
       "<table border=\"1\" class=\"dataframe\">\n",
       "  <thead>\n",
       "    <tr style=\"text-align: right;\">\n",
       "      <th></th>\n",
       "      <th>is_duplicate</th>\n",
       "      <th>l1</th>\n",
       "      <th>l2</th>\n",
       "      <th>l3</th>\n",
       "      <th>l4</th>\n",
       "      <th>lc1</th>\n",
       "      <th>lc2</th>\n",
       "    </tr>\n",
       "  </thead>\n",
       "  <tbody>\n",
       "    <tr>\n",
       "      <th>0</th>\n",
       "      <td>0.0</td>\n",
       "      <td>65.0</td>\n",
       "      <td>56.0</td>\n",
       "      <td>9.0</td>\n",
       "      <td>1.160714</td>\n",
       "      <td>10.0</td>\n",
       "      <td>0.008850</td>\n",
       "    </tr>\n",
       "    <tr>\n",
       "      <th>1</th>\n",
       "      <td>0.0</td>\n",
       "      <td>46.0</td>\n",
       "      <td>83.0</td>\n",
       "      <td>37.0</td>\n",
       "      <td>0.554217</td>\n",
       "      <td>1.0</td>\n",
       "      <td>0.000885</td>\n",
       "    </tr>\n",
       "    <tr>\n",
       "      <th>2</th>\n",
       "      <td>0.0</td>\n",
       "      <td>72.0</td>\n",
       "      <td>58.0</td>\n",
       "      <td>14.0</td>\n",
       "      <td>1.241379</td>\n",
       "      <td>2.0</td>\n",
       "      <td>0.001770</td>\n",
       "    </tr>\n",
       "    <tr>\n",
       "      <th>3</th>\n",
       "      <td>0.0</td>\n",
       "      <td>48.0</td>\n",
       "      <td>55.0</td>\n",
       "      <td>7.0</td>\n",
       "      <td>0.872727</td>\n",
       "      <td>0.0</td>\n",
       "      <td>0.000000</td>\n",
       "    </tr>\n",
       "    <tr>\n",
       "      <th>4</th>\n",
       "      <td>0.0</td>\n",
       "      <td>73.0</td>\n",
       "      <td>38.0</td>\n",
       "      <td>35.0</td>\n",
       "      <td>1.921053</td>\n",
       "      <td>3.0</td>\n",
       "      <td>0.002655</td>\n",
       "    </tr>\n",
       "    <tr>\n",
       "      <th>...</th>\n",
       "      <td>...</td>\n",
       "      <td>...</td>\n",
       "      <td>...</td>\n",
       "      <td>...</td>\n",
       "      <td>...</td>\n",
       "      <td>...</td>\n",
       "      <td>...</td>\n",
       "    </tr>\n",
       "    <tr>\n",
       "      <th>404282</th>\n",
       "      <td>0.0</td>\n",
       "      <td>84.0</td>\n",
       "      <td>78.0</td>\n",
       "      <td>6.0</td>\n",
       "      <td>1.076923</td>\n",
       "      <td>8.0</td>\n",
       "      <td>0.007080</td>\n",
       "    </tr>\n",
       "    <tr>\n",
       "      <th>404283</th>\n",
       "      <td>1.0</td>\n",
       "      <td>40.0</td>\n",
       "      <td>41.0</td>\n",
       "      <td>1.0</td>\n",
       "      <td>0.975610</td>\n",
       "      <td>5.0</td>\n",
       "      <td>0.004425</td>\n",
       "    </tr>\n",
       "    <tr>\n",
       "      <th>404284</th>\n",
       "      <td>0.0</td>\n",
       "      <td>16.0</td>\n",
       "      <td>15.0</td>\n",
       "      <td>1.0</td>\n",
       "      <td>1.066667</td>\n",
       "      <td>1.0</td>\n",
       "      <td>0.000885</td>\n",
       "    </tr>\n",
       "    <tr>\n",
       "      <th>404285</th>\n",
       "      <td>0.0</td>\n",
       "      <td>92.0</td>\n",
       "      <td>124.0</td>\n",
       "      <td>32.0</td>\n",
       "      <td>0.741935</td>\n",
       "      <td>1.0</td>\n",
       "      <td>0.000885</td>\n",
       "    </tr>\n",
       "    <tr>\n",
       "      <th>404286</th>\n",
       "      <td>0.0</td>\n",
       "      <td>36.0</td>\n",
       "      <td>44.0</td>\n",
       "      <td>8.0</td>\n",
       "      <td>0.818182</td>\n",
       "      <td>7.0</td>\n",
       "      <td>0.006195</td>\n",
       "    </tr>\n",
       "  </tbody>\n",
       "</table>\n",
       "<p>404283 rows × 7 columns</p>\n",
       "</div>"
      ],
      "text/plain": [
       "        is_duplicate    l1     l2    l3        l4   lc1       lc2\n",
       "0                0.0  65.0   56.0   9.0  1.160714  10.0  0.008850\n",
       "1                0.0  46.0   83.0  37.0  0.554217   1.0  0.000885\n",
       "2                0.0  72.0   58.0  14.0  1.241379   2.0  0.001770\n",
       "3                0.0  48.0   55.0   7.0  0.872727   0.0  0.000000\n",
       "4                0.0  73.0   38.0  35.0  1.921053   3.0  0.002655\n",
       "...              ...   ...    ...   ...       ...   ...       ...\n",
       "404282           0.0  84.0   78.0   6.0  1.076923   8.0  0.007080\n",
       "404283           1.0  40.0   41.0   1.0  0.975610   5.0  0.004425\n",
       "404284           0.0  16.0   15.0   1.0  1.066667   1.0  0.000885\n",
       "404285           0.0  92.0  124.0  32.0  0.741935   1.0  0.000885\n",
       "404286           0.0  36.0   44.0   8.0  0.818182   7.0  0.006195\n",
       "\n",
       "[404283 rows x 7 columns]"
      ]
     },
     "execution_count": 36,
     "metadata": {},
     "output_type": "execute_result"
    }
   ],
   "source": [
    "data_2 = data_2.dropna(axis=0, how='any', thresh=None, subset=None, inplace=False)\n",
    "data_2.drop(['id', 'qid1', 'qid2', 'question1', 'question2'], inplace=True,axis=1)\n",
    "clean_dataset(data_2)"
   ]
  },
  {
   "cell_type": "code",
   "execution_count": null,
   "metadata": {
    "cell_id": "00043-8f489a82-cdd6-4681-9ce1-cb03371b32d5",
    "deepnote_cell_type": "code",
    "deepnote_to_be_reexecuted": false,
    "execution_millis": 55,
    "execution_start": 1638736717150,
    "source_hash": "11a525a7",
    "tags": []
   },
   "outputs": [],
   "source": [
    "y_2 = data_2['is_duplicate']\n",
    "data_2.drop('is_duplicate', inplace=True,axis=1)\n",
    "x_train_2, x_test_2, y_train_2, y_test_2 = train_test_split(data_2, y_2,  test_size=0.30, random_state=25)\n",
    "x_val_2, x_test_2, y_val_2, y_test_2 = train_test_split(x_test_2, y_test_2 ,test_size=float(1/3), random_state=25)"
   ]
  },
  {
   "cell_type": "markdown",
   "metadata": {
    "cell_id": "00045-b9ff5249-599c-4a2e-9806-5697c364b540",
    "deepnote_cell_type": "text-cell-h3",
    "is_collapsed": false,
    "tags": []
   },
   "source": [
    "### Decision Tree"
   ]
  },
  {
   "cell_type": "code",
   "execution_count": null,
   "metadata": {
    "cell_id": "00045-93b9fa14-20c4-4d7f-86e7-bcef74196388",
    "deepnote_cell_type": "code",
    "deepnote_to_be_reexecuted": false,
    "execution_millis": 948,
    "execution_start": 1638736717215,
    "source_hash": "66c050b8",
    "tags": []
   },
   "outputs": [
    {
     "name": "stdout",
     "output_type": "stream",
     "text": [
      "accuracy 0.6699522619901556\n",
      "F score 0.5655776399537692\n",
      "/shared-libs/python3.7/py/lib/python3.7/site-packages/sklearn/base.py:446: UserWarning: X does not have valid feature names, but DecisionTreeClassifier was fitted with feature names\n",
      "  \"X does not have valid feature names, but\"\n"
     ]
    }
   ],
   "source": [
    "dt = DecisionTreeClassifier(max_depth=8,min_samples_leaf=5)\n",
    "x_train_2 = x_train_2.replace((np.inf, -np.inf, np.nan), 0).reset_index(drop=True)\n",
    "y_train_2 = y_train_2.replace((np.inf, -np.inf, np.nan), 0).reset_index(drop=True)\n",
    "x_val_2 = x_val_2.replace((np.inf, -np.inf, np.nan), 0).reset_index(drop=True)\n",
    "\n",
    "x_val_2 = np.nan_to_num(x_val_2)\n",
    "dt.fit(x_train_2,y_train_2)\n",
    "y_pred = dt.predict(x_val_2)\n",
    "acc = accuracy_score(y_val_2, y_pred)\n",
    "print('accuracy',acc)\n",
    "f1 = f1_score(y_val_2,y_pred)\n",
    "print('F score',f1)"
   ]
  },
  {
   "cell_type": "markdown",
   "metadata": {
    "cell_id": "00047-7696d508-719a-4acc-94c3-08342336c4ce",
    "deepnote_cell_type": "text-cell-h3",
    "is_collapsed": false,
    "tags": []
   },
   "source": [
    "### Random Forest Classifier"
   ]
  },
  {
   "cell_type": "code",
   "execution_count": null,
   "metadata": {
    "cell_id": "00046-73b18c1f-fe1e-4573-a1a4-5fa7c09642da",
    "deepnote_cell_type": "code",
    "deepnote_to_be_reexecuted": false,
    "execution_millis": 18391,
    "execution_start": 1638736718170,
    "source_hash": "b676aa86",
    "tags": []
   },
   "outputs": [
    {
     "name": "stderr",
     "output_type": "stream",
     "text": [
      "/shared-libs/python3.7/py/lib/python3.7/site-packages/sklearn/base.py:446: UserWarning: X does not have valid feature names, but RandomForestClassifier was fitted with feature names\n",
      "  \"X does not have valid feature names, but\"\n",
      "accuracy 0.6756659823394098\n",
      "F score 0.556643167486602\n"
     ]
    }
   ],
   "source": [
    "rf = RandomForestClassifier(max_depth = None, min_samples_leaf = 100, n_estimators = 50)\n",
    "# x_train_2 = x_train_2.replace((np.inf, -np.inf, np.nan), 0).reset_index(drop=True)\n",
    "# y_train_2 = y_train_2.replace((np.inf, -np.inf, np.nan), 0).reset_index(drop=True)\n",
    "# x_val_2 = x_val_2.replace((np.inf, -np.inf, np.nan), 0).reset_index(drop=True)\n",
    "\n",
    "# x_val_2 = np.nan_to_num(x_val_2)\n",
    "rf.fit(x_train_2,y_train_2)\n",
    "y_pred = rf.predict(x_val_2)\n",
    "acc = accuracy_score(y_val_2, y_pred)\n",
    "print('accuracy',acc)\n",
    "f1 = f1_score(y_val_2,y_pred)\n",
    "print('F score',f1)"
   ]
  },
  {
   "cell_type": "code",
   "execution_count": null,
   "metadata": {
    "cell_id": "00049-5c595a38-fd69-4443-a217-b0e16e31e6a5",
    "deepnote_cell_type": "code",
    "deepnote_to_be_reexecuted": false,
    "execution_millis": 197707,
    "execution_start": 1638739248791,
    "source_hash": "c0d6a3b9",
    "tags": []
   },
   "outputs": [
    {
     "name": "stderr",
     "output_type": "stream",
     "text": [
      "/shared-libs/python3.7/py/lib/python3.7/site-packages/sklearn/base.py:446: UserWarning: X does not have valid feature names, but GradientBoostingClassifier was fitted with feature names\n",
      "  \"X does not have valid feature names, but\"\n",
      "accuracy 0.6778797397907442\n",
      "F score 0.5637916596884944\n"
     ]
    }
   ],
   "source": [
    "gb = GradientBoostingClassifier(max_depth=3,n_estimators=500)\n",
    "gb.fit(x_train_2,y_train_2)\n",
    "y_pred = gb.predict(x_val_2)\n",
    "acc = accuracy_score(y_val_2, y_pred)\n",
    "print('accuracy',acc)\n",
    "f1 = f1_score(y_val_2,y_pred)\n",
    "print('F score',f1)"
   ]
  },
  {
   "cell_type": "markdown",
   "metadata": {
    "cell_id": "00050-637b85a5-5f0b-441a-b142-4addedd7bb5c",
    "deepnote_cell_type": "text-cell-h2",
    "is_collapsed": false,
    "tags": []
   },
   "source": [
    "## LCX"
   ]
  },
  {
   "cell_type": "code",
   "execution_count": null,
   "metadata": {
    "cell_id": "00047-54159757-1451-4dcc-b93b-6b45e112f539",
    "deepnote_cell_type": "code",
    "deepnote_to_be_reexecuted": false,
    "execution_millis": 260,
    "execution_start": 1638736736565,
    "source_hash": "d0329440",
    "tags": []
   },
   "outputs": [
    {
     "data": {
      "application/vnd.deepnote.dataframe.v2+json": {
       "column_count": 9,
       "columns": [
        {
         "dtype": "float64",
         "name": "is_duplicate"
        },
        {
         "dtype": "float64",
         "name": "l1"
        },
        {
         "dtype": "float64",
         "name": "l2"
        },
        {
         "dtype": "float64",
         "name": "l3"
        },
        {
         "dtype": "float64",
         "name": "l4"
        },
        {
         "dtype": "float64",
         "name": "lc1"
        },
        {
         "dtype": "float64",
         "name": "lc2"
        },
        {
         "dtype": "float64",
         "name": "lcxs_1"
        },
        {
         "dtype": "float64",
         "name": "lcxs_2"
        },
        {
         "dtype": "int64",
         "name": "_deepnote_index_column"
        }
       ],
       "row_count": 404283,
       "rows_bottom": [
        {
         "_deepnote_index_column": 404231,
         "is_duplicate": 0,
         "l1": 105,
         "l2": 93,
         "l3": 12,
         "l4": 1.1290322580645162,
         "lc1": 5,
         "lc2": 0.004424778761061947,
         "lcxs_1": 10,
         "lcxs_2": 0.008849557522123894
        },
        {
         "_deepnote_index_column": 404232,
         "is_duplicate": 0,
         "l1": 45,
         "l2": 35,
         "l3": 10,
         "l4": 1.2857142857142858,
         "lc1": 4,
         "lc2": 0.0035398230088495575,
         "lcxs_1": 1,
         "lcxs_2": 0.0008849557522123894
        },
        {
         "_deepnote_index_column": 404233,
         "is_duplicate": 0,
         "l1": 57,
         "l2": 70,
         "l3": 13,
         "l4": 0.8142857142857143,
         "lc1": 5,
         "lc2": 0.004424778761061947,
         "lcxs_1": 2,
         "lcxs_2": 0.0017699115044247787
        },
        {
         "_deepnote_index_column": 404234,
         "is_duplicate": 0,
         "l1": 42,
         "l2": 47,
         "l3": 5,
         "l4": 0.8936170212765957,
         "lc1": 0,
         "lc2": 0,
         "lcxs_1": 1,
         "lcxs_2": 0.0008849557522123894
        },
        {
         "_deepnote_index_column": 404235,
         "is_duplicate": 0,
         "l1": 64,
         "l2": 49,
         "l3": 15,
         "l4": 1.3061224489795917,
         "lc1": 2,
         "lc2": 0.0017699115044247787,
         "lcxs_1": 6,
         "lcxs_2": 0.005309734513274336
        },
        {
         "_deepnote_index_column": 404236,
         "is_duplicate": 0,
         "l1": 34,
         "l2": 35,
         "l3": 1,
         "l4": 0.9714285714285714,
         "lc1": 3,
         "lc2": 0.002654867256637168,
         "lcxs_1": 2,
         "lcxs_2": 0.0017699115044247787
        },
        {
         "_deepnote_index_column": 404237,
         "is_duplicate": 1,
         "l1": 34,
         "l2": 34,
         "l3": 0,
         "l4": 1,
         "lc1": 2,
         "lc2": 0.0017699115044247787,
         "lcxs_1": 2,
         "lcxs_2": 0.0017699115044247787
        },
        {
         "_deepnote_index_column": 404238,
         "is_duplicate": 1,
         "l1": 33,
         "l2": 39,
         "l3": 6,
         "l4": 0.8461538461538461,
         "lc1": 5,
         "lc2": 0.004424778761061947,
         "lcxs_1": 3,
         "lcxs_2": 0.002654867256637168
        },
        {
         "_deepnote_index_column": 404239,
         "is_duplicate": 1,
         "l1": 42,
         "l2": 35,
         "l3": 7,
         "l4": 1.2,
         "lc1": 2,
         "lc2": 0.0017699115044247787,
         "lcxs_1": 3,
         "lcxs_2": 0.002654867256637168
        },
        {
         "_deepnote_index_column": 404240,
         "is_duplicate": 1,
         "l1": 54,
         "l2": 44,
         "l3": 10,
         "l4": 1.2272727272727273,
         "lc1": 1,
         "lc2": 0.0008849557522123894,
         "lcxs_1": 5,
         "lcxs_2": 0.004424778761061947
        },
        {
         "_deepnote_index_column": 404241,
         "is_duplicate": 1,
         "l1": 48,
         "l2": 45,
         "l3": 3,
         "l4": 1.0666666666666667,
         "lc1": 6,
         "lc2": 0.005309734513274336,
         "lcxs_1": 4,
         "lcxs_2": 0.0035398230088495575
        },
        {
         "_deepnote_index_column": 404242,
         "is_duplicate": 0,
         "l1": 64,
         "l2": 87,
         "l3": 23,
         "l4": 0.735632183908046,
         "lc1": 6,
         "lc2": 0.005309734513274336,
         "lcxs_1": 6,
         "lcxs_2": 0.005309734513274336
        },
        {
         "_deepnote_index_column": 404243,
         "is_duplicate": 0,
         "l1": 54,
         "l2": 95,
         "l3": 41,
         "l4": 0.5684210526315789,
         "lc1": 3,
         "lc2": 0.002654867256637168,
         "lcxs_1": 6,
         "lcxs_2": 0.005309734513274336
        },
        {
         "_deepnote_index_column": 404244,
         "is_duplicate": 1,
         "l1": 70,
         "l2": 73,
         "l3": 3,
         "l4": 0.958904109589041,
         "lc1": 2,
         "lc2": 0.0017699115044247787,
         "lcxs_1": 5,
         "lcxs_2": 0.004424778761061947
        },
        {
         "_deepnote_index_column": 404245,
         "is_duplicate": 0,
         "l1": 52,
         "l2": 29,
         "l3": 23,
         "l4": 1.793103448275862,
         "lc1": 4,
         "lc2": 0.0035398230088495575,
         "lcxs_1": 5,
         "lcxs_2": 0.004424778761061947
        },
        {
         "_deepnote_index_column": 404246,
         "is_duplicate": 1,
         "l1": 53,
         "l2": 108,
         "l3": 55,
         "l4": 0.49074074074074076,
         "lc1": 6,
         "lc2": 0.005309734513274336,
         "lcxs_1": 5,
         "lcxs_2": 0.004424778761061947
        },
        {
         "_deepnote_index_column": 404247,
         "is_duplicate": 0,
         "l1": 74,
         "l2": 38,
         "l3": 36,
         "l4": 1.9473684210526316,
         "lc1": 0,
         "lc2": 0,
         "lcxs_1": 4,
         "lcxs_2": 0.0035398230088495575
        },
        {
         "_deepnote_index_column": 404248,
         "is_duplicate": 0,
         "l1": 107,
         "l2": 69,
         "l3": 38,
         "l4": 1.5507246376811594,
         "lc1": 1,
         "lc2": 0.0008849557522123894,
         "lcxs_1": 8,
         "lcxs_2": 0.007079646017699115
        },
        {
         "_deepnote_index_column": 404249,
         "is_duplicate": 0,
         "l1": 41,
         "l2": 43,
         "l3": 2,
         "l4": 0.9534883720930233,
         "lc1": 5,
         "lc2": 0.004424778761061947,
         "lcxs_1": 5,
         "lcxs_2": 0.004424778761061947
        },
        {
         "_deepnote_index_column": 404250,
         "is_duplicate": 0,
         "l1": 36,
         "l2": 40,
         "l3": 4,
         "l4": 0.9,
         "lc1": 2,
         "lc2": 0.0017699115044247787,
         "lcxs_1": 4,
         "lcxs_2": 0.0035398230088495575
        },
        {
         "_deepnote_index_column": 404251,
         "is_duplicate": 0,
         "l1": 138,
         "l2": 169,
         "l3": 31,
         "l4": 0.8165680473372781,
         "lc1": 10,
         "lc2": 0.008849557522123894,
         "lcxs_1": 8,
         "lcxs_2": 0.007079646017699115
        },
        {
         "_deepnote_index_column": 404252,
         "is_duplicate": 0,
         "l1": 33,
         "l2": 29,
         "l3": 4,
         "l4": 1.1379310344827587,
         "lc1": 1,
         "lc2": 0.0008849557522123894,
         "lcxs_1": 1,
         "lcxs_2": 0.0008849557522123894
        },
        {
         "_deepnote_index_column": 404253,
         "is_duplicate": 0,
         "l1": 62,
         "l2": 100,
         "l3": 38,
         "l4": 0.62,
         "lc1": 8,
         "lc2": 0.007079646017699115,
         "lcxs_1": 4,
         "lcxs_2": 0.0035398230088495575
        },
        {
         "_deepnote_index_column": 404254,
         "is_duplicate": 1,
         "l1": 36,
         "l2": 25,
         "l3": 11,
         "l4": 1.44,
         "lc1": 2,
         "lc2": 0.0017699115044247787,
         "lcxs_1": 1,
         "lcxs_2": 0.0008849557522123894
        },
        {
         "_deepnote_index_column": 404255,
         "is_duplicate": 1,
         "l1": 64,
         "l2": 58,
         "l3": 6,
         "l4": 1.103448275862069,
         "lc1": 6,
         "lc2": 0.005309734513274336,
         "lcxs_1": 3,
         "lcxs_2": 0.002654867256637168
        },
        {
         "_deepnote_index_column": 404256,
         "is_duplicate": 1,
         "l1": 60,
         "l2": 47,
         "l3": 13,
         "l4": 1.2765957446808511,
         "lc1": 4,
         "lc2": 0.0035398230088495575,
         "lcxs_1": 4,
         "lcxs_2": 0.0035398230088495575
        },
        {
         "_deepnote_index_column": 404257,
         "is_duplicate": 0,
         "l1": 31,
         "l2": 39,
         "l3": 8,
         "l4": 0.7948717948717948,
         "lc1": 3,
         "lc2": 0.002654867256637168,
         "lcxs_1": 3,
         "lcxs_2": 0.002654867256637168
        },
        {
         "_deepnote_index_column": 404258,
         "is_duplicate": 1,
         "l1": 57,
         "l2": 63,
         "l3": 6,
         "l4": 0.9047619047619048,
         "lc1": 6,
         "lc2": 0.005309734513274336,
         "lcxs_1": 3,
         "lcxs_2": 0.002654867256637168
        },
        {
         "_deepnote_index_column": 404259,
         "is_duplicate": 0,
         "l1": 40,
         "l2": 31,
         "l3": 9,
         "l4": 1.2903225806451613,
         "lc1": 3,
         "lc2": 0.002654867256637168,
         "lcxs_1": 2,
         "lcxs_2": 0.0017699115044247787
        },
        {
         "_deepnote_index_column": 404260,
         "is_duplicate": 0,
         "l1": 65,
         "l2": 64,
         "l3": 1,
         "l4": 1.015625,
         "lc1": 5,
         "lc2": 0.004424778761061947,
         "lcxs_1": 6,
         "lcxs_2": 0.005309734513274336
        },
        {
         "_deepnote_index_column": 404261,
         "is_duplicate": 0,
         "l1": 75,
         "l2": 41,
         "l3": 34,
         "l4": 1.829268292682927,
         "lc1": 4,
         "lc2": 0.0035398230088495575,
         "lcxs_1": 8,
         "lcxs_2": 0.007079646017699115
        },
        {
         "_deepnote_index_column": 404262,
         "is_duplicate": 1,
         "l1": 32,
         "l2": 32,
         "l3": 0,
         "l4": 1,
         "lc1": 2,
         "lc2": 0.0017699115044247787,
         "lcxs_1": 3,
         "lcxs_2": 0.002654867256637168
        },
        {
         "_deepnote_index_column": 404263,
         "is_duplicate": 0,
         "l1": 57,
         "l2": 175,
         "l3": 118,
         "l4": 0.32571428571428573,
         "lc1": 4,
         "lc2": 0.0035398230088495575,
         "lcxs_1": 6,
         "lcxs_2": 0.005309734513274336
        },
        {
         "_deepnote_index_column": 404264,
         "is_duplicate": 1,
         "l1": 51,
         "l2": 79,
         "l3": 28,
         "l4": 0.6455696202531646,
         "lc1": 4,
         "lc2": 0.0035398230088495575,
         "lcxs_1": 2,
         "lcxs_2": 0.0017699115044247787
        },
        {
         "_deepnote_index_column": 404265,
         "is_duplicate": 0,
         "l1": 56,
         "l2": 42,
         "l3": 14,
         "l4": 1.3333333333333333,
         "lc1": 2,
         "lc2": 0.0017699115044247787,
         "lcxs_1": 7,
         "lcxs_2": 0.006194690265486726
        },
        {
         "_deepnote_index_column": 404266,
         "is_duplicate": 0,
         "l1": 51,
         "l2": 62,
         "l3": 11,
         "l4": 0.8225806451612904,
         "lc1": 3,
         "lc2": 0.002654867256637168,
         "lcxs_1": 4,
         "lcxs_2": 0.0035398230088495575
        },
        {
         "_deepnote_index_column": 404267,
         "is_duplicate": 0,
         "l1": 42,
         "l2": 39,
         "l3": 3,
         "l4": 1.0769230769230769,
         "lc1": 5,
         "lc2": 0.004424778761061947,
         "lcxs_1": 1,
         "lcxs_2": 0.0008849557522123894
        },
        {
         "_deepnote_index_column": 404268,
         "is_duplicate": 0,
         "l1": 78,
         "l2": 62,
         "l3": 16,
         "l4": 1.2580645161290323,
         "lc1": 1,
         "lc2": 0.0008849557522123894,
         "lcxs_1": 3,
         "lcxs_2": 0.002654867256637168
        },
        {
         "_deepnote_index_column": 404269,
         "is_duplicate": 1,
         "l1": 81,
         "l2": 84,
         "l3": 3,
         "l4": 0.9642857142857143,
         "lc1": 7,
         "lc2": 0.006194690265486726,
         "lcxs_1": 8,
         "lcxs_2": 0.007079646017699115
        },
        {
         "_deepnote_index_column": 404270,
         "is_duplicate": 1,
         "l1": 46,
         "l2": 82,
         "l3": 36,
         "l4": 0.5609756097560976,
         "lc1": 6,
         "lc2": 0.005309734513274336,
         "lcxs_1": 5,
         "lcxs_2": 0.004424778761061947
        },
        {
         "_deepnote_index_column": 404271,
         "is_duplicate": 1,
         "l1": 61,
         "l2": 50,
         "l3": 11,
         "l4": 1.22,
         "lc1": 4,
         "lc2": 0.0035398230088495575,
         "lcxs_1": 5,
         "lcxs_2": 0.004424778761061947
        },
        {
         "_deepnote_index_column": 404272,
         "is_duplicate": 0,
         "l1": 58,
         "l2": 77,
         "l3": 19,
         "l4": 0.7532467532467533,
         "lc1": 3,
         "lc2": 0.002654867256637168,
         "lcxs_1": 5,
         "lcxs_2": 0.004424778761061947
        },
        {
         "_deepnote_index_column": 404273,
         "is_duplicate": 0,
         "l1": 24,
         "l2": 22,
         "l3": 2,
         "l4": 1.0909090909090908,
         "lc1": 1,
         "lc2": 0.0008849557522123894,
         "lcxs_1": 1,
         "lcxs_2": 0.0008849557522123894
        },
        {
         "_deepnote_index_column": 404274,
         "is_duplicate": 0,
         "l1": 22,
         "l2": 31,
         "l3": 9,
         "l4": 0.7096774193548387,
         "lc1": 0,
         "lc2": 0,
         "lcxs_1": 1,
         "lcxs_2": 0.0008849557522123894
        },
        {
         "_deepnote_index_column": 404275,
         "is_duplicate": 0,
         "l1": 38,
         "l2": 51,
         "l3": 13,
         "l4": 0.7450980392156863,
         "lc1": 4,
         "lc2": 0.0035398230088495575,
         "lcxs_1": 1,
         "lcxs_2": 0.0008849557522123894
        },
        {
         "_deepnote_index_column": 404276,
         "is_duplicate": 0,
         "l1": 65,
         "l2": 76,
         "l3": 11,
         "l4": 0.8552631578947368,
         "lc1": 5,
         "lc2": 0.004424778761061947,
         "lcxs_1": 6,
         "lcxs_2": 0.005309734513274336
        },
        {
         "_deepnote_index_column": 404277,
         "is_duplicate": 1,
         "l1": 50,
         "l2": 54,
         "l3": 4,
         "l4": 0.9259259259259259,
         "lc1": 9,
         "lc2": 0.007964601769911504,
         "lcxs_1": 5,
         "lcxs_2": 0.004424778761061947
        },
        {
         "_deepnote_index_column": 404278,
         "is_duplicate": 1,
         "l1": 67,
         "l2": 67,
         "l3": 0,
         "l4": 1,
         "lc1": 5,
         "lc2": 0.004424778761061947,
         "lcxs_1": 1,
         "lcxs_2": 0.0008849557522123894
        },
        {
         "_deepnote_index_column": 404279,
         "is_duplicate": 1,
         "l1": 42,
         "l2": 46,
         "l3": 4,
         "l4": 0.9130434782608695,
         "lc1": 2,
         "lc2": 0.0017699115044247787,
         "lcxs_1": 4,
         "lcxs_2": 0.0035398230088495575
        },
        {
         "_deepnote_index_column": 404280,
         "is_duplicate": 0,
         "l1": 86,
         "l2": 60,
         "l3": 26,
         "l4": 1.4333333333333333,
         "lc1": 2,
         "lc2": 0.0017699115044247787,
         "lcxs_1": 4,
         "lcxs_2": 0.0035398230088495575
        },
        {
         "_deepnote_index_column": 404281,
         "is_duplicate": 1,
         "l1": 41,
         "l2": 50,
         "l3": 9,
         "l4": 0.82,
         "lc1": 3,
         "lc2": 0.002654867256637168,
         "lcxs_1": 2,
         "lcxs_2": 0.0017699115044247787
        },
        {
         "_deepnote_index_column": 404282,
         "is_duplicate": 0,
         "l1": 84,
         "l2": 78,
         "l3": 6,
         "l4": 1.0769230769230769,
         "lc1": 8,
         "lc2": 0.007079646017699115,
         "lcxs_1": 6,
         "lcxs_2": 0.005309734513274336
        },
        {
         "_deepnote_index_column": 404283,
         "is_duplicate": 1,
         "l1": 40,
         "l2": 41,
         "l3": 1,
         "l4": 0.975609756097561,
         "lc1": 5,
         "lc2": 0.004424778761061947,
         "lcxs_1": 3,
         "lcxs_2": 0.002654867256637168
        },
        {
         "_deepnote_index_column": 404284,
         "is_duplicate": 0,
         "l1": 16,
         "l2": 15,
         "l3": 1,
         "l4": 1.0666666666666667,
         "lc1": 1,
         "lc2": 0.0008849557522123894,
         "lcxs_1": 2,
         "lcxs_2": 0.0017699115044247787
        },
        {
         "_deepnote_index_column": 404285,
         "is_duplicate": 0,
         "l1": 92,
         "l2": 124,
         "l3": 32,
         "l4": 0.7419354838709677,
         "lc1": 1,
         "lc2": 0.0008849557522123894,
         "lcxs_1": 6,
         "lcxs_2": 0.005309734513274336
        },
        {
         "_deepnote_index_column": 404286,
         "is_duplicate": 0,
         "l1": 36,
         "l2": 44,
         "l3": 8,
         "l4": 0.8181818181818182,
         "lc1": 7,
         "lc2": 0.006194690265486726,
         "lcxs_1": 3,
         "lcxs_2": 0.002654867256637168
        }
       ],
       "rows_top": [
        {
         "_deepnote_index_column": 0,
         "is_duplicate": 0,
         "l1": 65,
         "l2": 56,
         "l3": 9,
         "l4": 1.1607142857142858,
         "lc1": 10,
         "lc2": 0.008849557522123894,
         "lcxs_1": 6,
         "lcxs_2": 0.005309734513274336
        },
        {
         "_deepnote_index_column": 1,
         "is_duplicate": 0,
         "l1": 46,
         "l2": 83,
         "l3": 37,
         "l4": 0.5542168674698795,
         "lc1": 1,
         "lc2": 0.0008849557522123894,
         "lcxs_1": 1,
         "lcxs_2": 0.0008849557522123894
        },
        {
         "_deepnote_index_column": 2,
         "is_duplicate": 0,
         "l1": 72,
         "l2": 58,
         "l3": 14,
         "l4": 1.2413793103448276,
         "lc1": 2,
         "lc2": 0.0017699115044247787,
         "lcxs_1": 5,
         "lcxs_2": 0.004424778761061947
        },
        {
         "_deepnote_index_column": 3,
         "is_duplicate": 0,
         "l1": 48,
         "l2": 55,
         "l3": 7,
         "l4": 0.8727272727272727,
         "lc1": 0,
         "lc2": 0,
         "lcxs_1": 3,
         "lcxs_2": 0.002654867256637168
        },
        {
         "_deepnote_index_column": 4,
         "is_duplicate": 0,
         "l1": 73,
         "l2": 38,
         "l3": 35,
         "l4": 1.9210526315789473,
         "lc1": 3,
         "lc2": 0.002654867256637168,
         "lcxs_1": 10,
         "lcxs_2": 0.008849557522123894
        },
        {
         "_deepnote_index_column": 5,
         "is_duplicate": 1,
         "l1": 81,
         "l2": 85,
         "l3": 4,
         "l4": 0.9529411764705882,
         "lc1": 6,
         "lc2": 0.005309734513274336,
         "lcxs_1": 4,
         "lcxs_2": 0.0035398230088495575
        },
        {
         "_deepnote_index_column": 6,
         "is_duplicate": 0,
         "l1": 18,
         "l2": 61,
         "l3": 43,
         "l4": 0.29508196721311475,
         "lc1": 0,
         "lc2": 0,
         "lcxs_1": 2,
         "lcxs_2": 0.0017699115044247787
        },
        {
         "_deepnote_index_column": 7,
         "is_duplicate": 1,
         "l1": 29,
         "l2": 40,
         "l3": 11,
         "l4": 0.725,
         "lc1": 3,
         "lc2": 0.002654867256637168,
         "lcxs_1": 2,
         "lcxs_2": 0.0017699115044247787
        },
        {
         "_deepnote_index_column": 8,
         "is_duplicate": 0,
         "l1": 30,
         "l2": 31,
         "l3": 1,
         "l4": 0.967741935483871,
         "lc1": 5,
         "lc2": 0.004424778761061947,
         "lcxs_1": 4,
         "lcxs_2": 0.0035398230088495575
        },
        {
         "_deepnote_index_column": 9,
         "is_duplicate": 0,
         "l1": 56,
         "l2": 48,
         "l3": 8,
         "l4": 1.1666666666666667,
         "lc1": 1,
         "lc2": 0.0008849557522123894,
         "lcxs_1": 2,
         "lcxs_2": 0.0017699115044247787
        },
        {
         "_deepnote_index_column": 10,
         "is_duplicate": 0,
         "l1": 56,
         "l2": 115,
         "l3": 59,
         "l4": 0.48695652173913045,
         "lc1": 1,
         "lc2": 0.0008849557522123894,
         "lcxs_1": 6,
         "lcxs_2": 0.005309734513274336
        },
        {
         "_deepnote_index_column": 11,
         "is_duplicate": 1,
         "l1": 42,
         "l2": 37,
         "l3": 5,
         "l4": 1.135135135135135,
         "lc1": 2,
         "lc2": 0.0017699115044247787,
         "lcxs_1": 3,
         "lcxs_2": 0.002654867256637168
        },
        {
         "_deepnote_index_column": 12,
         "is_duplicate": 1,
         "l1": 35,
         "l2": 38,
         "l3": 3,
         "l4": 0.9210526315789473,
         "lc1": 5,
         "lc2": 0.004424778761061947,
         "lcxs_1": 3,
         "lcxs_2": 0.002654867256637168
        },
        {
         "_deepnote_index_column": 13,
         "is_duplicate": 1,
         "l1": 42,
         "l2": 37,
         "l3": 5,
         "l4": 1.135135135135135,
         "lc1": 5,
         "lc2": 0.004424778761061947,
         "lcxs_1": 4,
         "lcxs_2": 0.0035398230088495575
        },
        {
         "_deepnote_index_column": 14,
         "is_duplicate": 0,
         "l1": 139,
         "l2": 138,
         "l3": 1,
         "l4": 1.0072463768115942,
         "lc1": 18,
         "lc2": 0.01592920353982301,
         "lcxs_1": 9,
         "lcxs_2": 0.007964601769911504
        },
        {
         "_deepnote_index_column": 15,
         "is_duplicate": 1,
         "l1": 91,
         "l2": 90,
         "l3": 1,
         "l4": 1.011111111111111,
         "lc1": 3,
         "lc2": 0.002654867256637168,
         "lcxs_1": 8,
         "lcxs_2": 0.007079646017699115
        },
        {
         "_deepnote_index_column": 16,
         "is_duplicate": 1,
         "l1": 27,
         "l2": 28,
         "l3": 1,
         "l4": 0.9642857142857143,
         "lc1": 2,
         "lc2": 0.0017699115044247787,
         "lcxs_1": 2,
         "lcxs_2": 0.0017699115044247787
        },
        {
         "_deepnote_index_column": 17,
         "is_duplicate": 0,
         "l1": 56,
         "l2": 39,
         "l3": 17,
         "l4": 1.435897435897436,
         "lc1": 1,
         "lc2": 0.0008849557522123894,
         "lcxs_1": 5,
         "lcxs_2": 0.004424778761061947
        },
        {
         "_deepnote_index_column": 18,
         "is_duplicate": 1,
         "l1": 81,
         "l2": 72,
         "l3": 9,
         "l4": 1.125,
         "lc1": 2,
         "lc2": 0.0017699115044247787,
         "lcxs_1": 6,
         "lcxs_2": 0.005309734513274336
        },
        {
         "_deepnote_index_column": 19,
         "is_duplicate": 0,
         "l1": 59,
         "l2": 53,
         "l3": 6,
         "l4": 1.1132075471698113,
         "lc1": 6,
         "lc2": 0.005309734513274336,
         "lcxs_1": 5,
         "lcxs_2": 0.004424778761061947
        },
        {
         "_deepnote_index_column": 20,
         "is_duplicate": 1,
         "l1": 25,
         "l2": 42,
         "l3": 17,
         "l4": 0.5952380952380952,
         "lc1": 2,
         "lc2": 0.0017699115044247787,
         "lcxs_1": 3,
         "lcxs_2": 0.002654867256637168
        },
        {
         "_deepnote_index_column": 21,
         "is_duplicate": 0,
         "l1": 35,
         "l2": 47,
         "l3": 12,
         "l4": 0.7446808510638298,
         "lc1": 3,
         "lc2": 0.002654867256637168,
         "lcxs_1": 3,
         "lcxs_2": 0.002654867256637168
        },
        {
         "_deepnote_index_column": 22,
         "is_duplicate": 0,
         "l1": 46,
         "l2": 36,
         "l3": 10,
         "l4": 1.2777777777777777,
         "lc1": 3,
         "lc2": 0.002654867256637168,
         "lcxs_1": 2,
         "lcxs_2": 0.0017699115044247787
        },
        {
         "_deepnote_index_column": 23,
         "is_duplicate": 0,
         "l1": 23,
         "l2": 56,
         "l3": 33,
         "l4": 0.4107142857142857,
         "lc1": 0,
         "lc2": 0,
         "lcxs_1": 2,
         "lcxs_2": 0.0017699115044247787
        },
        {
         "_deepnote_index_column": 24,
         "is_duplicate": 0,
         "l1": 78,
         "l2": 46,
         "l3": 32,
         "l4": 1.6956521739130435,
         "lc1": 0,
         "lc2": 0,
         "lcxs_1": 6,
         "lcxs_2": 0.005309734513274336
        },
        {
         "_deepnote_index_column": 25,
         "is_duplicate": 0,
         "l1": 78,
         "l2": 88,
         "l3": 10,
         "l4": 0.8863636363636364,
         "lc1": 12,
         "lc2": 0.010619469026548672,
         "lcxs_1": 5,
         "lcxs_2": 0.004424778761061947
        },
        {
         "_deepnote_index_column": 26,
         "is_duplicate": 0,
         "l1": 23,
         "l2": 37,
         "l3": 14,
         "l4": 0.6216216216216216,
         "lc1": 3,
         "lc2": 0.002654867256637168,
         "lcxs_1": 2,
         "lcxs_2": 0.0017699115044247787
        },
        {
         "_deepnote_index_column": 27,
         "is_duplicate": 0,
         "l1": 48,
         "l2": 39,
         "l3": 9,
         "l4": 1.2307692307692308,
         "lc1": 2,
         "lc2": 0.0017699115044247787,
         "lcxs_1": 5,
         "lcxs_2": 0.004424778761061947
        },
        {
         "_deepnote_index_column": 28,
         "is_duplicate": 0,
         "l1": 37,
         "l2": 40,
         "l3": 3,
         "l4": 0.925,
         "lc1": 6,
         "lc2": 0.005309734513274336,
         "lcxs_1": 5,
         "lcxs_2": 0.004424778761061947
        },
        {
         "_deepnote_index_column": 29,
         "is_duplicate": 1,
         "l1": 37,
         "l2": 67,
         "l3": 30,
         "l4": 0.5522388059701493,
         "lc1": 4,
         "lc2": 0.0035398230088495575,
         "lcxs_1": 3,
         "lcxs_2": 0.002654867256637168
        },
        {
         "_deepnote_index_column": 30,
         "is_duplicate": 0,
         "l1": 43,
         "l2": 45,
         "l3": 2,
         "l4": 0.9555555555555556,
         "lc1": 5,
         "lc2": 0.004424778761061947,
         "lcxs_1": 5,
         "lcxs_2": 0.004424778761061947
        },
        {
         "_deepnote_index_column": 31,
         "is_duplicate": 1,
         "l1": 85,
         "l2": 51,
         "l3": 34,
         "l4": 1.6666666666666667,
         "lc1": 3,
         "lc2": 0.002654867256637168,
         "lcxs_1": 7,
         "lcxs_2": 0.006194690265486726
        },
        {
         "_deepnote_index_column": 32,
         "is_duplicate": 1,
         "l1": 71,
         "l2": 70,
         "l3": 1,
         "l4": 1.0142857142857142,
         "lc1": 9,
         "lc2": 0.007964601769911504,
         "lcxs_1": 5,
         "lcxs_2": 0.004424778761061947
        },
        {
         "_deepnote_index_column": 33,
         "is_duplicate": 0,
         "l1": 122,
         "l2": 52,
         "l3": 70,
         "l4": 2.3461538461538463,
         "lc1": 1,
         "lc2": 0.0008849557522123894,
         "lcxs_1": 8,
         "lcxs_2": 0.007079646017699115
        },
        {
         "_deepnote_index_column": 34,
         "is_duplicate": 0,
         "l1": 40,
         "l2": 31,
         "l3": 9,
         "l4": 1.2903225806451613,
         "lc1": 5,
         "lc2": 0.004424778761061947,
         "lcxs_1": 4,
         "lcxs_2": 0.0035398230088495575
        },
        {
         "_deepnote_index_column": 35,
         "is_duplicate": 0,
         "l1": 63,
         "l2": 76,
         "l3": 13,
         "l4": 0.8289473684210527,
         "lc1": 5,
         "lc2": 0.004424778761061947,
         "lcxs_1": 6,
         "lcxs_2": 0.005309734513274336
        },
        {
         "_deepnote_index_column": 36,
         "is_duplicate": 0,
         "l1": 110,
         "l2": 74,
         "l3": 36,
         "l4": 1.4864864864864864,
         "lc1": 7,
         "lc2": 0.006194690265486726,
         "lcxs_1": 7,
         "lcxs_2": 0.006194690265486726
        },
        {
         "_deepnote_index_column": 37,
         "is_duplicate": 0,
         "l1": 121,
         "l2": 191,
         "l3": 70,
         "l4": 0.6335078534031413,
         "lc1": 5,
         "lc2": 0.004424778761061947,
         "lcxs_1": 8,
         "lcxs_2": 0.007079646017699115
        },
        {
         "_deepnote_index_column": 38,
         "is_duplicate": 1,
         "l1": 26,
         "l2": 34,
         "l3": 8,
         "l4": 0.7647058823529411,
         "lc1": 3,
         "lc2": 0.002654867256637168,
         "lcxs_1": 1,
         "lcxs_2": 0.0008849557522123894
        },
        {
         "_deepnote_index_column": 39,
         "is_duplicate": 0,
         "l1": 69,
         "l2": 68,
         "l3": 1,
         "l4": 1.0147058823529411,
         "lc1": 2,
         "lc2": 0.0017699115044247787,
         "lcxs_1": 7,
         "lcxs_2": 0.006194690265486726
        },
        {
         "_deepnote_index_column": 40,
         "is_duplicate": 0,
         "l1": 18,
         "l2": 32,
         "l3": 14,
         "l4": 0.5625,
         "lc1": 0,
         "lc2": 0,
         "lcxs_1": 1,
         "lcxs_2": 0.0008849557522123894
        },
        {
         "_deepnote_index_column": 41,
         "is_duplicate": 0,
         "l1": 48,
         "l2": 45,
         "l3": 3,
         "l4": 1.0666666666666667,
         "lc1": 4,
         "lc2": 0.0035398230088495575,
         "lcxs_1": 3,
         "lcxs_2": 0.002654867256637168
        },
        {
         "_deepnote_index_column": 42,
         "is_duplicate": 0,
         "l1": 39,
         "l2": 39,
         "l3": 0,
         "l4": 1,
         "lc1": 6,
         "lc2": 0.005309734513274336,
         "lcxs_1": 5,
         "lcxs_2": 0.004424778761061947
        },
        {
         "_deepnote_index_column": 43,
         "is_duplicate": 0,
         "l1": 66,
         "l2": 29,
         "l3": 37,
         "l4": 2.2758620689655173,
         "lc1": 4,
         "lc2": 0.0035398230088495575,
         "lcxs_1": 6,
         "lcxs_2": 0.005309734513274336
        },
        {
         "_deepnote_index_column": 44,
         "is_duplicate": 0,
         "l1": 86,
         "l2": 87,
         "l3": 1,
         "l4": 0.9885057471264368,
         "lc1": 11,
         "lc2": 0.009734513274336283,
         "lcxs_1": 6,
         "lcxs_2": 0.005309734513274336
        },
        {
         "_deepnote_index_column": 45,
         "is_duplicate": 0,
         "l1": 56,
         "l2": 53,
         "l3": 3,
         "l4": 1.0566037735849056,
         "lc1": 2,
         "lc2": 0.0017699115044247787,
         "lcxs_1": 4,
         "lcxs_2": 0.0035398230088495575
        },
        {
         "_deepnote_index_column": 46,
         "is_duplicate": 0,
         "l1": 58,
         "l2": 58,
         "l3": 0,
         "l4": 1,
         "lc1": 0,
         "lc2": 0,
         "lcxs_1": 1,
         "lcxs_2": 0.0008849557522123894
        },
        {
         "_deepnote_index_column": 47,
         "is_duplicate": 0,
         "l1": 132,
         "l2": 53,
         "l3": 79,
         "l4": 2.490566037735849,
         "lc1": 3,
         "lc2": 0.002654867256637168,
         "lcxs_1": 9,
         "lcxs_2": 0.007964601769911504
        },
        {
         "_deepnote_index_column": 48,
         "is_duplicate": 1,
         "l1": 66,
         "l2": 49,
         "l3": 17,
         "l4": 1.346938775510204,
         "lc1": 7,
         "lc2": 0.006194690265486726,
         "lcxs_1": 5,
         "lcxs_2": 0.004424778761061947
        },
        {
         "_deepnote_index_column": 49,
         "is_duplicate": 1,
         "l1": 21,
         "l2": 20,
         "l3": 1,
         "l4": 1.05,
         "lc1": 2,
         "lc2": 0.0017699115044247787,
         "lcxs_1": 2,
         "lcxs_2": 0.0017699115044247787
        },
        {
         "_deepnote_index_column": 50,
         "is_duplicate": 1,
         "l1": 51,
         "l2": 53,
         "l3": 2,
         "l4": 0.9622641509433962,
         "lc1": 1,
         "lc2": 0.0008849557522123894,
         "lcxs_1": 2,
         "lcxs_2": 0.0017699115044247787
        },
        {
         "_deepnote_index_column": 51,
         "is_duplicate": 1,
         "l1": 53,
         "l2": 54,
         "l3": 1,
         "l4": 0.9814814814814815,
         "lc1": 5,
         "lc2": 0.004424778761061947,
         "lcxs_1": 3,
         "lcxs_2": 0.002654867256637168
        },
        {
         "_deepnote_index_column": 52,
         "is_duplicate": 0,
         "l1": 20,
         "l2": 51,
         "l3": 31,
         "l4": 0.39215686274509803,
         "lc1": 0,
         "lc2": 0,
         "lcxs_1": 2,
         "lcxs_2": 0.0017699115044247787
        },
        {
         "_deepnote_index_column": 53,
         "is_duplicate": 1,
         "l1": 61,
         "l2": 56,
         "l3": 5,
         "l4": 1.0892857142857142,
         "lc1": 7,
         "lc2": 0.006194690265486726,
         "lcxs_1": 6,
         "lcxs_2": 0.005309734513274336
        },
        {
         "_deepnote_index_column": 54,
         "is_duplicate": 0,
         "l1": 40,
         "l2": 25,
         "l3": 15,
         "l4": 1.6,
         "lc1": 0,
         "lc2": 0,
         "lcxs_1": 3,
         "lcxs_2": 0.002654867256637168
        }
       ]
      },
      "text/html": [
       "<div>\n",
       "<style scoped>\n",
       "    .dataframe tbody tr th:only-of-type {\n",
       "        vertical-align: middle;\n",
       "    }\n",
       "\n",
       "    .dataframe tbody tr th {\n",
       "        vertical-align: top;\n",
       "    }\n",
       "\n",
       "    .dataframe thead th {\n",
       "        text-align: right;\n",
       "    }\n",
       "</style>\n",
       "<table border=\"1\" class=\"dataframe\">\n",
       "  <thead>\n",
       "    <tr style=\"text-align: right;\">\n",
       "      <th></th>\n",
       "      <th>is_duplicate</th>\n",
       "      <th>l1</th>\n",
       "      <th>l2</th>\n",
       "      <th>l3</th>\n",
       "      <th>l4</th>\n",
       "      <th>lc1</th>\n",
       "      <th>lc2</th>\n",
       "      <th>lcxs_1</th>\n",
       "      <th>lcxs_2</th>\n",
       "    </tr>\n",
       "  </thead>\n",
       "  <tbody>\n",
       "    <tr>\n",
       "      <th>0</th>\n",
       "      <td>0.0</td>\n",
       "      <td>65.0</td>\n",
       "      <td>56.0</td>\n",
       "      <td>9.0</td>\n",
       "      <td>1.160714</td>\n",
       "      <td>10.0</td>\n",
       "      <td>0.008850</td>\n",
       "      <td>6.0</td>\n",
       "      <td>0.005310</td>\n",
       "    </tr>\n",
       "    <tr>\n",
       "      <th>1</th>\n",
       "      <td>0.0</td>\n",
       "      <td>46.0</td>\n",
       "      <td>83.0</td>\n",
       "      <td>37.0</td>\n",
       "      <td>0.554217</td>\n",
       "      <td>1.0</td>\n",
       "      <td>0.000885</td>\n",
       "      <td>1.0</td>\n",
       "      <td>0.000885</td>\n",
       "    </tr>\n",
       "    <tr>\n",
       "      <th>2</th>\n",
       "      <td>0.0</td>\n",
       "      <td>72.0</td>\n",
       "      <td>58.0</td>\n",
       "      <td>14.0</td>\n",
       "      <td>1.241379</td>\n",
       "      <td>2.0</td>\n",
       "      <td>0.001770</td>\n",
       "      <td>5.0</td>\n",
       "      <td>0.004425</td>\n",
       "    </tr>\n",
       "    <tr>\n",
       "      <th>3</th>\n",
       "      <td>0.0</td>\n",
       "      <td>48.0</td>\n",
       "      <td>55.0</td>\n",
       "      <td>7.0</td>\n",
       "      <td>0.872727</td>\n",
       "      <td>0.0</td>\n",
       "      <td>0.000000</td>\n",
       "      <td>3.0</td>\n",
       "      <td>0.002655</td>\n",
       "    </tr>\n",
       "    <tr>\n",
       "      <th>4</th>\n",
       "      <td>0.0</td>\n",
       "      <td>73.0</td>\n",
       "      <td>38.0</td>\n",
       "      <td>35.0</td>\n",
       "      <td>1.921053</td>\n",
       "      <td>3.0</td>\n",
       "      <td>0.002655</td>\n",
       "      <td>10.0</td>\n",
       "      <td>0.008850</td>\n",
       "    </tr>\n",
       "    <tr>\n",
       "      <th>...</th>\n",
       "      <td>...</td>\n",
       "      <td>...</td>\n",
       "      <td>...</td>\n",
       "      <td>...</td>\n",
       "      <td>...</td>\n",
       "      <td>...</td>\n",
       "      <td>...</td>\n",
       "      <td>...</td>\n",
       "      <td>...</td>\n",
       "    </tr>\n",
       "    <tr>\n",
       "      <th>404282</th>\n",
       "      <td>0.0</td>\n",
       "      <td>84.0</td>\n",
       "      <td>78.0</td>\n",
       "      <td>6.0</td>\n",
       "      <td>1.076923</td>\n",
       "      <td>8.0</td>\n",
       "      <td>0.007080</td>\n",
       "      <td>6.0</td>\n",
       "      <td>0.005310</td>\n",
       "    </tr>\n",
       "    <tr>\n",
       "      <th>404283</th>\n",
       "      <td>1.0</td>\n",
       "      <td>40.0</td>\n",
       "      <td>41.0</td>\n",
       "      <td>1.0</td>\n",
       "      <td>0.975610</td>\n",
       "      <td>5.0</td>\n",
       "      <td>0.004425</td>\n",
       "      <td>3.0</td>\n",
       "      <td>0.002655</td>\n",
       "    </tr>\n",
       "    <tr>\n",
       "      <th>404284</th>\n",
       "      <td>0.0</td>\n",
       "      <td>16.0</td>\n",
       "      <td>15.0</td>\n",
       "      <td>1.0</td>\n",
       "      <td>1.066667</td>\n",
       "      <td>1.0</td>\n",
       "      <td>0.000885</td>\n",
       "      <td>2.0</td>\n",
       "      <td>0.001770</td>\n",
       "    </tr>\n",
       "    <tr>\n",
       "      <th>404285</th>\n",
       "      <td>0.0</td>\n",
       "      <td>92.0</td>\n",
       "      <td>124.0</td>\n",
       "      <td>32.0</td>\n",
       "      <td>0.741935</td>\n",
       "      <td>1.0</td>\n",
       "      <td>0.000885</td>\n",
       "      <td>6.0</td>\n",
       "      <td>0.005310</td>\n",
       "    </tr>\n",
       "    <tr>\n",
       "      <th>404286</th>\n",
       "      <td>0.0</td>\n",
       "      <td>36.0</td>\n",
       "      <td>44.0</td>\n",
       "      <td>8.0</td>\n",
       "      <td>0.818182</td>\n",
       "      <td>7.0</td>\n",
       "      <td>0.006195</td>\n",
       "      <td>3.0</td>\n",
       "      <td>0.002655</td>\n",
       "    </tr>\n",
       "  </tbody>\n",
       "</table>\n",
       "<p>404283 rows × 9 columns</p>\n",
       "</div>"
      ],
      "text/plain": [
       "        is_duplicate    l1     l2    l3        l4   lc1       lc2  lcxs_1  \\\n",
       "0                0.0  65.0   56.0   9.0  1.160714  10.0  0.008850     6.0   \n",
       "1                0.0  46.0   83.0  37.0  0.554217   1.0  0.000885     1.0   \n",
       "2                0.0  72.0   58.0  14.0  1.241379   2.0  0.001770     5.0   \n",
       "3                0.0  48.0   55.0   7.0  0.872727   0.0  0.000000     3.0   \n",
       "4                0.0  73.0   38.0  35.0  1.921053   3.0  0.002655    10.0   \n",
       "...              ...   ...    ...   ...       ...   ...       ...     ...   \n",
       "404282           0.0  84.0   78.0   6.0  1.076923   8.0  0.007080     6.0   \n",
       "404283           1.0  40.0   41.0   1.0  0.975610   5.0  0.004425     3.0   \n",
       "404284           0.0  16.0   15.0   1.0  1.066667   1.0  0.000885     2.0   \n",
       "404285           0.0  92.0  124.0  32.0  0.741935   1.0  0.000885     6.0   \n",
       "404286           0.0  36.0   44.0   8.0  0.818182   7.0  0.006195     3.0   \n",
       "\n",
       "          lcxs_2  \n",
       "0       0.005310  \n",
       "1       0.000885  \n",
       "2       0.004425  \n",
       "3       0.002655  \n",
       "4       0.008850  \n",
       "...          ...  \n",
       "404282  0.005310  \n",
       "404283  0.002655  \n",
       "404284  0.001770  \n",
       "404285  0.005310  \n",
       "404286  0.002655  \n",
       "\n",
       "[404283 rows x 9 columns]"
      ]
     },
     "execution_count": 40,
     "metadata": {},
     "output_type": "execute_result"
    }
   ],
   "source": [
    "data3 = data3.dropna(axis=0, how='any', thresh=None, subset=None, inplace=False)\n",
    "data3.drop(['id', 'qid1', 'qid2', 'question1', 'question2'], inplace=True,axis=1)\n",
    "clean_dataset(data3)"
   ]
  },
  {
   "cell_type": "code",
   "execution_count": null,
   "metadata": {
    "cell_id": "00048-60c72189-4921-44ff-8410-262082138415",
    "deepnote_cell_type": "code",
    "deepnote_to_be_reexecuted": false,
    "execution_millis": 64,
    "execution_start": 1638736736835,
    "source_hash": "e339119f",
    "tags": []
   },
   "outputs": [],
   "source": [
    "y_3 = data3['is_duplicate']\n",
    "data3.drop('is_duplicate', inplace=True,axis=1)\n",
    "x_train_3, x_test_3, y_train_3, y_test_3 = train_test_split(data3, y_3,  test_size=0.30, random_state=25)\n",
    "x_val_3, x_test_3, y_val_3, y_test_3 = train_test_split(x_test_3, y_test_3 ,test_size=float(1/3), random_state=25)"
   ]
  },
  {
   "cell_type": "code",
   "execution_count": null,
   "metadata": {
    "cell_id": "00049-65968f91-ff15-43b4-b300-f3be948d5f19",
    "deepnote_cell_type": "code",
    "deepnote_to_be_reexecuted": false,
    "execution_millis": 1124,
    "execution_start": 1638736736922,
    "source_hash": "b127346b",
    "tags": []
   },
   "outputs": [
    {
     "name": "stdout",
     "output_type": "stream",
     "text": [
      "accuracy 0.6707437730342081\n",
      "F score 0.5674924863942815\n",
      "/shared-libs/python3.7/py/lib/python3.7/site-packages/sklearn/base.py:446: UserWarning: X does not have valid feature names, but DecisionTreeClassifier was fitted with feature names\n",
      "  \"X does not have valid feature names, but\"\n"
     ]
    }
   ],
   "source": [
    "dt = DecisionTreeClassifier(max_depth=8,min_samples_leaf=5)\n",
    "x_train_3 = x_train_3.replace((np.inf, -np.inf, np.nan), 0).reset_index(drop=True)\n",
    "y_train_3 = y_train_3.replace((np.inf, -np.inf, np.nan), 0).reset_index(drop=True)\n",
    "x_val_3 = x_val_3.replace((np.inf, -np.inf, np.nan), 0).reset_index(drop=True)\n",
    "\n",
    "x_val_3 = np.nan_to_num(x_val_3)\n",
    "dt.fit(x_train_3,y_train_3)\n",
    "y_pred = dt.predict(x_val_3)\n",
    "acc = accuracy_score(y_val_3, y_pred)\n",
    "print('accuracy',acc)\n",
    "f1 = f1_score(y_val_3,y_pred)\n",
    "print('F score',f1)"
   ]
  },
  {
   "cell_type": "code",
   "execution_count": null,
   "metadata": {
    "cell_id": "00050-7743f7fa-2f27-4087-9ea6-b52324771255",
    "deepnote_cell_type": "code",
    "deepnote_to_be_reexecuted": false,
    "execution_millis": 18968,
    "execution_start": 1638736738061,
    "source_hash": "65de7aaa",
    "tags": []
   },
   "outputs": [
    {
     "name": "stderr",
     "output_type": "stream",
     "text": [
      "/shared-libs/python3.7/py/lib/python3.7/site-packages/sklearn/base.py:446: UserWarning: X does not have valid feature names, but RandomForestClassifier was fitted with feature names\n",
      "  \"X does not have valid feature names, but\"\n",
      "accuracy 0.6794751292389126\n",
      "F score 0.5598260840027853\n"
     ]
    }
   ],
   "source": [
    "rf = RandomForestClassifier(max_depth = None, min_samples_leaf = 100, n_estimators = 50)\n",
    "# x_train_2 = x_train_2.replace((np.inf, -np.inf, np.nan), 0).reset_index(drop=True)\n",
    "# y_train_2 = y_train_2.replace((np.inf, -np.inf, np.nan), 0).reset_index(drop=True)\n",
    "# x_val_2 = x_val_2.replace((np.inf, -np.inf, np.nan), 0).reset_index(drop=True)\n",
    "\n",
    "# x_val_2 = np.nan_to_num(x_val_2)\n",
    "rf.fit(x_train_3,y_train_3)\n",
    "y_pred = rf.predict(x_val_3)\n",
    "acc = accuracy_score(y_val_3, y_pred)\n",
    "print('accuracy',acc)\n",
    "f1 = f1_score(y_val_3,y_pred)\n",
    "print('F score',f1)"
   ]
  },
  {
   "cell_type": "code",
   "execution_count": null,
   "metadata": {
    "cell_id": "00055-6bb5a069-7958-4b2e-a158-0de6ecd90152",
    "deepnote_cell_type": "code",
    "deepnote_to_be_reexecuted": false,
    "execution_millis": 240114,
    "execution_start": 1638740137360,
    "source_hash": "9816d5df",
    "tags": []
   },
   "outputs": [
    {
     "name": "stderr",
     "output_type": "stream",
     "text": [
      "/shared-libs/python3.7/py/lib/python3.7/site-packages/sklearn/base.py:446: UserWarning: X does not have valid feature names, but GradientBoostingClassifier was fitted with feature names\n",
      "  \"X does not have valid feature names, but\"\n",
      "accuracy 0.7028123376783991\n",
      "F score 0.5522805187062155\n"
     ]
    }
   ],
   "source": [
    "gb = GradientBoostingClassifier(max_depth=3,n_estimators=500)\n",
    "gb.fit(x_train_4,y_train_4)\n",
    "y_pred = gb.predict(x_val_4)\n",
    "acc = accuracy_score(y_val_4, y_pred)\n",
    "print('accuracy',acc)\n",
    "f1 = f1_score(y_val_4,y_pred)\n",
    "print('F score',f1)"
   ]
  },
  {
   "cell_type": "code",
   "execution_count": null,
   "metadata": {
    "cell_id": "00051-65a26f6d-8b1a-4147-8da4-ee15a0f5669c",
    "deepnote_cell_type": "code",
    "deepnote_to_be_reexecuted": false,
    "execution_millis": 314,
    "execution_start": 1638736757033,
    "source_hash": "4f24ee3c",
    "tags": []
   },
   "outputs": [
    {
     "data": {
      "application/vnd.deepnote.dataframe.v2+json": {
       "column_count": 10,
       "columns": [
        {
         "dtype": "float64",
         "name": "is_duplicate"
        },
        {
         "dtype": "float64",
         "name": "l1"
        },
        {
         "dtype": "float64",
         "name": "l2"
        },
        {
         "dtype": "float64",
         "name": "l3"
        },
        {
         "dtype": "float64",
         "name": "l4"
        },
        {
         "dtype": "float64",
         "name": "lc1"
        },
        {
         "dtype": "float64",
         "name": "lc2"
        },
        {
         "dtype": "float64",
         "name": "lcxs_1"
        },
        {
         "dtype": "float64",
         "name": "lcxs_2"
        },
        {
         "dtype": "float64",
         "name": "lw_1"
        },
        {
         "dtype": "int64",
         "name": "_deepnote_index_column"
        }
       ],
       "row_count": 404283,
       "rows_bottom": [
        {
         "_deepnote_index_column": 404237,
         "is_duplicate": 1,
         "l1": 34,
         "l2": 34,
         "l3": 0,
         "l4": 1,
         "lc1": 2,
         "lc2": 0.0017699115044247787,
         "lcxs_1": 2,
         "lcxs_2": 0.0017699115044247787,
         "lw_1": 1
        },
        {
         "_deepnote_index_column": 404238,
         "is_duplicate": 1,
         "l1": 33,
         "l2": 39,
         "l3": 6,
         "l4": 0.8461538461538461,
         "lc1": 5,
         "lc2": 0.004424778761061947,
         "lcxs_1": 3,
         "lcxs_2": 0.002654867256637168,
         "lw_1": 1
        },
        {
         "_deepnote_index_column": 404239,
         "is_duplicate": 1,
         "l1": 42,
         "l2": 35,
         "l3": 7,
         "l4": 1.2,
         "lc1": 2,
         "lc2": 0.0017699115044247787,
         "lcxs_1": 3,
         "lcxs_2": 0.002654867256637168,
         "lw_1": 1
        },
        {
         "_deepnote_index_column": 404240,
         "is_duplicate": 1,
         "l1": 54,
         "l2": 44,
         "l3": 10,
         "l4": 1.2272727272727273,
         "lc1": 1,
         "lc2": 0.0008849557522123894,
         "lcxs_1": 5,
         "lcxs_2": 0.004424778761061947,
         "lw_1": 0
        },
        {
         "_deepnote_index_column": 404241,
         "is_duplicate": 1,
         "l1": 48,
         "l2": 45,
         "l3": 3,
         "l4": 1.0666666666666667,
         "lc1": 6,
         "lc2": 0.005309734513274336,
         "lcxs_1": 4,
         "lcxs_2": 0.0035398230088495575,
         "lw_1": 0
        },
        {
         "_deepnote_index_column": 404242,
         "is_duplicate": 0,
         "l1": 64,
         "l2": 87,
         "l3": 23,
         "l4": 0.735632183908046,
         "lc1": 6,
         "lc2": 0.005309734513274336,
         "lcxs_1": 6,
         "lcxs_2": 0.005309734513274336,
         "lw_1": 0
        },
        {
         "_deepnote_index_column": 404243,
         "is_duplicate": 0,
         "l1": 54,
         "l2": 95,
         "l3": 41,
         "l4": 0.5684210526315789,
         "lc1": 3,
         "lc2": 0.002654867256637168,
         "lcxs_1": 6,
         "lcxs_2": 0.005309734513274336,
         "lw_1": 0
        },
        {
         "_deepnote_index_column": 404244,
         "is_duplicate": 1,
         "l1": 70,
         "l2": 73,
         "l3": 3,
         "l4": 0.958904109589041,
         "lc1": 2,
         "lc2": 0.0017699115044247787,
         "lcxs_1": 5,
         "lcxs_2": 0.004424778761061947,
         "lw_1": 1
        },
        {
         "_deepnote_index_column": 404245,
         "is_duplicate": 0,
         "l1": 52,
         "l2": 29,
         "l3": 23,
         "l4": 1.793103448275862,
         "lc1": 4,
         "lc2": 0.0035398230088495575,
         "lcxs_1": 5,
         "lcxs_2": 0.004424778761061947,
         "lw_1": 0
        },
        {
         "_deepnote_index_column": 404246,
         "is_duplicate": 1,
         "l1": 53,
         "l2": 108,
         "l3": 55,
         "l4": 0.49074074074074076,
         "lc1": 6,
         "lc2": 0.005309734513274336,
         "lcxs_1": 5,
         "lcxs_2": 0.004424778761061947,
         "lw_1": 1
        },
        {
         "_deepnote_index_column": 404247,
         "is_duplicate": 0,
         "l1": 74,
         "l2": 38,
         "l3": 36,
         "l4": 1.9473684210526316,
         "lc1": 0,
         "lc2": 0,
         "lcxs_1": 4,
         "lcxs_2": 0.0035398230088495575,
         "lw_1": 0
        },
        {
         "_deepnote_index_column": 404248,
         "is_duplicate": 0,
         "l1": 107,
         "l2": 69,
         "l3": 38,
         "l4": 1.5507246376811594,
         "lc1": 1,
         "lc2": 0.0008849557522123894,
         "lcxs_1": 8,
         "lcxs_2": 0.007079646017699115,
         "lw_1": 0
        },
        {
         "_deepnote_index_column": 404249,
         "is_duplicate": 0,
         "l1": 41,
         "l2": 43,
         "l3": 2,
         "l4": 0.9534883720930233,
         "lc1": 5,
         "lc2": 0.004424778761061947,
         "lcxs_1": 5,
         "lcxs_2": 0.004424778761061947,
         "lw_1": 0
        },
        {
         "_deepnote_index_column": 404250,
         "is_duplicate": 0,
         "l1": 36,
         "l2": 40,
         "l3": 4,
         "l4": 0.9,
         "lc1": 2,
         "lc2": 0.0017699115044247787,
         "lcxs_1": 4,
         "lcxs_2": 0.0035398230088495575,
         "lw_1": 0
        },
        {
         "_deepnote_index_column": 404251,
         "is_duplicate": 0,
         "l1": 138,
         "l2": 169,
         "l3": 31,
         "l4": 0.8165680473372781,
         "lc1": 10,
         "lc2": 0.008849557522123894,
         "lcxs_1": 8,
         "lcxs_2": 0.007079646017699115,
         "lw_1": 0
        },
        {
         "_deepnote_index_column": 404252,
         "is_duplicate": 0,
         "l1": 33,
         "l2": 29,
         "l3": 4,
         "l4": 1.1379310344827587,
         "lc1": 1,
         "lc2": 0.0008849557522123894,
         "lcxs_1": 1,
         "lcxs_2": 0.0008849557522123894,
         "lw_1": 0
        },
        {
         "_deepnote_index_column": 404253,
         "is_duplicate": 0,
         "l1": 62,
         "l2": 100,
         "l3": 38,
         "l4": 0.62,
         "lc1": 8,
         "lc2": 0.007079646017699115,
         "lcxs_1": 4,
         "lcxs_2": 0.0035398230088495575,
         "lw_1": 0
        },
        {
         "_deepnote_index_column": 404254,
         "is_duplicate": 1,
         "l1": 36,
         "l2": 25,
         "l3": 11,
         "l4": 1.44,
         "lc1": 2,
         "lc2": 0.0017699115044247787,
         "lcxs_1": 1,
         "lcxs_2": 0.0008849557522123894,
         "lw_1": 1
        },
        {
         "_deepnote_index_column": 404255,
         "is_duplicate": 1,
         "l1": 64,
         "l2": 58,
         "l3": 6,
         "l4": 1.103448275862069,
         "lc1": 6,
         "lc2": 0.005309734513274336,
         "lcxs_1": 3,
         "lcxs_2": 0.002654867256637168,
         "lw_1": 0
        },
        {
         "_deepnote_index_column": 404256,
         "is_duplicate": 1,
         "l1": 60,
         "l2": 47,
         "l3": 13,
         "l4": 1.2765957446808511,
         "lc1": 4,
         "lc2": 0.0035398230088495575,
         "lcxs_1": 4,
         "lcxs_2": 0.0035398230088495575,
         "lw_1": 1
        },
        {
         "_deepnote_index_column": 404257,
         "is_duplicate": 0,
         "l1": 31,
         "l2": 39,
         "l3": 8,
         "l4": 0.7948717948717948,
         "lc1": 3,
         "lc2": 0.002654867256637168,
         "lcxs_1": 3,
         "lcxs_2": 0.002654867256637168,
         "lw_1": 0
        },
        {
         "_deepnote_index_column": 404258,
         "is_duplicate": 1,
         "l1": 57,
         "l2": 63,
         "l3": 6,
         "l4": 0.9047619047619048,
         "lc1": 6,
         "lc2": 0.005309734513274336,
         "lcxs_1": 3,
         "lcxs_2": 0.002654867256637168,
         "lw_1": 0
        },
        {
         "_deepnote_index_column": 404259,
         "is_duplicate": 0,
         "l1": 40,
         "l2": 31,
         "l3": 9,
         "l4": 1.2903225806451613,
         "lc1": 3,
         "lc2": 0.002654867256637168,
         "lcxs_1": 2,
         "lcxs_2": 0.0017699115044247787,
         "lw_1": 1
        },
        {
         "_deepnote_index_column": 404260,
         "is_duplicate": 0,
         "l1": 65,
         "l2": 64,
         "l3": 1,
         "l4": 1.015625,
         "lc1": 5,
         "lc2": 0.004424778761061947,
         "lcxs_1": 6,
         "lcxs_2": 0.005309734513274336,
         "lw_1": 0
        },
        {
         "_deepnote_index_column": 404261,
         "is_duplicate": 0,
         "l1": 75,
         "l2": 41,
         "l3": 34,
         "l4": 1.829268292682927,
         "lc1": 4,
         "lc2": 0.0035398230088495575,
         "lcxs_1": 8,
         "lcxs_2": 0.007079646017699115,
         "lw_1": 0
        },
        {
         "_deepnote_index_column": 404262,
         "is_duplicate": 1,
         "l1": 32,
         "l2": 32,
         "l3": 0,
         "l4": 1,
         "lc1": 2,
         "lc2": 0.0017699115044247787,
         "lcxs_1": 3,
         "lcxs_2": 0.002654867256637168,
         "lw_1": 0
        },
        {
         "_deepnote_index_column": 404263,
         "is_duplicate": 0,
         "l1": 57,
         "l2": 175,
         "l3": 118,
         "l4": 0.32571428571428573,
         "lc1": 4,
         "lc2": 0.0035398230088495575,
         "lcxs_1": 6,
         "lcxs_2": 0.005309734513274336,
         "lw_1": 0
        },
        {
         "_deepnote_index_column": 404264,
         "is_duplicate": 1,
         "l1": 51,
         "l2": 79,
         "l3": 28,
         "l4": 0.6455696202531646,
         "lc1": 4,
         "lc2": 0.0035398230088495575,
         "lcxs_1": 2,
         "lcxs_2": 0.0017699115044247787,
         "lw_1": 1
        },
        {
         "_deepnote_index_column": 404265,
         "is_duplicate": 0,
         "l1": 56,
         "l2": 42,
         "l3": 14,
         "l4": 1.3333333333333333,
         "lc1": 2,
         "lc2": 0.0017699115044247787,
         "lcxs_1": 7,
         "lcxs_2": 0.006194690265486726,
         "lw_1": 0
        },
        {
         "_deepnote_index_column": 404266,
         "is_duplicate": 0,
         "l1": 51,
         "l2": 62,
         "l3": 11,
         "l4": 0.8225806451612904,
         "lc1": 3,
         "lc2": 0.002654867256637168,
         "lcxs_1": 4,
         "lcxs_2": 0.0035398230088495575,
         "lw_1": 1
        },
        {
         "_deepnote_index_column": 404267,
         "is_duplicate": 0,
         "l1": 42,
         "l2": 39,
         "l3": 3,
         "l4": 1.0769230769230769,
         "lc1": 5,
         "lc2": 0.004424778761061947,
         "lcxs_1": 1,
         "lcxs_2": 0.0008849557522123894,
         "lw_1": 0
        },
        {
         "_deepnote_index_column": 404268,
         "is_duplicate": 0,
         "l1": 78,
         "l2": 62,
         "l3": 16,
         "l4": 1.2580645161290323,
         "lc1": 1,
         "lc2": 0.0008849557522123894,
         "lcxs_1": 3,
         "lcxs_2": 0.002654867256637168,
         "lw_1": 0
        },
        {
         "_deepnote_index_column": 404269,
         "is_duplicate": 1,
         "l1": 81,
         "l2": 84,
         "l3": 3,
         "l4": 0.9642857142857143,
         "lc1": 7,
         "lc2": 0.006194690265486726,
         "lcxs_1": 8,
         "lcxs_2": 0.007079646017699115,
         "lw_1": 1
        },
        {
         "_deepnote_index_column": 404270,
         "is_duplicate": 1,
         "l1": 46,
         "l2": 82,
         "l3": 36,
         "l4": 0.5609756097560976,
         "lc1": 6,
         "lc2": 0.005309734513274336,
         "lcxs_1": 5,
         "lcxs_2": 0.004424778761061947,
         "lw_1": 1
        },
        {
         "_deepnote_index_column": 404271,
         "is_duplicate": 1,
         "l1": 61,
         "l2": 50,
         "l3": 11,
         "l4": 1.22,
         "lc1": 4,
         "lc2": 0.0035398230088495575,
         "lcxs_1": 5,
         "lcxs_2": 0.004424778761061947,
         "lw_1": 0
        },
        {
         "_deepnote_index_column": 404272,
         "is_duplicate": 0,
         "l1": 58,
         "l2": 77,
         "l3": 19,
         "l4": 0.7532467532467533,
         "lc1": 3,
         "lc2": 0.002654867256637168,
         "lcxs_1": 5,
         "lcxs_2": 0.004424778761061947,
         "lw_1": 0
        },
        {
         "_deepnote_index_column": 404273,
         "is_duplicate": 0,
         "l1": 24,
         "l2": 22,
         "l3": 2,
         "l4": 1.0909090909090908,
         "lc1": 1,
         "lc2": 0.0008849557522123894,
         "lcxs_1": 1,
         "lcxs_2": 0.0008849557522123894,
         "lw_1": 0
        },
        {
         "_deepnote_index_column": 404274,
         "is_duplicate": 0,
         "l1": 22,
         "l2": 31,
         "l3": 9,
         "l4": 0.7096774193548387,
         "lc1": 0,
         "lc2": 0,
         "lcxs_1": 1,
         "lcxs_2": 0.0008849557522123894,
         "lw_1": 0
        },
        {
         "_deepnote_index_column": 404275,
         "is_duplicate": 0,
         "l1": 38,
         "l2": 51,
         "l3": 13,
         "l4": 0.7450980392156863,
         "lc1": 4,
         "lc2": 0.0035398230088495575,
         "lcxs_1": 1,
         "lcxs_2": 0.0008849557522123894,
         "lw_1": 0
        },
        {
         "_deepnote_index_column": 404276,
         "is_duplicate": 0,
         "l1": 65,
         "l2": 76,
         "l3": 11,
         "l4": 0.8552631578947368,
         "lc1": 5,
         "lc2": 0.004424778761061947,
         "lcxs_1": 6,
         "lcxs_2": 0.005309734513274336,
         "lw_1": 0
        },
        {
         "_deepnote_index_column": 404277,
         "is_duplicate": 1,
         "l1": 50,
         "l2": 54,
         "l3": 4,
         "l4": 0.9259259259259259,
         "lc1": 9,
         "lc2": 0.007964601769911504,
         "lcxs_1": 5,
         "lcxs_2": 0.004424778761061947,
         "lw_1": 1
        },
        {
         "_deepnote_index_column": 404278,
         "is_duplicate": 1,
         "l1": 67,
         "l2": 67,
         "l3": 0,
         "l4": 1,
         "lc1": 5,
         "lc2": 0.004424778761061947,
         "lcxs_1": 1,
         "lcxs_2": 0.0008849557522123894,
         "lw_1": 0
        },
        {
         "_deepnote_index_column": 404279,
         "is_duplicate": 1,
         "l1": 42,
         "l2": 46,
         "l3": 4,
         "l4": 0.9130434782608695,
         "lc1": 2,
         "lc2": 0.0017699115044247787,
         "lcxs_1": 4,
         "lcxs_2": 0.0035398230088495575,
         "lw_1": 0
        },
        {
         "_deepnote_index_column": 404280,
         "is_duplicate": 0,
         "l1": 86,
         "l2": 60,
         "l3": 26,
         "l4": 1.4333333333333333,
         "lc1": 2,
         "lc2": 0.0017699115044247787,
         "lcxs_1": 4,
         "lcxs_2": 0.0035398230088495575,
         "lw_1": 0
        },
        {
         "_deepnote_index_column": 404281,
         "is_duplicate": 1,
         "l1": 41,
         "l2": 50,
         "l3": 9,
         "l4": 0.82,
         "lc1": 3,
         "lc2": 0.002654867256637168,
         "lcxs_1": 2,
         "lcxs_2": 0.0017699115044247787,
         "lw_1": 0
        },
        {
         "_deepnote_index_column": 404282,
         "is_duplicate": 0,
         "l1": 84,
         "l2": 78,
         "l3": 6,
         "l4": 1.0769230769230769,
         "lc1": 8,
         "lc2": 0.007079646017699115,
         "lcxs_1": 6,
         "lcxs_2": 0.005309734513274336,
         "lw_1": 1
        },
        {
         "_deepnote_index_column": 404283,
         "is_duplicate": 1,
         "l1": 40,
         "l2": 41,
         "l3": 1,
         "l4": 0.975609756097561,
         "lc1": 5,
         "lc2": 0.004424778761061947,
         "lcxs_1": 3,
         "lcxs_2": 0.002654867256637168,
         "lw_1": 1
        },
        {
         "_deepnote_index_column": 404284,
         "is_duplicate": 0,
         "l1": 16,
         "l2": 15,
         "l3": 1,
         "l4": 1.0666666666666667,
         "lc1": 1,
         "lc2": 0.0008849557522123894,
         "lcxs_1": 2,
         "lcxs_2": 0.0017699115044247787,
         "lw_1": 1
        },
        {
         "_deepnote_index_column": 404285,
         "is_duplicate": 0,
         "l1": 92,
         "l2": 124,
         "l3": 32,
         "l4": 0.7419354838709677,
         "lc1": 1,
         "lc2": 0.0008849557522123894,
         "lcxs_1": 6,
         "lcxs_2": 0.005309734513274336,
         "lw_1": 0
        },
        {
         "_deepnote_index_column": 404286,
         "is_duplicate": 0,
         "l1": 36,
         "l2": 44,
         "l3": 8,
         "l4": 0.8181818181818182,
         "lc1": 7,
         "lc2": 0.006194690265486726,
         "lcxs_1": 3,
         "lcxs_2": 0.002654867256637168,
         "lw_1": 1
        }
       ],
       "rows_top": [
        {
         "_deepnote_index_column": 0,
         "is_duplicate": 0,
         "l1": 65,
         "l2": 56,
         "l3": 9,
         "l4": 1.1607142857142858,
         "lc1": 10,
         "lc2": 0.008849557522123894,
         "lcxs_1": 6,
         "lcxs_2": 0.005309734513274336,
         "lw_1": 0
        },
        {
         "_deepnote_index_column": 1,
         "is_duplicate": 0,
         "l1": 46,
         "l2": 83,
         "l3": 37,
         "l4": 0.5542168674698795,
         "lc1": 1,
         "lc2": 0.0008849557522123894,
         "lcxs_1": 1,
         "lcxs_2": 0.0008849557522123894,
         "lw_1": 0
        },
        {
         "_deepnote_index_column": 2,
         "is_duplicate": 0,
         "l1": 72,
         "l2": 58,
         "l3": 14,
         "l4": 1.2413793103448276,
         "lc1": 2,
         "lc2": 0.0017699115044247787,
         "lcxs_1": 5,
         "lcxs_2": 0.004424778761061947,
         "lw_1": 0
        },
        {
         "_deepnote_index_column": 3,
         "is_duplicate": 0,
         "l1": 48,
         "l2": 55,
         "l3": 7,
         "l4": 0.8727272727272727,
         "lc1": 0,
         "lc2": 0,
         "lcxs_1": 3,
         "lcxs_2": 0.002654867256637168,
         "lw_1": 0
        },
        {
         "_deepnote_index_column": 4,
         "is_duplicate": 0,
         "l1": 73,
         "l2": 38,
         "l3": 35,
         "l4": 1.9210526315789473,
         "lc1": 3,
         "lc2": 0.002654867256637168,
         "lcxs_1": 10,
         "lcxs_2": 0.008849557522123894,
         "lw_1": 0
        },
        {
         "_deepnote_index_column": 5,
         "is_duplicate": 1,
         "l1": 81,
         "l2": 85,
         "l3": 4,
         "l4": 0.9529411764705882,
         "lc1": 6,
         "lc2": 0.005309734513274336,
         "lcxs_1": 4,
         "lcxs_2": 0.0035398230088495575,
         "lw_1": 1
        },
        {
         "_deepnote_index_column": 6,
         "is_duplicate": 0,
         "l1": 18,
         "l2": 61,
         "l3": 43,
         "l4": 0.29508196721311475,
         "lc1": 0,
         "lc2": 0,
         "lcxs_1": 2,
         "lcxs_2": 0.0017699115044247787,
         "lw_1": 0
        },
        {
         "_deepnote_index_column": 7,
         "is_duplicate": 1,
         "l1": 29,
         "l2": 40,
         "l3": 11,
         "l4": 0.725,
         "lc1": 3,
         "lc2": 0.002654867256637168,
         "lcxs_1": 2,
         "lcxs_2": 0.0017699115044247787,
         "lw_1": 1
        },
        {
         "_deepnote_index_column": 8,
         "is_duplicate": 0,
         "l1": 30,
         "l2": 31,
         "l3": 1,
         "l4": 0.967741935483871,
         "lc1": 5,
         "lc2": 0.004424778761061947,
         "lcxs_1": 4,
         "lcxs_2": 0.0035398230088495575,
         "lw_1": 0
        },
        {
         "_deepnote_index_column": 9,
         "is_duplicate": 0,
         "l1": 56,
         "l2": 48,
         "l3": 8,
         "l4": 1.1666666666666667,
         "lc1": 1,
         "lc2": 0.0008849557522123894,
         "lcxs_1": 2,
         "lcxs_2": 0.0017699115044247787,
         "lw_1": 0
        },
        {
         "_deepnote_index_column": 10,
         "is_duplicate": 0,
         "l1": 56,
         "l2": 115,
         "l3": 59,
         "l4": 0.48695652173913045,
         "lc1": 1,
         "lc2": 0.0008849557522123894,
         "lcxs_1": 6,
         "lcxs_2": 0.005309734513274336,
         "lw_1": 0
        },
        {
         "_deepnote_index_column": 11,
         "is_duplicate": 1,
         "l1": 42,
         "l2": 37,
         "l3": 5,
         "l4": 1.135135135135135,
         "lc1": 2,
         "lc2": 0.0017699115044247787,
         "lcxs_1": 3,
         "lcxs_2": 0.002654867256637168,
         "lw_1": 1
        },
        {
         "_deepnote_index_column": 12,
         "is_duplicate": 1,
         "l1": 35,
         "l2": 38,
         "l3": 3,
         "l4": 0.9210526315789473,
         "lc1": 5,
         "lc2": 0.004424778761061947,
         "lcxs_1": 3,
         "lcxs_2": 0.002654867256637168,
         "lw_1": 1
        },
        {
         "_deepnote_index_column": 13,
         "is_duplicate": 1,
         "l1": 42,
         "l2": 37,
         "l3": 5,
         "l4": 1.135135135135135,
         "lc1": 5,
         "lc2": 0.004424778761061947,
         "lcxs_1": 4,
         "lcxs_2": 0.0035398230088495575,
         "lw_1": 0
        },
        {
         "_deepnote_index_column": 14,
         "is_duplicate": 0,
         "l1": 139,
         "l2": 138,
         "l3": 1,
         "l4": 1.0072463768115942,
         "lc1": 18,
         "lc2": 0.01592920353982301,
         "lcxs_1": 9,
         "lcxs_2": 0.007964601769911504,
         "lw_1": 0
        },
        {
         "_deepnote_index_column": 15,
         "is_duplicate": 1,
         "l1": 91,
         "l2": 90,
         "l3": 1,
         "l4": 1.011111111111111,
         "lc1": 3,
         "lc2": 0.002654867256637168,
         "lcxs_1": 8,
         "lcxs_2": 0.007079646017699115,
         "lw_1": 0
        },
        {
         "_deepnote_index_column": 16,
         "is_duplicate": 1,
         "l1": 27,
         "l2": 28,
         "l3": 1,
         "l4": 0.9642857142857143,
         "lc1": 2,
         "lc2": 0.0017699115044247787,
         "lcxs_1": 2,
         "lcxs_2": 0.0017699115044247787,
         "lw_1": 0
        },
        {
         "_deepnote_index_column": 17,
         "is_duplicate": 0,
         "l1": 56,
         "l2": 39,
         "l3": 17,
         "l4": 1.435897435897436,
         "lc1": 1,
         "lc2": 0.0008849557522123894,
         "lcxs_1": 5,
         "lcxs_2": 0.004424778761061947,
         "lw_1": 0
        },
        {
         "_deepnote_index_column": 18,
         "is_duplicate": 1,
         "l1": 81,
         "l2": 72,
         "l3": 9,
         "l4": 1.125,
         "lc1": 2,
         "lc2": 0.0017699115044247787,
         "lcxs_1": 6,
         "lcxs_2": 0.005309734513274336,
         "lw_1": 1
        },
        {
         "_deepnote_index_column": 19,
         "is_duplicate": 0,
         "l1": 59,
         "l2": 53,
         "l3": 6,
         "l4": 1.1132075471698113,
         "lc1": 6,
         "lc2": 0.005309734513274336,
         "lcxs_1": 5,
         "lcxs_2": 0.004424778761061947,
         "lw_1": 0
        },
        {
         "_deepnote_index_column": 20,
         "is_duplicate": 1,
         "l1": 25,
         "l2": 42,
         "l3": 17,
         "l4": 0.5952380952380952,
         "lc1": 2,
         "lc2": 0.0017699115044247787,
         "lcxs_1": 3,
         "lcxs_2": 0.002654867256637168,
         "lw_1": 1
        },
        {
         "_deepnote_index_column": 21,
         "is_duplicate": 0,
         "l1": 35,
         "l2": 47,
         "l3": 12,
         "l4": 0.7446808510638298,
         "lc1": 3,
         "lc2": 0.002654867256637168,
         "lcxs_1": 3,
         "lcxs_2": 0.002654867256637168,
         "lw_1": 0
        },
        {
         "_deepnote_index_column": 22,
         "is_duplicate": 0,
         "l1": 46,
         "l2": 36,
         "l3": 10,
         "l4": 1.2777777777777777,
         "lc1": 3,
         "lc2": 0.002654867256637168,
         "lcxs_1": 2,
         "lcxs_2": 0.0017699115044247787,
         "lw_1": 1
        },
        {
         "_deepnote_index_column": 23,
         "is_duplicate": 0,
         "l1": 23,
         "l2": 56,
         "l3": 33,
         "l4": 0.4107142857142857,
         "lc1": 0,
         "lc2": 0,
         "lcxs_1": 2,
         "lcxs_2": 0.0017699115044247787,
         "lw_1": 0
        },
        {
         "_deepnote_index_column": 24,
         "is_duplicate": 0,
         "l1": 78,
         "l2": 46,
         "l3": 32,
         "l4": 1.6956521739130435,
         "lc1": 0,
         "lc2": 0,
         "lcxs_1": 6,
         "lcxs_2": 0.005309734513274336,
         "lw_1": 0
        },
        {
         "_deepnote_index_column": 25,
         "is_duplicate": 0,
         "l1": 78,
         "l2": 88,
         "l3": 10,
         "l4": 0.8863636363636364,
         "lc1": 12,
         "lc2": 0.010619469026548672,
         "lcxs_1": 5,
         "lcxs_2": 0.004424778761061947,
         "lw_1": 0
        },
        {
         "_deepnote_index_column": 26,
         "is_duplicate": 0,
         "l1": 23,
         "l2": 37,
         "l3": 14,
         "l4": 0.6216216216216216,
         "lc1": 3,
         "lc2": 0.002654867256637168,
         "lcxs_1": 2,
         "lcxs_2": 0.0017699115044247787,
         "lw_1": 0
        },
        {
         "_deepnote_index_column": 27,
         "is_duplicate": 0,
         "l1": 48,
         "l2": 39,
         "l3": 9,
         "l4": 1.2307692307692308,
         "lc1": 2,
         "lc2": 0.0017699115044247787,
         "lcxs_1": 5,
         "lcxs_2": 0.004424778761061947,
         "lw_1": 0
        },
        {
         "_deepnote_index_column": 28,
         "is_duplicate": 0,
         "l1": 37,
         "l2": 40,
         "l3": 3,
         "l4": 0.925,
         "lc1": 6,
         "lc2": 0.005309734513274336,
         "lcxs_1": 5,
         "lcxs_2": 0.004424778761061947,
         "lw_1": 1
        },
        {
         "_deepnote_index_column": 29,
         "is_duplicate": 1,
         "l1": 37,
         "l2": 67,
         "l3": 30,
         "l4": 0.5522388059701493,
         "lc1": 4,
         "lc2": 0.0035398230088495575,
         "lcxs_1": 3,
         "lcxs_2": 0.002654867256637168,
         "lw_1": 0
        },
        {
         "_deepnote_index_column": 30,
         "is_duplicate": 0,
         "l1": 43,
         "l2": 45,
         "l3": 2,
         "l4": 0.9555555555555556,
         "lc1": 5,
         "lc2": 0.004424778761061947,
         "lcxs_1": 5,
         "lcxs_2": 0.004424778761061947,
         "lw_1": 1
        },
        {
         "_deepnote_index_column": 31,
         "is_duplicate": 1,
         "l1": 85,
         "l2": 51,
         "l3": 34,
         "l4": 1.6666666666666667,
         "lc1": 3,
         "lc2": 0.002654867256637168,
         "lcxs_1": 7,
         "lcxs_2": 0.006194690265486726,
         "lw_1": 1
        },
        {
         "_deepnote_index_column": 32,
         "is_duplicate": 1,
         "l1": 71,
         "l2": 70,
         "l3": 1,
         "l4": 1.0142857142857142,
         "lc1": 9,
         "lc2": 0.007964601769911504,
         "lcxs_1": 5,
         "lcxs_2": 0.004424778761061947,
         "lw_1": 0
        },
        {
         "_deepnote_index_column": 33,
         "is_duplicate": 0,
         "l1": 122,
         "l2": 52,
         "l3": 70,
         "l4": 2.3461538461538463,
         "lc1": 1,
         "lc2": 0.0008849557522123894,
         "lcxs_1": 8,
         "lcxs_2": 0.007079646017699115,
         "lw_1": 0
        },
        {
         "_deepnote_index_column": 34,
         "is_duplicate": 0,
         "l1": 40,
         "l2": 31,
         "l3": 9,
         "l4": 1.2903225806451613,
         "lc1": 5,
         "lc2": 0.004424778761061947,
         "lcxs_1": 4,
         "lcxs_2": 0.0035398230088495575,
         "lw_1": 0
        },
        {
         "_deepnote_index_column": 35,
         "is_duplicate": 0,
         "l1": 63,
         "l2": 76,
         "l3": 13,
         "l4": 0.8289473684210527,
         "lc1": 5,
         "lc2": 0.004424778761061947,
         "lcxs_1": 6,
         "lcxs_2": 0.005309734513274336,
         "lw_1": 0
        },
        {
         "_deepnote_index_column": 36,
         "is_duplicate": 0,
         "l1": 110,
         "l2": 74,
         "l3": 36,
         "l4": 1.4864864864864864,
         "lc1": 7,
         "lc2": 0.006194690265486726,
         "lcxs_1": 7,
         "lcxs_2": 0.006194690265486726,
         "lw_1": 1
        },
        {
         "_deepnote_index_column": 37,
         "is_duplicate": 0,
         "l1": 121,
         "l2": 191,
         "l3": 70,
         "l4": 0.6335078534031413,
         "lc1": 5,
         "lc2": 0.004424778761061947,
         "lcxs_1": 8,
         "lcxs_2": 0.007079646017699115,
         "lw_1": 0
        },
        {
         "_deepnote_index_column": 38,
         "is_duplicate": 1,
         "l1": 26,
         "l2": 34,
         "l3": 8,
         "l4": 0.7647058823529411,
         "lc1": 3,
         "lc2": 0.002654867256637168,
         "lcxs_1": 1,
         "lcxs_2": 0.0008849557522123894,
         "lw_1": 0
        },
        {
         "_deepnote_index_column": 39,
         "is_duplicate": 0,
         "l1": 69,
         "l2": 68,
         "l3": 1,
         "l4": 1.0147058823529411,
         "lc1": 2,
         "lc2": 0.0017699115044247787,
         "lcxs_1": 7,
         "lcxs_2": 0.006194690265486726,
         "lw_1": 0
        },
        {
         "_deepnote_index_column": 40,
         "is_duplicate": 0,
         "l1": 18,
         "l2": 32,
         "l3": 14,
         "l4": 0.5625,
         "lc1": 0,
         "lc2": 0,
         "lcxs_1": 1,
         "lcxs_2": 0.0008849557522123894,
         "lw_1": 0
        },
        {
         "_deepnote_index_column": 41,
         "is_duplicate": 0,
         "l1": 48,
         "l2": 45,
         "l3": 3,
         "l4": 1.0666666666666667,
         "lc1": 4,
         "lc2": 0.0035398230088495575,
         "lcxs_1": 3,
         "lcxs_2": 0.002654867256637168,
         "lw_1": 1
        },
        {
         "_deepnote_index_column": 42,
         "is_duplicate": 0,
         "l1": 39,
         "l2": 39,
         "l3": 0,
         "l4": 1,
         "lc1": 6,
         "lc2": 0.005309734513274336,
         "lcxs_1": 5,
         "lcxs_2": 0.004424778761061947,
         "lw_1": 1
        },
        {
         "_deepnote_index_column": 43,
         "is_duplicate": 0,
         "l1": 66,
         "l2": 29,
         "l3": 37,
         "l4": 2.2758620689655173,
         "lc1": 4,
         "lc2": 0.0035398230088495575,
         "lcxs_1": 6,
         "lcxs_2": 0.005309734513274336,
         "lw_1": 0
        },
        {
         "_deepnote_index_column": 44,
         "is_duplicate": 0,
         "l1": 86,
         "l2": 87,
         "l3": 1,
         "l4": 0.9885057471264368,
         "lc1": 11,
         "lc2": 0.009734513274336283,
         "lcxs_1": 6,
         "lcxs_2": 0.005309734513274336,
         "lw_1": 1
        },
        {
         "_deepnote_index_column": 45,
         "is_duplicate": 0,
         "l1": 56,
         "l2": 53,
         "l3": 3,
         "l4": 1.0566037735849056,
         "lc1": 2,
         "lc2": 0.0017699115044247787,
         "lcxs_1": 4,
         "lcxs_2": 0.0035398230088495575,
         "lw_1": 1
        },
        {
         "_deepnote_index_column": 46,
         "is_duplicate": 0,
         "l1": 58,
         "l2": 58,
         "l3": 0,
         "l4": 1,
         "lc1": 0,
         "lc2": 0,
         "lcxs_1": 1,
         "lcxs_2": 0.0008849557522123894,
         "lw_1": 0
        },
        {
         "_deepnote_index_column": 47,
         "is_duplicate": 0,
         "l1": 132,
         "l2": 53,
         "l3": 79,
         "l4": 2.490566037735849,
         "lc1": 3,
         "lc2": 0.002654867256637168,
         "lcxs_1": 9,
         "lcxs_2": 0.007964601769911504,
         "lw_1": 0
        },
        {
         "_deepnote_index_column": 48,
         "is_duplicate": 1,
         "l1": 66,
         "l2": 49,
         "l3": 17,
         "l4": 1.346938775510204,
         "lc1": 7,
         "lc2": 0.006194690265486726,
         "lcxs_1": 5,
         "lcxs_2": 0.004424778761061947,
         "lw_1": 1
        },
        {
         "_deepnote_index_column": 49,
         "is_duplicate": 1,
         "l1": 21,
         "l2": 20,
         "l3": 1,
         "l4": 1.05,
         "lc1": 2,
         "lc2": 0.0017699115044247787,
         "lcxs_1": 2,
         "lcxs_2": 0.0017699115044247787,
         "lw_1": 0
        }
       ]
      },
      "text/html": [
       "<div>\n",
       "<style scoped>\n",
       "    .dataframe tbody tr th:only-of-type {\n",
       "        vertical-align: middle;\n",
       "    }\n",
       "\n",
       "    .dataframe tbody tr th {\n",
       "        vertical-align: top;\n",
       "    }\n",
       "\n",
       "    .dataframe thead th {\n",
       "        text-align: right;\n",
       "    }\n",
       "</style>\n",
       "<table border=\"1\" class=\"dataframe\">\n",
       "  <thead>\n",
       "    <tr style=\"text-align: right;\">\n",
       "      <th></th>\n",
       "      <th>is_duplicate</th>\n",
       "      <th>l1</th>\n",
       "      <th>l2</th>\n",
       "      <th>l3</th>\n",
       "      <th>l4</th>\n",
       "      <th>lc1</th>\n",
       "      <th>lc2</th>\n",
       "      <th>lcxs_1</th>\n",
       "      <th>lcxs_2</th>\n",
       "      <th>lw_1</th>\n",
       "    </tr>\n",
       "  </thead>\n",
       "  <tbody>\n",
       "    <tr>\n",
       "      <th>0</th>\n",
       "      <td>0.0</td>\n",
       "      <td>65.0</td>\n",
       "      <td>56.0</td>\n",
       "      <td>9.0</td>\n",
       "      <td>1.160714</td>\n",
       "      <td>10.0</td>\n",
       "      <td>0.008850</td>\n",
       "      <td>6.0</td>\n",
       "      <td>0.005310</td>\n",
       "      <td>0.0</td>\n",
       "    </tr>\n",
       "    <tr>\n",
       "      <th>1</th>\n",
       "      <td>0.0</td>\n",
       "      <td>46.0</td>\n",
       "      <td>83.0</td>\n",
       "      <td>37.0</td>\n",
       "      <td>0.554217</td>\n",
       "      <td>1.0</td>\n",
       "      <td>0.000885</td>\n",
       "      <td>1.0</td>\n",
       "      <td>0.000885</td>\n",
       "      <td>0.0</td>\n",
       "    </tr>\n",
       "    <tr>\n",
       "      <th>2</th>\n",
       "      <td>0.0</td>\n",
       "      <td>72.0</td>\n",
       "      <td>58.0</td>\n",
       "      <td>14.0</td>\n",
       "      <td>1.241379</td>\n",
       "      <td>2.0</td>\n",
       "      <td>0.001770</td>\n",
       "      <td>5.0</td>\n",
       "      <td>0.004425</td>\n",
       "      <td>0.0</td>\n",
       "    </tr>\n",
       "    <tr>\n",
       "      <th>3</th>\n",
       "      <td>0.0</td>\n",
       "      <td>48.0</td>\n",
       "      <td>55.0</td>\n",
       "      <td>7.0</td>\n",
       "      <td>0.872727</td>\n",
       "      <td>0.0</td>\n",
       "      <td>0.000000</td>\n",
       "      <td>3.0</td>\n",
       "      <td>0.002655</td>\n",
       "      <td>0.0</td>\n",
       "    </tr>\n",
       "    <tr>\n",
       "      <th>4</th>\n",
       "      <td>0.0</td>\n",
       "      <td>73.0</td>\n",
       "      <td>38.0</td>\n",
       "      <td>35.0</td>\n",
       "      <td>1.921053</td>\n",
       "      <td>3.0</td>\n",
       "      <td>0.002655</td>\n",
       "      <td>10.0</td>\n",
       "      <td>0.008850</td>\n",
       "      <td>0.0</td>\n",
       "    </tr>\n",
       "    <tr>\n",
       "      <th>...</th>\n",
       "      <td>...</td>\n",
       "      <td>...</td>\n",
       "      <td>...</td>\n",
       "      <td>...</td>\n",
       "      <td>...</td>\n",
       "      <td>...</td>\n",
       "      <td>...</td>\n",
       "      <td>...</td>\n",
       "      <td>...</td>\n",
       "      <td>...</td>\n",
       "    </tr>\n",
       "    <tr>\n",
       "      <th>404282</th>\n",
       "      <td>0.0</td>\n",
       "      <td>84.0</td>\n",
       "      <td>78.0</td>\n",
       "      <td>6.0</td>\n",
       "      <td>1.076923</td>\n",
       "      <td>8.0</td>\n",
       "      <td>0.007080</td>\n",
       "      <td>6.0</td>\n",
       "      <td>0.005310</td>\n",
       "      <td>1.0</td>\n",
       "    </tr>\n",
       "    <tr>\n",
       "      <th>404283</th>\n",
       "      <td>1.0</td>\n",
       "      <td>40.0</td>\n",
       "      <td>41.0</td>\n",
       "      <td>1.0</td>\n",
       "      <td>0.975610</td>\n",
       "      <td>5.0</td>\n",
       "      <td>0.004425</td>\n",
       "      <td>3.0</td>\n",
       "      <td>0.002655</td>\n",
       "      <td>1.0</td>\n",
       "    </tr>\n",
       "    <tr>\n",
       "      <th>404284</th>\n",
       "      <td>0.0</td>\n",
       "      <td>16.0</td>\n",
       "      <td>15.0</td>\n",
       "      <td>1.0</td>\n",
       "      <td>1.066667</td>\n",
       "      <td>1.0</td>\n",
       "      <td>0.000885</td>\n",
       "      <td>2.0</td>\n",
       "      <td>0.001770</td>\n",
       "      <td>1.0</td>\n",
       "    </tr>\n",
       "    <tr>\n",
       "      <th>404285</th>\n",
       "      <td>0.0</td>\n",
       "      <td>92.0</td>\n",
       "      <td>124.0</td>\n",
       "      <td>32.0</td>\n",
       "      <td>0.741935</td>\n",
       "      <td>1.0</td>\n",
       "      <td>0.000885</td>\n",
       "      <td>6.0</td>\n",
       "      <td>0.005310</td>\n",
       "      <td>0.0</td>\n",
       "    </tr>\n",
       "    <tr>\n",
       "      <th>404286</th>\n",
       "      <td>0.0</td>\n",
       "      <td>36.0</td>\n",
       "      <td>44.0</td>\n",
       "      <td>8.0</td>\n",
       "      <td>0.818182</td>\n",
       "      <td>7.0</td>\n",
       "      <td>0.006195</td>\n",
       "      <td>3.0</td>\n",
       "      <td>0.002655</td>\n",
       "      <td>1.0</td>\n",
       "    </tr>\n",
       "  </tbody>\n",
       "</table>\n",
       "<p>404283 rows × 10 columns</p>\n",
       "</div>"
      ],
      "text/plain": [
       "        is_duplicate    l1     l2    l3        l4   lc1       lc2  lcxs_1  \\\n",
       "0                0.0  65.0   56.0   9.0  1.160714  10.0  0.008850     6.0   \n",
       "1                0.0  46.0   83.0  37.0  0.554217   1.0  0.000885     1.0   \n",
       "2                0.0  72.0   58.0  14.0  1.241379   2.0  0.001770     5.0   \n",
       "3                0.0  48.0   55.0   7.0  0.872727   0.0  0.000000     3.0   \n",
       "4                0.0  73.0   38.0  35.0  1.921053   3.0  0.002655    10.0   \n",
       "...              ...   ...    ...   ...       ...   ...       ...     ...   \n",
       "404282           0.0  84.0   78.0   6.0  1.076923   8.0  0.007080     6.0   \n",
       "404283           1.0  40.0   41.0   1.0  0.975610   5.0  0.004425     3.0   \n",
       "404284           0.0  16.0   15.0   1.0  1.066667   1.0  0.000885     2.0   \n",
       "404285           0.0  92.0  124.0  32.0  0.741935   1.0  0.000885     6.0   \n",
       "404286           0.0  36.0   44.0   8.0  0.818182   7.0  0.006195     3.0   \n",
       "\n",
       "          lcxs_2  lw_1  \n",
       "0       0.005310   0.0  \n",
       "1       0.000885   0.0  \n",
       "2       0.004425   0.0  \n",
       "3       0.002655   0.0  \n",
       "4       0.008850   0.0  \n",
       "...          ...   ...  \n",
       "404282  0.005310   1.0  \n",
       "404283  0.002655   1.0  \n",
       "404284  0.001770   1.0  \n",
       "404285  0.005310   0.0  \n",
       "404286  0.002655   1.0  \n",
       "\n",
       "[404283 rows x 10 columns]"
      ]
     },
     "execution_count": 44,
     "metadata": {},
     "output_type": "execute_result"
    }
   ],
   "source": [
    "data4 = data4.dropna(axis=0, how='any', thresh=None, subset=None, inplace=False)\n",
    "data4.drop(['id', 'qid1', 'qid2', 'question1', 'question2'], inplace=True,axis=1)\n",
    "clean_dataset(data4)"
   ]
  },
  {
   "cell_type": "code",
   "execution_count": null,
   "metadata": {
    "cell_id": "00051-c001f4c1-8f62-4140-aea6-951df0d2e6ca",
    "deepnote_cell_type": "code",
    "deepnote_to_be_reexecuted": false,
    "execution_millis": 74,
    "execution_start": 1638736757350,
    "source_hash": "c235e2c5",
    "tags": []
   },
   "outputs": [],
   "source": [
    "y_4 = data4['is_duplicate']\n",
    "data4.drop('is_duplicate', inplace=True,axis=1)\n",
    "x_train_4, x_test_4, y_train_4, y_test_4 = train_test_split(data4, y_4,  test_size=0.30, random_state=25)\n",
    "x_val_4, x_test_4, y_val_4, y_test_4 = train_test_split(x_test_4, y_test_4 ,test_size=float(1/3), random_state=25)"
   ]
  },
  {
   "cell_type": "code",
   "execution_count": null,
   "metadata": {
    "cell_id": "00053-53807be1-881f-4153-8a77-db3d9a2f8e52",
    "deepnote_cell_type": "code",
    "deepnote_to_be_reexecuted": false,
    "execution_millis": 1438,
    "execution_start": 1638737930709,
    "source_hash": "af60c49e",
    "tags": []
   },
   "outputs": [
    {
     "name": "stdout",
     "output_type": "stream",
     "text": [
      "accuracy 0.695713473002053\n",
      "F score 0.5086864491393426\n",
      "/shared-libs/python3.7/py/lib/python3.7/site-packages/sklearn/base.py:446: UserWarning: X does not have valid feature names, but DecisionTreeClassifier was fitted with feature names\n",
      "  \"X does not have valid feature names, but\"\n"
     ]
    }
   ],
   "source": [
    "dt = DecisionTreeClassifier(max_depth=8,min_samples_leaf=5)\n",
    "x_train_4 = x_train_4.replace((np.inf, -np.inf, np.nan), 0).reset_index(drop=True)\n",
    "y_train_4 = y_train_4.replace((np.inf, -np.inf, np.nan), 0).reset_index(drop=True)\n",
    "x_val_4 = x_val_4.replace((np.inf, -np.inf, np.nan), 0).reset_index(drop=True)\n",
    "\n",
    "x_val_4 = np.nan_to_num(x_val_4)\n",
    "dt.fit(x_train_4,y_train_4)\n",
    "y_pred = dt.predict(x_val_4)\n",
    "acc = accuracy_score(y_val_4, y_pred)\n",
    "print('accuracy',acc)\n",
    "f1 = f1_score(y_val_4,y_pred)\n",
    "print('F score',f1)"
   ]
  },
  {
   "cell_type": "code",
   "execution_count": null,
   "metadata": {
    "cell_id": "00054-ef51824b-14ea-4eec-a55a-b2a789977478",
    "deepnote_cell_type": "code",
    "deepnote_to_be_reexecuted": false,
    "execution_millis": 27229,
    "execution_start": 1638737971436,
    "source_hash": "e69a2f4",
    "tags": []
   },
   "outputs": [
    {
     "name": "stderr",
     "output_type": "stream",
     "text": [
      "/shared-libs/python3.7/py/lib/python3.7/site-packages/sklearn/base.py:446: UserWarning: X does not have valid feature names, but RandomForestClassifier was fitted with feature names\n",
      "  \"X does not have valid feature names, but\"\n",
      "accuracy 0.7034430730416286\n",
      "F score 0.5657158380874762\n"
     ]
    }
   ],
   "source": [
    "rf = RandomForestClassifier(max_depth = None, min_samples_leaf = 100, n_estimators = 50)\n",
    "rf.fit(x_train_4,y_train_4)\n",
    "y_pred = rf.predict(x_val_4)\n",
    "acc = accuracy_score(y_val_4, y_pred)\n",
    "print('accuracy',acc)\n",
    "f1 = f1_score(y_val_4,y_pred)\n",
    "print('F score',f1)"
   ]
  },
  {
   "cell_type": "code",
   "execution_count": null,
   "metadata": {
    "cell_id": "00055-2c021fc1-d6fe-4993-8444-69ca303d9cc2",
    "deepnote_cell_type": "code",
    "deepnote_to_be_reexecuted": false,
    "execution_millis": 262728,
    "execution_start": 1638739874618,
    "source_hash": "9816d5df",
    "tags": []
   },
   "outputs": [
    {
     "name": "stderr",
     "output_type": "stream",
     "text": [
      "/shared-libs/python3.7/py/lib/python3.7/site-packages/sklearn/base.py:446: UserWarning: X does not have valid feature names, but GradientBoostingClassifier was fitted with feature names\n",
      "  \"X does not have valid feature names, but\"\n",
      "accuracy 0.7028123376783991\n",
      "F score 0.5522805187062155\n"
     ]
    }
   ],
   "source": [
    "gb = GradientBoostingClassifier(max_depth=3,n_estimators=500)\n",
    "gb.fit(x_train_4,y_train_4)\n",
    "y_pred = gb.predict(x_val_4)\n",
    "acc = accuracy_score(y_val_4, y_pred)\n",
    "print('accuracy',acc)\n",
    "f1 = f1_score(y_val_4,y_pred)\n",
    "print('F score',f1)"
   ]
  },
  {
   "cell_type": "code",
   "execution_count": null,
   "metadata": {
    "cell_id": "00061-c11d94d8-a393-4541-9a05-3ac309198679",
    "deepnote_cell_type": "code",
    "deepnote_to_be_reexecuted": false,
    "execution_millis": 338,
    "execution_start": 1638740448481,
    "source_hash": "357fbd26",
    "tags": []
   },
   "outputs": [
    {
     "data": {
      "application/vnd.deepnote.dataframe.v2+json": {
       "column_count": 12,
       "columns": [
        {
         "dtype": "float64",
         "name": "is_duplicate"
        },
        {
         "dtype": "float64",
         "name": "l1"
        },
        {
         "dtype": "float64",
         "name": "l2"
        },
        {
         "dtype": "float64",
         "name": "l3"
        },
        {
         "dtype": "float64",
         "name": "l4"
        },
        {
         "dtype": "float64",
         "name": "lc1"
        },
        {
         "dtype": "float64",
         "name": "lc2"
        },
        {
         "dtype": "float64",
         "name": "lcxs_1"
        },
        {
         "dtype": "float64",
         "name": "lcxs_2"
        },
        {
         "dtype": "float64",
         "name": "lw_1"
        },
        {
         "dtype": "float64",
         "name": "cap_1"
        },
        {
         "dtype": "float64",
         "name": "cap_2"
        },
        {
         "dtype": "int64",
         "name": "_deepnote_index_column"
        }
       ],
       "row_count": 404283,
       "rows_bottom": [
        {
         "_deepnote_index_column": 404245,
         "cap_1": 0,
         "cap_2": 0,
         "is_duplicate": 0,
         "l1": 52,
         "l2": 29,
         "l3": 23,
         "l4": 1.793103448275862,
         "lc1": 4,
         "lc2": 0.0035398230088495575,
         "lcxs_1": 5,
         "lcxs_2": 0.004424778761061947,
         "lw_1": 0
        },
        {
         "_deepnote_index_column": 404246,
         "cap_1": 1,
         "cap_2": 0.0008849557522123894,
         "is_duplicate": 1,
         "l1": 53,
         "l2": 108,
         "l3": 55,
         "l4": 0.49074074074074076,
         "lc1": 6,
         "lc2": 0.005309734513274336,
         "lcxs_1": 5,
         "lcxs_2": 0.004424778761061947,
         "lw_1": 1
        },
        {
         "_deepnote_index_column": 404247,
         "cap_1": 0,
         "cap_2": 0,
         "is_duplicate": 0,
         "l1": 74,
         "l2": 38,
         "l3": 36,
         "l4": 1.9473684210526316,
         "lc1": 0,
         "lc2": 0,
         "lcxs_1": 4,
         "lcxs_2": 0.0035398230088495575,
         "lw_1": 0
        },
        {
         "_deepnote_index_column": 404248,
         "cap_1": 0,
         "cap_2": 0,
         "is_duplicate": 0,
         "l1": 107,
         "l2": 69,
         "l3": 38,
         "l4": 1.5507246376811594,
         "lc1": 1,
         "lc2": 0.0008849557522123894,
         "lcxs_1": 8,
         "lcxs_2": 0.007079646017699115,
         "lw_1": 0
        },
        {
         "_deepnote_index_column": 404249,
         "cap_1": 0,
         "cap_2": 0,
         "is_duplicate": 0,
         "l1": 41,
         "l2": 43,
         "l3": 2,
         "l4": 0.9534883720930233,
         "lc1": 5,
         "lc2": 0.004424778761061947,
         "lcxs_1": 5,
         "lcxs_2": 0.004424778761061947,
         "lw_1": 0
        },
        {
         "_deepnote_index_column": 404250,
         "cap_1": 0,
         "cap_2": 0,
         "is_duplicate": 0,
         "l1": 36,
         "l2": 40,
         "l3": 4,
         "l4": 0.9,
         "lc1": 2,
         "lc2": 0.0017699115044247787,
         "lcxs_1": 4,
         "lcxs_2": 0.0035398230088495575,
         "lw_1": 0
        },
        {
         "_deepnote_index_column": 404251,
         "cap_1": 0,
         "cap_2": 0,
         "is_duplicate": 0,
         "l1": 138,
         "l2": 169,
         "l3": 31,
         "l4": 0.8165680473372781,
         "lc1": 10,
         "lc2": 0.008849557522123894,
         "lcxs_1": 8,
         "lcxs_2": 0.007079646017699115,
         "lw_1": 0
        },
        {
         "_deepnote_index_column": 404252,
         "cap_1": 0,
         "cap_2": 0,
         "is_duplicate": 0,
         "l1": 33,
         "l2": 29,
         "l3": 4,
         "l4": 1.1379310344827587,
         "lc1": 1,
         "lc2": 0.0008849557522123894,
         "lcxs_1": 1,
         "lcxs_2": 0.0008849557522123894,
         "lw_1": 0
        },
        {
         "_deepnote_index_column": 404253,
         "cap_1": 0,
         "cap_2": 0,
         "is_duplicate": 0,
         "l1": 62,
         "l2": 100,
         "l3": 38,
         "l4": 0.62,
         "lc1": 8,
         "lc2": 0.007079646017699115,
         "lcxs_1": 4,
         "lcxs_2": 0.0035398230088495575,
         "lw_1": 0
        },
        {
         "_deepnote_index_column": 404254,
         "cap_1": 0,
         "cap_2": 0,
         "is_duplicate": 1,
         "l1": 36,
         "l2": 25,
         "l3": 11,
         "l4": 1.44,
         "lc1": 2,
         "lc2": 0.0017699115044247787,
         "lcxs_1": 1,
         "lcxs_2": 0.0008849557522123894,
         "lw_1": 1
        },
        {
         "_deepnote_index_column": 404255,
         "cap_1": 0,
         "cap_2": 0,
         "is_duplicate": 1,
         "l1": 64,
         "l2": 58,
         "l3": 6,
         "l4": 1.103448275862069,
         "lc1": 6,
         "lc2": 0.005309734513274336,
         "lcxs_1": 3,
         "lcxs_2": 0.002654867256637168,
         "lw_1": 0
        },
        {
         "_deepnote_index_column": 404256,
         "cap_1": 0,
         "cap_2": 0,
         "is_duplicate": 1,
         "l1": 60,
         "l2": 47,
         "l3": 13,
         "l4": 1.2765957446808511,
         "lc1": 4,
         "lc2": 0.0035398230088495575,
         "lcxs_1": 4,
         "lcxs_2": 0.0035398230088495575,
         "lw_1": 1
        },
        {
         "_deepnote_index_column": 404257,
         "cap_1": 0,
         "cap_2": 0,
         "is_duplicate": 0,
         "l1": 31,
         "l2": 39,
         "l3": 8,
         "l4": 0.7948717948717948,
         "lc1": 3,
         "lc2": 0.002654867256637168,
         "lcxs_1": 3,
         "lcxs_2": 0.002654867256637168,
         "lw_1": 0
        },
        {
         "_deepnote_index_column": 404258,
         "cap_1": 0,
         "cap_2": 0,
         "is_duplicate": 1,
         "l1": 57,
         "l2": 63,
         "l3": 6,
         "l4": 0.9047619047619048,
         "lc1": 6,
         "lc2": 0.005309734513274336,
         "lcxs_1": 3,
         "lcxs_2": 0.002654867256637168,
         "lw_1": 0
        },
        {
         "_deepnote_index_column": 404259,
         "cap_1": 0,
         "cap_2": 0,
         "is_duplicate": 0,
         "l1": 40,
         "l2": 31,
         "l3": 9,
         "l4": 1.2903225806451613,
         "lc1": 3,
         "lc2": 0.002654867256637168,
         "lcxs_1": 2,
         "lcxs_2": 0.0017699115044247787,
         "lw_1": 1
        },
        {
         "_deepnote_index_column": 404260,
         "cap_1": 0,
         "cap_2": 0,
         "is_duplicate": 0,
         "l1": 65,
         "l2": 64,
         "l3": 1,
         "l4": 1.015625,
         "lc1": 5,
         "lc2": 0.004424778761061947,
         "lcxs_1": 6,
         "lcxs_2": 0.005309734513274336,
         "lw_1": 0
        },
        {
         "_deepnote_index_column": 404261,
         "cap_1": 0,
         "cap_2": 0,
         "is_duplicate": 0,
         "l1": 75,
         "l2": 41,
         "l3": 34,
         "l4": 1.829268292682927,
         "lc1": 4,
         "lc2": 0.0035398230088495575,
         "lcxs_1": 8,
         "lcxs_2": 0.007079646017699115,
         "lw_1": 0
        },
        {
         "_deepnote_index_column": 404262,
         "cap_1": 1,
         "cap_2": 0.0008849557522123894,
         "is_duplicate": 1,
         "l1": 32,
         "l2": 32,
         "l3": 0,
         "l4": 1,
         "lc1": 2,
         "lc2": 0.0017699115044247787,
         "lcxs_1": 3,
         "lcxs_2": 0.002654867256637168,
         "lw_1": 0
        },
        {
         "_deepnote_index_column": 404263,
         "cap_1": 0,
         "cap_2": 0,
         "is_duplicate": 0,
         "l1": 57,
         "l2": 175,
         "l3": 118,
         "l4": 0.32571428571428573,
         "lc1": 4,
         "lc2": 0.0035398230088495575,
         "lcxs_1": 6,
         "lcxs_2": 0.005309734513274336,
         "lw_1": 0
        },
        {
         "_deepnote_index_column": 404264,
         "cap_1": 0,
         "cap_2": 0,
         "is_duplicate": 1,
         "l1": 51,
         "l2": 79,
         "l3": 28,
         "l4": 0.6455696202531646,
         "lc1": 4,
         "lc2": 0.0035398230088495575,
         "lcxs_1": 2,
         "lcxs_2": 0.0017699115044247787,
         "lw_1": 1
        },
        {
         "_deepnote_index_column": 404265,
         "cap_1": 0,
         "cap_2": 0,
         "is_duplicate": 0,
         "l1": 56,
         "l2": 42,
         "l3": 14,
         "l4": 1.3333333333333333,
         "lc1": 2,
         "lc2": 0.0017699115044247787,
         "lcxs_1": 7,
         "lcxs_2": 0.006194690265486726,
         "lw_1": 0
        },
        {
         "_deepnote_index_column": 404266,
         "cap_1": 0,
         "cap_2": 0,
         "is_duplicate": 0,
         "l1": 51,
         "l2": 62,
         "l3": 11,
         "l4": 0.8225806451612904,
         "lc1": 3,
         "lc2": 0.002654867256637168,
         "lcxs_1": 4,
         "lcxs_2": 0.0035398230088495575,
         "lw_1": 1
        },
        {
         "_deepnote_index_column": 404267,
         "cap_1": 0,
         "cap_2": 0,
         "is_duplicate": 0,
         "l1": 42,
         "l2": 39,
         "l3": 3,
         "l4": 1.0769230769230769,
         "lc1": 5,
         "lc2": 0.004424778761061947,
         "lcxs_1": 1,
         "lcxs_2": 0.0008849557522123894,
         "lw_1": 0
        },
        {
         "_deepnote_index_column": 404268,
         "cap_1": 0,
         "cap_2": 0,
         "is_duplicate": 0,
         "l1": 78,
         "l2": 62,
         "l3": 16,
         "l4": 1.2580645161290323,
         "lc1": 1,
         "lc2": 0.0008849557522123894,
         "lcxs_1": 3,
         "lcxs_2": 0.002654867256637168,
         "lw_1": 0
        },
        {
         "_deepnote_index_column": 404269,
         "cap_1": 0,
         "cap_2": 0,
         "is_duplicate": 1,
         "l1": 81,
         "l2": 84,
         "l3": 3,
         "l4": 0.9642857142857143,
         "lc1": 7,
         "lc2": 0.006194690265486726,
         "lcxs_1": 8,
         "lcxs_2": 0.007079646017699115,
         "lw_1": 1
        },
        {
         "_deepnote_index_column": 404270,
         "cap_1": 0,
         "cap_2": 0,
         "is_duplicate": 1,
         "l1": 46,
         "l2": 82,
         "l3": 36,
         "l4": 0.5609756097560976,
         "lc1": 6,
         "lc2": 0.005309734513274336,
         "lcxs_1": 5,
         "lcxs_2": 0.004424778761061947,
         "lw_1": 1
        },
        {
         "_deepnote_index_column": 404271,
         "cap_1": 0,
         "cap_2": 0,
         "is_duplicate": 1,
         "l1": 61,
         "l2": 50,
         "l3": 11,
         "l4": 1.22,
         "lc1": 4,
         "lc2": 0.0035398230088495575,
         "lcxs_1": 5,
         "lcxs_2": 0.004424778761061947,
         "lw_1": 0
        },
        {
         "_deepnote_index_column": 404272,
         "cap_1": 0,
         "cap_2": 0,
         "is_duplicate": 0,
         "l1": 58,
         "l2": 77,
         "l3": 19,
         "l4": 0.7532467532467533,
         "lc1": 3,
         "lc2": 0.002654867256637168,
         "lcxs_1": 5,
         "lcxs_2": 0.004424778761061947,
         "lw_1": 0
        },
        {
         "_deepnote_index_column": 404273,
         "cap_1": 0,
         "cap_2": 0,
         "is_duplicate": 0,
         "l1": 24,
         "l2": 22,
         "l3": 2,
         "l4": 1.0909090909090908,
         "lc1": 1,
         "lc2": 0.0008849557522123894,
         "lcxs_1": 1,
         "lcxs_2": 0.0008849557522123894,
         "lw_1": 0
        },
        {
         "_deepnote_index_column": 404274,
         "cap_1": 0,
         "cap_2": 0,
         "is_duplicate": 0,
         "l1": 22,
         "l2": 31,
         "l3": 9,
         "l4": 0.7096774193548387,
         "lc1": 0,
         "lc2": 0,
         "lcxs_1": 1,
         "lcxs_2": 0.0008849557522123894,
         "lw_1": 0
        },
        {
         "_deepnote_index_column": 404275,
         "cap_1": 0,
         "cap_2": 0,
         "is_duplicate": 0,
         "l1": 38,
         "l2": 51,
         "l3": 13,
         "l4": 0.7450980392156863,
         "lc1": 4,
         "lc2": 0.0035398230088495575,
         "lcxs_1": 1,
         "lcxs_2": 0.0008849557522123894,
         "lw_1": 0
        },
        {
         "_deepnote_index_column": 404276,
         "cap_1": 0,
         "cap_2": 0,
         "is_duplicate": 0,
         "l1": 65,
         "l2": 76,
         "l3": 11,
         "l4": 0.8552631578947368,
         "lc1": 5,
         "lc2": 0.004424778761061947,
         "lcxs_1": 6,
         "lcxs_2": 0.005309734513274336,
         "lw_1": 0
        },
        {
         "_deepnote_index_column": 404277,
         "cap_1": 0,
         "cap_2": 0,
         "is_duplicate": 1,
         "l1": 50,
         "l2": 54,
         "l3": 4,
         "l4": 0.9259259259259259,
         "lc1": 9,
         "lc2": 0.007964601769911504,
         "lcxs_1": 5,
         "lcxs_2": 0.004424778761061947,
         "lw_1": 1
        },
        {
         "_deepnote_index_column": 404278,
         "cap_1": 0,
         "cap_2": 0,
         "is_duplicate": 1,
         "l1": 67,
         "l2": 67,
         "l3": 0,
         "l4": 1,
         "lc1": 5,
         "lc2": 0.004424778761061947,
         "lcxs_1": 1,
         "lcxs_2": 0.0008849557522123894,
         "lw_1": 0
        },
        {
         "_deepnote_index_column": 404279,
         "cap_1": 0,
         "cap_2": 0,
         "is_duplicate": 1,
         "l1": 42,
         "l2": 46,
         "l3": 4,
         "l4": 0.9130434782608695,
         "lc1": 2,
         "lc2": 0.0017699115044247787,
         "lcxs_1": 4,
         "lcxs_2": 0.0035398230088495575,
         "lw_1": 0
        },
        {
         "_deepnote_index_column": 404280,
         "cap_1": 1,
         "cap_2": 0.0008849557522123894,
         "is_duplicate": 0,
         "l1": 86,
         "l2": 60,
         "l3": 26,
         "l4": 1.4333333333333333,
         "lc1": 2,
         "lc2": 0.0017699115044247787,
         "lcxs_1": 4,
         "lcxs_2": 0.0035398230088495575,
         "lw_1": 0
        },
        {
         "_deepnote_index_column": 404281,
         "cap_1": 0,
         "cap_2": 0,
         "is_duplicate": 1,
         "l1": 41,
         "l2": 50,
         "l3": 9,
         "l4": 0.82,
         "lc1": 3,
         "lc2": 0.002654867256637168,
         "lcxs_1": 2,
         "lcxs_2": 0.0017699115044247787,
         "lw_1": 0
        },
        {
         "_deepnote_index_column": 404282,
         "cap_1": 0,
         "cap_2": 0,
         "is_duplicate": 0,
         "l1": 84,
         "l2": 78,
         "l3": 6,
         "l4": 1.0769230769230769,
         "lc1": 8,
         "lc2": 0.007079646017699115,
         "lcxs_1": 6,
         "lcxs_2": 0.005309734513274336,
         "lw_1": 1
        },
        {
         "_deepnote_index_column": 404283,
         "cap_1": 0,
         "cap_2": 0,
         "is_duplicate": 1,
         "l1": 40,
         "l2": 41,
         "l3": 1,
         "l4": 0.975609756097561,
         "lc1": 5,
         "lc2": 0.004424778761061947,
         "lcxs_1": 3,
         "lcxs_2": 0.002654867256637168,
         "lw_1": 1
        },
        {
         "_deepnote_index_column": 404284,
         "cap_1": 0,
         "cap_2": 0,
         "is_duplicate": 0,
         "l1": 16,
         "l2": 15,
         "l3": 1,
         "l4": 1.0666666666666667,
         "lc1": 1,
         "lc2": 0.0008849557522123894,
         "lcxs_1": 2,
         "lcxs_2": 0.0017699115044247787,
         "lw_1": 1
        },
        {
         "_deepnote_index_column": 404285,
         "cap_1": 0,
         "cap_2": 0,
         "is_duplicate": 0,
         "l1": 92,
         "l2": 124,
         "l3": 32,
         "l4": 0.7419354838709677,
         "lc1": 1,
         "lc2": 0.0008849557522123894,
         "lcxs_1": 6,
         "lcxs_2": 0.005309734513274336,
         "lw_1": 0
        },
        {
         "_deepnote_index_column": 404286,
         "cap_1": 0,
         "cap_2": 0,
         "is_duplicate": 0,
         "l1": 36,
         "l2": 44,
         "l3": 8,
         "l4": 0.8181818181818182,
         "lc1": 7,
         "lc2": 0.006194690265486726,
         "lcxs_1": 3,
         "lcxs_2": 0.002654867256637168,
         "lw_1": 1
        }
       ],
       "rows_top": [
        {
         "_deepnote_index_column": 0,
         "cap_1": 0,
         "cap_2": 0,
         "is_duplicate": 0,
         "l1": 65,
         "l2": 56,
         "l3": 9,
         "l4": 1.1607142857142858,
         "lc1": 10,
         "lc2": 0.008849557522123894,
         "lcxs_1": 6,
         "lcxs_2": 0.005309734513274336,
         "lw_1": 0
        },
        {
         "_deepnote_index_column": 1,
         "cap_1": 0,
         "cap_2": 0,
         "is_duplicate": 0,
         "l1": 46,
         "l2": 83,
         "l3": 37,
         "l4": 0.5542168674698795,
         "lc1": 1,
         "lc2": 0.0008849557522123894,
         "lcxs_1": 1,
         "lcxs_2": 0.0008849557522123894,
         "lw_1": 0
        },
        {
         "_deepnote_index_column": 2,
         "cap_1": 0,
         "cap_2": 0,
         "is_duplicate": 0,
         "l1": 72,
         "l2": 58,
         "l3": 14,
         "l4": 1.2413793103448276,
         "lc1": 2,
         "lc2": 0.0017699115044247787,
         "lcxs_1": 5,
         "lcxs_2": 0.004424778761061947,
         "lw_1": 0
        },
        {
         "_deepnote_index_column": 3,
         "cap_1": 0,
         "cap_2": 0,
         "is_duplicate": 0,
         "l1": 48,
         "l2": 55,
         "l3": 7,
         "l4": 0.8727272727272727,
         "lc1": 0,
         "lc2": 0,
         "lcxs_1": 3,
         "lcxs_2": 0.002654867256637168,
         "lw_1": 0
        },
        {
         "_deepnote_index_column": 4,
         "cap_1": 0,
         "cap_2": 0,
         "is_duplicate": 0,
         "l1": 73,
         "l2": 38,
         "l3": 35,
         "l4": 1.9210526315789473,
         "lc1": 3,
         "lc2": 0.002654867256637168,
         "lcxs_1": 10,
         "lcxs_2": 0.008849557522123894,
         "lw_1": 0
        },
        {
         "_deepnote_index_column": 5,
         "cap_1": 0,
         "cap_2": 0,
         "is_duplicate": 1,
         "l1": 81,
         "l2": 85,
         "l3": 4,
         "l4": 0.9529411764705882,
         "lc1": 6,
         "lc2": 0.005309734513274336,
         "lcxs_1": 4,
         "lcxs_2": 0.0035398230088495575,
         "lw_1": 1
        },
        {
         "_deepnote_index_column": 6,
         "cap_1": 0,
         "cap_2": 0,
         "is_duplicate": 0,
         "l1": 18,
         "l2": 61,
         "l3": 43,
         "l4": 0.29508196721311475,
         "lc1": 0,
         "lc2": 0,
         "lcxs_1": 2,
         "lcxs_2": 0.0017699115044247787,
         "lw_1": 0
        },
        {
         "_deepnote_index_column": 7,
         "cap_1": 1,
         "cap_2": 0.0008849557522123894,
         "is_duplicate": 1,
         "l1": 29,
         "l2": 40,
         "l3": 11,
         "l4": 0.725,
         "lc1": 3,
         "lc2": 0.002654867256637168,
         "lcxs_1": 2,
         "lcxs_2": 0.0017699115044247787,
         "lw_1": 1
        },
        {
         "_deepnote_index_column": 8,
         "cap_1": 0,
         "cap_2": 0,
         "is_duplicate": 0,
         "l1": 30,
         "l2": 31,
         "l3": 1,
         "l4": 0.967741935483871,
         "lc1": 5,
         "lc2": 0.004424778761061947,
         "lcxs_1": 4,
         "lcxs_2": 0.0035398230088495575,
         "lw_1": 0
        },
        {
         "_deepnote_index_column": 9,
         "cap_1": 2,
         "cap_2": 0.0017699115044247787,
         "is_duplicate": 0,
         "l1": 56,
         "l2": 48,
         "l3": 8,
         "l4": 1.1666666666666667,
         "lc1": 1,
         "lc2": 0.0008849557522123894,
         "lcxs_1": 2,
         "lcxs_2": 0.0017699115044247787,
         "lw_1": 0
        },
        {
         "_deepnote_index_column": 10,
         "cap_1": 0,
         "cap_2": 0,
         "is_duplicate": 0,
         "l1": 56,
         "l2": 115,
         "l3": 59,
         "l4": 0.48695652173913045,
         "lc1": 1,
         "lc2": 0.0008849557522123894,
         "lcxs_1": 6,
         "lcxs_2": 0.005309734513274336,
         "lw_1": 0
        },
        {
         "_deepnote_index_column": 11,
         "cap_1": 1,
         "cap_2": 0.0008849557522123894,
         "is_duplicate": 1,
         "l1": 42,
         "l2": 37,
         "l3": 5,
         "l4": 1.135135135135135,
         "lc1": 2,
         "lc2": 0.0017699115044247787,
         "lcxs_1": 3,
         "lcxs_2": 0.002654867256637168,
         "lw_1": 1
        },
        {
         "_deepnote_index_column": 12,
         "cap_1": 0,
         "cap_2": 0,
         "is_duplicate": 1,
         "l1": 35,
         "l2": 38,
         "l3": 3,
         "l4": 0.9210526315789473,
         "lc1": 5,
         "lc2": 0.004424778761061947,
         "lcxs_1": 3,
         "lcxs_2": 0.002654867256637168,
         "lw_1": 1
        },
        {
         "_deepnote_index_column": 13,
         "cap_1": 0,
         "cap_2": 0,
         "is_duplicate": 1,
         "l1": 42,
         "l2": 37,
         "l3": 5,
         "l4": 1.135135135135135,
         "lc1": 5,
         "lc2": 0.004424778761061947,
         "lcxs_1": 4,
         "lcxs_2": 0.0035398230088495575,
         "lw_1": 0
        },
        {
         "_deepnote_index_column": 14,
         "cap_1": 1,
         "cap_2": 0.0008849557522123894,
         "is_duplicate": 0,
         "l1": 139,
         "l2": 138,
         "l3": 1,
         "l4": 1.0072463768115942,
         "lc1": 18,
         "lc2": 0.01592920353982301,
         "lcxs_1": 9,
         "lcxs_2": 0.007964601769911504,
         "lw_1": 0
        },
        {
         "_deepnote_index_column": 15,
         "cap_1": 0,
         "cap_2": 0,
         "is_duplicate": 1,
         "l1": 91,
         "l2": 90,
         "l3": 1,
         "l4": 1.011111111111111,
         "lc1": 3,
         "lc2": 0.002654867256637168,
         "lcxs_1": 8,
         "lcxs_2": 0.007079646017699115,
         "lw_1": 0
        },
        {
         "_deepnote_index_column": 16,
         "cap_1": 0,
         "cap_2": 0,
         "is_duplicate": 1,
         "l1": 27,
         "l2": 28,
         "l3": 1,
         "l4": 0.9642857142857143,
         "lc1": 2,
         "lc2": 0.0017699115044247787,
         "lcxs_1": 2,
         "lcxs_2": 0.0017699115044247787,
         "lw_1": 0
        },
        {
         "_deepnote_index_column": 17,
         "cap_1": 0,
         "cap_2": 0,
         "is_duplicate": 0,
         "l1": 56,
         "l2": 39,
         "l3": 17,
         "l4": 1.435897435897436,
         "lc1": 1,
         "lc2": 0.0008849557522123894,
         "lcxs_1": 5,
         "lcxs_2": 0.004424778761061947,
         "lw_1": 0
        },
        {
         "_deepnote_index_column": 18,
         "cap_1": 0,
         "cap_2": 0,
         "is_duplicate": 1,
         "l1": 81,
         "l2": 72,
         "l3": 9,
         "l4": 1.125,
         "lc1": 2,
         "lc2": 0.0017699115044247787,
         "lcxs_1": 6,
         "lcxs_2": 0.005309734513274336,
         "lw_1": 1
        },
        {
         "_deepnote_index_column": 19,
         "cap_1": 0,
         "cap_2": 0,
         "is_duplicate": 0,
         "l1": 59,
         "l2": 53,
         "l3": 6,
         "l4": 1.1132075471698113,
         "lc1": 6,
         "lc2": 0.005309734513274336,
         "lcxs_1": 5,
         "lcxs_2": 0.004424778761061947,
         "lw_1": 0
        },
        {
         "_deepnote_index_column": 20,
         "cap_1": 0,
         "cap_2": 0,
         "is_duplicate": 1,
         "l1": 25,
         "l2": 42,
         "l3": 17,
         "l4": 0.5952380952380952,
         "lc1": 2,
         "lc2": 0.0017699115044247787,
         "lcxs_1": 3,
         "lcxs_2": 0.002654867256637168,
         "lw_1": 1
        },
        {
         "_deepnote_index_column": 21,
         "cap_1": 0,
         "cap_2": 0,
         "is_duplicate": 0,
         "l1": 35,
         "l2": 47,
         "l3": 12,
         "l4": 0.7446808510638298,
         "lc1": 3,
         "lc2": 0.002654867256637168,
         "lcxs_1": 3,
         "lcxs_2": 0.002654867256637168,
         "lw_1": 0
        },
        {
         "_deepnote_index_column": 22,
         "cap_1": 0,
         "cap_2": 0,
         "is_duplicate": 0,
         "l1": 46,
         "l2": 36,
         "l3": 10,
         "l4": 1.2777777777777777,
         "lc1": 3,
         "lc2": 0.002654867256637168,
         "lcxs_1": 2,
         "lcxs_2": 0.0017699115044247787,
         "lw_1": 1
        },
        {
         "_deepnote_index_column": 23,
         "cap_1": 0,
         "cap_2": 0,
         "is_duplicate": 0,
         "l1": 23,
         "l2": 56,
         "l3": 33,
         "l4": 0.4107142857142857,
         "lc1": 0,
         "lc2": 0,
         "lcxs_1": 2,
         "lcxs_2": 0.0017699115044247787,
         "lw_1": 0
        },
        {
         "_deepnote_index_column": 24,
         "cap_1": 0,
         "cap_2": 0,
         "is_duplicate": 0,
         "l1": 78,
         "l2": 46,
         "l3": 32,
         "l4": 1.6956521739130435,
         "lc1": 0,
         "lc2": 0,
         "lcxs_1": 6,
         "lcxs_2": 0.005309734513274336,
         "lw_1": 0
        },
        {
         "_deepnote_index_column": 25,
         "cap_1": 0,
         "cap_2": 0,
         "is_duplicate": 0,
         "l1": 78,
         "l2": 88,
         "l3": 10,
         "l4": 0.8863636363636364,
         "lc1": 12,
         "lc2": 0.010619469026548672,
         "lcxs_1": 5,
         "lcxs_2": 0.004424778761061947,
         "lw_1": 0
        },
        {
         "_deepnote_index_column": 26,
         "cap_1": 0,
         "cap_2": 0,
         "is_duplicate": 0,
         "l1": 23,
         "l2": 37,
         "l3": 14,
         "l4": 0.6216216216216216,
         "lc1": 3,
         "lc2": 0.002654867256637168,
         "lcxs_1": 2,
         "lcxs_2": 0.0017699115044247787,
         "lw_1": 0
        },
        {
         "_deepnote_index_column": 27,
         "cap_1": 0,
         "cap_2": 0,
         "is_duplicate": 0,
         "l1": 48,
         "l2": 39,
         "l3": 9,
         "l4": 1.2307692307692308,
         "lc1": 2,
         "lc2": 0.0017699115044247787,
         "lcxs_1": 5,
         "lcxs_2": 0.004424778761061947,
         "lw_1": 0
        },
        {
         "_deepnote_index_column": 28,
         "cap_1": 0,
         "cap_2": 0,
         "is_duplicate": 0,
         "l1": 37,
         "l2": 40,
         "l3": 3,
         "l4": 0.925,
         "lc1": 6,
         "lc2": 0.005309734513274336,
         "lcxs_1": 5,
         "lcxs_2": 0.004424778761061947,
         "lw_1": 1
        },
        {
         "_deepnote_index_column": 29,
         "cap_1": 1,
         "cap_2": 0.0008849557522123894,
         "is_duplicate": 1,
         "l1": 37,
         "l2": 67,
         "l3": 30,
         "l4": 0.5522388059701493,
         "lc1": 4,
         "lc2": 0.0035398230088495575,
         "lcxs_1": 3,
         "lcxs_2": 0.002654867256637168,
         "lw_1": 0
        },
        {
         "_deepnote_index_column": 30,
         "cap_1": 0,
         "cap_2": 0,
         "is_duplicate": 0,
         "l1": 43,
         "l2": 45,
         "l3": 2,
         "l4": 0.9555555555555556,
         "lc1": 5,
         "lc2": 0.004424778761061947,
         "lcxs_1": 5,
         "lcxs_2": 0.004424778761061947,
         "lw_1": 1
        },
        {
         "_deepnote_index_column": 31,
         "cap_1": 0,
         "cap_2": 0,
         "is_duplicate": 1,
         "l1": 85,
         "l2": 51,
         "l3": 34,
         "l4": 1.6666666666666667,
         "lc1": 3,
         "lc2": 0.002654867256637168,
         "lcxs_1": 7,
         "lcxs_2": 0.006194690265486726,
         "lw_1": 1
        },
        {
         "_deepnote_index_column": 32,
         "cap_1": 0,
         "cap_2": 0,
         "is_duplicate": 1,
         "l1": 71,
         "l2": 70,
         "l3": 1,
         "l4": 1.0142857142857142,
         "lc1": 9,
         "lc2": 0.007964601769911504,
         "lcxs_1": 5,
         "lcxs_2": 0.004424778761061947,
         "lw_1": 0
        },
        {
         "_deepnote_index_column": 33,
         "cap_1": 0,
         "cap_2": 0,
         "is_duplicate": 0,
         "l1": 122,
         "l2": 52,
         "l3": 70,
         "l4": 2.3461538461538463,
         "lc1": 1,
         "lc2": 0.0008849557522123894,
         "lcxs_1": 8,
         "lcxs_2": 0.007079646017699115,
         "lw_1": 0
        },
        {
         "_deepnote_index_column": 34,
         "cap_1": 0,
         "cap_2": 0,
         "is_duplicate": 0,
         "l1": 40,
         "l2": 31,
         "l3": 9,
         "l4": 1.2903225806451613,
         "lc1": 5,
         "lc2": 0.004424778761061947,
         "lcxs_1": 4,
         "lcxs_2": 0.0035398230088495575,
         "lw_1": 0
        },
        {
         "_deepnote_index_column": 35,
         "cap_1": 0,
         "cap_2": 0,
         "is_duplicate": 0,
         "l1": 63,
         "l2": 76,
         "l3": 13,
         "l4": 0.8289473684210527,
         "lc1": 5,
         "lc2": 0.004424778761061947,
         "lcxs_1": 6,
         "lcxs_2": 0.005309734513274336,
         "lw_1": 0
        },
        {
         "_deepnote_index_column": 36,
         "cap_1": 1,
         "cap_2": 0.0008849557522123894,
         "is_duplicate": 0,
         "l1": 110,
         "l2": 74,
         "l3": 36,
         "l4": 1.4864864864864864,
         "lc1": 7,
         "lc2": 0.006194690265486726,
         "lcxs_1": 7,
         "lcxs_2": 0.006194690265486726,
         "lw_1": 1
        },
        {
         "_deepnote_index_column": 37,
         "cap_1": 0,
         "cap_2": 0,
         "is_duplicate": 0,
         "l1": 121,
         "l2": 191,
         "l3": 70,
         "l4": 0.6335078534031413,
         "lc1": 5,
         "lc2": 0.004424778761061947,
         "lcxs_1": 8,
         "lcxs_2": 0.007079646017699115,
         "lw_1": 0
        },
        {
         "_deepnote_index_column": 38,
         "cap_1": 0,
         "cap_2": 0,
         "is_duplicate": 1,
         "l1": 26,
         "l2": 34,
         "l3": 8,
         "l4": 0.7647058823529411,
         "lc1": 3,
         "lc2": 0.002654867256637168,
         "lcxs_1": 1,
         "lcxs_2": 0.0008849557522123894,
         "lw_1": 0
        },
        {
         "_deepnote_index_column": 39,
         "cap_1": 0,
         "cap_2": 0,
         "is_duplicate": 0,
         "l1": 69,
         "l2": 68,
         "l3": 1,
         "l4": 1.0147058823529411,
         "lc1": 2,
         "lc2": 0.0017699115044247787,
         "lcxs_1": 7,
         "lcxs_2": 0.006194690265486726,
         "lw_1": 0
        },
        {
         "_deepnote_index_column": 40,
         "cap_1": 0,
         "cap_2": 0,
         "is_duplicate": 0,
         "l1": 18,
         "l2": 32,
         "l3": 14,
         "l4": 0.5625,
         "lc1": 0,
         "lc2": 0,
         "lcxs_1": 1,
         "lcxs_2": 0.0008849557522123894,
         "lw_1": 0
        }
       ]
      },
      "text/html": [
       "<div>\n",
       "<style scoped>\n",
       "    .dataframe tbody tr th:only-of-type {\n",
       "        vertical-align: middle;\n",
       "    }\n",
       "\n",
       "    .dataframe tbody tr th {\n",
       "        vertical-align: top;\n",
       "    }\n",
       "\n",
       "    .dataframe thead th {\n",
       "        text-align: right;\n",
       "    }\n",
       "</style>\n",
       "<table border=\"1\" class=\"dataframe\">\n",
       "  <thead>\n",
       "    <tr style=\"text-align: right;\">\n",
       "      <th></th>\n",
       "      <th>is_duplicate</th>\n",
       "      <th>l1</th>\n",
       "      <th>l2</th>\n",
       "      <th>l3</th>\n",
       "      <th>l4</th>\n",
       "      <th>lc1</th>\n",
       "      <th>lc2</th>\n",
       "      <th>lcxs_1</th>\n",
       "      <th>lcxs_2</th>\n",
       "      <th>lw_1</th>\n",
       "      <th>cap_1</th>\n",
       "      <th>cap_2</th>\n",
       "    </tr>\n",
       "  </thead>\n",
       "  <tbody>\n",
       "    <tr>\n",
       "      <th>0</th>\n",
       "      <td>0.0</td>\n",
       "      <td>65.0</td>\n",
       "      <td>56.0</td>\n",
       "      <td>9.0</td>\n",
       "      <td>1.160714</td>\n",
       "      <td>10.0</td>\n",
       "      <td>0.008850</td>\n",
       "      <td>6.0</td>\n",
       "      <td>0.005310</td>\n",
       "      <td>0.0</td>\n",
       "      <td>0.0</td>\n",
       "      <td>0.0</td>\n",
       "    </tr>\n",
       "    <tr>\n",
       "      <th>1</th>\n",
       "      <td>0.0</td>\n",
       "      <td>46.0</td>\n",
       "      <td>83.0</td>\n",
       "      <td>37.0</td>\n",
       "      <td>0.554217</td>\n",
       "      <td>1.0</td>\n",
       "      <td>0.000885</td>\n",
       "      <td>1.0</td>\n",
       "      <td>0.000885</td>\n",
       "      <td>0.0</td>\n",
       "      <td>0.0</td>\n",
       "      <td>0.0</td>\n",
       "    </tr>\n",
       "    <tr>\n",
       "      <th>2</th>\n",
       "      <td>0.0</td>\n",
       "      <td>72.0</td>\n",
       "      <td>58.0</td>\n",
       "      <td>14.0</td>\n",
       "      <td>1.241379</td>\n",
       "      <td>2.0</td>\n",
       "      <td>0.001770</td>\n",
       "      <td>5.0</td>\n",
       "      <td>0.004425</td>\n",
       "      <td>0.0</td>\n",
       "      <td>0.0</td>\n",
       "      <td>0.0</td>\n",
       "    </tr>\n",
       "    <tr>\n",
       "      <th>3</th>\n",
       "      <td>0.0</td>\n",
       "      <td>48.0</td>\n",
       "      <td>55.0</td>\n",
       "      <td>7.0</td>\n",
       "      <td>0.872727</td>\n",
       "      <td>0.0</td>\n",
       "      <td>0.000000</td>\n",
       "      <td>3.0</td>\n",
       "      <td>0.002655</td>\n",
       "      <td>0.0</td>\n",
       "      <td>0.0</td>\n",
       "      <td>0.0</td>\n",
       "    </tr>\n",
       "    <tr>\n",
       "      <th>4</th>\n",
       "      <td>0.0</td>\n",
       "      <td>73.0</td>\n",
       "      <td>38.0</td>\n",
       "      <td>35.0</td>\n",
       "      <td>1.921053</td>\n",
       "      <td>3.0</td>\n",
       "      <td>0.002655</td>\n",
       "      <td>10.0</td>\n",
       "      <td>0.008850</td>\n",
       "      <td>0.0</td>\n",
       "      <td>0.0</td>\n",
       "      <td>0.0</td>\n",
       "    </tr>\n",
       "    <tr>\n",
       "      <th>...</th>\n",
       "      <td>...</td>\n",
       "      <td>...</td>\n",
       "      <td>...</td>\n",
       "      <td>...</td>\n",
       "      <td>...</td>\n",
       "      <td>...</td>\n",
       "      <td>...</td>\n",
       "      <td>...</td>\n",
       "      <td>...</td>\n",
       "      <td>...</td>\n",
       "      <td>...</td>\n",
       "      <td>...</td>\n",
       "    </tr>\n",
       "    <tr>\n",
       "      <th>404282</th>\n",
       "      <td>0.0</td>\n",
       "      <td>84.0</td>\n",
       "      <td>78.0</td>\n",
       "      <td>6.0</td>\n",
       "      <td>1.076923</td>\n",
       "      <td>8.0</td>\n",
       "      <td>0.007080</td>\n",
       "      <td>6.0</td>\n",
       "      <td>0.005310</td>\n",
       "      <td>1.0</td>\n",
       "      <td>0.0</td>\n",
       "      <td>0.0</td>\n",
       "    </tr>\n",
       "    <tr>\n",
       "      <th>404283</th>\n",
       "      <td>1.0</td>\n",
       "      <td>40.0</td>\n",
       "      <td>41.0</td>\n",
       "      <td>1.0</td>\n",
       "      <td>0.975610</td>\n",
       "      <td>5.0</td>\n",
       "      <td>0.004425</td>\n",
       "      <td>3.0</td>\n",
       "      <td>0.002655</td>\n",
       "      <td>1.0</td>\n",
       "      <td>0.0</td>\n",
       "      <td>0.0</td>\n",
       "    </tr>\n",
       "    <tr>\n",
       "      <th>404284</th>\n",
       "      <td>0.0</td>\n",
       "      <td>16.0</td>\n",
       "      <td>15.0</td>\n",
       "      <td>1.0</td>\n",
       "      <td>1.066667</td>\n",
       "      <td>1.0</td>\n",
       "      <td>0.000885</td>\n",
       "      <td>2.0</td>\n",
       "      <td>0.001770</td>\n",
       "      <td>1.0</td>\n",
       "      <td>0.0</td>\n",
       "      <td>0.0</td>\n",
       "    </tr>\n",
       "    <tr>\n",
       "      <th>404285</th>\n",
       "      <td>0.0</td>\n",
       "      <td>92.0</td>\n",
       "      <td>124.0</td>\n",
       "      <td>32.0</td>\n",
       "      <td>0.741935</td>\n",
       "      <td>1.0</td>\n",
       "      <td>0.000885</td>\n",
       "      <td>6.0</td>\n",
       "      <td>0.005310</td>\n",
       "      <td>0.0</td>\n",
       "      <td>0.0</td>\n",
       "      <td>0.0</td>\n",
       "    </tr>\n",
       "    <tr>\n",
       "      <th>404286</th>\n",
       "      <td>0.0</td>\n",
       "      <td>36.0</td>\n",
       "      <td>44.0</td>\n",
       "      <td>8.0</td>\n",
       "      <td>0.818182</td>\n",
       "      <td>7.0</td>\n",
       "      <td>0.006195</td>\n",
       "      <td>3.0</td>\n",
       "      <td>0.002655</td>\n",
       "      <td>1.0</td>\n",
       "      <td>0.0</td>\n",
       "      <td>0.0</td>\n",
       "    </tr>\n",
       "  </tbody>\n",
       "</table>\n",
       "<p>404283 rows × 12 columns</p>\n",
       "</div>"
      ],
      "text/plain": [
       "        is_duplicate    l1     l2    l3        l4   lc1       lc2  lcxs_1  \\\n",
       "0                0.0  65.0   56.0   9.0  1.160714  10.0  0.008850     6.0   \n",
       "1                0.0  46.0   83.0  37.0  0.554217   1.0  0.000885     1.0   \n",
       "2                0.0  72.0   58.0  14.0  1.241379   2.0  0.001770     5.0   \n",
       "3                0.0  48.0   55.0   7.0  0.872727   0.0  0.000000     3.0   \n",
       "4                0.0  73.0   38.0  35.0  1.921053   3.0  0.002655    10.0   \n",
       "...              ...   ...    ...   ...       ...   ...       ...     ...   \n",
       "404282           0.0  84.0   78.0   6.0  1.076923   8.0  0.007080     6.0   \n",
       "404283           1.0  40.0   41.0   1.0  0.975610   5.0  0.004425     3.0   \n",
       "404284           0.0  16.0   15.0   1.0  1.066667   1.0  0.000885     2.0   \n",
       "404285           0.0  92.0  124.0  32.0  0.741935   1.0  0.000885     6.0   \n",
       "404286           0.0  36.0   44.0   8.0  0.818182   7.0  0.006195     3.0   \n",
       "\n",
       "          lcxs_2  lw_1  cap_1  cap_2  \n",
       "0       0.005310   0.0    0.0    0.0  \n",
       "1       0.000885   0.0    0.0    0.0  \n",
       "2       0.004425   0.0    0.0    0.0  \n",
       "3       0.002655   0.0    0.0    0.0  \n",
       "4       0.008850   0.0    0.0    0.0  \n",
       "...          ...   ...    ...    ...  \n",
       "404282  0.005310   1.0    0.0    0.0  \n",
       "404283  0.002655   1.0    0.0    0.0  \n",
       "404284  0.001770   1.0    0.0    0.0  \n",
       "404285  0.005310   0.0    0.0    0.0  \n",
       "404286  0.002655   1.0    0.0    0.0  \n",
       "\n",
       "[404283 rows x 12 columns]"
      ]
     },
     "execution_count": 51,
     "metadata": {},
     "output_type": "execute_result"
    }
   ],
   "source": [
    "data5 = data5.dropna(axis=0, how='any', thresh=None, subset=None, inplace=False)\n",
    "data5.drop(['id', 'qid1', 'qid2', 'question1', 'question2'], inplace=True,axis=1)\n",
    "clean_dataset(data5)"
   ]
  },
  {
   "cell_type": "code",
   "execution_count": null,
   "metadata": {
    "cell_id": "00062-d9ad6bcb-16ad-4710-a5c8-fa6da3c84c87",
    "deepnote_cell_type": "code",
    "deepnote_to_be_reexecuted": false,
    "execution_millis": 75,
    "execution_start": 1638740507241,
    "source_hash": "9a2561c0",
    "tags": []
   },
   "outputs": [],
   "source": [
    "y_5 = data5['is_duplicate']\n",
    "data5.drop('is_duplicate', inplace=True,axis=1)\n",
    "x_train_5, x_test_5, y_train_5, y_test_5 = train_test_split(data5, y_5,  test_size=0.30, random_state=25)\n",
    "x_val_5, x_test_5, y_val_5, y_test_5 = train_test_split(x_test_5, y_test_5 ,test_size=float(1/3), random_state=25)"
   ]
  },
  {
   "cell_type": "code",
   "execution_count": null,
   "metadata": {
    "cell_id": "00063-76dc8178-5ff0-407e-b50e-170f01ca1016",
    "deepnote_cell_type": "code",
    "deepnote_to_be_reexecuted": false,
    "execution_millis": 1315,
    "execution_start": 1638740510361,
    "source_hash": "92249ece",
    "tags": []
   },
   "outputs": [
    {
     "name": "stdout",
     "output_type": "stream",
     "text": [
      "accuracy 0.6986321699769967\n",
      "F score 0.5483560069688995\n",
      "/shared-libs/python3.7/py/lib/python3.7/site-packages/sklearn/base.py:446: UserWarning: X does not have valid feature names, but DecisionTreeClassifier was fitted with feature names\n",
      "  \"X does not have valid feature names, but\"\n"
     ]
    }
   ],
   "source": [
    "dt = DecisionTreeClassifier(max_depth=8,min_samples_leaf=5)\n",
    "x_train_5 = x_train_5.replace((np.inf, -np.inf, np.nan), 0).reset_index(drop=True)\n",
    "y_train_5 = y_train_5.replace((np.inf, -np.inf, np.nan), 0).reset_index(drop=True)\n",
    "x_val_5 = x_val_5.replace((np.inf, -np.inf, np.nan), 0).reset_index(drop=True)\n",
    "\n",
    "x_val_5 = np.nan_to_num(x_val_5)\n",
    "dt.fit(x_train_5,y_train_5)\n",
    "y_pred = dt.predict(x_val_5)\n",
    "acc = accuracy_score(y_val_5, y_pred)\n",
    "print('accuracy',acc)\n",
    "f1 = f1_score(y_val_5,y_pred)\n",
    "print('F score',f1)"
   ]
  },
  {
   "cell_type": "code",
   "execution_count": null,
   "metadata": {
    "cell_id": "00064-1cf9fa8f-2fe0-4fc6-b22c-7996d3acb731",
    "deepnote_cell_type": "code",
    "deepnote_to_be_reexecuted": false,
    "execution_millis": 22520,
    "execution_start": 1638740514450,
    "source_hash": "70b55ffb",
    "tags": []
   },
   "outputs": [
    {
     "name": "stderr",
     "output_type": "stream",
     "text": [
      "/shared-libs/python3.7/py/lib/python3.7/site-packages/sklearn/base.py:446: UserWarning: X does not have valid feature names, but RandomForestClassifier was fitted with feature names\n",
      "  \"X does not have valid feature names, but\"\n",
      "accuracy 0.7068193623389152\n",
      "F score 0.5720784143831907\n"
     ]
    }
   ],
   "source": [
    "rf = RandomForestClassifier(max_depth = None, min_samples_leaf = 100, n_estimators = 50)\n",
    "rf.fit(x_train_5,y_train_5)\n",
    "y_pred = rf.predict(x_val_5)\n",
    "acc = accuracy_score(y_val_5, y_pred)\n",
    "print('accuracy',acc)\n",
    "f1 = f1_score(y_val_5,y_pred)\n",
    "print('F score',f1)"
   ]
  },
  {
   "cell_type": "code",
   "execution_count": null,
   "metadata": {
    "cell_id": "00065-ada5d27b-0474-4100-9f3a-a216a1caff16",
    "deepnote_cell_type": "code",
    "deepnote_to_be_reexecuted": false,
    "execution_millis": 264889,
    "execution_start": 1638740536992,
    "source_hash": "457d7461",
    "tags": []
   },
   "outputs": [
    {
     "name": "stderr",
     "output_type": "stream",
     "text": [
      "/shared-libs/python3.7/py/lib/python3.7/site-packages/sklearn/base.py:446: UserWarning: X does not have valid feature names, but GradientBoostingClassifier was fitted with feature names\n",
      "  \"X does not have valid feature names, but\"\n",
      "accuracy 0.706584382497712\n",
      "F score 0.5664528625989071\n"
     ]
    }
   ],
   "source": [
    "gb = GradientBoostingClassifier(max_depth=3,n_estimators=500)\n",
    "gb.fit(x_train_5,y_train_5)\n",
    "y_pred = gb.predict(x_val_5)\n",
    "acc = accuracy_score(y_val_5, y_pred)\n",
    "print('accuracy',acc)\n",
    "f1 = f1_score(y_val_5,y_pred)\n",
    "print('F score',f1)"
   ]
  },
  {
   "cell_type": "code",
   "execution_count": null,
   "metadata": {
    "cell_id": "00066-dd3b09a4-7a40-4d9f-9869-fb6711a2a936",
    "deepnote_cell_type": "code",
    "deepnote_to_be_reexecuted": false,
    "execution_millis": 701,
    "execution_start": 1638740801889,
    "source_hash": "746acaa4",
    "tags": []
   },
   "outputs": [
    {
     "data": {
      "application/vnd.deepnote.dataframe.v2+json": {
       "column_count": 20,
       "columns": [
        {
         "dtype": "float64",
         "name": "is_duplicate"
        },
        {
         "dtype": "float64",
         "name": "l1"
        },
        {
         "dtype": "float64",
         "name": "l2"
        },
        {
         "dtype": "float64",
         "name": "l3"
        },
        {
         "dtype": "float64",
         "name": "l4"
        },
        {
         "dtype": "float64",
         "name": "lc1"
        },
        {
         "dtype": "float64",
         "name": "lc2"
        },
        {
         "dtype": "float64",
         "name": "lcxs_1"
        },
        {
         "dtype": "float64",
         "name": "lcxs_2"
        },
        {
         "dtype": "float64",
         "name": "lw_1"
        },
        {
         "dtype": "float64",
         "name": "cap_1"
        },
        {
         "dtype": "float64",
         "name": "cap_2"
        },
        {
         "dtype": "float64",
         "name": "pre_1"
        },
        {
         "dtype": "float64",
         "name": "pre_2"
        },
        {
         "dtype": "float64",
         "name": "pre_3"
        },
        {
         "dtype": "float64",
         "name": "pre_4"
        },
        {
         "dtype": "float64",
         "name": "pre_5"
        },
        {
         "dtype": "float64",
         "name": "pre_6"
        },
        {
         "dtype": "float64",
         "name": "pre_7"
        },
        {
         "dtype": "float64",
         "name": "pre_8"
        },
        {
         "dtype": "int64",
         "name": "_deepnote_index_column"
        }
       ],
       "row_count": 404283,
       "rows_bottom": [
        {
         "_deepnote_index_column": 404262,
         "cap_1": 1,
         "cap_2": 0.0008849557522123894,
         "is_duplicate": 1,
         "l1": 32,
         "l2": 32,
         "l3": 0,
         "l4": 1,
         "lc1": 2,
         "lc2": 0.0017699115044247787,
         "lcxs_1": 3,
         "lcxs_2": 0.002654867256637168,
         "lw_1": 0,
         "pre_1": 2,
         "pre_2": 0.0017699115044247787,
         "pre_3": 2,
         "pre_4": 0.0017699115044247787,
         "pre_5": 1,
         "pre_6": 0.0008849557522123894,
         "pre_7": 1,
         "pre_8": 0.0008849557522123894
        },
        {
         "_deepnote_index_column": 404263,
         "cap_1": 0,
         "cap_2": 0,
         "is_duplicate": 0,
         "l1": 57,
         "l2": 175,
         "l3": 118,
         "l4": 0.32571428571428573,
         "lc1": 4,
         "lc2": 0.0035398230088495575,
         "lcxs_1": 6,
         "lcxs_2": 0.005309734513274336,
         "lw_1": 0,
         "pre_1": 3,
         "pre_2": 0.002654867256637168,
         "pre_3": 2,
         "pre_4": 0.0017699115044247787,
         "pre_5": 0,
         "pre_6": 0,
         "pre_7": 0,
         "pre_8": 0
        },
        {
         "_deepnote_index_column": 404264,
         "cap_1": 0,
         "cap_2": 0,
         "is_duplicate": 1,
         "l1": 51,
         "l2": 79,
         "l3": 28,
         "l4": 0.6455696202531646,
         "lc1": 4,
         "lc2": 0.0035398230088495575,
         "lcxs_1": 2,
         "lcxs_2": 0.0017699115044247787,
         "lw_1": 1,
         "pre_1": 8,
         "pre_2": 0.007079646017699115,
         "pre_3": 5,
         "pre_4": 0.004424778761061947,
         "pre_5": 3,
         "pre_6": 0.002654867256637168,
         "pre_7": 2,
         "pre_8": 0.0017699115044247787
        },
        {
         "_deepnote_index_column": 404265,
         "cap_1": 0,
         "cap_2": 0,
         "is_duplicate": 0,
         "l1": 56,
         "l2": 42,
         "l3": 14,
         "l4": 1.3333333333333333,
         "lc1": 2,
         "lc2": 0.0017699115044247787,
         "lcxs_1": 7,
         "lcxs_2": 0.006194690265486726,
         "lw_1": 0,
         "pre_1": 2,
         "pre_2": 0.0017699115044247787,
         "pre_3": 1,
         "pre_4": 0.0008849557522123894,
         "pre_5": 1,
         "pre_6": 0.0008849557522123894,
         "pre_7": 0,
         "pre_8": 0
        },
        {
         "_deepnote_index_column": 404266,
         "cap_1": 0,
         "cap_2": 0,
         "is_duplicate": 0,
         "l1": 51,
         "l2": 62,
         "l3": 11,
         "l4": 0.8225806451612904,
         "lc1": 3,
         "lc2": 0.002654867256637168,
         "lcxs_1": 4,
         "lcxs_2": 0.0035398230088495575,
         "lw_1": 1,
         "pre_1": 3,
         "pre_2": 0.002654867256637168,
         "pre_3": 3,
         "pre_4": 0.002654867256637168,
         "pre_5": 3,
         "pre_6": 0.002654867256637168,
         "pre_7": 3,
         "pre_8": 0.002654867256637168
        },
        {
         "_deepnote_index_column": 404267,
         "cap_1": 0,
         "cap_2": 0,
         "is_duplicate": 0,
         "l1": 42,
         "l2": 39,
         "l3": 3,
         "l4": 1.0769230769230769,
         "lc1": 5,
         "lc2": 0.004424778761061947,
         "lcxs_1": 1,
         "lcxs_2": 0.0008849557522123894,
         "lw_1": 0,
         "pre_1": 5,
         "pre_2": 0.004424778761061947,
         "pre_3": 3,
         "pre_4": 0.002654867256637168,
         "pre_5": 2,
         "pre_6": 0.0017699115044247787,
         "pre_7": 2,
         "pre_8": 0.0017699115044247787
        },
        {
         "_deepnote_index_column": 404268,
         "cap_1": 0,
         "cap_2": 0,
         "is_duplicate": 0,
         "l1": 78,
         "l2": 62,
         "l3": 16,
         "l4": 1.2580645161290323,
         "lc1": 1,
         "lc2": 0.0008849557522123894,
         "lcxs_1": 3,
         "lcxs_2": 0.002654867256637168,
         "lw_1": 0,
         "pre_1": 2,
         "pre_2": 0.0017699115044247787,
         "pre_3": 2,
         "pre_4": 0.0017699115044247787,
         "pre_5": 1,
         "pre_6": 0.0008849557522123894,
         "pre_7": 1,
         "pre_8": 0.0008849557522123894
        },
        {
         "_deepnote_index_column": 404269,
         "cap_1": 0,
         "cap_2": 0,
         "is_duplicate": 1,
         "l1": 81,
         "l2": 84,
         "l3": 3,
         "l4": 0.9642857142857143,
         "lc1": 7,
         "lc2": 0.006194690265486726,
         "lcxs_1": 8,
         "lcxs_2": 0.007079646017699115,
         "lw_1": 1,
         "pre_1": 8,
         "pre_2": 0.007079646017699115,
         "pre_3": 7,
         "pre_4": 0.006194690265486726,
         "pre_5": 2,
         "pre_6": 0.0017699115044247787,
         "pre_7": 1,
         "pre_8": 0.0008849557522123894
        },
        {
         "_deepnote_index_column": 404270,
         "cap_1": 0,
         "cap_2": 0,
         "is_duplicate": 1,
         "l1": 46,
         "l2": 82,
         "l3": 36,
         "l4": 0.5609756097560976,
         "lc1": 6,
         "lc2": 0.005309734513274336,
         "lcxs_1": 5,
         "lcxs_2": 0.004424778761061947,
         "lw_1": 1,
         "pre_1": 6,
         "pre_2": 0.005309734513274336,
         "pre_3": 5,
         "pre_4": 0.004424778761061947,
         "pre_5": 3,
         "pre_6": 0.002654867256637168,
         "pre_7": 2,
         "pre_8": 0.0017699115044247787
        },
        {
         "_deepnote_index_column": 404271,
         "cap_1": 0,
         "cap_2": 0,
         "is_duplicate": 1,
         "l1": 61,
         "l2": 50,
         "l3": 11,
         "l4": 1.22,
         "lc1": 4,
         "lc2": 0.0035398230088495575,
         "lcxs_1": 5,
         "lcxs_2": 0.004424778761061947,
         "lw_1": 0,
         "pre_1": 4,
         "pre_2": 0.0035398230088495575,
         "pre_3": 3,
         "pre_4": 0.002654867256637168,
         "pre_5": 2,
         "pre_6": 0.0017699115044247787,
         "pre_7": 2,
         "pre_8": 0.0017699115044247787
        },
        {
         "_deepnote_index_column": 404272,
         "cap_1": 0,
         "cap_2": 0,
         "is_duplicate": 0,
         "l1": 58,
         "l2": 77,
         "l3": 19,
         "l4": 0.7532467532467533,
         "lc1": 3,
         "lc2": 0.002654867256637168,
         "lcxs_1": 5,
         "lcxs_2": 0.004424778761061947,
         "lw_1": 0,
         "pre_1": 3,
         "pre_2": 0.002654867256637168,
         "pre_3": 2,
         "pre_4": 0.0017699115044247787,
         "pre_5": 2,
         "pre_6": 0.0017699115044247787,
         "pre_7": 2,
         "pre_8": 0.0017699115044247787
        },
        {
         "_deepnote_index_column": 404273,
         "cap_1": 0,
         "cap_2": 0,
         "is_duplicate": 0,
         "l1": 24,
         "l2": 22,
         "l3": 2,
         "l4": 1.0909090909090908,
         "lc1": 1,
         "lc2": 0.0008849557522123894,
         "lcxs_1": 1,
         "lcxs_2": 0.0008849557522123894,
         "lw_1": 0,
         "pre_1": 1,
         "pre_2": 0.0008849557522123894,
         "pre_3": 1,
         "pre_4": 0.0008849557522123894,
         "pre_5": 0,
         "pre_6": 0,
         "pre_7": 0,
         "pre_8": 0
        },
        {
         "_deepnote_index_column": 404274,
         "cap_1": 0,
         "cap_2": 0,
         "is_duplicate": 0,
         "l1": 22,
         "l2": 31,
         "l3": 9,
         "l4": 0.7096774193548387,
         "lc1": 0,
         "lc2": 0,
         "lcxs_1": 1,
         "lcxs_2": 0.0008849557522123894,
         "lw_1": 0,
         "pre_1": 2,
         "pre_2": 0.0017699115044247787,
         "pre_3": 2,
         "pre_4": 0.0017699115044247787,
         "pre_5": 1,
         "pre_6": 0.0008849557522123894,
         "pre_7": 1,
         "pre_8": 0.0008849557522123894
        },
        {
         "_deepnote_index_column": 404275,
         "cap_1": 0,
         "cap_2": 0,
         "is_duplicate": 0,
         "l1": 38,
         "l2": 51,
         "l3": 13,
         "l4": 0.7450980392156863,
         "lc1": 4,
         "lc2": 0.0035398230088495575,
         "lcxs_1": 1,
         "lcxs_2": 0.0008849557522123894,
         "lw_1": 0,
         "pre_1": 6,
         "pre_2": 0.005309734513274336,
         "pre_3": 2,
         "pre_4": 0.0017699115044247787,
         "pre_5": 2,
         "pre_6": 0.0017699115044247787,
         "pre_7": 1,
         "pre_8": 0.0008849557522123894
        },
        {
         "_deepnote_index_column": 404276,
         "cap_1": 0,
         "cap_2": 0,
         "is_duplicate": 0,
         "l1": 65,
         "l2": 76,
         "l3": 11,
         "l4": 0.8552631578947368,
         "lc1": 5,
         "lc2": 0.004424778761061947,
         "lcxs_1": 6,
         "lcxs_2": 0.005309734513274336,
         "lw_1": 0,
         "pre_1": 3,
         "pre_2": 0.002654867256637168,
         "pre_3": 3,
         "pre_4": 0.002654867256637168,
         "pre_5": 2,
         "pre_6": 0.0017699115044247787,
         "pre_7": 1,
         "pre_8": 0.0008849557522123894
        },
        {
         "_deepnote_index_column": 404277,
         "cap_1": 0,
         "cap_2": 0,
         "is_duplicate": 1,
         "l1": 50,
         "l2": 54,
         "l3": 4,
         "l4": 0.9259259259259259,
         "lc1": 9,
         "lc2": 0.007964601769911504,
         "lcxs_1": 5,
         "lcxs_2": 0.004424778761061947,
         "lw_1": 1,
         "pre_1": 8,
         "pre_2": 0.007079646017699115,
         "pre_3": 7,
         "pre_4": 0.006194690265486726,
         "pre_5": 3,
         "pre_6": 0.002654867256637168,
         "pre_7": 1,
         "pre_8": 0.0008849557522123894
        },
        {
         "_deepnote_index_column": 404278,
         "cap_1": 0,
         "cap_2": 0,
         "is_duplicate": 1,
         "l1": 67,
         "l2": 67,
         "l3": 0,
         "l4": 1,
         "lc1": 5,
         "lc2": 0.004424778761061947,
         "lcxs_1": 1,
         "lcxs_2": 0.0008849557522123894,
         "lw_1": 0,
         "pre_1": 6,
         "pre_2": 0.005309734513274336,
         "pre_3": 1,
         "pre_4": 0.0008849557522123894,
         "pre_5": 1,
         "pre_6": 0.0008849557522123894,
         "pre_7": 1,
         "pre_8": 0.0008849557522123894
        },
        {
         "_deepnote_index_column": 404279,
         "cap_1": 0,
         "cap_2": 0,
         "is_duplicate": 1,
         "l1": 42,
         "l2": 46,
         "l3": 4,
         "l4": 0.9130434782608695,
         "lc1": 2,
         "lc2": 0.0017699115044247787,
         "lcxs_1": 4,
         "lcxs_2": 0.0035398230088495575,
         "lw_1": 0,
         "pre_1": 4,
         "pre_2": 0.0035398230088495575,
         "pre_3": 3,
         "pre_4": 0.002654867256637168,
         "pre_5": 2,
         "pre_6": 0.0017699115044247787,
         "pre_7": 2,
         "pre_8": 0.0017699115044247787
        },
        {
         "_deepnote_index_column": 404280,
         "cap_1": 1,
         "cap_2": 0.0008849557522123894,
         "is_duplicate": 0,
         "l1": 86,
         "l2": 60,
         "l3": 26,
         "l4": 1.4333333333333333,
         "lc1": 2,
         "lc2": 0.0017699115044247787,
         "lcxs_1": 4,
         "lcxs_2": 0.0035398230088495575,
         "lw_1": 0,
         "pre_1": 7,
         "pre_2": 0.006194690265486726,
         "pre_3": 4,
         "pre_4": 0.0035398230088495575,
         "pre_5": 2,
         "pre_6": 0.0017699115044247787,
         "pre_7": 1,
         "pre_8": 0.0008849557522123894
        },
        {
         "_deepnote_index_column": 404281,
         "cap_1": 0,
         "cap_2": 0,
         "is_duplicate": 1,
         "l1": 41,
         "l2": 50,
         "l3": 9,
         "l4": 0.82,
         "lc1": 3,
         "lc2": 0.002654867256637168,
         "lcxs_1": 2,
         "lcxs_2": 0.0017699115044247787,
         "lw_1": 0,
         "pre_1": 5,
         "pre_2": 0.004424778761061947,
         "pre_3": 4,
         "pre_4": 0.0035398230088495575,
         "pre_5": 2,
         "pre_6": 0.0017699115044247787,
         "pre_7": 1,
         "pre_8": 0.0008849557522123894
        },
        {
         "_deepnote_index_column": 404282,
         "cap_1": 0,
         "cap_2": 0,
         "is_duplicate": 0,
         "l1": 84,
         "l2": 78,
         "l3": 6,
         "l4": 1.0769230769230769,
         "lc1": 8,
         "lc2": 0.007079646017699115,
         "lcxs_1": 6,
         "lcxs_2": 0.005309734513274336,
         "lw_1": 1,
         "pre_1": 8,
         "pre_2": 0.007079646017699115,
         "pre_3": 5,
         "pre_4": 0.004424778761061947,
         "pre_5": 4,
         "pre_6": 0.0035398230088495575,
         "pre_7": 3,
         "pre_8": 0.002654867256637168
        },
        {
         "_deepnote_index_column": 404283,
         "cap_1": 0,
         "cap_2": 0,
         "is_duplicate": 1,
         "l1": 40,
         "l2": 41,
         "l3": 1,
         "l4": 0.975609756097561,
         "lc1": 5,
         "lc2": 0.004424778761061947,
         "lcxs_1": 3,
         "lcxs_2": 0.002654867256637168,
         "lw_1": 1,
         "pre_1": 4,
         "pre_2": 0.0035398230088495575,
         "pre_3": 4,
         "pre_4": 0.0035398230088495575,
         "pre_5": 3,
         "pre_6": 0.002654867256637168,
         "pre_7": 0,
         "pre_8": 0
        },
        {
         "_deepnote_index_column": 404284,
         "cap_1": 0,
         "cap_2": 0,
         "is_duplicate": 0,
         "l1": 16,
         "l2": 15,
         "l3": 1,
         "l4": 1.0666666666666667,
         "lc1": 1,
         "lc2": 0.0008849557522123894,
         "lcxs_1": 2,
         "lcxs_2": 0.0017699115044247787,
         "lw_1": 1,
         "pre_1": 2,
         "pre_2": 0.0017699115044247787,
         "pre_3": 2,
         "pre_4": 0.0017699115044247787,
         "pre_5": 0,
         "pre_6": 0,
         "pre_7": 0,
         "pre_8": 0
        },
        {
         "_deepnote_index_column": 404285,
         "cap_1": 0,
         "cap_2": 0,
         "is_duplicate": 0,
         "l1": 92,
         "l2": 124,
         "l3": 32,
         "l4": 0.7419354838709677,
         "lc1": 1,
         "lc2": 0.0008849557522123894,
         "lcxs_1": 6,
         "lcxs_2": 0.005309734513274336,
         "lw_1": 0,
         "pre_1": 0,
         "pre_2": 0,
         "pre_3": 0,
         "pre_4": 0,
         "pre_5": 0,
         "pre_6": 0,
         "pre_7": 0,
         "pre_8": 0
        },
        {
         "_deepnote_index_column": 404286,
         "cap_1": 0,
         "cap_2": 0,
         "is_duplicate": 0,
         "l1": 36,
         "l2": 44,
         "l3": 8,
         "l4": 0.8181818181818182,
         "lc1": 7,
         "lc2": 0.006194690265486726,
         "lcxs_1": 3,
         "lcxs_2": 0.002654867256637168,
         "lw_1": 1,
         "pre_1": 6,
         "pre_2": 0.005309734513274336,
         "pre_3": 5,
         "pre_4": 0.004424778761061947,
         "pre_5": 1,
         "pre_6": 0.0008849557522123894,
         "pre_7": 1,
         "pre_8": 0.0008849557522123894
        }
       ],
       "rows_top": [
        {
         "_deepnote_index_column": 0,
         "cap_1": 0,
         "cap_2": 0,
         "is_duplicate": 0,
         "l1": 65,
         "l2": 56,
         "l3": 9,
         "l4": 1.1607142857142858,
         "lc1": 10,
         "lc2": 0.008849557522123894,
         "lcxs_1": 6,
         "lcxs_2": 0.005309734513274336,
         "lw_1": 0,
         "pre_1": 8,
         "pre_2": 0.007079646017699115,
         "pre_3": 7,
         "pre_4": 0.006194690265486726,
         "pre_5": 4,
         "pre_6": 0.0035398230088495575,
         "pre_7": 2,
         "pre_8": 0.0017699115044247787
        },
        {
         "_deepnote_index_column": 1,
         "cap_1": 0,
         "cap_2": 0,
         "is_duplicate": 0,
         "l1": 46,
         "l2": 83,
         "l3": 37,
         "l4": 0.5542168674698795,
         "lc1": 1,
         "lc2": 0.0008849557522123894,
         "lcxs_1": 1,
         "lcxs_2": 0.0008849557522123894,
         "lw_1": 0,
         "pre_1": 5,
         "pre_2": 0.004424778761061947,
         "pre_3": 3,
         "pre_4": 0.002654867256637168,
         "pre_5": 2,
         "pre_6": 0.0017699115044247787,
         "pre_7": 2,
         "pre_8": 0.0017699115044247787
        },
        {
         "_deepnote_index_column": 2,
         "cap_1": 0,
         "cap_2": 0,
         "is_duplicate": 0,
         "l1": 72,
         "l2": 58,
         "l3": 14,
         "l4": 1.2413793103448276,
         "lc1": 2,
         "lc2": 0.0017699115044247787,
         "lcxs_1": 5,
         "lcxs_2": 0.004424778761061947,
         "lw_1": 0,
         "pre_1": 4,
         "pre_2": 0.0035398230088495575,
         "pre_3": 2,
         "pre_4": 0.0017699115044247787,
         "pre_5": 2,
         "pre_6": 0.0017699115044247787,
         "pre_7": 1,
         "pre_8": 0.0008849557522123894
        },
        {
         "_deepnote_index_column": 3,
         "cap_1": 0,
         "cap_2": 0,
         "is_duplicate": 0,
         "l1": 48,
         "l2": 55,
         "l3": 7,
         "l4": 0.8727272727272727,
         "lc1": 0,
         "lc2": 0,
         "lcxs_1": 3,
         "lcxs_2": 0.002654867256637168,
         "lw_1": 0,
         "pre_1": 0,
         "pre_2": 0,
         "pre_3": 0,
         "pre_4": 0,
         "pre_5": 0,
         "pre_6": 0,
         "pre_7": 0,
         "pre_8": 0
        },
        {
         "_deepnote_index_column": 4,
         "cap_1": 0,
         "cap_2": 0,
         "is_duplicate": 0,
         "l1": 73,
         "l2": 38,
         "l3": 35,
         "l4": 1.9210526315789473,
         "lc1": 3,
         "lc2": 0.002654867256637168,
         "lcxs_1": 10,
         "lcxs_2": 0.008849557522123894,
         "lw_1": 0,
         "pre_1": 3,
         "pre_2": 0.002654867256637168,
         "pre_3": 3,
         "pre_4": 0.002654867256637168,
         "pre_5": 2,
         "pre_6": 0.0017699115044247787,
         "pre_7": 0,
         "pre_8": 0
        },
        {
         "_deepnote_index_column": 5,
         "cap_1": 0,
         "cap_2": 0,
         "is_duplicate": 1,
         "l1": 81,
         "l2": 85,
         "l3": 4,
         "l4": 0.9529411764705882,
         "lc1": 6,
         "lc2": 0.005309734513274336,
         "lcxs_1": 4,
         "lcxs_2": 0.0035398230088495575,
         "lw_1": 1,
         "pre_1": 7,
         "pre_2": 0.006194690265486726,
         "pre_3": 3,
         "pre_4": 0.002654867256637168,
         "pre_5": 2,
         "pre_6": 0.0017699115044247787,
         "pre_7": 1,
         "pre_8": 0.0008849557522123894
        },
        {
         "_deepnote_index_column": 6,
         "cap_1": 0,
         "cap_2": 0,
         "is_duplicate": 0,
         "l1": 18,
         "l2": 61,
         "l3": 43,
         "l4": 0.29508196721311475,
         "lc1": 0,
         "lc2": 0,
         "lcxs_1": 2,
         "lcxs_2": 0.0017699115044247787,
         "lw_1": 0,
         "pre_1": 0,
         "pre_2": 0,
         "pre_3": 0,
         "pre_4": 0,
         "pre_5": 0,
         "pre_6": 0,
         "pre_7": 0,
         "pre_8": 0
        },
        {
         "_deepnote_index_column": 7,
         "cap_1": 1,
         "cap_2": 0.0008849557522123894,
         "is_duplicate": 1,
         "l1": 29,
         "l2": 40,
         "l3": 11,
         "l4": 0.725,
         "lc1": 3,
         "lc2": 0.002654867256637168,
         "lcxs_1": 2,
         "lcxs_2": 0.0017699115044247787,
         "lw_1": 1,
         "pre_1": 1,
         "pre_2": 0.0008849557522123894,
         "pre_3": 1,
         "pre_4": 0.0008849557522123894,
         "pre_5": 1,
         "pre_6": 0.0008849557522123894,
         "pre_7": 1,
         "pre_8": 0.0008849557522123894
        },
        {
         "_deepnote_index_column": 8,
         "cap_1": 0,
         "cap_2": 0,
         "is_duplicate": 0,
         "l1": 30,
         "l2": 31,
         "l3": 1,
         "l4": 0.967741935483871,
         "lc1": 5,
         "lc2": 0.004424778761061947,
         "lcxs_1": 4,
         "lcxs_2": 0.0035398230088495575,
         "lw_1": 0,
         "pre_1": 4,
         "pre_2": 0.0035398230088495575,
         "pre_3": 2,
         "pre_4": 0.0017699115044247787,
         "pre_5": 1,
         "pre_6": 0.0008849557522123894,
         "pre_7": 1,
         "pre_8": 0.0008849557522123894
        },
        {
         "_deepnote_index_column": 9,
         "cap_1": 2,
         "cap_2": 0.0017699115044247787,
         "is_duplicate": 0,
         "l1": 56,
         "l2": 48,
         "l3": 8,
         "l4": 1.1666666666666667,
         "lc1": 1,
         "lc2": 0.0008849557522123894,
         "lcxs_1": 2,
         "lcxs_2": 0.0017699115044247787,
         "lw_1": 0,
         "pre_1": 3,
         "pre_2": 0.002654867256637168,
         "pre_3": 3,
         "pre_4": 0.002654867256637168,
         "pre_5": 2,
         "pre_6": 0.0017699115044247787,
         "pre_7": 2,
         "pre_8": 0.0017699115044247787
        },
        {
         "_deepnote_index_column": 10,
         "cap_1": 0,
         "cap_2": 0,
         "is_duplicate": 0,
         "l1": 56,
         "l2": 115,
         "l3": 59,
         "l4": 0.48695652173913045,
         "lc1": 1,
         "lc2": 0.0008849557522123894,
         "lcxs_1": 6,
         "lcxs_2": 0.005309734513274336,
         "lw_1": 0,
         "pre_1": 0,
         "pre_2": 0,
         "pre_3": 0,
         "pre_4": 0,
         "pre_5": 0,
         "pre_6": 0,
         "pre_7": 0,
         "pre_8": 0
        },
        {
         "_deepnote_index_column": 11,
         "cap_1": 1,
         "cap_2": 0.0008849557522123894,
         "is_duplicate": 1,
         "l1": 42,
         "l2": 37,
         "l3": 5,
         "l4": 1.135135135135135,
         "lc1": 2,
         "lc2": 0.0017699115044247787,
         "lcxs_1": 3,
         "lcxs_2": 0.002654867256637168,
         "lw_1": 1,
         "pre_1": 3,
         "pre_2": 0.002654867256637168,
         "pre_3": 1,
         "pre_4": 0.0008849557522123894,
         "pre_5": 1,
         "pre_6": 0.0008849557522123894,
         "pre_7": 1,
         "pre_8": 0.0008849557522123894
        },
        {
         "_deepnote_index_column": 12,
         "cap_1": 0,
         "cap_2": 0,
         "is_duplicate": 1,
         "l1": 35,
         "l2": 38,
         "l3": 3,
         "l4": 0.9210526315789473,
         "lc1": 5,
         "lc2": 0.004424778761061947,
         "lcxs_1": 3,
         "lcxs_2": 0.002654867256637168,
         "lw_1": 1,
         "pre_1": 4,
         "pre_2": 0.0035398230088495575,
         "pre_3": 3,
         "pre_4": 0.002654867256637168,
         "pre_5": 1,
         "pre_6": 0.0008849557522123894,
         "pre_7": 0,
         "pre_8": 0
        },
        {
         "_deepnote_index_column": 13,
         "cap_1": 0,
         "cap_2": 0,
         "is_duplicate": 1,
         "l1": 42,
         "l2": 37,
         "l3": 5,
         "l4": 1.135135135135135,
         "lc1": 5,
         "lc2": 0.004424778761061947,
         "lcxs_1": 4,
         "lcxs_2": 0.0035398230088495575,
         "lw_1": 0,
         "pre_1": 6,
         "pre_2": 0.005309734513274336,
         "pre_3": 5,
         "pre_4": 0.004424778761061947,
         "pre_5": 3,
         "pre_6": 0.002654867256637168,
         "pre_7": 2,
         "pre_8": 0.0017699115044247787
        },
        {
         "_deepnote_index_column": 14,
         "cap_1": 1,
         "cap_2": 0.0008849557522123894,
         "is_duplicate": 0,
         "l1": 139,
         "l2": 138,
         "l3": 1,
         "l4": 1.0072463768115942,
         "lc1": 18,
         "lc2": 0.01592920353982301,
         "lcxs_1": 9,
         "lcxs_2": 0.007964601769911504,
         "lw_1": 0,
         "pre_1": 18,
         "pre_2": 0.01592920353982301,
         "pre_3": 14,
         "pre_4": 0.012389380530973451,
         "pre_5": 6,
         "pre_6": 0.005309734513274336,
         "pre_7": 5,
         "pre_8": 0.004424778761061947
        },
        {
         "_deepnote_index_column": 15,
         "cap_1": 0,
         "cap_2": 0,
         "is_duplicate": 1,
         "l1": 91,
         "l2": 90,
         "l3": 1,
         "l4": 1.011111111111111,
         "lc1": 3,
         "lc2": 0.002654867256637168,
         "lcxs_1": 8,
         "lcxs_2": 0.007079646017699115,
         "lw_1": 0,
         "pre_1": 3,
         "pre_2": 0.002654867256637168,
         "pre_3": 3,
         "pre_4": 0.002654867256637168,
         "pre_5": 3,
         "pre_6": 0.002654867256637168,
         "pre_7": 2,
         "pre_8": 0.0017699115044247787
        },
        {
         "_deepnote_index_column": 16,
         "cap_1": 0,
         "cap_2": 0,
         "is_duplicate": 1,
         "l1": 27,
         "l2": 28,
         "l3": 1,
         "l4": 0.9642857142857143,
         "lc1": 2,
         "lc2": 0.0017699115044247787,
         "lcxs_1": 2,
         "lcxs_2": 0.0017699115044247787,
         "lw_1": 0,
         "pre_1": 4,
         "pre_2": 0.0035398230088495575,
         "pre_3": 4,
         "pre_4": 0.0035398230088495575,
         "pre_5": 1,
         "pre_6": 0.0008849557522123894,
         "pre_7": 1,
         "pre_8": 0.0008849557522123894
        },
        {
         "_deepnote_index_column": 17,
         "cap_1": 0,
         "cap_2": 0,
         "is_duplicate": 0,
         "l1": 56,
         "l2": 39,
         "l3": 17,
         "l4": 1.435897435897436,
         "lc1": 1,
         "lc2": 0.0008849557522123894,
         "lcxs_1": 5,
         "lcxs_2": 0.004424778761061947,
         "lw_1": 0,
         "pre_1": 3,
         "pre_2": 0.002654867256637168,
         "pre_3": 2,
         "pre_4": 0.0017699115044247787,
         "pre_5": 1,
         "pre_6": 0.0008849557522123894,
         "pre_7": 1,
         "pre_8": 0.0008849557522123894
        },
        {
         "_deepnote_index_column": 18,
         "cap_1": 0,
         "cap_2": 0,
         "is_duplicate": 1,
         "l1": 81,
         "l2": 72,
         "l3": 9,
         "l4": 1.125,
         "lc1": 2,
         "lc2": 0.0017699115044247787,
         "lcxs_1": 6,
         "lcxs_2": 0.005309734513274336,
         "lw_1": 1,
         "pre_1": 5,
         "pre_2": 0.004424778761061947,
         "pre_3": 4,
         "pre_4": 0.0035398230088495575,
         "pre_5": 4,
         "pre_6": 0.0035398230088495575,
         "pre_7": 3,
         "pre_8": 0.002654867256637168
        },
        {
         "_deepnote_index_column": 19,
         "cap_1": 0,
         "cap_2": 0,
         "is_duplicate": 0,
         "l1": 59,
         "l2": 53,
         "l3": 6,
         "l4": 1.1132075471698113,
         "lc1": 6,
         "lc2": 0.005309734513274336,
         "lcxs_1": 5,
         "lcxs_2": 0.004424778761061947,
         "lw_1": 0,
         "pre_1": 6,
         "pre_2": 0.005309734513274336,
         "pre_3": 5,
         "pre_4": 0.004424778761061947,
         "pre_5": 4,
         "pre_6": 0.0035398230088495575,
         "pre_7": 3,
         "pre_8": 0.002654867256637168
        },
        {
         "_deepnote_index_column": 20,
         "cap_1": 0,
         "cap_2": 0,
         "is_duplicate": 1,
         "l1": 25,
         "l2": 42,
         "l3": 17,
         "l4": 0.5952380952380952,
         "lc1": 2,
         "lc2": 0.0017699115044247787,
         "lcxs_1": 3,
         "lcxs_2": 0.002654867256637168,
         "lw_1": 1,
         "pre_1": 3,
         "pre_2": 0.002654867256637168,
         "pre_3": 2,
         "pre_4": 0.0017699115044247787,
         "pre_5": 2,
         "pre_6": 0.0017699115044247787,
         "pre_7": 1,
         "pre_8": 0.0008849557522123894
        },
        {
         "_deepnote_index_column": 21,
         "cap_1": 0,
         "cap_2": 0,
         "is_duplicate": 0,
         "l1": 35,
         "l2": 47,
         "l3": 12,
         "l4": 0.7446808510638298,
         "lc1": 3,
         "lc2": 0.002654867256637168,
         "lcxs_1": 3,
         "lcxs_2": 0.002654867256637168,
         "lw_1": 0,
         "pre_1": 3,
         "pre_2": 0.002654867256637168,
         "pre_3": 3,
         "pre_4": 0.002654867256637168,
         "pre_5": 2,
         "pre_6": 0.0017699115044247787,
         "pre_7": 2,
         "pre_8": 0.0017699115044247787
        },
        {
         "_deepnote_index_column": 22,
         "cap_1": 0,
         "cap_2": 0,
         "is_duplicate": 0,
         "l1": 46,
         "l2": 36,
         "l3": 10,
         "l4": 1.2777777777777777,
         "lc1": 3,
         "lc2": 0.002654867256637168,
         "lcxs_1": 2,
         "lcxs_2": 0.0017699115044247787,
         "lw_1": 1,
         "pre_1": 4,
         "pre_2": 0.0035398230088495575,
         "pre_3": 3,
         "pre_4": 0.002654867256637168,
         "pre_5": 3,
         "pre_6": 0.002654867256637168,
         "pre_7": 2,
         "pre_8": 0.0017699115044247787
        },
        {
         "_deepnote_index_column": 23,
         "cap_1": 0,
         "cap_2": 0,
         "is_duplicate": 0,
         "l1": 23,
         "l2": 56,
         "l3": 33,
         "l4": 0.4107142857142857,
         "lc1": 0,
         "lc2": 0,
         "lcxs_1": 2,
         "lcxs_2": 0.0017699115044247787,
         "lw_1": 0,
         "pre_1": 0,
         "pre_2": 0,
         "pre_3": 0,
         "pre_4": 0,
         "pre_5": 0,
         "pre_6": 0,
         "pre_7": 0,
         "pre_8": 0
        },
        {
         "_deepnote_index_column": 24,
         "cap_1": 0,
         "cap_2": 0,
         "is_duplicate": 0,
         "l1": 78,
         "l2": 46,
         "l3": 32,
         "l4": 1.6956521739130435,
         "lc1": 0,
         "lc2": 0,
         "lcxs_1": 6,
         "lcxs_2": 0.005309734513274336,
         "lw_1": 0,
         "pre_1": 2,
         "pre_2": 0.0017699115044247787,
         "pre_3": 2,
         "pre_4": 0.0017699115044247787,
         "pre_5": 1,
         "pre_6": 0.0008849557522123894,
         "pre_7": 0,
         "pre_8": 0
        }
       ]
      },
      "text/html": [
       "<div>\n",
       "<style scoped>\n",
       "    .dataframe tbody tr th:only-of-type {\n",
       "        vertical-align: middle;\n",
       "    }\n",
       "\n",
       "    .dataframe tbody tr th {\n",
       "        vertical-align: top;\n",
       "    }\n",
       "\n",
       "    .dataframe thead th {\n",
       "        text-align: right;\n",
       "    }\n",
       "</style>\n",
       "<table border=\"1\" class=\"dataframe\">\n",
       "  <thead>\n",
       "    <tr style=\"text-align: right;\">\n",
       "      <th></th>\n",
       "      <th>is_duplicate</th>\n",
       "      <th>l1</th>\n",
       "      <th>l2</th>\n",
       "      <th>l3</th>\n",
       "      <th>l4</th>\n",
       "      <th>lc1</th>\n",
       "      <th>lc2</th>\n",
       "      <th>lcxs_1</th>\n",
       "      <th>lcxs_2</th>\n",
       "      <th>lw_1</th>\n",
       "      <th>cap_1</th>\n",
       "      <th>cap_2</th>\n",
       "      <th>pre_1</th>\n",
       "      <th>pre_2</th>\n",
       "      <th>pre_3</th>\n",
       "      <th>pre_4</th>\n",
       "      <th>pre_5</th>\n",
       "      <th>pre_6</th>\n",
       "      <th>pre_7</th>\n",
       "      <th>pre_8</th>\n",
       "    </tr>\n",
       "  </thead>\n",
       "  <tbody>\n",
       "    <tr>\n",
       "      <th>0</th>\n",
       "      <td>0.0</td>\n",
       "      <td>65.0</td>\n",
       "      <td>56.0</td>\n",
       "      <td>9.0</td>\n",
       "      <td>1.160714</td>\n",
       "      <td>10.0</td>\n",
       "      <td>0.008850</td>\n",
       "      <td>6.0</td>\n",
       "      <td>0.005310</td>\n",
       "      <td>0.0</td>\n",
       "      <td>0.0</td>\n",
       "      <td>0.0</td>\n",
       "      <td>8.0</td>\n",
       "      <td>0.007080</td>\n",
       "      <td>7.0</td>\n",
       "      <td>0.006195</td>\n",
       "      <td>4.0</td>\n",
       "      <td>0.003540</td>\n",
       "      <td>2.0</td>\n",
       "      <td>0.001770</td>\n",
       "    </tr>\n",
       "    <tr>\n",
       "      <th>1</th>\n",
       "      <td>0.0</td>\n",
       "      <td>46.0</td>\n",
       "      <td>83.0</td>\n",
       "      <td>37.0</td>\n",
       "      <td>0.554217</td>\n",
       "      <td>1.0</td>\n",
       "      <td>0.000885</td>\n",
       "      <td>1.0</td>\n",
       "      <td>0.000885</td>\n",
       "      <td>0.0</td>\n",
       "      <td>0.0</td>\n",
       "      <td>0.0</td>\n",
       "      <td>5.0</td>\n",
       "      <td>0.004425</td>\n",
       "      <td>3.0</td>\n",
       "      <td>0.002655</td>\n",
       "      <td>2.0</td>\n",
       "      <td>0.001770</td>\n",
       "      <td>2.0</td>\n",
       "      <td>0.001770</td>\n",
       "    </tr>\n",
       "    <tr>\n",
       "      <th>2</th>\n",
       "      <td>0.0</td>\n",
       "      <td>72.0</td>\n",
       "      <td>58.0</td>\n",
       "      <td>14.0</td>\n",
       "      <td>1.241379</td>\n",
       "      <td>2.0</td>\n",
       "      <td>0.001770</td>\n",
       "      <td>5.0</td>\n",
       "      <td>0.004425</td>\n",
       "      <td>0.0</td>\n",
       "      <td>0.0</td>\n",
       "      <td>0.0</td>\n",
       "      <td>4.0</td>\n",
       "      <td>0.003540</td>\n",
       "      <td>2.0</td>\n",
       "      <td>0.001770</td>\n",
       "      <td>2.0</td>\n",
       "      <td>0.001770</td>\n",
       "      <td>1.0</td>\n",
       "      <td>0.000885</td>\n",
       "    </tr>\n",
       "    <tr>\n",
       "      <th>3</th>\n",
       "      <td>0.0</td>\n",
       "      <td>48.0</td>\n",
       "      <td>55.0</td>\n",
       "      <td>7.0</td>\n",
       "      <td>0.872727</td>\n",
       "      <td>0.0</td>\n",
       "      <td>0.000000</td>\n",
       "      <td>3.0</td>\n",
       "      <td>0.002655</td>\n",
       "      <td>0.0</td>\n",
       "      <td>0.0</td>\n",
       "      <td>0.0</td>\n",
       "      <td>0.0</td>\n",
       "      <td>0.000000</td>\n",
       "      <td>0.0</td>\n",
       "      <td>0.000000</td>\n",
       "      <td>0.0</td>\n",
       "      <td>0.000000</td>\n",
       "      <td>0.0</td>\n",
       "      <td>0.000000</td>\n",
       "    </tr>\n",
       "    <tr>\n",
       "      <th>4</th>\n",
       "      <td>0.0</td>\n",
       "      <td>73.0</td>\n",
       "      <td>38.0</td>\n",
       "      <td>35.0</td>\n",
       "      <td>1.921053</td>\n",
       "      <td>3.0</td>\n",
       "      <td>0.002655</td>\n",
       "      <td>10.0</td>\n",
       "      <td>0.008850</td>\n",
       "      <td>0.0</td>\n",
       "      <td>0.0</td>\n",
       "      <td>0.0</td>\n",
       "      <td>3.0</td>\n",
       "      <td>0.002655</td>\n",
       "      <td>3.0</td>\n",
       "      <td>0.002655</td>\n",
       "      <td>2.0</td>\n",
       "      <td>0.001770</td>\n",
       "      <td>0.0</td>\n",
       "      <td>0.000000</td>\n",
       "    </tr>\n",
       "    <tr>\n",
       "      <th>...</th>\n",
       "      <td>...</td>\n",
       "      <td>...</td>\n",
       "      <td>...</td>\n",
       "      <td>...</td>\n",
       "      <td>...</td>\n",
       "      <td>...</td>\n",
       "      <td>...</td>\n",
       "      <td>...</td>\n",
       "      <td>...</td>\n",
       "      <td>...</td>\n",
       "      <td>...</td>\n",
       "      <td>...</td>\n",
       "      <td>...</td>\n",
       "      <td>...</td>\n",
       "      <td>...</td>\n",
       "      <td>...</td>\n",
       "      <td>...</td>\n",
       "      <td>...</td>\n",
       "      <td>...</td>\n",
       "      <td>...</td>\n",
       "    </tr>\n",
       "    <tr>\n",
       "      <th>404282</th>\n",
       "      <td>0.0</td>\n",
       "      <td>84.0</td>\n",
       "      <td>78.0</td>\n",
       "      <td>6.0</td>\n",
       "      <td>1.076923</td>\n",
       "      <td>8.0</td>\n",
       "      <td>0.007080</td>\n",
       "      <td>6.0</td>\n",
       "      <td>0.005310</td>\n",
       "      <td>1.0</td>\n",
       "      <td>0.0</td>\n",
       "      <td>0.0</td>\n",
       "      <td>8.0</td>\n",
       "      <td>0.007080</td>\n",
       "      <td>5.0</td>\n",
       "      <td>0.004425</td>\n",
       "      <td>4.0</td>\n",
       "      <td>0.003540</td>\n",
       "      <td>3.0</td>\n",
       "      <td>0.002655</td>\n",
       "    </tr>\n",
       "    <tr>\n",
       "      <th>404283</th>\n",
       "      <td>1.0</td>\n",
       "      <td>40.0</td>\n",
       "      <td>41.0</td>\n",
       "      <td>1.0</td>\n",
       "      <td>0.975610</td>\n",
       "      <td>5.0</td>\n",
       "      <td>0.004425</td>\n",
       "      <td>3.0</td>\n",
       "      <td>0.002655</td>\n",
       "      <td>1.0</td>\n",
       "      <td>0.0</td>\n",
       "      <td>0.0</td>\n",
       "      <td>4.0</td>\n",
       "      <td>0.003540</td>\n",
       "      <td>4.0</td>\n",
       "      <td>0.003540</td>\n",
       "      <td>3.0</td>\n",
       "      <td>0.002655</td>\n",
       "      <td>0.0</td>\n",
       "      <td>0.000000</td>\n",
       "    </tr>\n",
       "    <tr>\n",
       "      <th>404284</th>\n",
       "      <td>0.0</td>\n",
       "      <td>16.0</td>\n",
       "      <td>15.0</td>\n",
       "      <td>1.0</td>\n",
       "      <td>1.066667</td>\n",
       "      <td>1.0</td>\n",
       "      <td>0.000885</td>\n",
       "      <td>2.0</td>\n",
       "      <td>0.001770</td>\n",
       "      <td>1.0</td>\n",
       "      <td>0.0</td>\n",
       "      <td>0.0</td>\n",
       "      <td>2.0</td>\n",
       "      <td>0.001770</td>\n",
       "      <td>2.0</td>\n",
       "      <td>0.001770</td>\n",
       "      <td>0.0</td>\n",
       "      <td>0.000000</td>\n",
       "      <td>0.0</td>\n",
       "      <td>0.000000</td>\n",
       "    </tr>\n",
       "    <tr>\n",
       "      <th>404285</th>\n",
       "      <td>0.0</td>\n",
       "      <td>92.0</td>\n",
       "      <td>124.0</td>\n",
       "      <td>32.0</td>\n",
       "      <td>0.741935</td>\n",
       "      <td>1.0</td>\n",
       "      <td>0.000885</td>\n",
       "      <td>6.0</td>\n",
       "      <td>0.005310</td>\n",
       "      <td>0.0</td>\n",
       "      <td>0.0</td>\n",
       "      <td>0.0</td>\n",
       "      <td>0.0</td>\n",
       "      <td>0.000000</td>\n",
       "      <td>0.0</td>\n",
       "      <td>0.000000</td>\n",
       "      <td>0.0</td>\n",
       "      <td>0.000000</td>\n",
       "      <td>0.0</td>\n",
       "      <td>0.000000</td>\n",
       "    </tr>\n",
       "    <tr>\n",
       "      <th>404286</th>\n",
       "      <td>0.0</td>\n",
       "      <td>36.0</td>\n",
       "      <td>44.0</td>\n",
       "      <td>8.0</td>\n",
       "      <td>0.818182</td>\n",
       "      <td>7.0</td>\n",
       "      <td>0.006195</td>\n",
       "      <td>3.0</td>\n",
       "      <td>0.002655</td>\n",
       "      <td>1.0</td>\n",
       "      <td>0.0</td>\n",
       "      <td>0.0</td>\n",
       "      <td>6.0</td>\n",
       "      <td>0.005310</td>\n",
       "      <td>5.0</td>\n",
       "      <td>0.004425</td>\n",
       "      <td>1.0</td>\n",
       "      <td>0.000885</td>\n",
       "      <td>1.0</td>\n",
       "      <td>0.000885</td>\n",
       "    </tr>\n",
       "  </tbody>\n",
       "</table>\n",
       "<p>404283 rows × 20 columns</p>\n",
       "</div>"
      ],
      "text/plain": [
       "        is_duplicate    l1     l2    l3        l4   lc1       lc2  lcxs_1  \\\n",
       "0                0.0  65.0   56.0   9.0  1.160714  10.0  0.008850     6.0   \n",
       "1                0.0  46.0   83.0  37.0  0.554217   1.0  0.000885     1.0   \n",
       "2                0.0  72.0   58.0  14.0  1.241379   2.0  0.001770     5.0   \n",
       "3                0.0  48.0   55.0   7.0  0.872727   0.0  0.000000     3.0   \n",
       "4                0.0  73.0   38.0  35.0  1.921053   3.0  0.002655    10.0   \n",
       "...              ...   ...    ...   ...       ...   ...       ...     ...   \n",
       "404282           0.0  84.0   78.0   6.0  1.076923   8.0  0.007080     6.0   \n",
       "404283           1.0  40.0   41.0   1.0  0.975610   5.0  0.004425     3.0   \n",
       "404284           0.0  16.0   15.0   1.0  1.066667   1.0  0.000885     2.0   \n",
       "404285           0.0  92.0  124.0  32.0  0.741935   1.0  0.000885     6.0   \n",
       "404286           0.0  36.0   44.0   8.0  0.818182   7.0  0.006195     3.0   \n",
       "\n",
       "          lcxs_2  lw_1  cap_1  cap_2  pre_1     pre_2  pre_3     pre_4  pre_5  \\\n",
       "0       0.005310   0.0    0.0    0.0    8.0  0.007080    7.0  0.006195    4.0   \n",
       "1       0.000885   0.0    0.0    0.0    5.0  0.004425    3.0  0.002655    2.0   \n",
       "2       0.004425   0.0    0.0    0.0    4.0  0.003540    2.0  0.001770    2.0   \n",
       "3       0.002655   0.0    0.0    0.0    0.0  0.000000    0.0  0.000000    0.0   \n",
       "4       0.008850   0.0    0.0    0.0    3.0  0.002655    3.0  0.002655    2.0   \n",
       "...          ...   ...    ...    ...    ...       ...    ...       ...    ...   \n",
       "404282  0.005310   1.0    0.0    0.0    8.0  0.007080    5.0  0.004425    4.0   \n",
       "404283  0.002655   1.0    0.0    0.0    4.0  0.003540    4.0  0.003540    3.0   \n",
       "404284  0.001770   1.0    0.0    0.0    2.0  0.001770    2.0  0.001770    0.0   \n",
       "404285  0.005310   0.0    0.0    0.0    0.0  0.000000    0.0  0.000000    0.0   \n",
       "404286  0.002655   1.0    0.0    0.0    6.0  0.005310    5.0  0.004425    1.0   \n",
       "\n",
       "           pre_6  pre_7     pre_8  \n",
       "0       0.003540    2.0  0.001770  \n",
       "1       0.001770    2.0  0.001770  \n",
       "2       0.001770    1.0  0.000885  \n",
       "3       0.000000    0.0  0.000000  \n",
       "4       0.001770    0.0  0.000000  \n",
       "...          ...    ...       ...  \n",
       "404282  0.003540    3.0  0.002655  \n",
       "404283  0.002655    0.0  0.000000  \n",
       "404284  0.000000    0.0  0.000000  \n",
       "404285  0.000000    0.0  0.000000  \n",
       "404286  0.000885    1.0  0.000885  \n",
       "\n",
       "[404283 rows x 20 columns]"
      ]
     },
     "execution_count": 56,
     "metadata": {},
     "output_type": "execute_result"
    }
   ],
   "source": [
    "data6 = data6.dropna(axis=0, how='any', thresh=None, subset=None, inplace=False)\n",
    "data6.drop(['id', 'qid1', 'qid2', 'question1', 'question2'], inplace=True,axis=1)\n",
    "clean_dataset(data6)"
   ]
  },
  {
   "cell_type": "code",
   "execution_count": null,
   "metadata": {
    "cell_id": "00067-f219cae5-744b-4c7d-94fe-0955bd81797b",
    "deepnote_cell_type": "code",
    "deepnote_to_be_reexecuted": false,
    "execution_millis": 204,
    "execution_start": 1638740802587,
    "source_hash": "4f3b34ba",
    "tags": []
   },
   "outputs": [],
   "source": [
    "y_6 = data6['is_duplicate']\n",
    "data6.drop('is_duplicate', inplace=True,axis=1)\n",
    "x_train_6, x_test_6, y_train_6, y_test_6 = train_test_split(data6, y_6,  test_size=0.30, random_state=25)\n",
    "x_val_6, x_test_6, y_val_6, y_test_6 = train_test_split(x_test_6, y_test_6 ,test_size=float(1/3), random_state=25)"
   ]
  },
  {
   "cell_type": "code",
   "execution_count": null,
   "metadata": {
    "cell_id": "00068-3f516ebd-21a1-47ac-bd97-0b86538d4f74",
    "deepnote_cell_type": "code",
    "deepnote_to_be_reexecuted": false,
    "execution_millis": 2107,
    "execution_start": 1638740802794,
    "source_hash": "6de6ed2d",
    "tags": []
   },
   "outputs": [
    {
     "name": "stdout",
     "output_type": "stream",
     "text": [
      "accuracy 0.7074129956219546\n",
      "F score 0.6016098612420854\n",
      "/shared-libs/python3.7/py/lib/python3.7/site-packages/sklearn/base.py:446: UserWarning: X does not have valid feature names, but DecisionTreeClassifier was fitted with feature names\n",
      "  \"X does not have valid feature names, but\"\n"
     ]
    }
   ],
   "source": [
    "dt = DecisionTreeClassifier(max_depth=8,min_samples_leaf=5)\n",
    "x_train_6 = x_train_6.replace((np.inf, -np.inf, np.nan), 0).reset_index(drop=True)\n",
    "y_train_6 = y_train_6.replace((np.inf, -np.inf, np.nan), 0).reset_index(drop=True)\n",
    "x_val_6 = x_val_6.replace((np.inf, -np.inf, np.nan), 0).reset_index(drop=True)\n",
    "\n",
    "x_val_6 = np.nan_to_num(x_val_6)\n",
    "dt.fit(x_train_6,y_train_6)\n",
    "y_pred = dt.predict(x_val_6)\n",
    "acc = accuracy_score(y_val_6, y_pred)\n",
    "print('accuracy',acc)\n",
    "f1 = f1_score(y_val_6,y_pred)\n",
    "print('F score',f1)"
   ]
  },
  {
   "cell_type": "code",
   "execution_count": null,
   "metadata": {
    "cell_id": "00069-b2e708f3-92c1-4f3b-8c12-bede3a6d8d36",
    "deepnote_cell_type": "code",
    "deepnote_to_be_reexecuted": false,
    "execution_millis": 25334,
    "execution_start": 1638740804960,
    "source_hash": "30d9745a",
    "tags": []
   },
   "outputs": [
    {
     "name": "stderr",
     "output_type": "stream",
     "text": [
      "/shared-libs/python3.7/py/lib/python3.7/site-packages/sklearn/base.py:446: UserWarning: X does not have valid feature names, but RandomForestClassifier was fitted with feature names\n",
      "  \"X does not have valid feature names, but\"\n",
      "accuracy 0.7282767320487769\n",
      "F score 0.6192267031767215\n"
     ]
    }
   ],
   "source": [
    "rf = RandomForestClassifier(max_depth = None, min_samples_leaf = 100, n_estimators = 50)\n",
    "rf.fit(x_train_6,y_train_6)\n",
    "y_pred = rf.predict(x_val_6)\n",
    "acc = accuracy_score(y_val_6, y_pred)\n",
    "print('accuracy',acc)\n",
    "f1 = f1_score(y_val_6,y_pred)\n",
    "print('F score',f1)"
   ]
  },
  {
   "cell_type": "code",
   "execution_count": null,
   "metadata": {
    "cell_id": "00070-e888602a-e9e3-4ff9-9d97-82df900a2752",
    "deepnote_cell_type": "code",
    "deepnote_to_be_reexecuted": false,
    "execution_millis": 361380,
    "execution_start": 1638740830301,
    "source_hash": "66d9bb76",
    "tags": []
   },
   "outputs": [
    {
     "name": "stderr",
     "output_type": "stream",
     "text": [
      "/shared-libs/python3.7/py/lib/python3.7/site-packages/sklearn/base.py:446: UserWarning: X does not have valid feature names, but GradientBoostingClassifier was fitted with feature names\n",
      "  \"X does not have valid feature names, but\"\n",
      "accuracy 0.7266813426006085\n",
      "F score 0.6218731820826061\n"
     ]
    }
   ],
   "source": [
    "gb = GradientBoostingClassifier(max_depth=3,n_estimators=500)\n",
    "gb.fit(x_train_6,y_train_6)\n",
    "y_pred = gb.predict(x_val_6)\n",
    "acc = accuracy_score(y_val_6, y_pred)\n",
    "print('accuracy',acc)\n",
    "f1 = f1_score(y_val_6,y_pred)\n",
    "print('F score',f1)"
   ]
  },
  {
   "cell_type": "code",
   "execution_count": null,
   "metadata": {
    "cell_id": "00071-3e1572ea-ed14-4e23-949a-8886f3c03dc9",
    "deepnote_cell_type": "code",
    "deepnote_to_be_reexecuted": false,
    "execution_millis": 574,
    "execution_start": 1638741191689,
    "source_hash": "7236e05e",
    "tags": []
   },
   "outputs": [
    {
     "data": {
      "application/vnd.deepnote.dataframe.v2+json": {
       "column_count": 25,
       "columns": [
        {
         "dtype": "float64",
         "name": "is_duplicate"
        },
        {
         "dtype": "float64",
         "name": "l1"
        },
        {
         "dtype": "float64",
         "name": "l2"
        },
        {
         "dtype": "float64",
         "name": "l3"
        },
        {
         "dtype": "float64",
         "name": "l4"
        },
        {
         "dtype": "float64",
         "name": "lc1"
        },
        {
         "dtype": "float64",
         "name": "lc2"
        },
        {
         "dtype": "float64",
         "name": "lcxs_1"
        },
        {
         "dtype": "float64",
         "name": "lcxs_2"
        },
        {
         "dtype": "float64",
         "name": "lw_1"
        },
        {
         "dtype": "float64",
         "name": "cap_1"
        },
        {
         "dtype": "float64",
         "name": "cap_2"
        },
        {
         "dtype": "float64",
         "name": "pre_1"
        },
        {
         "dtype": "float64",
         "name": "pre_2"
        },
        {
         "dtype": "float64",
         "name": "pre_3"
        },
        {
         "dtype": "float64",
         "name": "pre_4"
        },
        {
         "dtype": "float64",
         "name": "pre_5"
        },
        {
         "dtype": "float64",
         "name": "pre_6"
        },
        {
         "dtype": "float64",
         "name": "pre_7"
        },
        {
         "dtype": "float64",
         "name": "pre_8"
        },
        {
         "dtype": "float64",
         "name": "misc1"
        },
        {
         "dtype": "float64",
         "name": "misc2"
        },
        {
         "dtype": "float64",
         "name": "misc3"
        },
        {
         "dtype": "float64",
         "name": "misc4"
        },
        {
         "dtype": "float64",
         "name": "misc5"
        },
        {
         "dtype": "int64",
         "name": "_deepnote_index_column"
        }
       ],
       "row_count": 404283,
       "rows_bottom": [
        {
         "_deepnote_index_column": 404267,
         "cap_1": 0,
         "cap_2": 0,
         "is_duplicate": 0,
         "l1": 42,
         "l2": 39,
         "l3": 3,
         "l4": 1.0769230769230769,
         "lc1": 5,
         "lc2": 0.004424778761061947,
         "lcxs_1": 1,
         "lcxs_2": 0.0008849557522123894,
         "lw_1": 0,
         "misc1": 0,
         "misc2": 0,
         "misc3": 0,
         "misc4": 0,
         "misc5": 6,
         "pre_1": 5,
         "pre_2": 0.004424778761061947,
         "pre_3": 3,
         "pre_4": 0.002654867256637168,
         "pre_5": 2,
         "pre_6": 0.0017699115044247787,
         "pre_7": 2,
         "pre_8": 0.0017699115044247787
        },
        {
         "_deepnote_index_column": 404268,
         "cap_1": 0,
         "cap_2": 0,
         "is_duplicate": 0,
         "l1": 78,
         "l2": 62,
         "l3": 16,
         "l4": 1.2580645161290323,
         "lc1": 1,
         "lc2": 0.0008849557522123894,
         "lcxs_1": 3,
         "lcxs_2": 0.002654867256637168,
         "lw_1": 0,
         "misc1": 0,
         "misc2": 0,
         "misc3": 0,
         "misc4": 0,
         "misc5": 2,
         "pre_1": 2,
         "pre_2": 0.0017699115044247787,
         "pre_3": 2,
         "pre_4": 0.0017699115044247787,
         "pre_5": 1,
         "pre_6": 0.0008849557522123894,
         "pre_7": 1,
         "pre_8": 0.0008849557522123894
        },
        {
         "_deepnote_index_column": 404269,
         "cap_1": 0,
         "cap_2": 0,
         "is_duplicate": 1,
         "l1": 81,
         "l2": 84,
         "l3": 3,
         "l4": 0.9642857142857143,
         "lc1": 7,
         "lc2": 0.006194690265486726,
         "lcxs_1": 8,
         "lcxs_2": 0.007079646017699115,
         "lw_1": 1,
         "misc1": 0,
         "misc2": 0,
         "misc3": 0,
         "misc4": 0,
         "misc5": 8,
         "pre_1": 8,
         "pre_2": 0.007079646017699115,
         "pre_3": 7,
         "pre_4": 0.006194690265486726,
         "pre_5": 2,
         "pre_6": 0.0017699115044247787,
         "pre_7": 1,
         "pre_8": 0.0008849557522123894
        },
        {
         "_deepnote_index_column": 404270,
         "cap_1": 0,
         "cap_2": 0,
         "is_duplicate": 1,
         "l1": 46,
         "l2": 82,
         "l3": 36,
         "l4": 0.5609756097560976,
         "lc1": 6,
         "lc2": 0.005309734513274336,
         "lcxs_1": 5,
         "lcxs_2": 0.004424778761061947,
         "lw_1": 1,
         "misc1": 0,
         "misc2": 0,
         "misc3": 0,
         "misc4": 0,
         "misc5": 8,
         "pre_1": 6,
         "pre_2": 0.005309734513274336,
         "pre_3": 5,
         "pre_4": 0.004424778761061947,
         "pre_5": 3,
         "pre_6": 0.002654867256637168,
         "pre_7": 2,
         "pre_8": 0.0017699115044247787
        },
        {
         "_deepnote_index_column": 404271,
         "cap_1": 0,
         "cap_2": 0,
         "is_duplicate": 1,
         "l1": 61,
         "l2": 50,
         "l3": 11,
         "l4": 1.22,
         "lc1": 4,
         "lc2": 0.0035398230088495575,
         "lcxs_1": 5,
         "lcxs_2": 0.004424778761061947,
         "lw_1": 0,
         "misc1": 0,
         "misc2": 0,
         "misc3": 0,
         "misc4": 0,
         "misc5": 6,
         "pre_1": 4,
         "pre_2": 0.0035398230088495575,
         "pre_3": 3,
         "pre_4": 0.002654867256637168,
         "pre_5": 2,
         "pre_6": 0.0017699115044247787,
         "pre_7": 2,
         "pre_8": 0.0017699115044247787
        },
        {
         "_deepnote_index_column": 404272,
         "cap_1": 0,
         "cap_2": 0,
         "is_duplicate": 0,
         "l1": 58,
         "l2": 77,
         "l3": 19,
         "l4": 0.7532467532467533,
         "lc1": 3,
         "lc2": 0.002654867256637168,
         "lcxs_1": 5,
         "lcxs_2": 0.004424778761061947,
         "lw_1": 0,
         "misc1": 0,
         "misc2": 0,
         "misc3": 0,
         "misc4": 0,
         "misc5": 5,
         "pre_1": 3,
         "pre_2": 0.002654867256637168,
         "pre_3": 2,
         "pre_4": 0.0017699115044247787,
         "pre_5": 2,
         "pre_6": 0.0017699115044247787,
         "pre_7": 2,
         "pre_8": 0.0017699115044247787
        },
        {
         "_deepnote_index_column": 404273,
         "cap_1": 0,
         "cap_2": 0,
         "is_duplicate": 0,
         "l1": 24,
         "l2": 22,
         "l3": 2,
         "l4": 1.0909090909090908,
         "lc1": 1,
         "lc2": 0.0008849557522123894,
         "lcxs_1": 1,
         "lcxs_2": 0.0008849557522123894,
         "lw_1": 0,
         "misc1": 0,
         "misc2": 0,
         "misc3": 0,
         "misc4": 0,
         "misc5": 2,
         "pre_1": 1,
         "pre_2": 0.0008849557522123894,
         "pre_3": 1,
         "pre_4": 0.0008849557522123894,
         "pre_5": 0,
         "pre_6": 0,
         "pre_7": 0,
         "pre_8": 0
        },
        {
         "_deepnote_index_column": 404274,
         "cap_1": 0,
         "cap_2": 0,
         "is_duplicate": 0,
         "l1": 22,
         "l2": 31,
         "l3": 9,
         "l4": 0.7096774193548387,
         "lc1": 0,
         "lc2": 0,
         "lcxs_1": 1,
         "lcxs_2": 0.0008849557522123894,
         "lw_1": 0,
         "misc1": 0,
         "misc2": 0,
         "misc3": 0,
         "misc4": 0,
         "misc5": 2,
         "pre_1": 2,
         "pre_2": 0.0017699115044247787,
         "pre_3": 2,
         "pre_4": 0.0017699115044247787,
         "pre_5": 1,
         "pre_6": 0.0008849557522123894,
         "pre_7": 1,
         "pre_8": 0.0008849557522123894
        },
        {
         "_deepnote_index_column": 404275,
         "cap_1": 0,
         "cap_2": 0,
         "is_duplicate": 0,
         "l1": 38,
         "l2": 51,
         "l3": 13,
         "l4": 0.7450980392156863,
         "lc1": 4,
         "lc2": 0.0035398230088495575,
         "lcxs_1": 1,
         "lcxs_2": 0.0008849557522123894,
         "lw_1": 0,
         "misc1": 0,
         "misc2": 0,
         "misc3": 0,
         "misc4": 0,
         "misc5": 5,
         "pre_1": 6,
         "pre_2": 0.005309734513274336,
         "pre_3": 2,
         "pre_4": 0.0017699115044247787,
         "pre_5": 2,
         "pre_6": 0.0017699115044247787,
         "pre_7": 1,
         "pre_8": 0.0008849557522123894
        },
        {
         "_deepnote_index_column": 404276,
         "cap_1": 0,
         "cap_2": 0,
         "is_duplicate": 0,
         "l1": 65,
         "l2": 76,
         "l3": 11,
         "l4": 0.8552631578947368,
         "lc1": 5,
         "lc2": 0.004424778761061947,
         "lcxs_1": 6,
         "lcxs_2": 0.005309734513274336,
         "lw_1": 0,
         "misc1": 0,
         "misc2": 0,
         "misc3": 0,
         "misc4": 0,
         "misc5": 6,
         "pre_1": 3,
         "pre_2": 0.002654867256637168,
         "pre_3": 3,
         "pre_4": 0.002654867256637168,
         "pre_5": 2,
         "pre_6": 0.0017699115044247787,
         "pre_7": 1,
         "pre_8": 0.0008849557522123894
        },
        {
         "_deepnote_index_column": 404277,
         "cap_1": 0,
         "cap_2": 0,
         "is_duplicate": 1,
         "l1": 50,
         "l2": 54,
         "l3": 4,
         "l4": 0.9259259259259259,
         "lc1": 9,
         "lc2": 0.007964601769911504,
         "lcxs_1": 5,
         "lcxs_2": 0.004424778761061947,
         "lw_1": 1,
         "misc1": 0,
         "misc2": 0,
         "misc3": 0,
         "misc4": 0,
         "misc5": 10,
         "pre_1": 8,
         "pre_2": 0.007079646017699115,
         "pre_3": 7,
         "pre_4": 0.006194690265486726,
         "pre_5": 3,
         "pre_6": 0.002654867256637168,
         "pre_7": 1,
         "pre_8": 0.0008849557522123894
        },
        {
         "_deepnote_index_column": 404278,
         "cap_1": 0,
         "cap_2": 0,
         "is_duplicate": 1,
         "l1": 67,
         "l2": 67,
         "l3": 0,
         "l4": 1,
         "lc1": 5,
         "lc2": 0.004424778761061947,
         "lcxs_1": 1,
         "lcxs_2": 0.0008849557522123894,
         "lw_1": 0,
         "misc1": 0,
         "misc2": 0,
         "misc3": 0,
         "misc4": 0,
         "misc5": 10,
         "pre_1": 6,
         "pre_2": 0.005309734513274336,
         "pre_3": 1,
         "pre_4": 0.0008849557522123894,
         "pre_5": 1,
         "pre_6": 0.0008849557522123894,
         "pre_7": 1,
         "pre_8": 0.0008849557522123894
        },
        {
         "_deepnote_index_column": 404279,
         "cap_1": 0,
         "cap_2": 0,
         "is_duplicate": 1,
         "l1": 42,
         "l2": 46,
         "l3": 4,
         "l4": 0.9130434782608695,
         "lc1": 2,
         "lc2": 0.0017699115044247787,
         "lcxs_1": 4,
         "lcxs_2": 0.0035398230088495575,
         "lw_1": 0,
         "misc1": 0,
         "misc2": 0,
         "misc3": 0,
         "misc4": 0,
         "misc5": 4,
         "pre_1": 4,
         "pre_2": 0.0035398230088495575,
         "pre_3": 3,
         "pre_4": 0.002654867256637168,
         "pre_5": 2,
         "pre_6": 0.0017699115044247787,
         "pre_7": 2,
         "pre_8": 0.0017699115044247787
        },
        {
         "_deepnote_index_column": 404280,
         "cap_1": 1,
         "cap_2": 0.0008849557522123894,
         "is_duplicate": 0,
         "l1": 86,
         "l2": 60,
         "l3": 26,
         "l4": 1.4333333333333333,
         "lc1": 2,
         "lc2": 0.0017699115044247787,
         "lcxs_1": 4,
         "lcxs_2": 0.0035398230088495575,
         "lw_1": 0,
         "misc1": 0,
         "misc2": 0,
         "misc3": 0,
         "misc4": 1,
         "misc5": 6,
         "pre_1": 7,
         "pre_2": 0.006194690265486726,
         "pre_3": 4,
         "pre_4": 0.0035398230088495575,
         "pre_5": 2,
         "pre_6": 0.0017699115044247787,
         "pre_7": 1,
         "pre_8": 0.0008849557522123894
        },
        {
         "_deepnote_index_column": 404281,
         "cap_1": 0,
         "cap_2": 0,
         "is_duplicate": 1,
         "l1": 41,
         "l2": 50,
         "l3": 9,
         "l4": 0.82,
         "lc1": 3,
         "lc2": 0.002654867256637168,
         "lcxs_1": 2,
         "lcxs_2": 0.0017699115044247787,
         "lw_1": 0,
         "misc1": 0,
         "misc2": 0,
         "misc3": 0,
         "misc4": 0,
         "misc5": 6,
         "pre_1": 5,
         "pre_2": 0.004424778761061947,
         "pre_3": 4,
         "pre_4": 0.0035398230088495575,
         "pre_5": 2,
         "pre_6": 0.0017699115044247787,
         "pre_7": 1,
         "pre_8": 0.0008849557522123894
        },
        {
         "_deepnote_index_column": 404282,
         "cap_1": 0,
         "cap_2": 0,
         "is_duplicate": 0,
         "l1": 84,
         "l2": 78,
         "l3": 6,
         "l4": 1.0769230769230769,
         "lc1": 8,
         "lc2": 0.007079646017699115,
         "lcxs_1": 6,
         "lcxs_2": 0.005309734513274336,
         "lw_1": 1,
         "misc1": 0,
         "misc2": 0,
         "misc3": 0,
         "misc4": 0,
         "misc5": 11,
         "pre_1": 8,
         "pre_2": 0.007079646017699115,
         "pre_3": 5,
         "pre_4": 0.004424778761061947,
         "pre_5": 4,
         "pre_6": 0.0035398230088495575,
         "pre_7": 3,
         "pre_8": 0.002654867256637168
        },
        {
         "_deepnote_index_column": 404283,
         "cap_1": 0,
         "cap_2": 0,
         "is_duplicate": 1,
         "l1": 40,
         "l2": 41,
         "l3": 1,
         "l4": 0.975609756097561,
         "lc1": 5,
         "lc2": 0.004424778761061947,
         "lcxs_1": 3,
         "lcxs_2": 0.002654867256637168,
         "lw_1": 1,
         "misc1": 0,
         "misc2": 0,
         "misc3": 0,
         "misc4": 0,
         "misc5": 5,
         "pre_1": 4,
         "pre_2": 0.0035398230088495575,
         "pre_3": 4,
         "pre_4": 0.0035398230088495575,
         "pre_5": 3,
         "pre_6": 0.002654867256637168,
         "pre_7": 0,
         "pre_8": 0
        },
        {
         "_deepnote_index_column": 404284,
         "cap_1": 0,
         "cap_2": 0,
         "is_duplicate": 0,
         "l1": 16,
         "l2": 15,
         "l3": 1,
         "l4": 1.0666666666666667,
         "lc1": 1,
         "lc2": 0.0008849557522123894,
         "lcxs_1": 2,
         "lcxs_2": 0.0017699115044247787,
         "lw_1": 1,
         "misc1": 0,
         "misc2": 0,
         "misc3": 0,
         "misc4": 0,
         "misc5": 2,
         "pre_1": 2,
         "pre_2": 0.0017699115044247787,
         "pre_3": 2,
         "pre_4": 0.0017699115044247787,
         "pre_5": 0,
         "pre_6": 0,
         "pre_7": 0,
         "pre_8": 0
        },
        {
         "_deepnote_index_column": 404285,
         "cap_1": 0,
         "cap_2": 0,
         "is_duplicate": 0,
         "l1": 92,
         "l2": 124,
         "l3": 32,
         "l4": 0.7419354838709677,
         "lc1": 1,
         "lc2": 0.0008849557522123894,
         "lcxs_1": 6,
         "lcxs_2": 0.005309734513274336,
         "lw_1": 0,
         "misc1": 0,
         "misc2": 0,
         "misc3": 0,
         "misc4": 0,
         "misc5": 1,
         "pre_1": 0,
         "pre_2": 0,
         "pre_3": 0,
         "pre_4": 0,
         "pre_5": 0,
         "pre_6": 0,
         "pre_7": 0,
         "pre_8": 0
        },
        {
         "_deepnote_index_column": 404286,
         "cap_1": 0,
         "cap_2": 0,
         "is_duplicate": 0,
         "l1": 36,
         "l2": 44,
         "l3": 8,
         "l4": 0.8181818181818182,
         "lc1": 7,
         "lc2": 0.006194690265486726,
         "lcxs_1": 3,
         "lcxs_2": 0.002654867256637168,
         "lw_1": 1,
         "misc1": 0,
         "misc2": 0,
         "misc3": 0,
         "misc4": 0,
         "misc5": 8,
         "pre_1": 6,
         "pre_2": 0.005309734513274336,
         "pre_3": 5,
         "pre_4": 0.004424778761061947,
         "pre_5": 1,
         "pre_6": 0.0008849557522123894,
         "pre_7": 1,
         "pre_8": 0.0008849557522123894
        }
       ],
       "rows_top": [
        {
         "_deepnote_index_column": 0,
         "cap_1": 0,
         "cap_2": 0,
         "is_duplicate": 0,
         "l1": 65,
         "l2": 56,
         "l3": 9,
         "l4": 1.1607142857142858,
         "lc1": 10,
         "lc2": 0.008849557522123894,
         "lcxs_1": 6,
         "lcxs_2": 0.005309734513274336,
         "lw_1": 0,
         "misc1": 0,
         "misc2": 0,
         "misc3": 0,
         "misc4": 0,
         "misc5": 11,
         "pre_1": 8,
         "pre_2": 0.007079646017699115,
         "pre_3": 7,
         "pre_4": 0.006194690265486726,
         "pre_5": 4,
         "pre_6": 0.0035398230088495575,
         "pre_7": 2,
         "pre_8": 0.0017699115044247787
        },
        {
         "_deepnote_index_column": 1,
         "cap_1": 0,
         "cap_2": 0,
         "is_duplicate": 0,
         "l1": 46,
         "l2": 83,
         "l3": 37,
         "l4": 0.5542168674698795,
         "lc1": 1,
         "lc2": 0.0008849557522123894,
         "lcxs_1": 1,
         "lcxs_2": 0.0008849557522123894,
         "lw_1": 0,
         "misc1": 0,
         "misc2": 0,
         "misc3": 0,
         "misc4": 0,
         "misc5": 4,
         "pre_1": 5,
         "pre_2": 0.004424778761061947,
         "pre_3": 3,
         "pre_4": 0.002654867256637168,
         "pre_5": 2,
         "pre_6": 0.0017699115044247787,
         "pre_7": 2,
         "pre_8": 0.0017699115044247787
        },
        {
         "_deepnote_index_column": 2,
         "cap_1": 0,
         "cap_2": 0,
         "is_duplicate": 0,
         "l1": 72,
         "l2": 58,
         "l3": 14,
         "l4": 1.2413793103448276,
         "lc1": 2,
         "lc2": 0.0017699115044247787,
         "lcxs_1": 5,
         "lcxs_2": 0.004424778761061947,
         "lw_1": 0,
         "misc1": 0,
         "misc2": 0,
         "misc3": 0,
         "misc4": 0,
         "misc5": 5,
         "pre_1": 4,
         "pre_2": 0.0035398230088495575,
         "pre_3": 2,
         "pre_4": 0.0017699115044247787,
         "pre_5": 2,
         "pre_6": 0.0017699115044247787,
         "pre_7": 1,
         "pre_8": 0.0008849557522123894
        },
        {
         "_deepnote_index_column": 3,
         "cap_1": 0,
         "cap_2": 0,
         "is_duplicate": 0,
         "l1": 48,
         "l2": 55,
         "l3": 7,
         "l4": 0.8727272727272727,
         "lc1": 0,
         "lc2": 0,
         "lcxs_1": 3,
         "lcxs_2": 0.002654867256637168,
         "lw_1": 0,
         "misc1": 0,
         "misc2": 0,
         "misc3": 0,
         "misc4": 0,
         "misc5": 0,
         "pre_1": 0,
         "pre_2": 0,
         "pre_3": 0,
         "pre_4": 0,
         "pre_5": 0,
         "pre_6": 0,
         "pre_7": 0,
         "pre_8": 0
        },
        {
         "_deepnote_index_column": 4,
         "cap_1": 0,
         "cap_2": 0,
         "is_duplicate": 0,
         "l1": 73,
         "l2": 38,
         "l3": 35,
         "l4": 1.9210526315789473,
         "lc1": 3,
         "lc2": 0.002654867256637168,
         "lcxs_1": 10,
         "lcxs_2": 0.008849557522123894,
         "lw_1": 0,
         "misc1": 0,
         "misc2": 0,
         "misc3": 0,
         "misc4": 0,
         "misc5": 4,
         "pre_1": 3,
         "pre_2": 0.002654867256637168,
         "pre_3": 3,
         "pre_4": 0.002654867256637168,
         "pre_5": 2,
         "pre_6": 0.0017699115044247787,
         "pre_7": 0,
         "pre_8": 0
        },
        {
         "_deepnote_index_column": 5,
         "cap_1": 0,
         "cap_2": 0,
         "is_duplicate": 1,
         "l1": 81,
         "l2": 85,
         "l3": 4,
         "l4": 0.9529411764705882,
         "lc1": 6,
         "lc2": 0.005309734513274336,
         "lcxs_1": 4,
         "lcxs_2": 0.0035398230088495575,
         "lw_1": 1,
         "misc1": 0,
         "misc2": 0,
         "misc3": 0,
         "misc4": 0,
         "misc5": 9,
         "pre_1": 7,
         "pre_2": 0.006194690265486726,
         "pre_3": 3,
         "pre_4": 0.002654867256637168,
         "pre_5": 2,
         "pre_6": 0.0017699115044247787,
         "pre_7": 1,
         "pre_8": 0.0008849557522123894
        },
        {
         "_deepnote_index_column": 6,
         "cap_1": 0,
         "cap_2": 0,
         "is_duplicate": 0,
         "l1": 18,
         "l2": 61,
         "l3": 43,
         "l4": 0.29508196721311475,
         "lc1": 0,
         "lc2": 0,
         "lcxs_1": 2,
         "lcxs_2": 0.0017699115044247787,
         "lw_1": 0,
         "misc1": 0,
         "misc2": 0,
         "misc3": 0,
         "misc4": 0,
         "misc5": 0,
         "pre_1": 0,
         "pre_2": 0,
         "pre_3": 0,
         "pre_4": 0,
         "pre_5": 0,
         "pre_6": 0,
         "pre_7": 0,
         "pre_8": 0
        },
        {
         "_deepnote_index_column": 7,
         "cap_1": 1,
         "cap_2": 0.0008849557522123894,
         "is_duplicate": 1,
         "l1": 29,
         "l2": 40,
         "l3": 11,
         "l4": 0.725,
         "lc1": 3,
         "lc2": 0.002654867256637168,
         "lcxs_1": 2,
         "lcxs_2": 0.0017699115044247787,
         "lw_1": 1,
         "misc1": 0,
         "misc2": 0,
         "misc3": 0,
         "misc4": 0,
         "misc5": 4,
         "pre_1": 1,
         "pre_2": 0.0008849557522123894,
         "pre_3": 1,
         "pre_4": 0.0008849557522123894,
         "pre_5": 1,
         "pre_6": 0.0008849557522123894,
         "pre_7": 1,
         "pre_8": 0.0008849557522123894
        },
        {
         "_deepnote_index_column": 8,
         "cap_1": 0,
         "cap_2": 0,
         "is_duplicate": 0,
         "l1": 30,
         "l2": 31,
         "l3": 1,
         "l4": 0.967741935483871,
         "lc1": 5,
         "lc2": 0.004424778761061947,
         "lcxs_1": 4,
         "lcxs_2": 0.0035398230088495575,
         "lw_1": 0,
         "misc1": 0,
         "misc2": 0,
         "misc3": 0,
         "misc4": 0,
         "misc5": 6,
         "pre_1": 4,
         "pre_2": 0.0035398230088495575,
         "pre_3": 2,
         "pre_4": 0.0017699115044247787,
         "pre_5": 1,
         "pre_6": 0.0008849557522123894,
         "pre_7": 1,
         "pre_8": 0.0008849557522123894
        },
        {
         "_deepnote_index_column": 9,
         "cap_1": 2,
         "cap_2": 0.0017699115044247787,
         "is_duplicate": 0,
         "l1": 56,
         "l2": 48,
         "l3": 8,
         "l4": 1.1666666666666667,
         "lc1": 1,
         "lc2": 0.0008849557522123894,
         "lcxs_1": 2,
         "lcxs_2": 0.0017699115044247787,
         "lw_1": 0,
         "misc1": 0,
         "misc2": 0,
         "misc3": 0,
         "misc4": 1,
         "misc5": 4,
         "pre_1": 3,
         "pre_2": 0.002654867256637168,
         "pre_3": 3,
         "pre_4": 0.002654867256637168,
         "pre_5": 2,
         "pre_6": 0.0017699115044247787,
         "pre_7": 2,
         "pre_8": 0.0017699115044247787
        },
        {
         "_deepnote_index_column": 10,
         "cap_1": 0,
         "cap_2": 0,
         "is_duplicate": 0,
         "l1": 56,
         "l2": 115,
         "l3": 59,
         "l4": 0.48695652173913045,
         "lc1": 1,
         "lc2": 0.0008849557522123894,
         "lcxs_1": 6,
         "lcxs_2": 0.005309734513274336,
         "lw_1": 0,
         "misc1": 0,
         "misc2": 0,
         "misc3": 0,
         "misc4": 0,
         "misc5": 1,
         "pre_1": 0,
         "pre_2": 0,
         "pre_3": 0,
         "pre_4": 0,
         "pre_5": 0,
         "pre_6": 0,
         "pre_7": 0,
         "pre_8": 0
        },
        {
         "_deepnote_index_column": 11,
         "cap_1": 1,
         "cap_2": 0.0008849557522123894,
         "is_duplicate": 1,
         "l1": 42,
         "l2": 37,
         "l3": 5,
         "l4": 1.135135135135135,
         "lc1": 2,
         "lc2": 0.0017699115044247787,
         "lcxs_1": 3,
         "lcxs_2": 0.002654867256637168,
         "lw_1": 1,
         "misc1": 0,
         "misc2": 0,
         "misc3": 0,
         "misc4": 0,
         "misc5": 5,
         "pre_1": 3,
         "pre_2": 0.002654867256637168,
         "pre_3": 1,
         "pre_4": 0.0008849557522123894,
         "pre_5": 1,
         "pre_6": 0.0008849557522123894,
         "pre_7": 1,
         "pre_8": 0.0008849557522123894
        },
        {
         "_deepnote_index_column": 12,
         "cap_1": 0,
         "cap_2": 0,
         "is_duplicate": 1,
         "l1": 35,
         "l2": 38,
         "l3": 3,
         "l4": 0.9210526315789473,
         "lc1": 5,
         "lc2": 0.004424778761061947,
         "lcxs_1": 3,
         "lcxs_2": 0.002654867256637168,
         "lw_1": 1,
         "misc1": 0,
         "misc2": 0,
         "misc3": 0,
         "misc4": 0,
         "misc5": 6,
         "pre_1": 4,
         "pre_2": 0.0035398230088495575,
         "pre_3": 3,
         "pre_4": 0.002654867256637168,
         "pre_5": 1,
         "pre_6": 0.0008849557522123894,
         "pre_7": 0,
         "pre_8": 0
        },
        {
         "_deepnote_index_column": 13,
         "cap_1": 0,
         "cap_2": 0,
         "is_duplicate": 1,
         "l1": 42,
         "l2": 37,
         "l3": 5,
         "l4": 1.135135135135135,
         "lc1": 5,
         "lc2": 0.004424778761061947,
         "lcxs_1": 4,
         "lcxs_2": 0.0035398230088495575,
         "lw_1": 0,
         "misc1": 0,
         "misc2": 0,
         "misc3": 0,
         "misc4": 0,
         "misc5": 6,
         "pre_1": 6,
         "pre_2": 0.005309734513274336,
         "pre_3": 5,
         "pre_4": 0.004424778761061947,
         "pre_5": 3,
         "pre_6": 0.002654867256637168,
         "pre_7": 2,
         "pre_8": 0.0017699115044247787
        },
        {
         "_deepnote_index_column": 14,
         "cap_1": 1,
         "cap_2": 0.0008849557522123894,
         "is_duplicate": 0,
         "l1": 139,
         "l2": 138,
         "l3": 1,
         "l4": 1.0072463768115942,
         "lc1": 18,
         "lc2": 0.01592920353982301,
         "lcxs_1": 9,
         "lcxs_2": 0.007964601769911504,
         "lw_1": 0,
         "misc1": 0,
         "misc2": 0,
         "misc3": 0,
         "misc4": 0,
         "misc5": 21,
         "pre_1": 18,
         "pre_2": 0.01592920353982301,
         "pre_3": 14,
         "pre_4": 0.012389380530973451,
         "pre_5": 6,
         "pre_6": 0.005309734513274336,
         "pre_7": 5,
         "pre_8": 0.004424778761061947
        },
        {
         "_deepnote_index_column": 15,
         "cap_1": 0,
         "cap_2": 0,
         "is_duplicate": 1,
         "l1": 91,
         "l2": 90,
         "l3": 1,
         "l4": 1.011111111111111,
         "lc1": 3,
         "lc2": 0.002654867256637168,
         "lcxs_1": 8,
         "lcxs_2": 0.007079646017699115,
         "lw_1": 0,
         "misc1": 0,
         "misc2": 0,
         "misc3": 0,
         "misc4": 0,
         "misc5": 4,
         "pre_1": 3,
         "pre_2": 0.002654867256637168,
         "pre_3": 3,
         "pre_4": 0.002654867256637168,
         "pre_5": 3,
         "pre_6": 0.002654867256637168,
         "pre_7": 2,
         "pre_8": 0.0017699115044247787
        },
        {
         "_deepnote_index_column": 16,
         "cap_1": 0,
         "cap_2": 0,
         "is_duplicate": 1,
         "l1": 27,
         "l2": 28,
         "l3": 1,
         "l4": 0.9642857142857143,
         "lc1": 2,
         "lc2": 0.0017699115044247787,
         "lcxs_1": 2,
         "lcxs_2": 0.0017699115044247787,
         "lw_1": 0,
         "misc1": 0,
         "misc2": 0,
         "misc3": 0,
         "misc4": 0,
         "misc5": 4,
         "pre_1": 4,
         "pre_2": 0.0035398230088495575,
         "pre_3": 4,
         "pre_4": 0.0035398230088495575,
         "pre_5": 1,
         "pre_6": 0.0008849557522123894,
         "pre_7": 1,
         "pre_8": 0.0008849557522123894
        },
        {
         "_deepnote_index_column": 17,
         "cap_1": 0,
         "cap_2": 0,
         "is_duplicate": 0,
         "l1": 56,
         "l2": 39,
         "l3": 17,
         "l4": 1.435897435897436,
         "lc1": 1,
         "lc2": 0.0008849557522123894,
         "lcxs_1": 5,
         "lcxs_2": 0.004424778761061947,
         "lw_1": 0,
         "misc1": 0,
         "misc2": 0,
         "misc3": 0,
         "misc4": 0,
         "misc5": 4,
         "pre_1": 3,
         "pre_2": 0.002654867256637168,
         "pre_3": 2,
         "pre_4": 0.0017699115044247787,
         "pre_5": 1,
         "pre_6": 0.0008849557522123894,
         "pre_7": 1,
         "pre_8": 0.0008849557522123894
        },
        {
         "_deepnote_index_column": 18,
         "cap_1": 0,
         "cap_2": 0,
         "is_duplicate": 1,
         "l1": 81,
         "l2": 72,
         "l3": 9,
         "l4": 1.125,
         "lc1": 2,
         "lc2": 0.0017699115044247787,
         "lcxs_1": 6,
         "lcxs_2": 0.005309734513274336,
         "lw_1": 1,
         "misc1": 0,
         "misc2": 0,
         "misc3": 0,
         "misc4": 0,
         "misc5": 5,
         "pre_1": 5,
         "pre_2": 0.004424778761061947,
         "pre_3": 4,
         "pre_4": 0.0035398230088495575,
         "pre_5": 4,
         "pre_6": 0.0035398230088495575,
         "pre_7": 3,
         "pre_8": 0.002654867256637168
        },
        {
         "_deepnote_index_column": 19,
         "cap_1": 0,
         "cap_2": 0,
         "is_duplicate": 0,
         "l1": 59,
         "l2": 53,
         "l3": 6,
         "l4": 1.1132075471698113,
         "lc1": 6,
         "lc2": 0.005309734513274336,
         "lcxs_1": 5,
         "lcxs_2": 0.004424778761061947,
         "lw_1": 0,
         "misc1": 0,
         "misc2": 0,
         "misc3": 0,
         "misc4": 0,
         "misc5": 8,
         "pre_1": 6,
         "pre_2": 0.005309734513274336,
         "pre_3": 5,
         "pre_4": 0.004424778761061947,
         "pre_5": 4,
         "pre_6": 0.0035398230088495575,
         "pre_7": 3,
         "pre_8": 0.002654867256637168
        }
       ]
      },
      "text/html": [
       "<div>\n",
       "<style scoped>\n",
       "    .dataframe tbody tr th:only-of-type {\n",
       "        vertical-align: middle;\n",
       "    }\n",
       "\n",
       "    .dataframe tbody tr th {\n",
       "        vertical-align: top;\n",
       "    }\n",
       "\n",
       "    .dataframe thead th {\n",
       "        text-align: right;\n",
       "    }\n",
       "</style>\n",
       "<table border=\"1\" class=\"dataframe\">\n",
       "  <thead>\n",
       "    <tr style=\"text-align: right;\">\n",
       "      <th></th>\n",
       "      <th>is_duplicate</th>\n",
       "      <th>l1</th>\n",
       "      <th>l2</th>\n",
       "      <th>l3</th>\n",
       "      <th>l4</th>\n",
       "      <th>lc1</th>\n",
       "      <th>lc2</th>\n",
       "      <th>lcxs_1</th>\n",
       "      <th>lcxs_2</th>\n",
       "      <th>lw_1</th>\n",
       "      <th>...</th>\n",
       "      <th>pre_4</th>\n",
       "      <th>pre_5</th>\n",
       "      <th>pre_6</th>\n",
       "      <th>pre_7</th>\n",
       "      <th>pre_8</th>\n",
       "      <th>misc1</th>\n",
       "      <th>misc2</th>\n",
       "      <th>misc3</th>\n",
       "      <th>misc4</th>\n",
       "      <th>misc5</th>\n",
       "    </tr>\n",
       "  </thead>\n",
       "  <tbody>\n",
       "    <tr>\n",
       "      <th>0</th>\n",
       "      <td>0.0</td>\n",
       "      <td>65.0</td>\n",
       "      <td>56.0</td>\n",
       "      <td>9.0</td>\n",
       "      <td>1.160714</td>\n",
       "      <td>10.0</td>\n",
       "      <td>0.008850</td>\n",
       "      <td>6.0</td>\n",
       "      <td>0.005310</td>\n",
       "      <td>0.0</td>\n",
       "      <td>...</td>\n",
       "      <td>0.006195</td>\n",
       "      <td>4.0</td>\n",
       "      <td>0.003540</td>\n",
       "      <td>2.0</td>\n",
       "      <td>0.001770</td>\n",
       "      <td>0.0</td>\n",
       "      <td>0.0</td>\n",
       "      <td>0.0</td>\n",
       "      <td>0.0</td>\n",
       "      <td>11.0</td>\n",
       "    </tr>\n",
       "    <tr>\n",
       "      <th>1</th>\n",
       "      <td>0.0</td>\n",
       "      <td>46.0</td>\n",
       "      <td>83.0</td>\n",
       "      <td>37.0</td>\n",
       "      <td>0.554217</td>\n",
       "      <td>1.0</td>\n",
       "      <td>0.000885</td>\n",
       "      <td>1.0</td>\n",
       "      <td>0.000885</td>\n",
       "      <td>0.0</td>\n",
       "      <td>...</td>\n",
       "      <td>0.002655</td>\n",
       "      <td>2.0</td>\n",
       "      <td>0.001770</td>\n",
       "      <td>2.0</td>\n",
       "      <td>0.001770</td>\n",
       "      <td>0.0</td>\n",
       "      <td>0.0</td>\n",
       "      <td>0.0</td>\n",
       "      <td>0.0</td>\n",
       "      <td>4.0</td>\n",
       "    </tr>\n",
       "    <tr>\n",
       "      <th>2</th>\n",
       "      <td>0.0</td>\n",
       "      <td>72.0</td>\n",
       "      <td>58.0</td>\n",
       "      <td>14.0</td>\n",
       "      <td>1.241379</td>\n",
       "      <td>2.0</td>\n",
       "      <td>0.001770</td>\n",
       "      <td>5.0</td>\n",
       "      <td>0.004425</td>\n",
       "      <td>0.0</td>\n",
       "      <td>...</td>\n",
       "      <td>0.001770</td>\n",
       "      <td>2.0</td>\n",
       "      <td>0.001770</td>\n",
       "      <td>1.0</td>\n",
       "      <td>0.000885</td>\n",
       "      <td>0.0</td>\n",
       "      <td>0.0</td>\n",
       "      <td>0.0</td>\n",
       "      <td>0.0</td>\n",
       "      <td>5.0</td>\n",
       "    </tr>\n",
       "    <tr>\n",
       "      <th>3</th>\n",
       "      <td>0.0</td>\n",
       "      <td>48.0</td>\n",
       "      <td>55.0</td>\n",
       "      <td>7.0</td>\n",
       "      <td>0.872727</td>\n",
       "      <td>0.0</td>\n",
       "      <td>0.000000</td>\n",
       "      <td>3.0</td>\n",
       "      <td>0.002655</td>\n",
       "      <td>0.0</td>\n",
       "      <td>...</td>\n",
       "      <td>0.000000</td>\n",
       "      <td>0.0</td>\n",
       "      <td>0.000000</td>\n",
       "      <td>0.0</td>\n",
       "      <td>0.000000</td>\n",
       "      <td>0.0</td>\n",
       "      <td>0.0</td>\n",
       "      <td>0.0</td>\n",
       "      <td>0.0</td>\n",
       "      <td>0.0</td>\n",
       "    </tr>\n",
       "    <tr>\n",
       "      <th>4</th>\n",
       "      <td>0.0</td>\n",
       "      <td>73.0</td>\n",
       "      <td>38.0</td>\n",
       "      <td>35.0</td>\n",
       "      <td>1.921053</td>\n",
       "      <td>3.0</td>\n",
       "      <td>0.002655</td>\n",
       "      <td>10.0</td>\n",
       "      <td>0.008850</td>\n",
       "      <td>0.0</td>\n",
       "      <td>...</td>\n",
       "      <td>0.002655</td>\n",
       "      <td>2.0</td>\n",
       "      <td>0.001770</td>\n",
       "      <td>0.0</td>\n",
       "      <td>0.000000</td>\n",
       "      <td>0.0</td>\n",
       "      <td>0.0</td>\n",
       "      <td>0.0</td>\n",
       "      <td>0.0</td>\n",
       "      <td>4.0</td>\n",
       "    </tr>\n",
       "    <tr>\n",
       "      <th>...</th>\n",
       "      <td>...</td>\n",
       "      <td>...</td>\n",
       "      <td>...</td>\n",
       "      <td>...</td>\n",
       "      <td>...</td>\n",
       "      <td>...</td>\n",
       "      <td>...</td>\n",
       "      <td>...</td>\n",
       "      <td>...</td>\n",
       "      <td>...</td>\n",
       "      <td>...</td>\n",
       "      <td>...</td>\n",
       "      <td>...</td>\n",
       "      <td>...</td>\n",
       "      <td>...</td>\n",
       "      <td>...</td>\n",
       "      <td>...</td>\n",
       "      <td>...</td>\n",
       "      <td>...</td>\n",
       "      <td>...</td>\n",
       "      <td>...</td>\n",
       "    </tr>\n",
       "    <tr>\n",
       "      <th>404282</th>\n",
       "      <td>0.0</td>\n",
       "      <td>84.0</td>\n",
       "      <td>78.0</td>\n",
       "      <td>6.0</td>\n",
       "      <td>1.076923</td>\n",
       "      <td>8.0</td>\n",
       "      <td>0.007080</td>\n",
       "      <td>6.0</td>\n",
       "      <td>0.005310</td>\n",
       "      <td>1.0</td>\n",
       "      <td>...</td>\n",
       "      <td>0.004425</td>\n",
       "      <td>4.0</td>\n",
       "      <td>0.003540</td>\n",
       "      <td>3.0</td>\n",
       "      <td>0.002655</td>\n",
       "      <td>0.0</td>\n",
       "      <td>0.0</td>\n",
       "      <td>0.0</td>\n",
       "      <td>0.0</td>\n",
       "      <td>11.0</td>\n",
       "    </tr>\n",
       "    <tr>\n",
       "      <th>404283</th>\n",
       "      <td>1.0</td>\n",
       "      <td>40.0</td>\n",
       "      <td>41.0</td>\n",
       "      <td>1.0</td>\n",
       "      <td>0.975610</td>\n",
       "      <td>5.0</td>\n",
       "      <td>0.004425</td>\n",
       "      <td>3.0</td>\n",
       "      <td>0.002655</td>\n",
       "      <td>1.0</td>\n",
       "      <td>...</td>\n",
       "      <td>0.003540</td>\n",
       "      <td>3.0</td>\n",
       "      <td>0.002655</td>\n",
       "      <td>0.0</td>\n",
       "      <td>0.000000</td>\n",
       "      <td>0.0</td>\n",
       "      <td>0.0</td>\n",
       "      <td>0.0</td>\n",
       "      <td>0.0</td>\n",
       "      <td>5.0</td>\n",
       "    </tr>\n",
       "    <tr>\n",
       "      <th>404284</th>\n",
       "      <td>0.0</td>\n",
       "      <td>16.0</td>\n",
       "      <td>15.0</td>\n",
       "      <td>1.0</td>\n",
       "      <td>1.066667</td>\n",
       "      <td>1.0</td>\n",
       "      <td>0.000885</td>\n",
       "      <td>2.0</td>\n",
       "      <td>0.001770</td>\n",
       "      <td>1.0</td>\n",
       "      <td>...</td>\n",
       "      <td>0.001770</td>\n",
       "      <td>0.0</td>\n",
       "      <td>0.000000</td>\n",
       "      <td>0.0</td>\n",
       "      <td>0.000000</td>\n",
       "      <td>0.0</td>\n",
       "      <td>0.0</td>\n",
       "      <td>0.0</td>\n",
       "      <td>0.0</td>\n",
       "      <td>2.0</td>\n",
       "    </tr>\n",
       "    <tr>\n",
       "      <th>404285</th>\n",
       "      <td>0.0</td>\n",
       "      <td>92.0</td>\n",
       "      <td>124.0</td>\n",
       "      <td>32.0</td>\n",
       "      <td>0.741935</td>\n",
       "      <td>1.0</td>\n",
       "      <td>0.000885</td>\n",
       "      <td>6.0</td>\n",
       "      <td>0.005310</td>\n",
       "      <td>0.0</td>\n",
       "      <td>...</td>\n",
       "      <td>0.000000</td>\n",
       "      <td>0.0</td>\n",
       "      <td>0.000000</td>\n",
       "      <td>0.0</td>\n",
       "      <td>0.000000</td>\n",
       "      <td>0.0</td>\n",
       "      <td>0.0</td>\n",
       "      <td>0.0</td>\n",
       "      <td>0.0</td>\n",
       "      <td>1.0</td>\n",
       "    </tr>\n",
       "    <tr>\n",
       "      <th>404286</th>\n",
       "      <td>0.0</td>\n",
       "      <td>36.0</td>\n",
       "      <td>44.0</td>\n",
       "      <td>8.0</td>\n",
       "      <td>0.818182</td>\n",
       "      <td>7.0</td>\n",
       "      <td>0.006195</td>\n",
       "      <td>3.0</td>\n",
       "      <td>0.002655</td>\n",
       "      <td>1.0</td>\n",
       "      <td>...</td>\n",
       "      <td>0.004425</td>\n",
       "      <td>1.0</td>\n",
       "      <td>0.000885</td>\n",
       "      <td>1.0</td>\n",
       "      <td>0.000885</td>\n",
       "      <td>0.0</td>\n",
       "      <td>0.0</td>\n",
       "      <td>0.0</td>\n",
       "      <td>0.0</td>\n",
       "      <td>8.0</td>\n",
       "    </tr>\n",
       "  </tbody>\n",
       "</table>\n",
       "<p>404283 rows × 25 columns</p>\n",
       "</div>"
      ],
      "text/plain": [
       "        is_duplicate    l1     l2    l3        l4   lc1       lc2  lcxs_1  \\\n",
       "0                0.0  65.0   56.0   9.0  1.160714  10.0  0.008850     6.0   \n",
       "1                0.0  46.0   83.0  37.0  0.554217   1.0  0.000885     1.0   \n",
       "2                0.0  72.0   58.0  14.0  1.241379   2.0  0.001770     5.0   \n",
       "3                0.0  48.0   55.0   7.0  0.872727   0.0  0.000000     3.0   \n",
       "4                0.0  73.0   38.0  35.0  1.921053   3.0  0.002655    10.0   \n",
       "...              ...   ...    ...   ...       ...   ...       ...     ...   \n",
       "404282           0.0  84.0   78.0   6.0  1.076923   8.0  0.007080     6.0   \n",
       "404283           1.0  40.0   41.0   1.0  0.975610   5.0  0.004425     3.0   \n",
       "404284           0.0  16.0   15.0   1.0  1.066667   1.0  0.000885     2.0   \n",
       "404285           0.0  92.0  124.0  32.0  0.741935   1.0  0.000885     6.0   \n",
       "404286           0.0  36.0   44.0   8.0  0.818182   7.0  0.006195     3.0   \n",
       "\n",
       "          lcxs_2  lw_1  ...     pre_4  pre_5     pre_6  pre_7     pre_8  \\\n",
       "0       0.005310   0.0  ...  0.006195    4.0  0.003540    2.0  0.001770   \n",
       "1       0.000885   0.0  ...  0.002655    2.0  0.001770    2.0  0.001770   \n",
       "2       0.004425   0.0  ...  0.001770    2.0  0.001770    1.0  0.000885   \n",
       "3       0.002655   0.0  ...  0.000000    0.0  0.000000    0.0  0.000000   \n",
       "4       0.008850   0.0  ...  0.002655    2.0  0.001770    0.0  0.000000   \n",
       "...          ...   ...  ...       ...    ...       ...    ...       ...   \n",
       "404282  0.005310   1.0  ...  0.004425    4.0  0.003540    3.0  0.002655   \n",
       "404283  0.002655   1.0  ...  0.003540    3.0  0.002655    0.0  0.000000   \n",
       "404284  0.001770   1.0  ...  0.001770    0.0  0.000000    0.0  0.000000   \n",
       "404285  0.005310   0.0  ...  0.000000    0.0  0.000000    0.0  0.000000   \n",
       "404286  0.002655   1.0  ...  0.004425    1.0  0.000885    1.0  0.000885   \n",
       "\n",
       "        misc1  misc2  misc3  misc4  misc5  \n",
       "0         0.0    0.0    0.0    0.0   11.0  \n",
       "1         0.0    0.0    0.0    0.0    4.0  \n",
       "2         0.0    0.0    0.0    0.0    5.0  \n",
       "3         0.0    0.0    0.0    0.0    0.0  \n",
       "4         0.0    0.0    0.0    0.0    4.0  \n",
       "...       ...    ...    ...    ...    ...  \n",
       "404282    0.0    0.0    0.0    0.0   11.0  \n",
       "404283    0.0    0.0    0.0    0.0    5.0  \n",
       "404284    0.0    0.0    0.0    0.0    2.0  \n",
       "404285    0.0    0.0    0.0    0.0    1.0  \n",
       "404286    0.0    0.0    0.0    0.0    8.0  \n",
       "\n",
       "[404283 rows x 25 columns]"
      ]
     },
     "execution_count": 61,
     "metadata": {},
     "output_type": "execute_result"
    }
   ],
   "source": [
    "data7 = data7.dropna(axis=0, how='any', thresh=None, subset=None, inplace=False)\n",
    "data7.drop(['id', 'qid1', 'qid2', 'question1', 'question2'], inplace=True,axis=1)\n",
    "clean_dataset(data7)"
   ]
  },
  {
   "cell_type": "code",
   "execution_count": null,
   "metadata": {
    "cell_id": "00072-2c1c6e09-1a4d-4456-8af0-3c6dca030376",
    "deepnote_cell_type": "code",
    "deepnote_to_be_reexecuted": false,
    "execution_millis": 101,
    "execution_start": 1638741192265,
    "source_hash": "7c4c81a",
    "tags": []
   },
   "outputs": [],
   "source": [
    "y_7 = data7['is_duplicate']\n",
    "data7.drop('is_duplicate', inplace=True,axis=1)\n",
    "x_train_7, x_test_7, y_train_7, y_test_7 = train_test_split(data7, y_7,  test_size=0.30, random_state=25)\n",
    "x_val_7, x_test_7, y_val_7, y_test_7 = train_test_split(x_test_7, y_test_7 ,test_size=float(1/3), random_state=25)"
   ]
  },
  {
   "cell_type": "code",
   "execution_count": null,
   "metadata": {
    "cell_id": "00073-a94ed607-f2a4-487b-95ba-f5284c1fe996",
    "deepnote_cell_type": "code",
    "deepnote_to_be_reexecuted": false,
    "execution_millis": 2147,
    "execution_start": 1638741192382,
    "source_hash": "b0e1e176",
    "tags": []
   },
   "outputs": [
    {
     "name": "stdout",
     "output_type": "stream",
     "text": [
      "accuracy 0.7098617329144921\n",
      "F score 0.5999590750971967\n",
      "/shared-libs/python3.7/py/lib/python3.7/site-packages/sklearn/base.py:446: UserWarning: X does not have valid feature names, but DecisionTreeClassifier was fitted with feature names\n",
      "  \"X does not have valid feature names, but\"\n"
     ]
    }
   ],
   "source": [
    "dt = DecisionTreeClassifier(max_depth=8,min_samples_leaf=5)\n",
    "x_train_7 = x_train_7.replace((np.inf, -np.inf, np.nan), 0).reset_index(drop=True)\n",
    "y_train_7 = y_train_7.replace((np.inf, -np.inf, np.nan), 0).reset_index(drop=True)\n",
    "x_val_7 = x_val_7.replace((np.inf, -np.inf, np.nan), 0).reset_index(drop=True)\n",
    "\n",
    "x_val_7 = np.nan_to_num(x_val_7)\n",
    "dt.fit(x_train_7,y_train_7)\n",
    "y_pred = dt.predict(x_val_7)\n",
    "acc = accuracy_score(y_val_7, y_pred)\n",
    "print('accuracy',acc)\n",
    "f1 = f1_score(y_val_7,y_pred)\n",
    "print('F score',f1)"
   ]
  },
  {
   "cell_type": "code",
   "execution_count": null,
   "metadata": {
    "cell_id": "00074-05104b9c-6491-4442-882f-6b3bb692339c",
    "deepnote_cell_type": "code",
    "deepnote_to_be_reexecuted": false,
    "execution_millis": 20384,
    "execution_start": 1638741194351,
    "source_hash": "bbdd984f",
    "tags": []
   },
   "outputs": [
    {
     "name": "stderr",
     "output_type": "stream",
     "text": [
      "/shared-libs/python3.7/py/lib/python3.7/site-packages/sklearn/base.py:446: UserWarning: X does not have valid feature names, but RandomForestClassifier was fitted with feature names\n",
      "  \"X does not have valid feature names, but\"\n",
      "accuracy 0.7284375077296\n",
      "F score 0.615850244926522\n"
     ]
    }
   ],
   "source": [
    "rf = RandomForestClassifier(max_depth = None, min_samples_leaf = 100, n_estimators = 50)\n",
    "rf.fit(x_train_7,y_train_7)\n",
    "y_pred = rf.predict(x_val_7)\n",
    "acc = accuracy_score(y_val_7, y_pred)\n",
    "print('accuracy',acc)\n",
    "f1 = f1_score(y_val_7,y_pred)\n",
    "print('F score',f1)"
   ]
  },
  {
   "cell_type": "code",
   "execution_count": null,
   "metadata": {
    "cell_id": "00075-e1dab34c-db34-46ad-95b9-c70a19f423b5",
    "deepnote_cell_type": "code",
    "deepnote_to_be_reexecuted": false,
    "execution_millis": 388771,
    "execution_start": 1638741214742,
    "source_hash": "9a0a5309",
    "tags": []
   },
   "outputs": [
    {
     "name": "stderr",
     "output_type": "stream",
     "text": [
      "/shared-libs/python3.7/py/lib/python3.7/site-packages/sklearn/base.py:446: UserWarning: X does not have valid feature names, but GradientBoostingClassifier was fitted with feature names\n",
      "  \"X does not have valid feature names, but\"\n",
      "accuracy 0.729513468055109\n",
      "F score 0.6284801848171363\n"
     ]
    }
   ],
   "source": [
    "gb = GradientBoostingClassifier(max_depth=3,n_estimators=500)\n",
    "gb.fit(x_train_7,y_train_7)\n",
    "y_pred = gb.predict(x_val_7)\n",
    "acc = accuracy_score(y_val_7, y_pred)\n",
    "print('accuracy',acc)\n",
    "f1 = f1_score(y_val_7,y_pred)\n",
    "print('F score',f1)"
   ]
  },
  {
   "cell_type": "markdown",
   "metadata": {
    "cell_id": "00076-8cc09ef9-65fc-4d28-a9cd-f30034335bcc",
    "deepnote_cell_type": "text-cell-h3",
    "is_collapsed": false,
    "tags": []
   },
   "source": [
    "### Test Set"
   ]
  },
  {
   "cell_type": "code",
   "execution_count": null,
   "metadata": {
    "cell_id": "00077-8df31f93-17a7-43c0-8963-6b55eaee9a1b",
    "deepnote_cell_type": "code",
    "deepnote_to_be_reexecuted": false,
    "execution_millis": 1983,
    "execution_start": 1638742654912,
    "source_hash": "4fd8163a",
    "tags": []
   },
   "outputs": [
    {
     "name": "stdout",
     "output_type": "stream",
     "text": [
      "accuracy 0.7164164337480522\n",
      "F score 0.6085561132165659\n",
      "/shared-libs/python3.7/py/lib/python3.7/site-packages/sklearn/base.py:446: UserWarning: X does not have valid feature names, but DecisionTreeClassifier was fitted with feature names\n",
      "  \"X does not have valid feature names, but\"\n"
     ]
    }
   ],
   "source": [
    "x_test_7 = x_test_7.replace((np.inf, -np.inf, np.nan), 0).reset_index(drop=True)\n",
    "x_test_7 = np.nan_to_num(x_test_7)\n",
    "dt.fit(x_train_7,y_train_7)\n",
    "y_pred = dt.predict(x_test_7)\n",
    "acc = accuracy_score(y_test_7, y_pred)\n",
    "print('accuracy',acc)\n",
    "f1 = f1_score(y_test_7,y_pred)\n",
    "print('F score',f1)"
   ]
  },
  {
   "cell_type": "code",
   "execution_count": null,
   "metadata": {
    "cell_id": "00078-a472ce7a-1f6e-40fc-a981-81f1b8cc12f1",
    "deepnote_cell_type": "code",
    "deepnote_to_be_reexecuted": false,
    "execution_millis": 20782,
    "execution_start": 1638742692317,
    "source_hash": "c8033d6a",
    "tags": []
   },
   "outputs": [
    {
     "name": "stderr",
     "output_type": "stream",
     "text": [
      "/shared-libs/python3.7/py/lib/python3.7/site-packages/sklearn/base.py:446: UserWarning: X does not have valid feature names, but RandomForestClassifier was fitted with feature names\n",
      "  \"X does not have valid feature names, but\"\n",
      "accuracy 0.7365999653713918\n",
      "F score 0.6290710230241388\n"
     ]
    }
   ],
   "source": [
    "rf = RandomForestClassifier(max_depth = None, min_samples_leaf = 100, n_estimators = 50)\n",
    "rf.fit(x_train_7,y_train_7)\n",
    "y_pred = rf.predict(x_test_7)\n",
    "acc = accuracy_score(y_test_7, y_pred)\n",
    "print('accuracy',acc)\n",
    "f1 = f1_score(y_test_7,y_pred)\n",
    "print('F score',f1)"
   ]
  },
  {
   "cell_type": "code",
   "execution_count": null,
   "metadata": {
    "cell_id": "00079-14009c9c-fa06-40cf-a311-b57aa0451287",
    "deepnote_cell_type": "code",
    "deepnote_to_be_reexecuted": false,
    "execution_millis": 376142,
    "execution_start": 1638742730052,
    "source_hash": "c1c2aff4",
    "tags": []
   },
   "outputs": [
    {
     "name": "stderr",
     "output_type": "stream",
     "text": [
      "/shared-libs/python3.7/py/lib/python3.7/site-packages/sklearn/base.py:446: UserWarning: X does not have valid feature names, but GradientBoostingClassifier was fitted with feature names\n",
      "  \"X does not have valid feature names, but\"\n",
      "accuracy 0.7365999653713918\n",
      "F score 0.6374314800313235\n"
     ]
    }
   ],
   "source": [
    "gb = GradientBoostingClassifier(max_depth=3,n_estimators=500)\n",
    "gb.fit(x_train_7,y_train_7)\n",
    "y_pred = gb.predict(x_test_7)\n",
    "acc = accuracy_score(y_test_7, y_pred)\n",
    "print('accuracy',acc)\n",
    "f1 = f1_score(y_test_7,y_pred)\n",
    "print('F score',f1)"
   ]
  },
  {
   "cell_type": "markdown",
   "metadata": {
    "created_in_deepnote_cell": true,
    "deepnote_cell_type": "markdown",
    "tags": []
   },
   "source": [
    "<a style='text-decoration:none;line-height:16px;display:flex;color:#5B5B62;padding:10px;justify-content:end;' href='https://deepnote.com?utm_source=created-in-deepnote-cell&projectId=3147ce75-e760-4261-96a9-58e1ced0128e' target=\"_blank\">\n",
    "<img alt='Created in deepnote.com' style='display:inline;max-height:16px;margin:0px;margin-right:7.5px;' src='data:image/svg+xml;base64,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' > </img>\n",
    "Created in <span style='font-weight:600;margin-left:4px;'>Deepnote</span></a>"
   ]
  }
 ],
 "metadata": {
  "deepnote": {
   "is_reactive": false
  },
  "deepnote_execution_queue": [],
  "deepnote_notebook_id": "c8dc5a2e-b7a0-419f-a642-654fb44e9960",
  "kernelspec": {
   "display_name": "Python 3",
   "language": "python",
   "name": "python3"
  },
  "language_info": {
   "codemirror_mode": {
    "name": "ipython",
    "version": 3
   },
   "file_extension": ".py",
   "mimetype": "text/x-python",
   "name": "python",
   "nbconvert_exporter": "python",
   "pygments_lexer": "ipython3",
   "version": "3.8.10"
  }
 },
 "nbformat": 4,
 "nbformat_minor": 2
}
